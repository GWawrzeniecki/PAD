{
 "cells": [
  {
   "cell_type": "code",
   "execution_count": 3,
   "metadata": {
    "id": "QFjwdbz_QvNh",
    "colab": {
     "base_uri": "https://localhost:8080/",
     "height": 542
    },
    "executionInfo": {
     "status": "ok",
     "timestamp": 1652025665222,
     "user_tz": -120,
     "elapsed": 2573,
     "user": {
      "displayName": "Dominika Wnuk",
      "userId": "05926253260396442282"
     }
    },
    "outputId": "c7157dfa-1644-41e2-fc04-d6a7e9687a20",
    "ExecuteTime": {
     "end_time": "2024-01-12T14:14:16.148327Z",
     "start_time": "2024-01-12T14:14:13.775289Z"
    }
   },
   "outputs": [
    {
     "ename": "NameError",
     "evalue": "name 'ice_df' is not defined",
     "output_type": "error",
     "traceback": [
      "\u001B[0;31m---------------------------------------------------------------------------\u001B[0m",
      "\u001B[0;31mNameError\u001B[0m                                 Traceback (most recent call last)",
      "Cell \u001B[0;32mIn[3], line 3\u001B[0m\n\u001B[1;32m      1\u001B[0m \u001B[38;5;28;01mimport\u001B[39;00m \u001B[38;5;21;01mplotly\u001B[39;00m\u001B[38;5;21;01m.\u001B[39;00m\u001B[38;5;21;01mexpress\u001B[39;00m \u001B[38;5;28;01mas\u001B[39;00m \u001B[38;5;21;01mpx\u001B[39;00m\n\u001B[0;32m----> 3\u001B[0m px\u001B[38;5;241m.\u001B[39mscatter(\u001B[43mice_df\u001B[49m, \u001B[38;5;124m\"\u001B[39m\u001B[38;5;124mYear\u001B[39m\u001B[38;5;124m\"\u001B[39m, \u001B[38;5;124m\"\u001B[39m\u001B[38;5;124mExtent\u001B[39m\u001B[38;5;124m\"\u001B[39m, title\u001B[38;5;241m=\u001B[39m\u001B[38;5;124m\"\u001B[39m\u001B[38;5;124mYear vs Sea Ice Extent (Million sq KM)\u001B[39m\u001B[38;5;124m\"\u001B[39m)\n",
      "\u001B[0;31mNameError\u001B[0m: name 'ice_df' is not defined"
     ]
    }
   ],
   "source": [
    "import plotly.express as px\n",
    "import plotly.express as px\n",
    "\n",
    "px.scatter(ice_df, \"Year\", \"Extent\", title=\"Year vs Sea Ice Extent (Million sq KM)\")"
   ]
  },
  {
   "cell_type": "markdown",
   "metadata": {
    "id": "a_wTMxuoQvNi"
   },
   "source": [
    "Ok, więc widzimy silny trend spadkowy - wygląda na to, że moglibyśmy to wymodelować linią prostą, więc spróbujmy prostej regresji liniowej, aby określić, czy spadek jest istotny statystycznie. Użyjemy regresji zwyczajnych najmniejszych kwadratów, która jest rodzajem regresji liniowej, która została przedstawiona w rozdziale 1.\n",
    "\n",
    "Aby wyjaśnić wprowadzone wcześniej $\\epsilon$, zauważ, że wartości tych danych są jedną z wielu próbek lodu morskiego, które mogły zostać pobrane. Te wartości zostały pobrane w dowolny dzień we wrześniu, ale rozumiemy, że gdyby dane zostały pobrane innego dnia, to wynikowe $W$ i $b$ byłyby nieco inne. Tak więc $W$ i $b$ nie są wartościami prawdziwymi, ale oszacowaniami ze skojarzonym z nimi *błędem*.\n",
    "\n",
    "Nasz model populacji można zapisać jako: $y_i = Wx_i + b + \\epsilon_i$ gdzie $W$ i $b$ to prawdziwe wagi i błędy systematyczne, oszacowane przez $\\beta_W$ i ​​$\\beta_b$ z naszych przykładowych danych. Tak jak zostało to wprowadzone wcześniej, powinniśmy pomyśleć o sformułowaniu hipotezy, aby uogólnić wyniki z naszej próby na populację.\n",
    "\n",
    "- H0: W = 0. Nie ma liniowej zmiany ilości lodu morskiego na przestrzeni lat\n",
    "- Ha: W $\\neq$ 0. Ilość lodu morskiego zmienia się liniowo na przestrzeni lat\n",
    "\n",
    "Świetny! Dopasujmy linię i przetestujmy naszą hipotezę. Jak wspomniano na początku tego notatnika, użyjemy biblioteki `statsmodels` i wprowadzimy nową składnię. Jako wprowadzenie do `statsmodels`, ich [podręcznik użytkownika](https://www.statsmodels.org/devel/user-guide.html) jest dość obszerny\n",
    "\n",
    "Uwaga Nie *musimy* używać składni podobnej do R, aby używać `statsmodels`. W rzeczywistości jest obsługiwany tylko dzięki innej bibliotece o nazwie [Patsy](https://patsy.readthedocs.io/en/latest/). Jeśli podoba Ci się ta składnia i/lub potrzebujesz odniesienia, aby uzyskać więcej informacji, zdecydowanie sprawdź ich dokumentację!\n",
    "\n",
    "Ogólna składnia formuły jest podana jako „Y ~ X1 + X2 + X3”, gdzie Y jest zmienną *endogeniczną* (tj. cel/odpowiedź/zależną), a różne X są różnymi *egzogenicznymi* (tj. zmiennymi objaśniającymi/projektowymi/niezależnymi)"
   ]
  },
  {
   "cell_type": "code",
   "source": [
    "import statsmodels.formula.api as smf"
   ],
   "metadata": {
    "colab": {
     "base_uri": "https://localhost:8080/"
    },
    "id": "emaaRH7flV6L",
    "executionInfo": {
     "status": "ok",
     "timestamp": 1652045473981,
     "user_tz": -120,
     "elapsed": 1205,
     "user": {
      "displayName": "Dominika Wnuk",
      "userId": "05926253260396442282"
     }
    },
    "outputId": "f7dc3c2c-dcba-4497-e643-a9108c1687bf",
    "ExecuteTime": {
     "start_time": "2024-01-12T14:14:14.739033Z"
    }
   },
   "execution_count": null,
   "outputs": []
  },
  {
   "cell_type": "code",
   "execution_count": null,
   "metadata": {
    "id": "O-WfnOpuQvNk",
    "colab": {
     "base_uri": "https://localhost:8080/"
    },
    "executionInfo": {
     "status": "ok",
     "timestamp": 1652025665442,
     "user_tz": -120,
     "elapsed": 238,
     "user": {
      "displayName": "Dominika Wnuk",
      "userId": "05926253260396442282"
     }
    },
    "outputId": "0d4302f9-ca57-440e-84a8-2aa6a232e7d8",
    "ExecuteTime": {
     "start_time": "2024-01-12T14:14:14.741681Z"
    }
   },
   "outputs": [],
   "source": [
    "import statsmodels.formula.api as smf\n",
    "\n",
    "model = smf.ols(formula=\"Extent ~ Year\", data=ice_df).fit()\n",
    "print(model.summary())"
   ]
  },
  {
   "cell_type": "markdown",
   "metadata": {
    "id": "qaltzWoCQvNl"
   },
   "source": [
    "Tak więc dla naszych danych o lodzie dopasowany model, który próbuje przewidzieć zasięg lodu morskiego w danym roku, jest podany jako:\n",
    "\n",
    "$$\n",
    "\\hat{\\text{Extent}} = 180,82 - 0,0874\\text{Year}\n",
    "$$\n",
    "\n",
    "(w zakresie lat 1979 - 2012). Powyższy wzór oznacza, że dla każdego wzrostu o 1 rok następuje zmniejszenie zasięgu lodu morskiego o 0,0874. Innymi słowy, 87 400 km rocznie (ponieważ zasięg lodu morskiego zmierzono w milionach km kwadratowych). Użyjemy atrybutu `.fittedvalues`, aby wyodrębnić naszą linię, którą następnie wykreślimy za pomocą Plotly.\n",
    "\n",
    "Uwaga Moglibyśmy użyć Plotly Express do wykreślenia tych modeli, ale API `graph_objects` Plotly będzie prawdopodobnie nieco wygodniejsze w obsłudze."
   ]
  },
  {
   "cell_type": "code",
   "execution_count": null,
   "metadata": {
    "id": "4pB6m8XGQvNm",
    "colab": {
     "base_uri": "https://localhost:8080/",
     "height": 542
    },
    "executionInfo": {
     "status": "ok",
     "timestamp": 1652025666240,
     "user_tz": -120,
     "elapsed": 805,
     "user": {
      "displayName": "Dominika Wnuk",
      "userId": "05926253260396442282"
     }
    },
    "outputId": "7c040b6e-d5e3-40d0-ebc0-22c4971a0161",
    "ExecuteTime": {
     "start_time": "2024-01-12T14:14:14.744283Z"
    }
   },
   "outputs": [],
   "source": [
    "import plotly.graph_objects as go\n",
    "\n",
    "ice_df[\"fitted\"] = model.fittedvalues\n",
    "\n",
    "fig = go.Figure()\n",
    "fig.add_trace(go.Scatter(\n",
    "    x=ice_df[\"Year\"], y=ice_df[\"Extent\"], name=\"Year vs Sea Ice Extent (million sq km)\", mode=\"markers\"))\n",
    "fig.add_trace(go.Scatter(\n",
    "    x=ice_df[\"Year\"], y=ice_df[\"fitted\"], name=\"Fitted Regression Line\"))\n",
    "fig.update_layout(title=\"Regression line of Year vs Sea Ice Extent (million sq km)\", xaxis_title=\"Year\",\n",
    "    yaxis_title=\"Sea Ice Extent\")\n",
    "fig.show()"
   ]
  },
  {
   "cell_type": "markdown",
   "metadata": {
    "id": "s6W-iF7SQvNn"
   },
   "source": [
    "Krótko mówiąc, Intercept nie ma sensu, ponieważ wykracza poza zakres danych. Powinniśmy przedefiniować zmienną Year taką, jaka jest, odjęta przez najwcześniejszy rok (1979), więc nasza oś x zaczyna się od 0."
   ]
  },
  {
   "cell_type": "code",
   "execution_count": null,
   "metadata": {
    "id": "9vGpUOSiQvNo",
    "colab": {
     "base_uri": "https://localhost:8080/"
    },
    "executionInfo": {
     "status": "ok",
     "timestamp": 1652025666242,
     "user_tz": -120,
     "elapsed": 109,
     "user": {
      "displayName": "Dominika Wnuk",
      "userId": "05926253260396442282"
     }
    },
    "outputId": "302eb113-344f-45ff-f416-3eca75032fdd",
    "ExecuteTime": {
     "start_time": "2024-01-12T14:14:14.746868Z"
    }
   },
   "outputs": [],
   "source": [
    "ice_df[\"YearAdj\"] = ice_df[\"Year\"] - 1979\n",
    "model = smf.ols(formula=\"Extent ~ YearAdj\", data=ice_df).fit()\n",
    "print(model.summary())"
   ]
  },
  {
   "cell_type": "markdown",
   "metadata": {
    "id": "dP1FNOaRQvNp"
   },
   "source": [
    "Jak widać, punkt przecięcia jest teraz naturalnie bardziej interpretowalny, podczas gdy współczynnik pozostaje taki sam"
   ]
  },
  {
   "cell_type": "code",
   "source": [
    "import plotly.graph_objects as go"
   ],
   "metadata": {
    "id": "8TUvE-JnqfTE",
    "ExecuteTime": {
     "start_time": "2024-01-12T14:14:14.749354Z"
    }
   },
   "execution_count": null,
   "outputs": []
  },
  {
   "cell_type": "code",
   "execution_count": null,
   "metadata": {
    "id": "F8e2cJgDQvNp",
    "colab": {
     "base_uri": "https://localhost:8080/",
     "height": 542
    },
    "executionInfo": {
     "status": "ok",
     "timestamp": 1652025666246,
     "user_tz": -120,
     "elapsed": 110,
     "user": {
      "displayName": "Dominika Wnuk",
      "userId": "05926253260396442282"
     }
    },
    "outputId": "b4b60154-0f6c-4020-d118-6eda9e886561",
    "ExecuteTime": {
     "start_time": "2024-01-12T14:14:14.751861Z"
    }
   },
   "outputs": [],
   "source": [
    "import plotly.graph_objects as go\n",
    "\n",
    "ice_df[\"fitted\"] = model.fittedvalues\n",
    "\n",
    "fig = go.Figure()\n",
    "# Note that we still plot against the original Year variable\n",
    "fig.add_trace(go.Scatter(\n",
    "    x=ice_df[\"Year\"], y=ice_df[\"Extent\"], name=\"Year vs Sea Ice Extent (million sq km)\", mode=\"markers\"))\n",
    "fig.add_trace(go.Scatter(\n",
    "    x=ice_df[\"Year\"], y=ice_df[\"fitted\"], name=\"Fitted Regression Line\"))\n",
    "fig.update_layout(title=\"Regression line of Year vs Sea Ice Extent (million sq km)\", xaxis_title=\"Year\",\n",
    "    yaxis_title=\"Sea Ice Extent\")\n",
    "fig.show()"
   ]
  },
  {
   "cell_type": "markdown",
   "metadata": {
    "id": "9XbdlGvoQvNq"
   },
   "source": [
    "Patrząc jeszcze raz na tabelę podsumowań, znajduje się kolumna o nazwie `P>|t|`. Jest to prawdopodobieństwo, że wartość współczynnika zostanie wylosowana ze sparametryzowanego rozkładu t. Nie zamierzam mówić werbalnie, w jaki sposób wykonuje się te obliczenia, ale poniższy spoiler prześledzi matematykę na wypadek, gdybyś był zainteresowany. Należy zwrócić uwagę na rzeczywistą wartość. (Niestety) Metoda `statsmodels` `.summary()` podaje wartość tylko do 3 miejsc po przecinku - wystarczy, aby sprawdzić, czy chcemy zachować, czy odrzucić hipotezę zerową. Jeśli jednak chcielibyśmy uzyskać rzeczywiste wartości p, możemy po prostu uruchomić atrybut `.pvalues` w modelu.\n",
    "\n",
    "W każdym razie, jak widzimy, wartość p dla naszego współczynnika wyboru wynosi (w przybliżeniu) 0, czyli mniej niż nasz standardowy poziom istotności $\\alpha = 0,05 $. Dlatego **możemy odrzucić hipotezę zerową** i stwierdzić, że ilość lodu morskiego zmienia się liniowo na przestrzeni lat.\n",
    "\n",
    "<br>\n",
    "<details>\n",
    "    <summary><b> Kliknij tutaj, aby dowiedzieć się, jak obliczyć wartości p przy użyciu błędu standardowego</b></summary>\n",
    "    <ul>\n",
    "        <li>Najpierw dzielimy oszacowanie przez jego błąd standardowy, co daje nam wartość t. W tym przypadku -0,08743927/0,099207 = -8,814</li>\n",
    "        <li>Ta wartość jest porównywana z rozkładem t z (n-p) stopniami swobody, gdzie n to liczba punktów danych, a p to liczba parametrów. Tutaj liczba punktów danych wynosi 34, a liczba parametrów wynosi 2. Zatem rozkład t będzie miał 32 stopnie swobody.</li>\n",
    "        <li>Teraz musimy tylko wiedzieć, jakie jest prawdopodobieństwo, że t będzie większe lub równe 8,814 (wartość bezwzględna). Możemy to zrobić za pomocą klasy <a href=\"http://docs.scipy.org/doc/scipy/reference/tutorial/stats.html\">stats</a> ze scipy: <code>stats.t. sf(abs_t_value, DoF)*2</code>, gdzie mnożymy przez 2, ponieważ nasz test jest dwustronny.\n",
    "    </ul>\n",
    "</details>"
   ]
  },
  {
   "cell_type": "code",
   "source": [
    "model.pvalues"
   ],
   "metadata": {
    "colab": {
     "base_uri": "https://localhost:8080/"
    },
    "id": "po9FxQdSaSM5",
    "executionInfo": {
     "status": "ok",
     "timestamp": 1652025803736,
     "user_tz": -120,
     "elapsed": 264,
     "user": {
      "displayName": "Dominika Wnuk",
      "userId": "05926253260396442282"
     }
    },
    "outputId": "fcebbe68-4759-49c0-e563-65c3795b4957",
    "ExecuteTime": {
     "start_time": "2024-01-12T14:14:14.754409Z"
    }
   },
   "execution_count": null,
   "outputs": []
  },
  {
   "cell_type": "code",
   "execution_count": null,
   "metadata": {
    "id": "OBYB7P0QQvNr",
    "colab": {
     "base_uri": "https://localhost:8080/"
    },
    "executionInfo": {
     "status": "ok",
     "timestamp": 1652025666249,
     "user_tz": -120,
     "elapsed": 111,
     "user": {
      "displayName": "Dominika Wnuk",
      "userId": "05926253260396442282"
     }
    },
    "outputId": "131e3fae-db0b-460d-c313-86ef40cdbefa",
    "ExecuteTime": {
     "start_time": "2024-01-12T14:14:14.756956Z"
    }
   },
   "outputs": [],
   "source": [
    "print(\"Model P Values:\", model.pvalues.values)\n",
    "print(\"Model Coef:\", model.params.values)\n",
    "print(\"Model Std Errs:\", model.bse.values)\n",
    "\n",
    "from scipy import stats\n",
    "t_val = model.params[1]/model.bse[1]\n",
    "p_val = stats.t.sf(abs(t_val), len(ice_df)-2)*2\n",
    "print()\n",
    "print(\"Calculated P Value: \", p_val)"
   ]
  },
  {
   "cell_type": "markdown",
   "metadata": {
    "id": "cSi_vpICQvNr"
   },
   "source": [
    "## Zasady modelu regresji\n",
    "\n",
    "Ok, więc właśnie użyliśmy modelu regresji liniowej. Ale nie omówiliśmy jeszcze założeń, które leżą u podstaw tego rodzaju modeli. Różne zasoby dadzą różną liczbę założeń, ale wszystkie mają swoje korzenie w tych czterech:\n",
    "1. **Liniowość** związku między odpowiedzią a zmiennymi objaśniającymi\n",
    "2. **Niezależność statystyczna reszt**. Oznacza to, że nie ma dostrzegalnego wzorca w resztach (lub nie ma korelacji między kolejnymi błędami w przypadku danych szeregów czasowych)\n",
    "3. **Homeescedasyczność**. Skomplikowane słowo, ale nie skomplikowana definicja. Zasadniczo oznacza po prostu, że reszty mają stałą/bardzo podobną wariancję\n",
    "4. **Normalność** rozkładu błędów.\n",
    "\n",
    "W miarę postępów w tym notatniku będą one wprowadzane w bardziej formalny sposób. Jednak szybko zaczniemy, analizując składniki resztowe danych. Przypomnij sobie, że **reszta** jest po prostu błędem, który obliczyliśmy na *przykładowych* danych. Chociaż możesz zobaczyć, że są one używane zamiennie, technicznie rzecz biorąc, *błąd* jest terminem używanym do oznaczenia błędu obliczonego na danych dotyczących populacji."
   ]
  },
  {
   "cell_type": "code",
   "execution_count": null,
   "metadata": {
    "id": "pyvy8-HUQvNr",
    "ExecuteTime": {
     "start_time": "2024-01-12T14:14:14.759441Z"
    }
   },
   "outputs": [],
   "source": [
    "# Creating a general plotting function for plotting a scatter plot and line on the same figure\n",
    "def plot_scatter_and_line(x, scatter_y, line_y, scatter_name, line_name, title, x_title, y_title):\n",
    "\n",
    "    fig = go.Figure()\n",
    "    \n",
    "    fig.add_trace(go.Scatter(\n",
    "        x=x, y=scatter_y, name=scatter_name, mode=\"markers\"))\n",
    "    fig.add_trace(go.Scatter(\n",
    "        x=x, y=line_y, name=line_name))\n",
    "    fig.update_layout(title=title, xaxis_title=x_title,\n",
    "        yaxis_title=y_title)\n",
    "    \n",
    "    return fig"
   ]
  },
  {
   "cell_type": "code",
   "execution_count": null,
   "metadata": {
    "id": "zZBeRgTtQvNs",
    "colab": {
     "base_uri": "https://localhost:8080/",
     "height": 542
    },
    "executionInfo": {
     "status": "ok",
     "timestamp": 1652025666252,
     "user_tz": -120,
     "elapsed": 106,
     "user": {
      "displayName": "Dominika Wnuk",
      "userId": "05926253260396442282"
     }
    },
    "outputId": "c50963ad-0170-47c4-801d-b1bf3f6e575e",
    "ExecuteTime": {
     "start_time": "2024-01-12T14:14:14.761956Z"
    }
   },
   "outputs": [],
   "source": [
    "ice_df[\"residuals\"] = model.resid\n",
    "# This is just a straight line at y = 0 so we can more easily discern positive and negative residuals\n",
    "line_y = [0] * len(ice_df[\"Year\"])\n",
    "plot_scatter_and_line(ice_df[\"Year\"], ice_df[\"residuals\"], line_y, \"Model residuals\", \"y=0\", \"Model Residual Plot of Year vs Ice Extent\", \"Year\", \"Residuals\")"
   ]
  },
  {
   "cell_type": "markdown",
   "metadata": {
    "id": "ZZ_UawFDQvNt"
   },
   "source": [
    "Na podstawie zasad, które opisaliśmy powyżej, nie można by Cię obwiniać za myślenie, że spełniliśmy kryteria 2 i 3 (porozmawiamy o kryteriach 1 dalej, a 4 później). Powiedziałabym, że te dane wykazują homoskedasywność (kryterium 3). Odnośnie kryterium 2 - statystyczna niezależność reszt, na pierwszy rzut oka wygląda na to, że reszty są niezależne. Jednak istnieje bardzo luźny wzorzec ujemnych reszt, po których następują dodatnie reszty, po których następuje ujemna, a następnie dodatnia. Może to wskazywać na pewną krzywiznę w związku – coś, co teraz zbadamy.\n",
    "\n",
    "## „Nieliniowe”/Związki wielomianowe\n",
    "\n",
    "Założenie prostoliniowo/liniowej relacji między dwiema zmiennymi może nie zawsze być poprawne. Biorąc pod uwagę ten zestaw danych dotyczących lodu, możemy spodziewać się pewnej krzywizny między zasięgiem lodu a rokiem (globalne ocieplenie jest bardziej powszechne w ostatnich latach). Możemy użyć regresji liniowej do modelowania relacji nieliniowych (np. wielomianu).\n",
    "\n",
    "Zamierzam bardzo nieznacznie zmienić notacje na coś, czego możemy bardziej ogólnie używać w tym notebooku. $\\beta$ ogólnie odnosi się do parametru. $\\beta_b$ będzie odnosić się do obciążenia, podczas gdy $\\beta_\\cdot$ będzie odnosić się do pewnych odpowiednich wag/współczynników zmiennej objaśniającej. W tym zapisie moglibyśmy modelować zależność kwadratową jako (czy to przypomina $Y = ax^2 + bx + c$? 😉):\n",
    "\n",
    "$$\n",
    "\\hat{y_i} = \\beta_1x_i^2 + \\beta_2x_i + \\beta_b + \\epsilon_{i}\n",
    "$$\n",
    "\n",
    "Sformułujemy naszą hipotezę zerową, a następnie ją zakodujemy!\n",
    "\n",
    "- H0: $\\beta_1 = 0$. Nie ma dowodów na przyspieszający spadek lodu morskiego (tj. brak dowodów na krzywiznę)\n",
    "- Ha: $\\beta_1 \\neq 0$. Istnieją dowody na przyspieszający spadek lodu morskiego (tj. dowody krzywizny)"
   ]
  },
  {
   "cell_type": "code",
   "execution_count": null,
   "metadata": {
    "id": "o2M_aap-QvNu",
    "colab": {
     "base_uri": "https://localhost:8080/"
    },
    "executionInfo": {
     "status": "ok",
     "timestamp": 1652025732522,
     "user_tz": -120,
     "elapsed": 239,
     "user": {
      "displayName": "Dominika Wnuk",
      "userId": "05926253260396442282"
     }
    },
    "outputId": "1ea1759f-6276-4a71-d861-1b8744382536",
    "ExecuteTime": {
     "start_time": "2024-01-12T14:14:14.764512Z"
    }
   },
   "outputs": [],
   "source": [
    "## Create a new column in the dataframe called \"YearAdj2\" which contains the values of \"YearAdj\", but squared\n",
    "ice_df[\"YearAdj2\"] = ice_df[\"YearAdj\"]**2\n",
    "\n",
    "## Create a new OLS model which fits Extent vs both \"YearAdj\" and \"YearAdj2\".\n",
    "model2 = smf.ols(\"Extent ~ YearAdj + YearAdj2\", data=ice_df).fit()\n",
    "\n",
    "## Return the summary\n",
    "print(model2.summary())"
   ]
  },
  {
   "cell_type": "markdown",
   "metadata": {
    "id": "RYsfrHtgQvNv"
   },
   "source": [
    "Widzimy więc, że nasze kwadratowe równanie predykcyjne wygląda teraz tak:\n",
    "$$\n",
    "\\hat{\\text{Extent}} = -0.0039\\text{Year}^2 + 0,0417\\text{Year} + 7,09\n",
    "$$\n",
    "\n",
    "W P>|t| widzimy, że YearAdj2 w znacznym stopniu uwzględnia zależność, co oznacza, że możemy odrzucić hipotezę zerową o braku dowodu krzywizny. Mimo że YearAdj ma nieistotny wpływ na modelowaną zależność, podczas testowania wyrazów/współczynników w modelach wielomianowych bierzemy pod uwagę tylko wyraz najwyższego rzędu (tj. YearAdj2). Gdyby okazało się, że ten wielomian najwyższego rzędu jest nieistotny, to możemy spokojnie porzucić ten termin. Zwykle odnosi się to do budowania modelu hierarchicznego."
   ]
  },
  {
   "cell_type": "code",
   "execution_count": null,
   "metadata": {
    "id": "j3iS2_9DQvNv",
    "colab": {
     "base_uri": "https://localhost:8080/",
     "height": 542
    },
    "executionInfo": {
     "status": "ok",
     "timestamp": 1652025666257,
     "user_tz": -120,
     "elapsed": 102,
     "user": {
      "displayName": "Dominika Wnuk",
      "userId": "05926253260396442282"
     }
    },
    "outputId": "38cc3073-a007-48d5-856d-2c930601eece",
    "ExecuteTime": {
     "start_time": "2024-01-12T14:14:14.766978Z"
    }
   },
   "outputs": [],
   "source": [
    "plot_scatter_and_line(ice_df[\"Year\"], ice_df[\"Extent\"], model2.fittedvalues, \"Year vs Sea Ice Extent (million sq km)\", \"Fitted Regression line\", \"Polynomial Regression line of Year vs Sea Ice Extent (million sq km)\", \"Year\", \"Extent\")"
   ]
  },
  {
   "cell_type": "markdown",
   "metadata": {
    "id": "PjhpzhylQvNw"
   },
   "source": [
    "Szybkim przykładem pokazującym, kiedy możemy nie odrzucić hipotezy zerowej (pamiętaj, że nigdy nie możemy „zaakceptować” hipotezy zerowej) jest wykonanie powyższych procedur, ale na zestawie danych dotyczących lodu morskiego do bieżącego roku. Przyjrzymy się tutaj tylko wielomianowi, tworząc w ten sposób naszą hipotezę:\n",
    "\n",
    "- H0: $\\beta_1 = 0$. Nie ma dowodów na przyspieszający spadek lodu morskiego (tj. brak dowodów na krzywiznę)\n",
    "- Ha: $\\beta_1 \\neq 0$. Istnieją dowody na przyspieszający spadek lodu morskiego (tj. dowody krzywizny)"
   ]
  },
  {
   "cell_type": "code",
   "execution_count": null,
   "metadata": {
    "id": "uPfe5qc_QvNw",
    "colab": {
     "base_uri": "https://localhost:8080/",
     "height": 1000
    },
    "executionInfo": {
     "status": "ok",
     "timestamp": 1652025666263,
     "user_tz": -120,
     "elapsed": 106,
     "user": {
      "displayName": "Dominika Wnuk",
      "userId": "05926253260396442282"
     }
    },
    "outputId": "3db8dae3-8262-49f1-815a-c5aec957292d",
    "ExecuteTime": {
     "start_time": "2024-01-12T14:14:14.770217Z"
    }
   },
   "outputs": [],
   "source": [
    "years_range = list(range(1979, 2020))\n",
    "extent = [7.05, 7.67, 7.14, 7.3, 7.39, 6.81, 6.7, 7.41, 7.28, 7.37, 7.01, 6.14, 6.47, 7.47, 6.4, 7.14, 6.08, 7.58, 6.69, 6.54, 6.12, 6.25, 6.73, 5.83, 6.12, 5.98, 5.5, 5.86, 4.27, 4.69, 5.26, 4.87, 4.56, 3.57, 5.21, 5.22, 4.62, 4.53, 4.82, 4.79, 4.36]\n",
    "curr_ice_df = pd.DataFrame(list(zip(years_range, extent)), columns=[\"Year\", \"Extent\"])\n",
    "curr_ice_df[\"YearAdj\"] = curr_ice_df[\"Year\"] - 1979\n",
    "curr_ice_df"
   ]
  },
  {
   "cell_type": "code",
   "execution_count": null,
   "metadata": {
    "id": "RiH_X4cOQvNx",
    "colab": {
     "base_uri": "https://localhost:8080/"
    },
    "executionInfo": {
     "status": "ok",
     "timestamp": 1652025716966,
     "user_tz": -120,
     "elapsed": 252,
     "user": {
      "displayName": "Dominika Wnuk",
      "userId": "05926253260396442282"
     }
    },
    "outputId": "c05fd5d5-c128-4826-d672-f3c70b2710db",
    "ExecuteTime": {
     "start_time": "2024-01-12T14:14:14.772897Z"
    }
   },
   "outputs": [],
   "source": [
    "curr_ice_df[\"YearAdj2\"] = curr_ice_df[\"YearAdj\"]**2\n",
    "model3 = smf.ols(\"Extent ~ YearAdj + YearAdj2\", data=curr_ice_df).fit()\n",
    "print(model3.summary())"
   ]
  },
  {
   "cell_type": "markdown",
   "metadata": {
    "id": "Gd3s6ATaQvNx"
   },
   "source": [
    "Powyżej widzimy, że dodanie wyrażenia wielomianowego do kwadratu do naszego Roku daje nam wartość p równą 0,081. Używając $\\alpha = 0.05$, pokazuje to, że wyrażenie YearAdj2 jest nieistotne, co motywuje nas do **nie odrzucenia hipotezy zerowej**. Gdybyśmy jednak zastosowali próg $\\alpha$ równy 0,1, bylibyśmy w stanie odrzucić hipotezę zerową.\n",
    "\n",
    "## Pozostała suma/średnia kwadratów\n",
    "\n",
    "Przypomnijmy, że w regresji liniowej zazwyczaj minimalizujemy błąd średniokwadratowy (również znany jako suma kwadratów reszt). \n",
    "\n",
    "Metryką, której możemy użyć do raportowania, jak dobrze działa nasz model regresji, jest metryka $R^2$, która jest miarą proporcji wariancji wyjaśnionej przez model. Oblicza się ją, porównując dopasowany model z modelem, który pasuje tylko do średniej.\n",
    "\n",
    "\n",
    "\n"
   ]
  },
  {
   "cell_type": "markdown",
   "source": [
    "![image.png](data:image/png;base64,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)"
   ],
   "metadata": {
    "id": "T55MmCbIfDnW"
   }
  },
  {
   "cell_type": "markdown",
   "source": [
    "Ponieważ linia regresji nie omija zbytnio żadnego z punktów, $R^2$ regresji jest stosunkowo wysoka.\n",
    "\n",
    "Obliczenie $R^2$ jest stosunkowo proste:\n",
    "$$\n",
    "R^2 \\equiv \\frac{\\text{MSE}_{średnia} - \\text{MSE}_{model}}{\\text{MSE}_{średnia}}\n",
    "$$\n",
    "\n",
    "Kontynuując korzystanie z kwadratowej zmiennej `model2`, którą wprowadziliśmy wcześniej, obliczymy wartość $R^2$."
   ],
   "metadata": {
    "id": "0-TB-bBffb-2"
   }
  },
  {
   "cell_type": "code",
   "execution_count": null,
   "metadata": {
    "id": "fZRSuCINQvNy",
    "colab": {
     "base_uri": "https://localhost:8080/",
     "height": 508
    },
    "executionInfo": {
     "status": "ok",
     "timestamp": 1652025666265,
     "user_tz": -120,
     "elapsed": 97,
     "user": {
      "displayName": "Dominika Wnuk",
      "userId": "05926253260396442282"
     }
    },
    "outputId": "bfd5af95-9f73-4155-b67c-b9ef1656564f",
    "ExecuteTime": {
     "start_time": "2024-01-12T14:14:14.775470Z"
    }
   },
   "outputs": [],
   "source": [
    "model2.summary()"
   ]
  },
  {
   "cell_type": "code",
   "execution_count": null,
   "metadata": {
    "id": "-T2aHTsAQvNy",
    "colab": {
     "base_uri": "https://localhost:8080/"
    },
    "executionInfo": {
     "status": "ok",
     "timestamp": 1652025666266,
     "user_tz": -120,
     "elapsed": 96,
     "user": {
      "displayName": "Dominika Wnuk",
      "userId": "05926253260396442282"
     }
    },
    "outputId": "415ce46b-76e6-490e-b0a5-997874dfe5ea",
    "ExecuteTime": {
     "start_time": "2024-01-12T14:14:14.778790Z"
    }
   },
   "outputs": [],
   "source": [
    "import numpy as np\n",
    "\n",
    "model_mean = smf.ols(\"Extent ~ 1\", data=ice_df).fit()\n",
    "resid_mean, resid_model = np.mean(model_mean.resid**2), np.mean(model2.resid**2) # we can also use the .ssr attribute\n",
    "(resid_mean - resid_model)/resid_mean"
   ]
  },
  {
   "cell_type": "markdown",
   "metadata": {
    "id": "L812xfvHQvNz"
   },
   "source": [
    "Więc nasz kwadratowy model może wyjaśnić nieco ponad 81,7% wariancji. Metoda `.summary()`, która została właśnie wywołana, pokazuje również coś znanego jako „Adj R-squard”. Jest to modyfikacja $R^2$, która uwzględnia liczbę zmiennych objaśniających w naszym modelu w stosunku do liczby punktów danych. Jest to bardziej odpowiednia miara oceny modelu. Więcej informacji można znaleźć [tutaj](https://en.wikipedia.org/wiki/Coefficient_of_determination#Adjusted_R2). Wyodrębnimy skorygowane reszty za pomocą atrybutu `mse_resid`, a następnie zastosujemy tę samą formułę jak powyżej."
   ]
  },
  {
   "cell_type": "code",
   "execution_count": null,
   "metadata": {
    "id": "nqlas8wPQvNz",
    "colab": {
     "base_uri": "https://localhost:8080/"
    },
    "executionInfo": {
     "status": "ok",
     "timestamp": 1652025666268,
     "user_tz": -120,
     "elapsed": 89,
     "user": {
      "displayName": "Dominika Wnuk",
      "userId": "05926253260396442282"
     }
    },
    "outputId": "ecb988f6-ab43-495b-ee9e-c77a5183bb75",
    "ExecuteTime": {
     "start_time": "2024-01-12T14:14:14.783040Z"
    }
   },
   "outputs": [],
   "source": [
    "resid_mean, resid_model = model_mean.mse_resid, model2.mse_resid\n",
    "(resid_mean - resid_model)/resid_mean # QED"
   ]
  },
  {
   "cell_type": "markdown",
   "metadata": {
    "id": "n-Q8QOJAQvNz"
   },
   "source": [
    "## Korelacja\n",
    "\n",
    "Korelacja jest miarą związku między dwiema zmiennymi. Działa to w nieco innym kontekście niż ten, który właśnie widzieliśmy, ponieważ nie mierzymy zmiennej endogennej (odpowiedzi) względem zmiennej egzogenicznej (wyjaśniającej). Raczej po prostu mierzymy jakąś formę powiązania między dwiema zmiennymi.\n",
    "\n",
    "Jestem pewna, że już wcześniej zetknąłeś się z tym terminem i rozumiesz go intuicyjnie, ale tylko dla kompletności:\n",
    "- **Dodatnia korelacja (+1)**: Gdy wzrost jednej zmiennej wskazuje na wzrost innej (np. temperatura vs sprzedaż lodów)\n",
    "- **Brak korelacji (0)**: Gdy wzrost/spadek jednej zmiennej nie ma wpływu na inną (np. temperatura vs cena akcji)\n",
    "- **Korelacja ujemna (-1)**: Gdy wzrost jednej zmiennej oznacza spadek innej (np. Temperatura w porównaniu ze sprzedażą sprzętu narciarskiego)\n",
    "\n",
    "Nie będziemy zagłębiać się w szczegóły obliczania korelacji. Jest to stosunkowo proste, a [to](https://www.mathsisfun.com/data/correlation.html) i [to](https://www.youtube.com/watch?v=mG__Wpp9dns) to świetne zasoby do zrozumieć, jak działają. To, co chcę podkreślić, to dwie rzeczy:\n",
    "1. Czy współczynnik korelacji jest znany jako $r$. To $r$ jest powiązane z wartością $R^2$ dla *prostej regresji liniowej*. $R^2$ to... cóż... po prostu kwadrat korelacji $r$. Aby to zweryfikować, możemy użyć metody korelacji (np. https://pandas.pydata.org/pandas-docs/stable/reference/api/pandas.DataFrame.corr.html).\n",
    "2. Korelacja dostarcza tylko użytecznych wartości dla relacji liniowych! Jeśli twój związek jest kwadratowy, sześcienny, wykładniczy itp., to korelacja nie może tego wyjaśnić. Powinniśmy więc użyć wykresu punktowego do sprawdzenia relacji, a nie polegać wyłącznie na wartościach korelacji.\n",
    "\n",
    "\n",
    "## Wielokrotna regresja liniowa\n",
    "\n",
    "W rzeczywistości oczywiście nie będziemy pracować z tak prostymi zestawami danych, jak zestaw danych lodowych. I możemy przyznać, że na wartość jednej zmiennej (np. zmiennej docelowej) może wpływać wiele innych zmiennych. Dlatego też mylące jest badanie relacji pojedynczo, w których mogą wystąpić te złożone interakcje między zmiennymi. Dlatego powinniśmy rozważyć wiele zmiennych jednocześnie. Jak przedstawiono w rozdziale 1, jest to znane jako regresja wielowymiarowa (lub wielowymiarowa regresja liniowa). Wprowadzony powyżej wzór regresji kwadratowej był przykładem wielokrotnej regresji liniowej. Ogólny wzór wyraża się wzorem:\n",
    "\n",
    "$$\n",
    "\\hat{y_i} = \\beta_1x_{1,i} + \\beta_2x_{2,i} + \\beta_3x_{3,i} + ... + \\beta_b + \\epsilon_{i}\n",
    "$$\n",
    "\n",
    "Gdzie każdy termin jest zgodny z definicjami wprowadzonymi wcześniej.\n",
    "\n",
    "Przejdziemy do innego zbioru danych - ogólnego badania społecznego w USA z 2018 roku. Dane pochodzą z https://gssdataexplorer.norc.org/. Interesuje nas modelowanie zmiennej `prestg10`, która jest oceną prestiżu zawodu respondenta - zasadniczo miarą prestiżu danej ścieżki kariery opartej na ogólnej świadomości. Tutaj wyodrębniłam zmienne poziomu wykształcenia, ale służy to wyłącznie celowi przykładu. Ogólne podejście polegałoby na zastosowaniu następujących metodologii do zbioru danych w celu określenia, które zmienne są istotne.\n",
    "\n",
    "Jako przykład podajemy kilka ról i związane z nimi oceny prestiżu. Zwróć uwagę, że te wyniki nie są istotne ani reprezentatywne dla zestawu danych, do którego ładujemy, a raczej są one przedstawione tylko po to, aby dać ci ogólne pojęcie o tym, co oznaczają wyniki.\n",
    "<table>\n",
    "    <head>\n",
    "        <tr>\n",
    "            <th>Rola</th>\n",
    "            <th>Wynik</th>\n",
    "        <tr>\n",
    "    </head>\n",
    "    <tbody>\n",
    "        <tr>\n",
    "            <td>Dyrektor generalny lub główny administrator, administracja publiczna</td>\n",
    "            <td>70,45</td>\n",
    "        </tr>\n",
    "        <tr>\n",
    "            <td>Menedżer, medycyna i zdrowie</td>\n",
    "            <td>69,22</td>\n",
    "        </tr>\n",
    "        <tr>\n",
    "            <td>Architekt</td>\n",
    "            <td>73,15</td>\n",
    "        </tr>\n",
    "        <tr>\n",
    "            <td>Inżynier lotniczy</td>\n",
    "            <td>69,22</td>\n",
    "        </tr>\n",
    "        <tr>\n",
    "            <td>Inżynier budownictwa</td>\n",
    "            <td>68,81</td>\n",
    "        </tr>\n",
    "        <tr>\n",
    "            <td>Inżynier (nie sklasyfikowany gdzie indziej)</td>\n",
    "            <td>70,69</td>\n",
    "        </tr>\n",
    "        <tr>\n",
    "            <td>Analityk systemów komputerowych lub naukowiec</td>\n",
    "            <td>73,70</td>\n",
    "        </tr>\n",
    "        <tr>\n",
    "            <td>Fizyk lub astronom</td>\n",
    "            <td>73,48</td>\n",
    "        </tr>\n",
    "        <tr>\n",
    "            <td>Chemik</td>\n",
    "            <td>73,33</td>\n",
    "        </tr>\n",
    "        <tr>\n",
    "            <td>Geolog/geodesta</td>\n",
    "            <td>69,75</td>\n",
    "        </tr>\n",
    "        <tr>\n",
    "            <td>Lekarz</td>\n",
    "            <td>86.05</td>\n",
    "        </tr>\n",
    "        <tr>\n",
    "            <td>Profesor</td>\n",
    "            <td>71,79</td>\n",
    "        </tr>\n",
    "        <tr>\n",
    "            <td>Nauczyciel</td>\n",
    "            <td>73,51</td>\n",
    "        </tr>\n",
    "    </tbody>\n",
    "</table>\n",
    "\n",
    "Zestaw danych wymaga niewielkiej ilości czyszczenia i ekstrakcji danych. Zrobiłem to dla nas, aby zaoszczędzić czas."
   ]
  },
  {
   "cell_type": "code",
   "source": [
    "import pandas as pd\n",
    "import numpy as np\n"
   ],
   "metadata": {
    "id": "l8-XqVlVlI-Y",
    "ExecuteTime": {
     "start_time": "2024-01-12T14:14:14.787907Z"
    }
   },
   "execution_count": null,
   "outputs": []
  },
  {
   "cell_type": "code",
   "execution_count": null,
   "metadata": {
    "id": "Kcst3n5lQvN0",
    "colab": {
     "base_uri": "https://localhost:8080/",
     "height": 485
    },
    "executionInfo": {
     "status": "ok",
     "timestamp": 1652045428879,
     "user_tz": -120,
     "elapsed": 257,
     "user": {
      "displayName": "Dominika Wnuk",
      "userId": "05926253260396442282"
     }
    },
    "outputId": "a0a36a58-8203-49a3-9db7-728634520ab3",
    "ExecuteTime": {
     "start_time": "2024-01-12T14:14:14.792177Z"
    }
   },
   "outputs": [],
   "source": [
    "gss_df = pd.read_csv(\"GSS.csv\")\n",
    "gss_df"
   ]
  },
  {
   "cell_type": "code",
   "execution_count": null,
   "metadata": {
    "id": "Th7nQW7OQvN0",
    "colab": {
     "base_uri": "https://localhost:8080/",
     "height": 424
    },
    "executionInfo": {
     "status": "ok",
     "timestamp": 1652045447829,
     "user_tz": -120,
     "elapsed": 243,
     "user": {
      "displayName": "Dominika Wnuk",
      "userId": "05926253260396442282"
     }
    },
    "outputId": "71b4e33e-e48c-43e6-ad8b-8c760a97e735",
    "ExecuteTime": {
     "start_time": "2024-01-12T14:14:14.796224Z"
    }
   },
   "outputs": [],
   "source": [
    "# This is a quick, dirty hack just to allow us to work with some clean data. Don't do stuff like this in practise.\n",
    "cols = [\"age\", \"educ\", \"paeduc\", \"maeduc\", \"speduc\", \"degree\", \"sex\", \"prestg10\"]\n",
    "gss_df.columns = cols\n",
    "\n",
    "# For now we will introduce these categorical variables as equally spaced numerics. We'll look explicitly at categorical data later down the notebook\n",
    "degree_codes = {\"Lt high school\": 0, \"High school\": 1, \"Junior college\": 2, \"Bachelor\": 3, \"Graduate\": 4}\n",
    "sex_codes = {\"Female\": 0, \"Male\": 1}\n",
    "\n",
    "to_replace = {\"degree\": degree_codes, \"sex\": sex_codes}\n",
    "gss_df = gss_df.replace(to_replace)\n",
    "\n",
    "gss_df = gss_df.replace([\"Not applicable\", \"Don't know\", \"No answer\", \"89 or older\"], pd.NA)\n",
    "for col in cols:\n",
    "    gss_df[col] = pd.to_numeric(gss_df[col], errors=\"coerce\")\n",
    "\n",
    "gss_df[gss_df[\"prestg10\"] == 0] = np.nan\n",
    "gss_df[gss_df[\"age\"] >= 98] = np.nan\n",
    "gss_df[gss_df[\"educ\"] >= 97] = np.nan\n",
    "gss_df[gss_df[\"paeduc\"] >= 97] = np.nan\n",
    "gss_df[gss_df[\"maeduc\"] >= 97] = np.nan\n",
    "gss_df[gss_df[\"speduc\"] >= 97] = np.nan\n",
    "gss_df = gss_df.dropna()\n",
    "gss_df"
   ]
  },
  {
   "cell_type": "markdown",
   "metadata": {
    "id": "ZG0gqcysQvN1"
   },
   "source": [
    "Do tej ramki danych dopasujemy model liniowy"
   ]
  },
  {
   "cell_type": "code",
   "execution_count": null,
   "metadata": {
    "id": "RqJ7t8pyQvN1",
    "colab": {
     "base_uri": "https://localhost:8080/"
    },
    "executionInfo": {
     "status": "ok",
     "timestamp": 1652045495097,
     "user_tz": -120,
     "elapsed": 286,
     "user": {
      "displayName": "Dominika Wnuk",
      "userId": "05926253260396442282"
     }
    },
    "outputId": "b2d06a39-ece0-4703-8344-dbfbb0d40ed6",
    "ExecuteTime": {
     "start_time": "2024-01-12T14:14:14.800161Z"
    }
   },
   "outputs": [],
   "source": [
    "## Fit a linear model for all variables in the gss_df and return the summary\n",
    "gss_model0 = smf.ols(\"prestg10 ~ age + educ + paeduc + maeduc + speduc + sex + degree\", data=gss_df).fit()\n",
    "print(gss_model0.summary())"
   ]
  },
  {
   "cell_type": "markdown",
   "metadata": {
    "id": "LzoxaxGQQvN2"
   },
   "source": [
    "Teraz, gdy mamy wiele zmiennych objaśniających, musimy wykazać się pewną ostrożnością podczas interpretacji współczynników. Współczynnik „eduk” wynosi -0,1432. Wartość ta określa, że jeśli wszystkie inne zmienne egzogeniczne są utrzymywane na stałym poziomie, to wzrost o jedną jednostkę poziomu wykształcenia respondenta wiąże się ze spadkiem o 0,143 wyniku prestiżu respondenta. Ta logika obowiązuje we wszystkich zmiennych objaśniających.\n",
    "\n",
    "Gdybyśmy dopasowali model tylko do edukacji, zobaczylibyśmy, że ten współczynnik jest inny:"
   ]
  },
  {
   "cell_type": "code",
   "execution_count": null,
   "metadata": {
    "id": "oHYkMvWPQvN2",
    "colab": {
     "base_uri": "https://localhost:8080/"
    },
    "executionInfo": {
     "status": "ok",
     "timestamp": 1652045509353,
     "user_tz": -120,
     "elapsed": 14,
     "user": {
      "displayName": "Dominika Wnuk",
      "userId": "05926253260396442282"
     }
    },
    "outputId": "fd1125cb-86bb-4a3e-a24c-06d9a504877b",
    "ExecuteTime": {
     "start_time": "2024-01-12T14:14:14.805196Z"
    }
   },
   "outputs": [],
   "source": [
    "print(smf.ols(\"prestg10 ~ educ\", data=gss_df).fit().summary())\n",
    "# smf.ols(\"prestg10 ~ degree\", data=gss_df).fit().summary()"
   ]
  },
  {
   "cell_type": "markdown",
   "metadata": {
    "id": "CxdVVGtRQvN3"
   },
   "source": [
    "Tutaj obserwujemy, że sama „edukacja” odpowiada za 20,6% wariancji i ma znacznie wyższy współczynnik niż wcześniej. Wynik jest inny, ponieważ wykształcenie respondentów jest pozytywnie skorelowane z innymi zmiennymi w ramce danych (pokazane poniżej). Mówiąc prościej, jeśli poziom wykształcenia rodziców wynosi 👆, to prawdopodobnie wykształcenie dziecka również wynosi 👆.\n",
    "\n",
    "Zatem wiedza, że ​​poziom wykształcenia respondenta jest wysoki, będzie wskazywać, że inne poziomy wykształcenia są prawdopodobnie również powyżej średniej. Równanie regresji odzwierciedla pozytywny wkład innych osób w życiu respondenta. Tak więc wartość parametru tego modelu (2.10) obejmuje *bezpośredni* wpływ poziomu wykształcenia respondenta oraz *pośredni* wpływ poziomu wykształcenia matek, ojców i małżonków, płeć i wiek respondenta oraz, co najważniejsze, stopień respondenta.\n",
    "\n",
    "Konsekwencją tego jest model mierzący efekty pośrednie, jeśli pominiemy efekty bezpośrednie. Dlatego dodanie lub usunięcie zmiennych z równania regresji może (i zwykle będzie) zmienić wartości oszacowań parametrów i ich znaczenie"
   ]
  },
  {
   "cell_type": "code",
   "execution_count": null,
   "metadata": {
    "id": "KGabnfdAQvN3",
    "colab": {
     "base_uri": "https://localhost:8080/",
     "height": 300
    },
    "executionInfo": {
     "status": "ok",
     "timestamp": 1652045522486,
     "user_tz": -120,
     "elapsed": 220,
     "user": {
      "displayName": "Dominika Wnuk",
      "userId": "05926253260396442282"
     }
    },
    "outputId": "8006d437-4fe8-4ffa-bf5b-8aa264bb305b",
    "ExecuteTime": {
     "start_time": "2024-01-12T14:14:14.809104Z"
    }
   },
   "outputs": [],
   "source": [
    "gss_df.corr()"
   ]
  },
  {
   "cell_type": "code",
   "source": [
    "import plotly.express as px"
   ],
   "metadata": {
    "id": "0Xiylfh2lj86",
    "ExecuteTime": {
     "start_time": "2024-01-12T14:14:14.813174Z"
    }
   },
   "execution_count": null,
   "outputs": []
  },
  {
   "cell_type": "code",
   "execution_count": null,
   "metadata": {
    "id": "Gy0yhPyNQvN3",
    "colab": {
     "base_uri": "https://localhost:8080/",
     "height": 542
    },
    "executionInfo": {
     "status": "ok",
     "timestamp": 1652045549214,
     "user_tz": -120,
     "elapsed": 1082,
     "user": {
      "displayName": "Dominika Wnuk",
      "userId": "05926253260396442282"
     }
    },
    "outputId": "8444e85d-5111-4d69-b337-da7e5b6cf4c6",
    "ExecuteTime": {
     "start_time": "2024-01-12T14:14:14.817083Z"
    }
   },
   "outputs": [],
   "source": [
    "px.imshow(gss_df.corr(), color_continuous_scale='Agsunset', title=\"Correlation heatmap of GSS dataframe\")"
   ]
  },
  {
   "cell_type": "markdown",
   "metadata": {
    "id": "4ycYBtS4QvN3"
   },
   "source": [
    "Ciekawe rzeczy z tej tabeli:\n",
    "1. Ciekawe, dlaczego wiek i wykształcenie są ze sobą ujemnie skorelowane... narysujmy i zobaczmy, czy możemy coś dostrzec\n",
    "2. wykształcenie i stopień mają wysoką korelację."
   ]
  },
  {
   "cell_type": "code",
   "execution_count": null,
   "metadata": {
    "id": "lV-5m1NKQvN4",
    "colab": {
     "base_uri": "https://localhost:8080/",
     "height": 542
    },
    "executionInfo": {
     "status": "ok",
     "timestamp": 1652045633230,
     "user_tz": -120,
     "elapsed": 239,
     "user": {
      "displayName": "Dominika Wnuk",
      "userId": "05926253260396442282"
     }
    },
    "outputId": "55d368a6-de4e-43ae-f6c6-94dcae141af8",
    "ExecuteTime": {
     "start_time": "2024-01-12T14:14:14.820976Z"
    }
   },
   "outputs": [],
   "source": [
    "px.scatter(gss_df, \"age\", \"educ\")"
   ]
  },
  {
   "cell_type": "markdown",
   "metadata": {
    "id": "JGy4TG7xQvN6"
   },
   "source": [
    "Kontynuując... Ustaliliśmy więc, że włączenie lub wykluczenie warunków może się zmienić, może zmienić wartości współczynników i odpowiadające im wartości p. Oznacza to, że gdy próbujemy zidentyfikować istotne zmienne, model powinien zostać ponownie dopasowany po usunięciu najmniej znaczącej zmiennej. W przypadku dużych ramek/zestawów danych może to okazać się trudnym problemem. Czy jako hakerzy możesz wymyślić sposób, w jaki moglibyśmy zautomatyzować ten proces?\n",
    "\n",
    "Tak więc, aby wyjaśnić, na każdym etapie naszego procesu budowania modelu:\n",
    "1. Spójrz na wszystkie nieistotne zmienne\n",
    "2. Usuń najmniej znaczącą zmienną\n",
    "3. Zamontuj model!\n",
    "4. Powtarzaj ten proces, aż wszystkie zmienne będą znaczące\n",
    "\n",
    "Jaka jest najmniej znacząca zmienna w naszym `gss_model0`?"
   ]
  },
  {
   "cell_type": "code",
   "execution_count": null,
   "metadata": {
    "id": "xxfebVcaQvN6",
    "colab": {
     "base_uri": "https://localhost:8080/"
    },
    "executionInfo": {
     "status": "ok",
     "timestamp": 1652045699283,
     "user_tz": -120,
     "elapsed": 275,
     "user": {
      "displayName": "Dominika Wnuk",
      "userId": "05926253260396442282"
     }
    },
    "outputId": "c04af9ba-ce45-40db-fd2a-d3a67e8a0cec",
    "ExecuteTime": {
     "start_time": "2024-01-12T14:14:14.826526Z"
    }
   },
   "outputs": [],
   "source": [
    "## Remove the least significant variable from the model\n",
    "gss_model1 = smf.ols(\"prestg10 ~ age + paeduc + maeduc + speduc + sex + degree\", data=gss_df).fit()\n",
    "print(gss_model1.summary())"
   ]
  },
  {
   "cell_type": "code",
   "execution_count": null,
   "metadata": {
    "id": "1oBP6NMwQvN7",
    "colab": {
     "base_uri": "https://localhost:8080/"
    },
    "executionInfo": {
     "status": "ok",
     "timestamp": 1652045932821,
     "user_tz": -120,
     "elapsed": 269,
     "user": {
      "displayName": "Dominika Wnuk",
      "userId": "05926253260396442282"
     }
    },
    "outputId": "6c622855-c425-4e97-fbe0-0a4dcd28f974",
    "ExecuteTime": {
     "start_time": "2024-01-12T14:14:14.830462Z"
    }
   },
   "outputs": [],
   "source": [
    "## Remove the least significant variable from the model\n",
    "gss_model2 = smf.ols(\"prestg10 ~ age + maeduc + speduc + sex + degree\", data=gss_df).fit()\n",
    "print(gss_model2.summary())"
   ]
  },
  {
   "cell_type": "markdown",
   "metadata": {
    "id": "NWIMkTGXQvN7"
   },
   "source": [
    "Prestiż pracy w USA wzrasta zatem wraz z wiekiem, wykształceniem matek, wykształceniem małżonków, płci i najwyższym uzyskanym stopniem.\n",
    "\n",
    "Tutaj pracowaliśmy z małym zbiorem danych i musieliśmy przejść tylko przez 2 iteracje, aby zidentyfikować wszystkie nasze istotne zmienne. To podejście, które zastosowaliśmy, w którym dopasowujemy wszystkie zmienne, a następnie iteracyjnie usuwamy nieistotne, jest znane jako **eliminacja wsteczna**. Z drugiej strony istnieje również metoda znana jako **selekcja postępująca**. Tutaj zaczęlibyśmy od najprostszego możliwego modelu (tj. średniej), a następnie zidentyfikowalibyśmy, która JEDNĄ zmienną ma największe znaczenie dla naszego modelu. Ta zmienna jest następnie dodawana do nowego modelu, a proces jest powtarzany. Generalnie preferowana jest selekcja wsteczna, mimo że praca z dużą liczbą zmiennych jest trudniejsza.\n",
    "\n",
    "Jednak, jak wspomniałem wcześniej... jesteśmy hakerami... możemy stworzyć funkcję, która pobiera ramkę danych i zmienną odpowiedzi, iteracyjnie usuwa zmienną o najniższym znaczeniu, zwracając nam model zawierający tylko zmienne istotne. Zakodujmy to (ponieważ prawdopodobnie będzie to świetna okazja do zaoszczędzenia czasu podczas pracy z większymi zbiorami danych)"
   ]
  },
  {
   "cell_type": "code",
   "execution_count": null,
   "metadata": {
    "id": "xzdPMNTwQvN7",
    "colab": {
     "base_uri": "https://localhost:8080/",
     "height": 537
    },
    "executionInfo": {
     "status": "ok",
     "timestamp": 1652046533524,
     "user_tz": -120,
     "elapsed": 896,
     "user": {
      "displayName": "Dominika Wnuk",
      "userId": "05926253260396442282"
     }
    },
    "outputId": "f2795620-3134-4dd0-b178-06d90db2dc6b",
    "ExecuteTime": {
     "start_time": "2024-01-12T14:14:14.834810Z"
    }
   },
   "outputs": [],
   "source": [
    "def prune_models(dataframe, response_col_name):\n",
    "    \n",
    "    # We're going to need to define the f irst part of our formula string. \n",
    "    # We know it'll start with the response_col_name followed with a \"~\"\n",
    "    ## Define the first part of our formula string (~ 1 line)\n",
    "    init_formula_string = response_col_name + \" ~ \"\n",
    "    \n",
    "    # Next, we're going to initially start with ALL the columns in our dataframe. \n",
    "    # We can use the string <join> method to create this string\n",
    "    # Remember to <remove> the response_col_name from our columns list!\n",
    "    ## Create the second part of the formula string (~ 3 lines)\n",
    "    ### Assign cols_no_response to the list of the dataframe columns\n",
    "    cols_no_response = dataframe.columns.tolist()\n",
    "    ### <Remove> the response column name\n",
    "    cols_no_response.remove(response_col_name)\n",
    "    ### <Join> the string (using ' + ') as the join seperator\n",
    "    rest_of_formula_string = \" + \".join(cols_no_response)\n",
    "    \n",
    "    ## Concat the two strings together (in a new variable) to obtain our full formula string (~ 1 line)\n",
    "    formula_string = init_formula_string + rest_of_formula_string\n",
    "\n",
    "    ## Fit the initial model variation (i.e. all features)(~1 line)\n",
    "    model_init = smf.ols(formula_string, data=dataframe).fit()\n",
    "    \n",
    "    # We know we only care about the p-values from the summary table - use the pvalues attribute to extract this out\n",
    "    ## Assign a p-values variable (~ 1 line)\n",
    "    pvalues = model_init.pvalues\n",
    "    \n",
    "    ## Find the variable with the highest p-value (hint: idxmax) (~1 line)\n",
    "    max_p = pvalues.idxmax()\n",
    "    \n",
    "    # We know when can stop our model building process when the highest p-value from our model is under an alpha value\n",
    "    ## Define our alpha threshhold at 0.05 (~ 1 line)\n",
    "    alpha = 0.05\n",
    "    \n",
    "    # With our alpha defined, we need to perform the following steps:\n",
    "    # <While> loop over our p-values with the condition that the max value is above our alpha threshold (~ 1 line)\n",
    "    # Identify the variable with the maximum p-value (~ 1 line)\n",
    "    # Drop this variable from our cols_no_response list (~ 1 line)\n",
    "    # Create a new formula string (~ 2 lines)\n",
    "    # Fit the new model (~ 1 line)\n",
    "    # Re-declare our p-values variable (~ 1 line)\n",
    "    # <Drop> the Intercept attribute (~ 1 line)\n",
    "    # Once our while loop breaks, let's return the model (~ 1 line)\n",
    "    ## Implement the above instructions (~ 9 lines)\n",
    "    \n",
    "    while pvalues.max() > alpha:\n",
    "        max_p = pvalues.idxmax()\n",
    "        cols_no_response.remove(max_p)\n",
    "    \n",
    "        rest_of_formula_string = \" + \".join(cols_no_response)\n",
    "        formula_string = init_formula_string + rest_of_formula_string\n",
    "        \n",
    "        model = smf.ols(formula_string, data=dataframe).fit()\n",
    "        pvalues = model.pvalues\n",
    "        pvalues = pvalues.drop(\"Intercept\")\n",
    "        \n",
    "    return model\n",
    "    \n",
    "fitted_model = prune_models(gss_df, \"prestg10\")\n",
    "## Print the model summary\n",
    "fitted_model.summary()"
   ]
  },
  {
   "cell_type": "markdown",
   "metadata": {
    "id": "mfz6ONYlQvN8"
   },
   "source": [
    "Taki sam model, jaki ustaliliśmy wcześniej? . Jako dodatek, rozszerzmy wszystkie nasze dane poza naszą zmienną odpowiedzi o wyrażenia kwadratowe i sześcienne, a następnie przeprowadźmy je przez powyższą funkcję."
   ]
  },
  {
   "cell_type": "code",
   "execution_count": null,
   "metadata": {
    "id": "3wbDOYyLQvN8",
    "colab": {
     "base_uri": "https://localhost:8080/",
     "height": 636
    },
    "executionInfo": {
     "status": "ok",
     "timestamp": 1652046539248,
     "user_tz": -120,
     "elapsed": 591,
     "user": {
      "displayName": "Dominika Wnuk",
      "userId": "05926253260396442282"
     }
    },
    "outputId": "83e3c787-1c55-4d09-ed1d-4e9d9fcc8908",
    "ExecuteTime": {
     "start_time": "2024-01-12T14:14:14.838886Z"
    }
   },
   "outputs": [],
   "source": [
    "augmented_gss_df = gss_df\n",
    "\n",
    "## Drop the response_variable from the augmented dataframe (we'll add it back in later)\n",
    "augmented_gss_df = augmented_gss_df.drop(\"prestg10\", axis=1)\n",
    "\n",
    "## For every column in our dataframe, let's create new columns, named <COLUMNNAME>2 or <COLUMNNAME>3 which store the columns squared and cubed terms\n",
    "## We'll ignore the 'categorical' sex and degree column\n",
    "for col in augmented_gss_df.columns:\n",
    "    if col == \"sex\" or col == \"degree\":\n",
    "        continue\n",
    "    augmented_gss_df[col+str(2)] = augmented_gss_df[col] ** 2\n",
    "    augmented_gss_df[col+str(3)] = augmented_gss_df[col] ** 3\n",
    "    \n",
    "## Add prestg10 from gss_df back into augmented_gss_df\n",
    "augmented_gss_df[\"prestg10\"] = gss_df[\"prestg10\"]\n",
    "\n",
    "## Run our above function!\n",
    "fitted_model_poly = prune_models(augmented_gss_df, \"prestg10\")\n",
    "## Print the model summary\n",
    "fitted_model_poly.summary()"
   ]
  },
  {
   "cell_type": "markdown",
   "metadata": {
    "id": "5OlOdRxqQvN9"
   },
   "source": [
    "Niesamowite! Teraz programowo zrobiliśmy dwie rzeczy, które mogą nam zaoszczędzić mnóstwo czasu podczas pracy z większymi zbiorami danych:\n",
    "1. Automatyczne określanie najlepiej dopasowanego modelu przy użyciu metody selekcji wstecznej\n",
    "2. Rozszerzanie naszego zbioru danych o wyrażenia wielomianowe\n",
    "\n",
    "Ale który model jest lepszy? Cóż, możemy spojrzeć na $R^2$, aby nam to powiedzieć. Nasz pierwszy model ma skorygowany $R^2$ o 0,290, podczas gdy rozszerzony ma skorygowany o 0,293. Czy to oznacza, że ​​nasz model rozszerzony jest lepszy? Ja bym się nie spierał – mimo że metryka jest wyższa. Zazwyczaj preferowane są prostsze modele, a dalsze badanie tego nowego modelu może zająć znacznie więcej czasu, niż jest to warte dla dodatkowej 0,3% wariancji.\n",
    "\n",
    "## Zmienne kategorialne\n",
    "\n",
    "Do tej pory „zhakowaliśmy” dane kategorialne w modelu, kodując je jako typ numeryczny/ciągły. Dzieje się tak, ponieważ interpretacja dopasowanych wyników zmiennej kategorialnej jest nieco bardziej skomplikowana.\n",
    "\n",
    "W naszych danych mamy dwie zmienne kategoryczne: „płeć” i „stopień” (nie żeby miało to znaczenie w naszej interpretacji, ale zauważ, że płeć jest nominalna, a stopień jest porządkowa). Mamy dwie strategie, dzięki którym `statsmodel` wie, że mamy do czynienia z danymi kategorycznymi. Pierwszym z nich jest użycie wspomnianych kolumn wraz z metodą [`.get_dummies()`](https://pandas.pydata.org/pandas-docs/stable/reference/api/pandas.get_dummies.html). Zgodnie z tą metodologią dla każdej zmiennej otrzymalibyśmy X dodatkowych kolumn w naszej ramce danych, gdzie X to liczba odrębnych elementów, które kategoria może przyjąć. Jak widzieliśmy w poprzednim notatniku, nowe kolumny byłyby binarne, z wartością 0 lub 1 w zależności od tego, który z elementów jest odpowiedni dla odpowiedniego wiersza.\n",
    "\n",
    "Drugim, prostszym i bardziej eleganckim rozwiązaniem jest użycie `C(<NAZWAKOLUMNY>)` w naszym ciągu formuły dla kolumny, którą chcemy zakodować jako kategoryczną. Zaczniemy od zbudowania modelu tylko na dwóch wspomnianych powyżej kategoriach, abyśmy mogli zrozumieć, jak interpretować wyniki.\n",
    "\n",
    "Uwaga Jeśli twoja zmienna jest zakodowana jako ciąg, `statsmodels` automatycznie zinterpretuje ją jako zmienną kategorialną podczas dopasowywania modelu. Jeśli mamy zmienną kategorialną zakodowaną jako numeryczny typ danych (tak jak robimy to z płcią i stopniem), to użycie `C` jest konieczne"
   ]
  },
  {
   "cell_type": "code",
   "execution_count": 4,
   "metadata": {
    "id": "qJr_AXB8QvN9",
    "colab": {
     "base_uri": "https://localhost:8080/",
     "height": 537
    },
    "executionInfo": {
     "status": "ok",
     "timestamp": 1652046719664,
     "user_tz": -120,
     "elapsed": 253,
     "user": {
      "displayName": "Dominika Wnuk",
      "userId": "05926253260396442282"
     }
    },
    "outputId": "bdb5cf34-1297-4c88-90de-4bebddc938a2",
    "ExecuteTime": {
     "end_time": "2024-01-12T14:14:25.679836Z",
     "start_time": "2024-01-12T14:14:25.650776Z"
    }
   },
   "outputs": [
    {
     "ename": "NameError",
     "evalue": "name 'smf' is not defined",
     "output_type": "error",
     "traceback": [
      "\u001B[0;31m---------------------------------------------------------------------------\u001B[0m",
      "\u001B[0;31mNameError\u001B[0m                                 Traceback (most recent call last)",
      "Cell \u001B[0;32mIn[4], line 1\u001B[0m\n\u001B[0;32m----> 1\u001B[0m gss_cat \u001B[38;5;241m=\u001B[39m \u001B[43msmf\u001B[49m\u001B[38;5;241m.\u001B[39mols(\u001B[38;5;124m\"\u001B[39m\u001B[38;5;124mprestg10 ~ C(sex) + C(degree)\u001B[39m\u001B[38;5;124m\"\u001B[39m, gss_df)\u001B[38;5;241m.\u001B[39mfit()\n\u001B[1;32m      2\u001B[0m gss_cat\u001B[38;5;241m.\u001B[39msummary()\n",
      "\u001B[0;31mNameError\u001B[0m: name 'smf' is not defined"
     ]
    }
   ],
   "source": [
    "gss_cat = smf.ols(\"prestg10 ~ C(sex) + C(degree)\", gss_df).fit()\n",
    "gss_cat.summary()"
   ]
  },
  {
   "cell_type": "code",
   "execution_count": null,
   "metadata": {
    "id": "Q3p7M6lKQvN9",
    "colab": {
     "base_uri": "https://localhost:8080/"
    },
    "executionInfo": {
     "status": "ok",
     "timestamp": 1652046723252,
     "user_tz": -120,
     "elapsed": 728,
     "user": {
      "displayName": "Dominika Wnuk",
      "userId": "05926253260396442282"
     }
    },
    "outputId": "0e8d07d5-9dde-4a1a-d7de-07d75a9fe4b2",
    "ExecuteTime": {
     "start_time": "2024-01-12T14:14:14.845604Z"
    }
   },
   "outputs": [],
   "source": [
    "print(to_replace)"
   ]
  },
  {
   "cell_type": "markdown",
   "metadata": {
    "id": "l0eQDYegQvN-"
   },
   "source": [
    "Tak więc dla płci mamy 2 kategorie: „0” i „1”. Dla stopnia jest 5. W podsumowaniu modelu jesteśmy świadkami wpływu, jaki różne kategorie mają na model, ale nie widzimy kategorii 0 ani dla płci, ani dla stopnia. Ta pominięta kategoria jest znana jako kategoria **referencyjna** i jest zakodowana w polu Intercept.\n",
    "\n",
    "Oznacza to, że dla respondentki (kategoria płci 0), która ma wykształcenie niższe niż średnie (kategoria stopnia 0), równanie to po prostu: $\\hat{\\text{prestg10}} = \\hat{y} = 35,8$. <br>\n",
    "Dla odpowiedzi kobiety z wykształceniem licencjackim równanie to: $\\hat{y} = 35,8 + 16,5 $. <br>\n",
    "A dla respondenta z wykształceniem licencjackim równanie to $\\hat{y} = 35,8 + 2,79 + 16,5 $.\n",
    "\n",
    "Matematycznie byłoby to napisane jako:\n",
    "$$\n",
    "\\hat{y_i} = \\beta_b + \\beta^{\\text{płeć}}_j + \\beta^{\\text{stopień}}_k\n",
    "$$\n",
    "\n",
    "Gdzie $j$ i $k$ indeksują liczbę unikalnych kategorii dla odpowiedniej zmiennej, nie biorąc pod uwagę kategorii odniesienia. Czyli $j = 1, k = 1...4$.\n",
    "\n",
    "Porównanie efektów między kategoriami, przy jednoczesnym utrzymaniu stałych pozostałych zmiennych, jest proste, gdy jedna z kategorii jest kategorią pominiętą/odniesienia. Na przykład mężczyźni wpływają na wynik prestg o 2,79 punktu, a osoby z wykształceniem wyższym uzyskują wyniki prestg o około 21,2 wyższe niż osoby z kategorii 0.\n",
    "\n",
    "Aby porównać dwie kategorie razem, po prostu bierzemy różnicę między oszacowanymi parametrami. Na przykład osoby z tytułem magistra mają wynik o 4,67 wyższy niż osoby z tytułem licencjata (21,1986 - 16,5342).\n",
    "\n",
    "A co z interpretacją wartości p? Cóż, to nie jest to samo, co zrobiliśmy wcześniej, ponieważ w przypadku zmiennej kategorialnej wynik `.summary()` daje nam wartości p oparte na testach t, ​​które porównują określony poziom z wartością odniesienia poziom (np. licencjat vs. liceum). **Nie powinniśmy** używać tych wartości p, aby wybrać model do zastosowania – raczej chcemy rozważyć udział czynnika jako całości. Robimy to za pomocą metody znanej jako **zmiana sumy kwadratów**.\n",
    "\n",
    "Przypomnijmy, że najprostszy model, jaki możemy dopasować, to taki, który używa stałej do przewidywania zmiennej. Używamy tego do określenia naszej początkowej sumy kwadratów. Suma kwadratów dla modelu, który pasuje do średniej, jest znana jako **całkowita suma kwadratów** (matematycznie $\\sum_i^n (y_i - \\bar{y})^2$)."
   ]
  },
  {
   "cell_type": "code",
   "execution_count": null,
   "metadata": {
    "id": "cwXyHWVNQvN-",
    "colab": {
     "base_uri": "https://localhost:8080/"
    },
    "executionInfo": {
     "status": "ok",
     "timestamp": 1652046726287,
     "user_tz": -120,
     "elapsed": 295,
     "user": {
      "displayName": "Dominika Wnuk",
      "userId": "05926253260396442282"
     }
    },
    "outputId": "e02d3730-7583-4984-ad29-015cb235418b",
    "ExecuteTime": {
     "start_time": "2024-01-12T14:14:14.848099Z"
    }
   },
   "outputs": [],
   "source": [
    "gss_tssr = smf.ols(\"prestg10 ~ 1\", gss_df).fit().ssr\n",
    "gss_tssr"
   ]
  },
  {
   "cell_type": "markdown",
   "metadata": {
    "id": "wR4rrGXtQvN-"
   },
   "source": [
    "Teraz dodamy do tego modelu zmienną kategorialną i zaobserwujemy, jak zmieniła się suma kwadratów:"
   ]
  },
  {
   "cell_type": "code",
   "source": [
    "128190.83544303797 - 127010.15553618138"
   ],
   "metadata": {
    "colab": {
     "base_uri": "https://localhost:8080/"
    },
    "id": "9jAs5Kt7uNnX",
    "executionInfo": {
     "status": "ok",
     "timestamp": 1652047805412,
     "user_tz": -120,
     "elapsed": 262,
     "user": {
      "displayName": "Dominika Wnuk",
      "userId": "05926253260396442282"
     }
    },
    "outputId": "9f1498a8-2b68-4846-d195-0b2e8cb9cf91",
    "ExecuteTime": {
     "start_time": "2024-01-12T14:14:14.850679Z"
    }
   },
   "execution_count": null,
   "outputs": []
  },
  {
   "cell_type": "code",
   "execution_count": null,
   "metadata": {
    "id": "4W_82047QvN_",
    "colab": {
     "base_uri": "https://localhost:8080/"
    },
    "executionInfo": {
     "status": "ok",
     "timestamp": 1652046728394,
     "user_tz": -120,
     "elapsed": 398,
     "user": {
      "displayName": "Dominika Wnuk",
      "userId": "05926253260396442282"
     }
    },
    "outputId": "52c2cb11-9d0a-4de5-8727-0e170bbe0c01",
    "ExecuteTime": {
     "start_time": "2024-01-12T14:14:14.853387Z"
    }
   },
   "outputs": [],
   "source": [
    "# Perhaps gender here is a more appropiate name than sex...\n",
    "gss_gender_model = smf.ols(\"prestg10 ~ C(sex)\", gss_df).fit()\n",
    "gss_gender_model.ssr"
   ]
  },
  {
   "cell_type": "markdown",
   "metadata": {
    "id": "rdPJ8VEYQvN_"
   },
   "source": [
    "Widzimy, że suma kwadratów została zmniejszona do 127.010. Oznacza to, że uwzględnienie zmiennej płci zmniejszyło naszą resztkową sumę kwadratów o ~1181. Zobaczmy, jak bardzo włączenie stopnia wpływa na naszą resztkową sumę kwadratów."
   ]
  },
  {
   "cell_type": "code",
   "execution_count": null,
   "metadata": {
    "id": "ndRKpmzYQvN_",
    "colab": {
     "base_uri": "https://localhost:8080/"
    },
    "executionInfo": {
     "status": "ok",
     "timestamp": 1652046729964,
     "user_tz": -120,
     "elapsed": 237,
     "user": {
      "displayName": "Dominika Wnuk",
      "userId": "05926253260396442282"
     }
    },
    "outputId": "0ceece36-cb75-4217-a9f6-919d540b68f1",
    "ExecuteTime": {
     "start_time": "2024-01-12T14:14:14.856420Z"
    }
   },
   "outputs": [],
   "source": [
    "gss_gender_degree_model = smf.ols(\"prestg10 ~ C(sex) + C(degree)\", gss_df).fit()\n",
    "gss_gender_degree_model.ssr"
   ]
  },
  {
   "cell_type": "markdown",
   "metadata": {
    "id": "pi4eRlxwQvN_"
   },
   "source": [
    "Uwzględnienie 5 poziomów stopni w naszym modelu dodatkowo zmniejsza sumę kwadratów o ~32131. Ten wynik pokazuje, w jaki sposób można podzielić całkowitą sumę kwadratów na zmienność przypisywaną różnicy płci, stopnia i pozostałej zmienności resztowej. Możemy wyświetlić te informacje za pomocą tabeli **ANOVA** (wszystkie te tabele ANOVA są jednokierunkową ANOVA, ponieważ pracujemy z jedną zmienną odpowiedzi)."
   ]
  },
  {
   "cell_type": "code",
   "execution_count": null,
   "metadata": {
    "id": "7cmxis6vQvOA",
    "colab": {
     "base_uri": "https://localhost:8080/",
     "height": 143
    },
    "executionInfo": {
     "status": "ok",
     "timestamp": 1652046732242,
     "user_tz": -120,
     "elapsed": 626,
     "user": {
      "displayName": "Dominika Wnuk",
      "userId": "05926253260396442282"
     }
    },
    "outputId": "eab18c7a-3c45-4bc1-bda8-2277b149ddf3",
    "ExecuteTime": {
     "start_time": "2024-01-12T14:14:14.860347Z"
    }
   },
   "outputs": [],
   "source": [
    "import statsmodels.api as sm\n",
    "sm.stats.anova_lm(gss_gender_degree_model, typ=1)"
   ]
  },
  {
   "cell_type": "markdown",
   "metadata": {
    "id": "UEdwxu68QvOA"
   },
   "source": [
    "To, co zostało przedstawione powyżej, to wyniki analizy wariancji **Typ 1** ANOVA. ANOVA typu 1 daje różne wyniki w zależności od kolejności wprowadzania danych do modelu:"
   ]
  },
  {
   "cell_type": "code",
   "execution_count": null,
   "metadata": {
    "id": "h1mXBRyCQvOA",
    "colab": {
     "base_uri": "https://localhost:8080/",
     "height": 143
    },
    "executionInfo": {
     "status": "ok",
     "timestamp": 1652046735599,
     "user_tz": -120,
     "elapsed": 272,
     "user": {
      "displayName": "Dominika Wnuk",
      "userId": "05926253260396442282"
     }
    },
    "outputId": "087603de-e9b5-442d-8112-1c24053f0cc6",
    "ExecuteTime": {
     "start_time": "2024-01-12T14:14:14.863947Z"
    }
   },
   "outputs": [],
   "source": [
    "gss_degree_gender_model = smf.ols(\"prestg10 ~ C(degree) + C(sex)\", gss_df).fit()\n",
    "sm.stats.anova_lm(gss_degree_gender_model, typ=1)"
   ]
  },
  {
   "cell_type": "markdown",
   "metadata": {
    "id": "JfA6j7tYQvOA"
   },
   "source": [
    "**Typ 2** ANOVA przedstawia natomiast wpływ każdego warunku przy wszystkich pozostałych terminach zachowanych w modelu. Ten wariant metody jest zalecany."
   ]
  },
  {
   "cell_type": "code",
   "execution_count": null,
   "metadata": {
    "id": "0sOmjGniQvOA",
    "colab": {
     "base_uri": "https://localhost:8080/",
     "height": 143
    },
    "executionInfo": {
     "status": "ok",
     "timestamp": 1652046738665,
     "user_tz": -120,
     "elapsed": 253,
     "user": {
      "displayName": "Dominika Wnuk",
      "userId": "05926253260396442282"
     }
    },
    "outputId": "348074a2-ada8-4d0d-8b4e-f16e80b866e6",
    "ExecuteTime": {
     "start_time": "2024-01-12T14:14:14.866727Z"
    }
   },
   "outputs": [],
   "source": [
    "sm.stats.anova_lm(gss_gender_degree_model, typ=2)\n",
    "# sm.stats.anova_lm(gss_degree_gender_model, typ=2)"
   ]
  },
  {
   "cell_type": "markdown",
   "metadata": {
    "id": "EbCEMA0kQvOB"
   },
   "source": [
    "Tabela ANOVA zwraca nam również bardziej formalne wartości p — których, jak widzieliśmy, powinniśmy użyć do podjęcia decyzji, czy zachować zmienną, czy nie. Wartość p w tabeli ANOVA jest obliczana przy użyciu czegoś, co nazywa się [testem F](https://en.wikipedia.org/wiki/F-test) – co jest po prostu stosunkiem dwóch wariancji (uwzględniających stopnie wolność). Nie będziemy tutaj zagłębiać się w szczegóły, ponieważ ważne jest, aby wiedzieć, czy chcemy zachować, czy porzucić zmienną."
   ]
  },
  {
   "cell_type": "code",
   "execution_count": null,
   "metadata": {
    "id": "btItfjAqQvOB",
    "colab": {
     "base_uri": "https://localhost:8080/",
     "height": 537
    },
    "executionInfo": {
     "status": "ok",
     "timestamp": 1652046742369,
     "user_tz": -120,
     "elapsed": 233,
     "user": {
      "displayName": "Dominika Wnuk",
      "userId": "05926253260396442282"
     }
    },
    "outputId": "ff14ebf4-b293-416f-a679-daae83b0d937",
    "ExecuteTime": {
     "start_time": "2024-01-12T14:14:14.869928Z"
    }
   },
   "outputs": [],
   "source": [
    "fitted_model.summary()"
   ]
  },
  {
   "cell_type": "code",
   "execution_count": null,
   "metadata": {
    "id": "nefDIRPWQvOB",
    "colab": {
     "base_uri": "https://localhost:8080/",
     "height": 601
    },
    "executionInfo": {
     "status": "ok",
     "timestamp": 1652046747362,
     "user_tz": -120,
     "elapsed": 370,
     "user": {
      "displayName": "Dominika Wnuk",
      "userId": "05926253260396442282"
     }
    },
    "outputId": "1ab4df42-3297-44bb-e6cd-6ff5bba6cc24",
    "ExecuteTime": {
     "start_time": "2024-01-12T14:14:14.873218Z"
    }
   },
   "outputs": [],
   "source": [
    "fitted_model = smf.ols(\"prestg10 ~ age + maeduc + speduc + C(degree) + C(sex)\", gss_df).fit()\n",
    "fitted_model.summary()"
   ]
  },
  {
   "cell_type": "code",
   "execution_count": null,
   "metadata": {
    "id": "O_n-10Q5QvOB",
    "colab": {
     "base_uri": "https://localhost:8080/",
     "height": 238
    },
    "executionInfo": {
     "status": "ok",
     "timestamp": 1652046748691,
     "user_tz": -120,
     "elapsed": 11,
     "user": {
      "displayName": "Dominika Wnuk",
      "userId": "05926253260396442282"
     }
    },
    "outputId": "8ee9e45a-2e56-4252-e98a-e502fdc2099c",
    "ExecuteTime": {
     "start_time": "2024-01-12T14:14:14.876062Z"
    }
   },
   "outputs": [],
   "source": [
    "sm.stats.anova_lm(fitted_model, typ=2)"
   ]
  },
  {
   "cell_type": "markdown",
   "metadata": {
    "id": "jt2yIID_QvOC"
   },
   "source": [
    "Świetny! Wszystkie nasze zmienne (przy uwzględnieniu prawidłowo określonych wariantów kategorii) mają duże znaczenie dla naszego modelu. Następnie rozszerzymy nasz model o terminy zwane **interakcjami**.\n",
    "\n",
    "## Interakcje\n",
    "\n",
    "Interakcja ma miejsce, gdy zmienna objaśniająca ma nieaddytywny wpływ na wynik modelu w zależności od obecności innej zmiennej objaśniającej. W tym przykładzie, biorąc pod uwagę tylko model kategoryczny, wpływ stopnia może być inny dla mężczyzn i kobiet. Gdybyśmy chcieli przedstawić to matematycznie, potrzebowalibyśmy dodatkowego parametru:\n",
    "\n",
    "$$\n",
    "\\hat{y}_i = \\beta_b + \\beta^{płeć}_j + \\beta^{stopień}_k + \\beta^{płeć \\cdot stopień}_{jk}\n",
    "$$\n",
    "\n",
    "Terminy w powyższym równaniu są zgodne z wprowadzonymi wcześniej. Wartości $\\beta^{sex \\cdot degree}_{jk}$ przyjmujemy jako zero, gdy kategorią odniesienia jest $j$ lub $k$. Zatem $j=1, k=3$ oznacza, że ​​mamy respondenta płci męskiej, który uzyskał tytuł licencjata. Wcześniej modelowaliśmy każdą ze zmiennych odpowiednio za pomocą $\\beta^{sex}_j, \\beta^{degree}_k$. Teraz, obok tych dwóch parametrów, mamy dodatkowy parametr, który modeluje, jak zmienia się ocena prestiżu w oparciu o wspólną interakcję poziomu wykształcenia i płci respondenta.\n",
    "\n",
    "Więcej informacji na temat terminów interakcji można znaleźć [tutaj](http://www.medicine.mcgill.ca/epidemiology/Joseph/courses/EPIB-621/interaction.pdf) i [tutaj](https://www.youtube.com/watch?v=HSHcIHMxhbE).\n",
    "\n",
    "Możemy określić warunki interakcji w naszym modelu za pomocą operatora dwukropka (:), który jawnie dodaje interakcję między dwiema zmiennymi (np. `C(sex):C(degree)`). Alternatywnie możemy użyć operatora gwiazdki (\\*), który dodaje sumę tych dwóch terminów i interakcję (np. `C(sex)*C(degree)` zamienia się w `C(sex) + C(sex) + C(sex):C(degree)`."
   ]
  },
  {
   "cell_type": "code",
   "execution_count": null,
   "metadata": {
    "id": "f-jCDiQ0QvOC",
    "colab": {
     "base_uri": "https://localhost:8080/",
     "height": 622
    },
    "executionInfo": {
     "status": "ok",
     "timestamp": 1652046750279,
     "user_tz": -120,
     "elapsed": 634,
     "user": {
      "displayName": "Dominika Wnuk",
      "userId": "05926253260396442282"
     }
    },
    "outputId": "7c8025fb-a8ff-4574-dada-d75aeebc6052",
    "ExecuteTime": {
     "start_time": "2024-01-12T14:14:14.879047Z"
    }
   },
   "outputs": [],
   "source": [
    "interaction_model = smf.ols(\"prestg10 ~ C(sex)*C(degree)\", gss_df).fit()\n",
    "interaction_model.summary()"
   ]
  },
  {
   "cell_type": "code",
   "execution_count": null,
   "metadata": {
    "id": "LPlKND0mQvOC",
    "colab": {
     "base_uri": "https://localhost:8080/",
     "height": 542
    },
    "executionInfo": {
     "status": "ok",
     "timestamp": 1652046751703,
     "user_tz": -120,
     "elapsed": 23,
     "user": {
      "displayName": "Dominika Wnuk",
      "userId": "05926253260396442282"
     }
    },
    "outputId": "f74795fd-a080-497a-9842-40226b395486",
    "ExecuteTime": {
     "start_time": "2024-01-12T14:14:14.881973Z"
    }
   },
   "outputs": [],
   "source": [
    "gss_df[\"fitted\"] = fitted_model.fittedvalues\n",
    "gss_df[\"degree\"] = gss_df[\"degree\"].astype(\"category\")\n",
    "gss_df[\"sex\"] = gss_df[\"sex\"].astype(\"category\")\n",
    "px.scatter(gss_df, \"degree\", \"fitted\", color=\"sex\", title=\"Degree level vs predicted values. Coloured by sex\")"
   ]
  },
  {
   "cell_type": "markdown",
   "metadata": {
    "id": "eF3U4fpLQvOD"
   },
   "source": [
    "Podsumowanie można interpretować w następujący sposób: wpływ zmiennej płeć na prestg10 różni się w zależności od kategorii wykształcenia, które uzyskał respondent.\n",
    "\n",
    "Na przykład, biorąc pod uwagę poziom 0 (mniejszy niż wykształcenie średnie), mężczyźni (poziom płci 1) mają 12,6 wzrost prestiżu w porównaniu z dziewczętami. Ale jeśli mężczyzna ma wykształcenie na poziomie licencjata (stopień 3), mają one (12,6 + -9,79 = 2,85) zmianę w wyniku prestiżu w porównaniu z kobietami.\n",
    "\n",
    "Można to również interpretować w odwrotny sposób – to znaczy, że wpływ zmiennej stopnia na wynik prestiżu różni się w zależności od kategorii płci respondenta.\n",
    "\n",
    "Możemy użyć ANOVA, aby określić, czy cały czynnik jest istotny, czy nie:"
   ]
  },
  {
   "cell_type": "code",
   "execution_count": null,
   "metadata": {
    "id": "EcARBzN4QvOD",
    "colab": {
     "base_uri": "https://localhost:8080/",
     "height": 175
    },
    "executionInfo": {
     "status": "ok",
     "timestamp": 1652046753774,
     "user_tz": -120,
     "elapsed": 495,
     "user": {
      "displayName": "Dominika Wnuk",
      "userId": "05926253260396442282"
     }
    },
    "outputId": "5e02b759-9e2e-4f09-c6fa-6251b050b030",
    "ExecuteTime": {
     "start_time": "2024-01-12T14:14:14.884591Z"
    }
   },
   "outputs": [],
   "source": [
    "sm.stats.anova_lm(interaction_model, typ=2)"
   ]
  },
  {
   "cell_type": "markdown",
   "metadata": {
    "id": "gawNN3U0QvOD"
   },
   "source": [
    "Świetny! Wszystkie znaczące. Więc dodanie tego terminu interakcji jest pozytywne, prawda? Aby to sprawdzić, dopasujmy model do innych zmiennych, które zidentyfikowaliśmy jako istotne i zobaczmy, czy nasze $R^2$ jest wyższe."
   ]
  },
  {
   "cell_type": "code",
   "execution_count": null,
   "metadata": {
    "id": "GxL0tp9GQvOD",
    "colab": {
     "base_uri": "https://localhost:8080/",
     "height": 721
    },
    "executionInfo": {
     "status": "ok",
     "timestamp": 1652046755278,
     "user_tz": -120,
     "elapsed": 1152,
     "user": {
      "displayName": "Dominika Wnuk",
      "userId": "05926253260396442282"
     }
    },
    "outputId": "5f6d220a-3356-49cf-cc5d-addabfbdeb70",
    "ExecuteTime": {
     "start_time": "2024-01-12T14:14:14.887537Z"
    }
   },
   "outputs": [],
   "source": [
    "smf.ols(\"prestg10 ~ age + maeduc + speduc + C(degree)*C(sex)\", gss_df).fit().summary()"
   ]
  },
  {
   "cell_type": "markdown",
   "metadata": {
    "id": "sKQMi-f0QvOD"
   },
   "source": [
    "Wcześniej zidentyfikowaliśmy pewne podstawowe założenia opisujące regresję liniową. Dla przypomnienia były to:\n",
    "1. **Liniowość** związku między odpowiedzią a zmiennymi objaśniającymi\n",
    "2. **Niezależność statystyczna reszt**. Oznacza to, że nie ma dostrzegalnego wzorca w resztach (lub nie ma korelacji między kolejnymi błędami w przypadku danych szeregów czasowych)\n",
    "3. **Homeescedasyczność**. Skomplikowane słowo, ale nie skomplikowana definicja. Zasadniczo oznacza po prostu, że reszty mają stałą/bardzo podobną wariancję\n",
    "4. **Normalność** rozkładu błędów.\n",
    "\n",
    "W całej powyższej analizie mocno skupiliśmy się na pierwszym punkcie. Tutaj zwrócimy większą uwagę na punkty 2, 3 i 4. Aby zademonstrować te punkty, przełączymy się na nowy zestaw danych o nazwie „drzewa”."
   ]
  },
  {
   "cell_type": "code",
   "execution_count": null,
   "metadata": {
    "scrolled": false,
    "id": "6mPHJ_a-QvOE",
    "colab": {
     "base_uri": "https://localhost:8080/",
     "height": 1000
    },
    "executionInfo": {
     "status": "ok",
     "timestamp": 1652046759118,
     "user_tz": -120,
     "elapsed": 1778,
     "user": {
      "displayName": "Dominika Wnuk",
      "userId": "05926253260396442282"
     }
    },
    "outputId": "ad53927e-ad3f-43a8-df38-4508c9ff082c",
    "ExecuteTime": {
     "start_time": "2024-01-12T14:14:14.890510Z"
    }
   },
   "outputs": [],
   "source": [
    "trees = sm.datasets.get_rdataset(\"trees\")\n",
    "print(trees.__doc__)\n",
    "trees_df = trees.data\n",
    "trees_df"
   ]
  },
  {
   "cell_type": "markdown",
   "metadata": {
    "id": "RSojjM5jQvOE"
   },
   "source": [
    "Zacznijmy od dopasowania normalnej regresji do tych danych. Postaramy się przewidzieć objętość na podstawie obwodu i wzrostu."
   ]
  },
  {
   "cell_type": "code",
   "execution_count": null,
   "metadata": {
    "id": "JzP0KTm8QvOE",
    "colab": {
     "base_uri": "https://localhost:8080/",
     "height": 473
    },
    "executionInfo": {
     "status": "ok",
     "timestamp": 1652046759384,
     "user_tz": -120,
     "elapsed": 12,
     "user": {
      "displayName": "Dominika Wnuk",
      "userId": "05926253260396442282"
     }
    },
    "outputId": "fc1f3d04-4b79-4d9d-ad5d-12bbee159819",
    "ExecuteTime": {
     "start_time": "2024-01-12T14:14:14.893649Z"
    }
   },
   "outputs": [],
   "source": [
    "# I'm tired of writing long variable names so I'm going to rename these columns\n",
    "trees_df.columns = [\"d\", \"h\", \"vol\"]\n",
    "trees_model0 = smf.ols(\"vol ~ d + h\", trees_df).fit()\n",
    "trees_model0.summary()"
   ]
  },
  {
   "cell_type": "markdown",
   "metadata": {
    "id": "ssi9gSPuQvOF"
   },
   "source": [
    "Narysujmy `d` i `h` względem naszych reszt i sprawdźmy, czy możemy zidentyfikować jakieś wzorce."
   ]
  },
  {
   "cell_type": "code",
   "execution_count": null,
   "metadata": {
    "id": "Y1rQQdu6QvOI",
    "colab": {
     "base_uri": "https://localhost:8080/",
     "height": 542
    },
    "executionInfo": {
     "status": "ok",
     "timestamp": 1652046762430,
     "user_tz": -120,
     "elapsed": 10,
     "user": {
      "displayName": "Dominika Wnuk",
      "userId": "05926253260396442282"
     }
    },
    "outputId": "f7e46071-1776-43a7-bb9f-23b6bba40c3b",
    "ExecuteTime": {
     "start_time": "2024-01-12T14:14:14.897087Z"
    }
   },
   "outputs": [],
   "source": [
    "trees_df[\"residuals\"] = trees_model0.resid\n",
    "px.scatter(trees_df, \"d\", \"residuals\", title=\"Girth of tree vs model residuals\")"
   ]
  },
  {
   "cell_type": "code",
   "execution_count": null,
   "metadata": {
    "id": "c3OCArYnQvOI",
    "colab": {
     "base_uri": "https://localhost:8080/",
     "height": 542
    },
    "executionInfo": {
     "status": "ok",
     "timestamp": 1652046766874,
     "user_tz": -120,
     "elapsed": 266,
     "user": {
      "displayName": "Dominika Wnuk",
      "userId": "05926253260396442282"
     }
    },
    "outputId": "d3a9d2c6-b4cc-4d59-8cb8-38e5566a47c7",
    "ExecuteTime": {
     "start_time": "2024-01-12T14:14:14.899916Z"
    }
   },
   "outputs": [],
   "source": [
    "px.scatter(trees_df, \"h\", \"residuals\", title=\"Height of tree vs model residuals\")"
   ]
  },
  {
   "cell_type": "markdown",
   "metadata": {
    "id": "0K1TXZqSQvOJ"
   },
   "source": [
    "Drugi wykres, wysokość vs reszty, wygląda dość chaotycznie - to znaczy, że tak naprawdę nie ma żadnego dostrzegalnego wzoru. Pierwsza fabuła nie jest jednak tak zadowolona - wygląda na to, że są jakieś ślady krzywizny. Moglibyśmy dodać wyraz do kwadratu i sprawdzić jego znaczenie."
   ]
  },
  {
   "cell_type": "code",
   "execution_count": null,
   "metadata": {
    "id": "PdhHhI4mQvOJ",
    "colab": {
     "base_uri": "https://localhost:8080/",
     "height": 529
    },
    "executionInfo": {
     "status": "ok",
     "timestamp": 1652046770371,
     "user_tz": -120,
     "elapsed": 221,
     "user": {
      "displayName": "Dominika Wnuk",
      "userId": "05926253260396442282"
     }
    },
    "outputId": "864b5ef2-6fca-48ca-b17b-ebcc650a4243",
    "ExecuteTime": {
     "start_time": "2024-01-12T14:14:14.904390Z"
    }
   },
   "outputs": [],
   "source": [
    "## Assign a new column in trees_df which contains the d values, but squared\n",
    "trees_df[\"d2\"] = trees_df[\"d\"] ** 2\n",
    "## Fit a model on d, d^2 and h and return the summary\n",
    "trees_model1 = smf.ols(\"vol ~ d + d2 + h\", trees_df).fit()\n",
    "trees_model1.summary()"
   ]
  },
  {
   "cell_type": "markdown",
   "metadata": {
    "id": "pLGY29EtQvOJ"
   },
   "source": [
    "Świetny! Wygląda na to, że wyrażenie do kwadratu jest znaczące, a nasza $R^2$ również uległa poprawie. Wykreślmy jeszcze raz reszty, ale w stosunku do $d^2$."
   ]
  },
  {
   "cell_type": "code",
   "execution_count": null,
   "metadata": {
    "id": "o7_XFmIhQvOJ",
    "colab": {
     "base_uri": "https://localhost:8080/",
     "height": 542
    },
    "executionInfo": {
     "status": "ok",
     "timestamp": 1652046774785,
     "user_tz": -120,
     "elapsed": 543,
     "user": {
      "displayName": "Dominika Wnuk",
      "userId": "05926253260396442282"
     }
    },
    "outputId": "b2001c5a-508e-4d9b-a8a9-954fa9a42fe6",
    "ExecuteTime": {
     "start_time": "2024-01-12T14:14:14.907502Z"
    }
   },
   "outputs": [],
   "source": [
    "trees_df[\"residuals\"] = trees_model1.resid\n",
    "px.scatter(trees_df, \"d2\", \"residuals\", title=\"Squared diameter vs model residuals\")"
   ]
  },
  {
   "cell_type": "markdown",
   "metadata": {
    "id": "5HWAskYtQvOJ"
   },
   "source": [
    "Nie ma tu łatwych do zidentyfikowania wzorów... Świetnie! Sprawdźmy teraz **homoskedastyczność**. Zasadniczo oznacza to po prostu, że sprawdzamy, czy wariancja między naszymi dopasowanymi wartościami a resztami jest stała. Jest to stosunkowo proste sprawdzenie, ponieważ wszystko, co musimy zrobić, to wykreślić dopasowane wartości względem naszych reszt. Następnie szukamy rosnącego lub malejącego rozrzutu punktów w miarę wzrostu dopasowanych wartości. Jak widać na naszej fabule poniżej, nie ma na to prawdziwych dowodów. Jeśli jednak istniało, zjawisko to znane jest jako **heteroskedastyczność**. Ogólnie rzecz biorąc, musielibyśmy poważnie naruszyć założenie homoskedastyczności, aby szukać alternatywnych rozwiązań - więcej porad, co zrobić w tej sytuacji, można znaleźć [tutaj](https://www.statisticssolutions.com/homoscedasticity/)."
   ]
  },
  {
   "cell_type": "code",
   "execution_count": null,
   "metadata": {
    "id": "mNYbuCVQQvOK",
    "colab": {
     "base_uri": "https://localhost:8080/",
     "height": 542
    },
    "executionInfo": {
     "status": "ok",
     "timestamp": 1652046776301,
     "user_tz": -120,
     "elapsed": 11,
     "user": {
      "displayName": "Dominika Wnuk",
      "userId": "05926253260396442282"
     }
    },
    "outputId": "a71646c9-f32a-41fb-cf2f-ceaab71cc6bf",
    "ExecuteTime": {
     "start_time": "2024-01-12T14:14:14.909997Z"
    }
   },
   "outputs": [],
   "source": [
    "trees_df[\"fitted\"] = trees_model1.fittedvalues\n",
    "px.scatter(trees_df, \"fitted\", \"residuals\", title=\"Fitted values vs model residuals\")"
   ]
  },
  {
   "cell_type": "markdown",
   "metadata": {
    "id": "nviurUhAQvOK"
   },
   "source": [
    "To prowadzi nas do naszego ostatniego podstawowego założenia: **normalność reszt**. Istnieje wiele sposobów sprawdzenia, czy dane mają rozkład normalny, czy nie – dwie popularne metody to histogram i wykres Q-Q. W następnym zeszycie przyjrzymy się sprawdzaniu normalności z histogramów, ale jeśli chodzi o sprawdzanie normalności reszt, wolę wykresy Q-Q (odtąd QQ).\n",
    "\n",
    "QQ to skrót od kwantyl-kwantyl. Wykres QQ graficznie pozwala nam sprawdzić, czy dane, które posiadamy, pochodzą z dowolnego rozkładu ciągłego (rozkład normalny oczywiście należy do tej kategorii). Zagłębianie się w to, jak to działa, jest nieco poza zakresem, ale w jednym zdaniu uporządkowane reszty z modelu są wykreślane względem zestawu typowych uporządkowanych reszt; które otrzymuje się z kwantyli rozkładu normalnego regularnie rozmieszczonej siatki wartości prawdopodobieństwa. Na pewno łyk... ale w rzeczywistości metodologia jest bardzo prosta. Jeśli chcesz zrozumieć, jak to działa nieco lepiej, jest kilka [świetnych](https://www.youtube.com/watch?v=okjYjClSjOg) [zasobów](https://www.statisticshowto.com/q-q- działki/), które zapewniają pełne wprowadzenie.\n",
    "\n",
    "Interpretacja wykresu QQ ([używamy API](https://www.statsmodels.org/stable/generated/statsmodels.graphics.gofplots.qqplot.html)) jest łatwe! Czy punkty na wykresie leżą na linii? Jeśli tak, to mamy normalność! W przeciwnym razie może nie tak bardzo."
   ]
  },
  {
   "cell_type": "code",
   "execution_count": null,
   "metadata": {
    "id": "6XCeMLvFQvOK",
    "colab": {
     "base_uri": "https://localhost:8080/",
     "height": 295
    },
    "executionInfo": {
     "status": "ok",
     "timestamp": 1652046777650,
     "user_tz": -120,
     "elapsed": 18,
     "user": {
      "displayName": "Dominika Wnuk",
      "userId": "05926253260396442282"
     }
    },
    "outputId": "1226bf47-cc7f-498b-fdea-a19a5d5aea5d",
    "ExecuteTime": {
     "start_time": "2024-01-12T14:14:14.912535Z"
    }
   },
   "outputs": [],
   "source": [
    "from matplotlib import pyplot as plt\n",
    "fig = sm.qqplot(trees_df[\"residuals\"], fit=True, line='45')\n",
    "plt.title(\"QQ Plot of residuals\")\n",
    "plt.show()"
   ]
  },
  {
   "cell_type": "markdown",
   "metadata": {
    "id": "ogjSPSk-QvOK"
   },
   "source": [
    "Pomimo tego, że niektóre punkty danych odbiegają od linii, normalność danych jest akceptowalna. Jeszcze więcej odchyleń niż to i zacząłbym kwestionować, czy reszty są zgodne z rozkładem normalnym.\n",
    "\n",
    "## Transformacje\n",
    "\n",
    "Gdyby te dane nie miały normalnego rozkładu, moglibyśmy zastosować do nich coś, co nazywamy **transformacją**. Transformacje to sposób na modyfikację naszych danych, niezależnie od tego, czy są to zmienne endogeniczne, czy egzogeniczne, w celu poprawy dopasowania i skorygowania naruszeń założeń statystycznych stojących za modelem. Przyjrzymy się tutaj dwóm strategiom transformacji, prostej transformacji $\\log$ i potężniejszej transformacji Boxa-Coxa. Transformacje mogą być procesem iteracyjnym i czasami możemy mieć matematyczne uzasadnienie wyboru transformacji, podczas gdy innym razem możemy domyślnie stosować metodę prób i błędów.\n",
    "\n",
    "Transformacje Boxa-Coxa są podane przez:\n",
    "$$\n",
    "y^\\lambda = \\begin{przypadki} \\frac{y^\\lambda - 1}{\\lambda} & \\lambda \\neq 0 \\\\ \\log(y) & \\lambda = 0 \\end{przypadki}\n",
    "$$\n",
    "\n",
    "Gdzie lambda zostanie znaleziona według największego prawdopodobieństwa. Interesują nas \"rozsądne\" wartości lambda - zazwyczaj coś, co mieści się w przedziale (-3, 3). Więc jeśli $\\lambda$ okaże się równe 1, transformacja $y^1 = y$. Dlatego zmienna się nie zmienia. Podobnie:\n",
    "<tabela>\n",
    "    <tr>\n",
    "        <td><b>Lambda</b></td>\n",
    "        <td><b>Transformacja</b></td>\n",
    "    </tr>\n",
    "    <tr>\n",
    "        <td>2</td>\n",
    "        <td>Kwadrat</td>\n",
    "    </tr>\n",
    "    <tr>\n",
    "        <td>1</td>\n",
    "        <td>Brak</td>\n",
    "    </tr>\n",
    "    <tr>\n",
    "        <td>0,5</td>\n",
    "        <td>Pierwiastek kwadratowy</td>\n",
    "    </tr>\n",
    "    <tr>\n",
    "        <td>0</td>\n",
    "        <td>logarytmiczne</td>\n",
    "    </tr>\n",
    "    <tr>\n",
    "        <td>-1</td>\n",
    "        <td>Wzajemność</td>\n",
    "    </tr>\n",
    "    </table>\n",
    "    \n",
    "Najpierw przyjrzymy się transformacji Boxa-Coxa, identyfikując wartości lambda dla zmiennej obok 95% przedziału ufności."
   ]
  },
  {
   "cell_type": "code",
   "execution_count": null,
   "metadata": {
    "scrolled": false,
    "id": "tEA927kwQvOL",
    "ExecuteTime": {
     "start_time": "2024-01-12T14:14:14.915102Z"
    }
   },
   "outputs": [],
   "source": [
    "from scipy import stats\n",
    "\n",
    "def calculate_and_plot_boxcox(variable, alpha=0.05, title_string=\"\", plot_lower_bound=-20, plot_upper_bound=20):\n",
    "    transformed_data, best_lambda, conf = stats.boxcox(variable, alpha=alpha)\n",
    "    lambdas, corr_coef = stats.boxcox_normplot(variable, plot_lower_bound, plot_upper_bound)\n",
    "    \n",
    "    fig = go.Figure()\n",
    "    fig.add_trace(go.Scatter(x=lambdas, y=corr_coef))\n",
    "    fig.add_shape(dict(type=\"line\", x0=best_lambda, x1=best_lambda, y0=0, y1=1))\n",
    "    fig.add_shape(dict(type=\"line\", x0=conf[0], x1=conf[0], y0=0, y1=1, line=dict(color=\"Red\", width=1)))\n",
    "    fig.add_shape(dict(type=\"line\", x0=conf[1], x1=conf[1], y0=0, y1=1, line=dict(color=\"Red\", width=1)))\n",
    "    fig.add_shape(dict(type=\"line\", x0=1, x1=1, y0=0, y1=1, line=dict(color=\"Red\", width=1, dash=\"dash\")))\n",
    "    fig.update_layout(xaxis_title=\"Lambda Value\", yaxis_title=\"Correlation Coefficient\", title=\"Box-Cox Normality Plot ({})\".format(title_string))\n",
    "    \n",
    "    return transformed_data, best_lambda, fig"
   ]
  },
  {
   "cell_type": "code",
   "execution_count": null,
   "metadata": {
    "id": "4deCzUTgQvOL",
    "colab": {
     "base_uri": "https://localhost:8080/",
     "height": 559
    },
    "executionInfo": {
     "status": "ok",
     "timestamp": 1652046840464,
     "user_tz": -120,
     "elapsed": 256,
     "user": {
      "displayName": "Dominika Wnuk",
      "userId": "05926253260396442282"
     }
    },
    "outputId": "45b70f59-89ff-482b-8ec2-1b40ee9f6dc9",
    "ExecuteTime": {
     "start_time": "2024-01-12T14:14:14.918201Z"
    }
   },
   "outputs": [],
   "source": [
    "transformed_h, lambda_h, fig = calculate_and_plot_boxcox(trees_df[\"h\"], title_string=\"Height\")\n",
    "print(\"Obtained lambda value: \", lambda_h)\n",
    "fig.show()"
   ]
  },
  {
   "cell_type": "code",
   "execution_count": null,
   "metadata": {
    "id": "nS7SNH4MQvOL",
    "colab": {
     "base_uri": "https://localhost:8080/",
     "height": 559
    },
    "executionInfo": {
     "status": "ok",
     "timestamp": 1652046844353,
     "user_tz": -120,
     "elapsed": 11,
     "user": {
      "displayName": "Dominika Wnuk",
      "userId": "05926253260396442282"
     }
    },
    "outputId": "c1c746b4-f214-4f64-d3a7-7c44abd9cd3c",
    "ExecuteTime": {
     "start_time": "2024-01-12T14:14:14.920803Z"
    }
   },
   "outputs": [],
   "source": [
    "transformed_d, lambda_d, fig = calculate_and_plot_boxcox(trees_df[\"d\"], title_string=\"Girth\")\n",
    "print(\"Obtained lambda value: \", lambda_d)\n",
    "fig.show()"
   ]
  },
  {
   "cell_type": "code",
   "execution_count": null,
   "metadata": {
    "id": "K2NlZOXhQvOL",
    "colab": {
     "base_uri": "https://localhost:8080/",
     "height": 559
    },
    "executionInfo": {
     "status": "ok",
     "timestamp": 1652046849363,
     "user_tz": -120,
     "elapsed": 15,
     "user": {
      "displayName": "Dominika Wnuk",
      "userId": "05926253260396442282"
     }
    },
    "outputId": "d90bff4f-5e3e-44be-bcfe-17edb9f63f66",
    "ExecuteTime": {
     "start_time": "2024-01-12T14:14:14.923625Z"
    }
   },
   "outputs": [],
   "source": [
    "transformed_vol, lambda_vol, fig = calculate_and_plot_boxcox(trees_df[\"vol\"], title_string=\"Volume\")\n",
    "print(\"Obtained lambda value: \", lambda_vol)\n",
    "fig.show()"
   ]
  },
  {
   "cell_type": "markdown",
   "metadata": {
    "id": "TqLacHYpQvOM"
   },
   "source": [
    "Niesamowite! Tak więc nasze wykresy wskazują, że istnieją pewne przekształcenia danych, które można wykorzystać. Patrząc jednak na te wykresy, byłbym skłonny przekształcić tylko „d” i „vol”. Dzieje się tak, ponieważ narysowana linia przerywana reprezentuje $\\lambda=1$ (co oznacza, że transformacja nie jest wymagana). Na wykresie `h` widzimy, że transformacja zwiększyłaby korelację o marnie 0,004 (0,992 - 0,988). Jak wcześniej wspomniano, preferowane są prostsze modele, więc przekształcenie tutaj jest niepotrzebne.\n",
    "\n",
    "Zazwyczaj statycy i analitycy danych używają „zaokrąglonych” wartości lambda do przekształcania swoich danych. Tutaj też mamy taką możliwość. Moja osobista opinia jest taka, że powinniśmy użyć dokładnej wartości „d” i zaokrąglonej wartości „vol”. Dzieje się tak, ponieważ $\\lambda$ dla `vol` jest niewiarygodnie bliskie 0, a zatem możemy użyć prostej transformacji logu."
   ]
  },
  {
   "cell_type": "code",
   "execution_count": null,
   "metadata": {
    "id": "G8LtSWDnQvOM",
    "ExecuteTime": {
     "start_time": "2024-01-12T14:14:14.927710Z"
    }
   },
   "outputs": [],
   "source": [
    "trees_df[\"transformed_d\"] = transformed_d\n",
    "trees_df[\"transformed_vol\"] = np.log(trees_df[\"vol\"])"
   ]
  },
  {
   "cell_type": "markdown",
   "metadata": {
    "id": "rtQEY6WcQvOM"
   },
   "source": [
    "Teraz po prostu dopasowujemy nowy model i tak jak poprzednio, sprawdzamy, czy wykreślamy reszty i sprawdzamy ich normalność 👍"
   ]
  },
  {
   "cell_type": "code",
   "execution_count": null,
   "metadata": {
    "id": "_4p1MhJTQvOM",
    "colab": {
     "base_uri": "https://localhost:8080/",
     "height": 508
    },
    "executionInfo": {
     "status": "ok",
     "timestamp": 1652046855048,
     "user_tz": -120,
     "elapsed": 12,
     "user": {
      "displayName": "Dominika Wnuk",
      "userId": "05926253260396442282"
     }
    },
    "outputId": "c2209893-7b11-478a-f731-6d033fc00c25",
    "ExecuteTime": {
     "start_time": "2024-01-12T14:14:14.930790Z"
    }
   },
   "outputs": [],
   "source": [
    "trees_transformed_model = smf.ols(\"transformed_vol ~ transformed_d + h\", trees_df).fit()\n",
    "trees_transformed_model.summary()"
   ]
  },
  {
   "cell_type": "code",
   "execution_count": null,
   "metadata": {
    "id": "hwhXaXhsQvON",
    "colab": {
     "base_uri": "https://localhost:8080/",
     "height": 542
    },
    "executionInfo": {
     "status": "ok",
     "timestamp": 1652046859056,
     "user_tz": -120,
     "elapsed": 1015,
     "user": {
      "displayName": "Dominika Wnuk",
      "userId": "05926253260396442282"
     }
    },
    "outputId": "2ef2603c-a81e-476f-8ffa-016de30f9c39",
    "ExecuteTime": {
     "start_time": "2024-01-12T14:14:14.933718Z"
    }
   },
   "outputs": [],
   "source": [
    "trees_df[\"transformed_residuals\"] = trees_transformed_model.resid\n",
    "trees_df[\"transformed_fitted\"] = trees_transformed_model.fittedvalues\n",
    "px.scatter(trees_df, \"transformed_fitted\", \"transformed_residuals\", title=\"Fitted values vs model residuals (transformed data)\")"
   ]
  },
  {
   "cell_type": "code",
   "execution_count": null,
   "metadata": {
    "id": "kZO_5IhsQvON",
    "colab": {
     "base_uri": "https://localhost:8080/",
     "height": 295
    },
    "executionInfo": {
     "status": "ok",
     "timestamp": 1652046863564,
     "user_tz": -120,
     "elapsed": 754,
     "user": {
      "displayName": "Dominika Wnuk",
      "userId": "05926253260396442282"
     }
    },
    "outputId": "8220678b-58d4-4c79-f9d8-536474ef4659",
    "ExecuteTime": {
     "start_time": "2024-01-12T14:14:14.936563Z"
    }
   },
   "outputs": [],
   "source": [
    "fig = sm.qqplot(trees_df[\"transformed_residuals\"], fit=True, line='45')\n",
    "plt.title(\"QQ Plot of residuals (transformed model)\")\n",
    "plt.show()"
   ]
  },
  {
   "cell_type": "markdown",
   "metadata": {
    "id": "Rxc-YfacQvOO"
   },
   "source": [
    "Wykres heteroskedacity jest prawdopodobnie nieco gorszy niż wariant nieprzekształcony, co wskazuje, że transformacja może *nie* być prawidłowa (różni badacze danych wyciągnęliby inne wnioski). Chociaż więcej punktów danych leży na linii prostej, istnieje około 5 punktów danych, które odbiegają bardziej niż wcześniej wizualizowano. Jest to ważny punkt — pomimo tego, że robimy box-cox, aby przekształcić zmienną do normalności, co **nie** gwarantuje, że nasze reszty będą miały rozkład normalny. Bazując na założeniach regresji liniowej, które nakreśliliśmy, reszty po normalności są ważniejsze niż same dane po normalności. Mówiąc to, te punkty mogą wskazywać na *obserwacje odstające*, które omówimy dokładniej w następnym zeszycie."
   ]
  }
 ],
 "metadata": {
  "kernelspec": {
   "display_name": "Python 3",
   "language": "python",
   "name": "python3"
  },
  "language_info": {
   "codemirror_mode": {
    "name": "ipython",
    "version": 3
   },
   "file_extension": ".py",
   "mimetype": "text/x-python",
   "name": "python",
   "nbconvert_exporter": "python",
   "pygments_lexer": "ipython3",
   "version": "3.7.6"
  },
  "colab": {
   "provenance": []
  }
 },
 "nbformat": 4,
 "nbformat_minor": 0
}
