{
 "cells": [
  {
   "cell_type": "code",
   "source": [
    "from google.colab import drive\n",
    "drive.mount('/content/drive')"
   ],
   "metadata": {
    "id": "CWpv6jJQZUx-",
    "colab": {
     "base_uri": "https://localhost:8080/"
    },
    "executionInfo": {
     "status": "ok",
     "timestamp": 1669296940651,
     "user_tz": -60,
     "elapsed": 2272,
     "user": {
      "displayName": "Dominika Wnuk",
      "userId": "05926253260396442282"
     }
    },
    "outputId": "1799c4b8-96ae-4caa-c9ea-05a4fe64bf44",
    "ExecuteTime": {
     "end_time": "2024-01-06T18:36:16.123633500Z",
     "start_time": "2024-01-06T18:36:14.921245Z"
    }
   },
   "execution_count": 1,
   "outputs": [
    {
     "ename": "ModuleNotFoundError",
     "evalue": "No module named 'google'",
     "output_type": "error",
     "traceback": [
      "\u001B[1;31m---------------------------------------------------------------------------\u001B[0m",
      "\u001B[1;31mModuleNotFoundError\u001B[0m                       Traceback (most recent call last)",
      "Cell \u001B[1;32mIn[1], line 1\u001B[0m\n\u001B[1;32m----> 1\u001B[0m \u001B[38;5;28;01mfrom\u001B[39;00m \u001B[38;5;21;01mgoogle\u001B[39;00m\u001B[38;5;21;01m.\u001B[39;00m\u001B[38;5;21;01mcolab\u001B[39;00m \u001B[38;5;28;01mimport\u001B[39;00m drive\n\u001B[0;32m      2\u001B[0m drive\u001B[38;5;241m.\u001B[39mmount(\u001B[38;5;124m'\u001B[39m\u001B[38;5;124m/content/drive\u001B[39m\u001B[38;5;124m'\u001B[39m)\n",
      "\u001B[1;31mModuleNotFoundError\u001B[0m: No module named 'google'"
     ]
    }
   ]
  },
  {
   "cell_type": "code",
   "source": [
    "!pip install pycountry -q\n",
    "!pip install pycountry_convert -q"
   ],
   "metadata": {
    "id": "OaC0t1jUnXCz",
    "ExecuteTime": {
     "start_time": "2024-01-06T18:36:14.936870500Z"
    }
   },
   "execution_count": null,
   "outputs": []
  },
  {
   "cell_type": "code",
   "source": [
    "import warnings;   warnings.filterwarnings(\"ignore\")"
   ],
   "metadata": {
    "id": "n11opBAD8dJn",
    "ExecuteTime": {
     "start_time": "2024-01-06T18:36:14.936870500Z"
    }
   },
   "execution_count": null,
   "outputs": []
  },
  {
   "cell_type": "markdown",
   "metadata": {
    "id": "Qz5W43nxXnmU"
   },
   "source": [
    "# Wizualizacja Danych\n",
    "\n",
    "EDA jest skrótem od **E**xploratory **D**ata **A**nalysis i EDA jest kluczowym etapem poprzedzającym stosowanie modelu ML. Jak sama nazwa wskazuje, chodzi o eksplorację danych — sprawdzenie, czy zestaw danych, nad którym będziesz pracować, jest spójny i nie zawiera brakujących wartości. Ważnym elementem jest także wizualizacja samuych danych aby lepiej przyjrzeć się ich dystrybucji (rozmieszczeniu) i zachowdzącym relacjom.\n",
    "\n",
    "Warto przy tym zauważyć, że nie każdy problem wymaga zastosowania uczenia maszynowego. Być może w pracy zadaniem będzie wizualizacja danych w celu analizy i przedstawienia najciekawszych spostrzeżeń, które cięzko by było zauważyć patrząć na suche dane w tabeli.\n",
    "\n",
    "Przy formułowaniu problemu ważne jest postawienie hipotezy. To pomoże nam lepiej wybrać dane do analizy.\n",
    "Aby wyjaśnić, dlaczego jest to konieczne, poniższy obraz przedstawia coś znanego jako *Kwartet Ascomebe'a*:\n",
    "\n",
    "<img src=\"https://www.researchgate.net/profile/Arch_Woodside2/publication/285672900/figure/fig4/AS:305089983074309@1449750528742/Anscombes-quartet-of-different-XY-plots-of-four-data-sets-having-identical-averages.png\">\n",
    "\n",
    "Źródło: https://www.researchgate.net/publication/285672900_The_general_theory_of_culture_entrepreneurship_innovation_and_quality-of-life_Comparing_nurturing_versus_thwarting_enterprise_start-ups_in_BRIC_Denmark_Germany_and_the_United_States\n",
    "\n",
    "Kwartet Ascomebe'a jest przykładem, dlaczego wizualizacja naszych danych ma ogromne znaczenie. Obraz pokazuje nam, że statystyki podsumowujące (np. średnia, wariancja) dla wszystkich danych są takie same. Jednak, jak widać, rozkłady, z których pochodzą dane, są szalenie różne. Gdybyśmy nie wizualizowali naszych danych, nie bylibyśmy w stanie w prosty sposób zidentyfikować zależności między danymi.\n",
    "\n",
    "W tym notatniku przedstawiam uproszczony proces EDA w celach dydaktycznych.\n",
    "W rzeczywistości czyszczenie i usuwanie brakujących danych podlega parasolowi EDA i będzie to cykliczny proces, w którym eksplorujesz swoje dane, identyfikujesz probloemy, czyścisz je i ponownie eksplorujesz.\n",
    "\n",
    "\n",
    "Będziemy pracować z plikiem „multiple_choice_responses.csv” z [2019 Kaggle ML & DS Survey](https://www.kaggle.com/c/kaggle-survey-2019/data?select=multiple_choice_responses.csv), ktÓry zawiera 35 pytań przeprowadzonych na użytkownikach Kaggle, dotyczących stanu nauki o danych i uczenia maszynowego. Według abstraktu, ankieta ta otrzymała 19 717 użytecznych respondentów ze 171 krajów i terytoriów. Jeśli kraj lub terytorium otrzymało mniej niż 50 respondentów, pogrupowaliśmy ich w grupę o nazwie „Inne” w celu zachowania anonimowości. Zadaniem, które stoi przed nami jest określenie, jakie czynniki mają istotny wpływ na roczną pensję osób w DSML (Data Science i Machine Learning).\n",
    "\n"
   ]
  },
  {
   "cell_type": "code",
   "execution_count": null,
   "metadata": {
    "scrolled": false,
    "id": "-Oc2tmMyXnm4",
    "ExecuteTime": {
     "start_time": "2024-01-06T18:36:14.936870500Z"
    }
   },
   "outputs": [],
   "source": [
    "## Załaduj dane i wypisz pierwsze wiersze\n",
    "import pandas as pd\n",
    "pd.options.display.max_columns = None\n",
    "\n",
    "path = './drive/MyDrive/Nauczanie/202223/PAD/05_wizualizacja plotly'\n",
    "df = pd.read_csv(f\"{path}/multiple_choice_responses.csv\")\n",
    "df.head(3)"
   ]
  },
  {
   "cell_type": "code",
   "execution_count": null,
   "metadata": {
    "id": "9iuBlbghXnm8",
    "ExecuteTime": {
     "start_time": "2024-01-06T18:36:14.936870500Z"
    }
   },
   "outputs": [],
   "source": [
    "## Mamy też plik \"questions_only.csv\". Załaduj go i wczytaj wszystkie pytania\n",
    "q_df = pd.read_csv(f\"{path}/questions_only.csv\")\n",
    "for i, question in enumerate(q_df.iloc[0]):\n",
    "\n",
    "    print(i, \"\\t\", question)"
   ]
  },
  {
   "cell_type": "markdown",
   "metadata": {
    "id": "M8g627_bXnm-"
   },
   "source": [
    "Wstępnie możemy zauważyć, że:\n",
    "- Jest wiele pytań (dużo danych do przeanalizowania)\n",
    "- Niektóre pytania pozwalają na wiele danych wejściowych (pytania wielokrotnego wyboru). W przypadku tych pytań nazwy wierszy/kolumn nagłówka mają dodany znak `_`, po którym następuje jakiś tekst.\n",
    "  - Jeśli tekst to `OTHER_TEXT`, to wydaje się wskazywać, że po kategorycznym pytaniu wyświetlane jest pole tekstowe z opcją rozwinięcia dla odbiorcy. Wygląda na to, że -1 oznacza, że użytkownik nic nie napisał.\n",
    "  - Jeśli tekt to `PART_N`, wówczas wydaje się to być pytaniem wielokrotnego wyboru do zaznaczenia.\n",
    "  - Nie wykluczają się wzajemnie\n",
    "\n",
    "Analiza tych danych kolumna po kolumnie zajmie zbyt wiele czasu. Zamierzamy więc zdecydować o czynnikach, które naszym zdaniem mogą mieć wpływ na wynagrodzenie, i wyodrębnimy z listy odpowiednie pytania, które spełniają te kryteria. Częściowo dlatego nauka o danych jest uważana za sztukę – możesz mieć do czynienia z ogromnym zbiorem danych i nie mieć pewności, od czego zacząć analizę. Korzystając ze swojej hipotezy i identyfikując, co próbujesz modelować, musisz użyć swojej intuicji, co do czynników, które Twoim zdaniem będą miały na to duży wpływ. Dlatego ważna jest znajomość dziedziny. Ale im więcej eksplorujesz swoje dane z początkowymi koncepcjami, które miałeś na myśli, tym więcej w końcu dowiesz się o szerszym zbiorze danych.\n",
    "  \n",
    "- Salary (target)\n",
    "- Age\n",
    "- Gender\n",
    "- Residence\n",
    "- Education\n",
    "- Job role/Experience\n",
    "- Programming languages\n",
    "- ML frameworks\n",
    "\n",
    "Z tej listy wyodrębnimy następujące pytania:\n",
    "**Q:** 1, 2, 3, 4, 5, 9, **10**, 15, 18, 24, 28.\n",
    "\n",
    "Jest  kilka innych, które również byłyby istotne do analizy - w idealnym świecie też byśmy je analizowali, ale tutaj czas jest ograniczony - i ważne jest, aby nauczyć Cię różnych technik wizualizacyjnych, jednocześnie budując intuicję, na co patrzeć w danych.\n",
    "\n",
    "Niektóre z tych pytań obejmują wiele kolumn w naszej ramce danych. Wyodrębnianie odpowiednich kolumn, które chcemy, nie jest najprostszym zadaniem. Poświęć trochę czasu, aby spróbować zaimplementować coś, co zwraca nową ramkę danych zawierającą odpowiednie kolumny. Jeśli po kilku minutach nie masz pewności, jak postępować, kliknij poniżej, aby spróbować zaimplementować metodę, której ja bym użyła.\n",
    "\n",
    "\n",
    "<details>\n",
    "    <summary><b>Kliknij tutaj, aby zobaczyć co bym zrobiła</b></summary>\n",
    "    <ul>\n",
    "        <li>Zdefiniuj funkcję, która iteruje po liście integerów odpowiadającyh pytaniom, które chcemy zachować</li>\n",
    "        <li>Dla każdej iteracji oblicz ilość kolumn od bieżącego pytania do następnego pytania w ramce danych (NIE następnego pytania, które chcemy wyodrębnić)</li>\n",
    "        <li>Wyodrębnij/konkatenuj z bieżącej pozycji kolumny do bieżącej pozycji kolumny + 'odległość' (możesz skorzystać z funkcji <code>range()</code>)</li>\n",
    "    </ul>\n",
    "</details>\n"
   ]
  },
  {
   "cell_type": "markdown",
   "source": [
    "#### rozwiazanie"
   ],
   "metadata": {
    "id": "hBtaHOMAcLsP"
   }
  },
  {
   "cell_type": "code",
   "execution_count": null,
   "metadata": {
    "id": "zNEGHuZcXnnD",
    "ExecuteTime": {
     "start_time": "2024-01-06T18:36:14.936870500Z"
    }
   },
   "outputs": [],
   "source": [
    "idx_to_keep = [1,2,3,4,5,9,10,15,18,24,28]\n",
    "\n",
    "def extract_columns(df, idx_to_keep):\n",
    "\n",
    "    new_df = pd.DataFrame() # pusty dataframe\n",
    "    df_col_list = df.columns.tolist()\n",
    "\n",
    "    for i in idx_to_keep:\n",
    "        column_name_base = \"Q{}\".format(i)\n",
    "        column_index = [df_col_list.index(col_name) for col_name in df_col_list if col_name.startswith(column_name_base)][0]\n",
    "\n",
    "        next_column_name_base = \"Q{}\".format(i+1)\n",
    "        next_column_index = [df_col_list.index(col_name) for col_name in df_col_list if col_name.startswith(next_column_name_base)][0]\n",
    "\n",
    "        col_idxs_to_extract = range(column_index, next_column_index)\n",
    "        relevant_cols_df = df.iloc[:, col_idxs_to_extract]\n",
    "\n",
    "        new_df = pd.concat([new_df, relevant_cols_df], axis=1)\n",
    "\n",
    "    return new_df\n",
    "\n",
    "\n",
    "df_orig = df.copy(deep=True)\n",
    "df = extract_columns(df_orig, idx_to_keep)\n",
    "df = df[1:]\n",
    "df.head()"
   ]
  },
  {
   "cell_type": "markdown",
   "metadata": {
    "id": "0v5qmwwHXnnF"
   },
   "source": [
    "Wciąż... dużo danych... cóż, od czegoś musimy zacząć! Arbitralnie zacznijmy od Gender (Q2). Widzimy, że dane tutaj mają być kategoryczne, więc po upewnieniu się, że tak jest, wykreślmy po prostu częstotliwość każdej z wartości"
   ]
  },
  {
   "cell_type": "code",
   "execution_count": null,
   "metadata": {
    "id": "7ry4LSoFXnnG",
    "ExecuteTime": {
     "start_time": "2024-01-06T18:36:14.952491300Z"
    }
   },
   "outputs": [],
   "source": [
    "df[\"Q2\"] = df[\"Q2\"].astype(\"category\")\n",
    "set(df[\"Q2\"])"
   ]
  },
  {
   "cell_type": "markdown",
   "source": [
    "### HISTOGRAM:\n",
    "Korzystając z biblioteki plotly narysuj **HISTOGRAM** prezentujący rozkład płci."
   ],
   "metadata": {
    "id": "sm0jEI67YXTX"
   }
  },
  {
   "cell_type": "code",
   "execution_count": null,
   "metadata": {
    "id": "XmGFdipUXnnK",
    "ExecuteTime": {
     "start_time": "2024-01-06T18:36:14.952491300Z"
    }
   },
   "outputs": [],
   "source": [
    "import plotly.express as px\n",
    "\n"
   ]
  },
  {
   "cell_type": "markdown",
   "metadata": {
    "id": "I3HiHx_XXnnN"
   },
   "source": [
    "Świetnie! A co z miejscami zamieszkania osób? Ulepszymy wykres i wykreślimy je na mapie świata, uzupełniając o liczbą respondentów z tego kraju (w skali temperatury). Jest to znane jako [mapa choropletowa](https://plotly.com/python/choropleth-maps/), innymi słowy kartogram, i wymaga od nas zmiany nazw naszych krajów na [trzyliterowe kody ISO](https://pl.wikipedia.org/wiki/ISO_3166-1_alfa-3).\n",
    "\n",
    "Pierwszą rzeczą, którą musimy zrobić, to spojrzeć na samą kolumnę krajów (tj. Q3). Po wykonaniu tej czynności warto zaktualizować wartości do bardziej konwencjonalnych, jeśli jeszcze ich nie ma.\n",
    "\n",
    "Następnie załadujemy paczkę, do której będziemy mogli przekazać kraj i zwrócimy nam kod ISO. Następnie użyjemy nowej kolumny do wykreślenia naszego kartogramu."
   ]
  },
  {
   "cell_type": "code",
   "execution_count": null,
   "metadata": {
    "id": "LtLONMybXnnP",
    "ExecuteTime": {
     "start_time": "2024-01-06T18:36:14.952491300Z"
    }
   },
   "outputs": [],
   "source": [
    "# warto przyjżeć się wartościom i zdecydować czy nie trzeba czegoś poprawić\n",
    "set(df[\"Q3\"])"
   ]
  },
  {
   "cell_type": "markdown",
   "metadata": {
    "id": "6S-6er8YXnnR"
   },
   "source": [
    "Oto wartości, które moim zdaniem wymagają aktualizacji:\n",
    "- Hong Kong (S.A.R.)\n",
    "- Iran, Islamic Republic of...\n",
    "- United Kingdom of Great Britain and Northern Ireland\n",
    "- Viet Nam\n",
    "- South Korea\n",
    "\n",
    "Zauważ, że występują również \"Other\""
   ]
  },
  {
   "cell_type": "code",
   "execution_count": null,
   "metadata": {
    "id": "KwoKFThXXnnT",
    "ExecuteTime": {
     "start_time": "2024-01-06T18:36:14.956502800Z"
    }
   },
   "outputs": [],
   "source": [
    "print(\"Percentage of 'Other':\", df[\"Q3\"].value_counts()[\"Other\"]/len(df) * 100)\n",
    "\n",
    "values_to_update = {\"Q3\":\n",
    "                    {\"Hong Kong (S.A.R.)\": \"Hong Kong\",\n",
    "                     \"Iran, Islamic Republic of...\": \"Iran\",\n",
    "                     \"United Kingdom of Great Britain and Northern Ireland\": \"United Kingdom\",\n",
    "                     \"South Korea\": \"Republic of Korea\",\n",
    "                     \"Viet Nam\": \"Vietnam\",\n",
    "                     \"Turkey\" : \"Türkiye\"\n",
    "                     }}\n",
    "\n",
    "## Korzystając z metody replace, zaktualizuj wartości w odpowiedniej kolumnie\n",
    "# https://pandas.pydata.org/pandas-docs/stable/reference/api/pandas.DataFrame.replace.html\n",
    "df.replace(values_to_update, inplace=True)\n",
    "set(df[\"Q3\"])"
   ]
  },
  {
   "cell_type": "code",
   "execution_count": null,
   "metadata": {
    "id": "DoR0yn9PXnnW",
    "ExecuteTime": {
     "start_time": "2024-01-06T18:36:14.956502800Z"
    }
   },
   "outputs": [],
   "source": [
    "import pycountry\n",
    "\n",
    "## Stwórz nowy dataframe, który będzie zawierał tylko unikalne wartości countries, ich kody oraz liczbę instancji danego kraju - BEZ \"Other\"\n",
    "countries = df[\"Q3\"][df[\"Q3\"]!= \"Other\"].unique()\n",
    "countries_df = pd.DataFrame(countries, columns=[\"Country\"])\n",
    "countries_df[\"Count\"] = countries_df[\"Country\"].map(df[\"Q3\"].value_counts())\n",
    "\n",
    "## Stwórz nową kolumnę, która będzie zawierała kod ISO\n",
    "country_codes = []\n",
    "for country in countries_df[\"Country\"]:\n",
    "    country_code = pycountry.countries.search_fuzzy(country)[0] # Wybierz pierwszy element zwracany przez search (pamiętaj o tym co oznacza pierwszy element dla programisty - index!)\n",
    "    country_codes.append(country_code.alpha_3)\n",
    "\n",
    "countries_df[\"Country Code\"] = country_codes\n",
    "countries_df.head()"
   ]
  },
  {
   "cell_type": "code",
   "execution_count": null,
   "metadata": {
    "id": "Z715LqkWXnnZ",
    "ExecuteTime": {
     "start_time": "2024-01-06T18:36:14.956502800Z"
    }
   },
   "outputs": [],
   "source": [
    "# mapa"
   ]
  },
  {
   "cell_type": "markdown",
   "metadata": {
    "id": "XTAGoYtUXnnc"
   },
   "source": [
    "A co ze zmienną gender? Trzeba zgrupować zmienne razem."
   ]
  },
  {
   "cell_type": "markdown",
   "source": [
    "### WYKRES SŁUPKOWY:\n",
    "Korzystając z biblioteki plotly narysuj wykres słupkowy prezentujący rozkład płci ale zgrupowany. Dodaj odpowiednie nazwy etykietom: \"Q1\": \"Age\", \"value\": \"Count\""
   ],
   "metadata": {
    "id": "Y2LkG2EVdSFM"
   }
  },
  {
   "cell_type": "code",
   "execution_count": null,
   "metadata": {
    "id": "rx_LzWcHXnnd",
    "ExecuteTime": {
     "start_time": "2024-01-06T18:36:14.956502800Z"
    }
   },
   "outputs": [],
   "source": [
    "age_gender_df = df[[\"Q1\", \"Q2\"]]\n",
    "age_gender_groups = age_gender_df.groupby([\"Q1\", \"Q2\"]).size().unstack()\n",
    "\n",
    "\n",
    "\n",
    "fig.show()"
   ]
  },
  {
   "cell_type": "markdown",
   "metadata": {
    "id": "HZC5z7MlXnne"
   },
   "source": [
    "Widzimy więc, że najczęstszy wiek pracowników DSML to 25-29 lat. Widzę dwa powody, dla których te wartości są znacznie wyższe od pozostałych:\n",
    "1. Data Science i Machine Learning to stosunkowo nowa dyscyplina, a teraz istnieją bezpośrednie ścieżki edukacyjne do tych dziedzin, które są bardziej dostępne dla młodszych ludzi.\n",
    "2. Zastanów się, _skąd_ zebrano dane. Starsi ludzie są prawdopodobnie mniej skłonni do korzystania z witryn „zasobowych”, takich jak Kaggle, ponieważ 1) nie czują potrzeby uczenia się i 2) młodsi ludzie częściej pojawiają się w poertalach społecznościowych.\n",
    "\n",
    "Do tej pory po prostu tworzyliśmy wykresy – być może lepszym planem jest przeprowadzenie nieco bardziej dochodzeniowej analizy kategorii, które wyznaczyliśmy wcześniej. Zróbmy to z Edukacją."
   ]
  },
  {
   "cell_type": "markdown",
   "source": [
    "### ZADANIE 1:\n",
    "Stwórz dwa wykresy:\n",
    "1. Formalne wykształcenie uczestników (histogram) - kolumna Q4, zamień etykietę label na Education Level, tytuł może być Count of Education\n",
    "2. Formalne wykształcenie według płci. Wyświetl to jako zgrupowany wykres słupkowy (wykres słupkowy)"
   ],
   "metadata": {
    "id": "PW_dScgaeBkD"
   }
  },
  {
   "cell_type": "code",
   "execution_count": null,
   "metadata": {
    "id": "GL5FSaxPXnnf",
    "colab": {
     "base_uri": "https://localhost:8080/",
     "height": 817
    },
    "executionInfo": {
     "status": "ok",
     "timestamp": 1669298537735,
     "user_tz": -60,
     "elapsed": 7,
     "user": {
      "displayName": "Dominika Wnuk",
      "userId": "05926253260396442282"
     }
    },
    "outputId": "4f0fd79e-1276-41e6-ea0f-b5e4ebcb693d",
    "ExecuteTime": {
     "start_time": "2024-01-06T18:36:14.956502800Z"
    }
   },
   "outputs": [],
   "source": []
  },
  {
   "cell_type": "code",
   "execution_count": null,
   "metadata": {
    "id": "_qx-sgJpXnng",
    "colab": {
     "base_uri": "https://localhost:8080/",
     "height": 817
    },
    "executionInfo": {
     "status": "ok",
     "timestamp": 1669298539673,
     "user_tz": -60,
     "elapsed": 332,
     "user": {
      "displayName": "Dominika Wnuk",
      "userId": "05926253260396442282"
     }
    },
    "outputId": "858c4bb1-f6f1-40b3-9440-88d49bd5517c",
    "ExecuteTime": {
     "start_time": "2024-01-06T18:36:14.956502800Z"
    }
   },
   "outputs": [],
   "source": [
    "\n",
    "fig.show()"
   ]
  },
  {
   "cell_type": "markdown",
   "metadata": {
    "id": "3VGo9Cs6Xnnh"
   },
   "source": [
    "Stwórzmy kolejny diagram przedstawiający te same informacje, ale na 4 różnych wykresach (kolumna Q2 - gender ma być przedstawiona różnymi kolorami)"
   ]
  },
  {
   "cell_type": "code",
   "execution_count": null,
   "metadata": {
    "id": "NAPIsM1OXnnj",
    "ExecuteTime": {
     "start_time": "2024-01-06T18:36:14.956502800Z"
    }
   },
   "outputs": [],
   "source": [
    "fig = px.histogram(\n",
    "    df,\n",
    "    \"Q4\",\n",
    "    color=\"Q2\",\n",
    "    title=\"Count of education per gender\",\n",
    "    labels={\"Q4\" : \"Education level\"},\n",
    "    height=1000,\n",
    "    facet_col_wrap=2,\n",
    "    facet_col_spacing=0.1\n",
    ")\n",
    "\n",
    "# fig.update_xaxes(showticklabels=True)\n",
    "fig.show()"
   ]
  },
  {
   "cell_type": "markdown",
   "metadata": {
    "id": "HCdQ0wYKXnn9"
   },
   "source": [
    "Kilka interesujących obserwacji:\n",
    "1. Ci, którzy zdecydują się na podanie swojej płci opisowo, częściej mają stopień magistra niż licencjata – w porównaniu z każdą inną kategorią, która częściej ma stopień licencjata niż doktora. Chociaż jeśli zanotujemy liczby, zobaczymy, że pracujemy z liczbami jednocyfrowymi - nie jest to coś, co możemy ekstrapolować statystycznie (przewidzieć przebieg danego zjawiska w warunkach nieznanych na podstawie znajomości analogicznego zjawiska w znanych warunkach).\n",
    "2. Ci, którzy woleli nie podawać swojej płci, woleli również nie podawać swojego poziomu wykształcenia (w stosunku do pozostałych kategorii)."
   ]
  },
  {
   "cell_type": "markdown",
   "metadata": {
    "id": "UB5zjPwTXnn-"
   },
   "source": [
    "Koloejny wykres jest znany jako [Diagram Sankeya](https://en.wikipedia.org/wiki/Sankey_diagram).\n",
    "\n",
    "Najłatwiejszym sposobem rozpoczęcia pracy z diagramem Sankeya jest zrozumienie, czego oczekujemy jako kolumny końcowej. W tym przypadku jako ostatnią kolumnę użyjemy poziomu wykształcenia. Będziemy także potrzebować obliczyć ile osób jest na każdym poziomie edukacji. Aby zaoszczędzić miejsce na diagramie, uogólnimy niektóre poziomy.\n",
    "\n",
    "Na tym diagramie Sankeya chcę zobrazować drogę płci, wieku i kraju do poziomu wykształcenia."
   ]
  },
  {
   "cell_type": "code",
   "execution_count": null,
   "metadata": {
    "id": "TRwYyPnoXnn_",
    "ExecuteTime": {
     "start_time": "2024-01-06T18:36:14.968513800Z"
    }
   },
   "outputs": [],
   "source": [
    "# Chcemy pięciu poziomów edukacji: Bachelor's, Master's, Doctoral, Professional, Other\n",
    "## Utwórz nową ramkę danych z wykształceniem ankietowanych, gdzie ich wykształcenie zostało zmapowane do powyższego poziomu\n",
    "education_df = pd.DataFrame(df[\"Q4\"])\n",
    "education_df.rename(columns={\"Q4\": \"Education Level\"}, inplace=True)\n",
    "\n",
    "values_to_update = {\"Education Level\":\n",
    "                    {\"Some college/university study without earning a bachelor’s degree\": \"Other\",\n",
    "                     \"No formal education past high school\": \"Other\",\n",
    "                     \"I prefer not to answer\": \"Other\"}}\n",
    "\n",
    "education_df = education_df.replace(values_to_update)\n",
    "set(education_df[\"Education Level\"])"
   ]
  },
  {
   "cell_type": "code",
   "execution_count": null,
   "metadata": {
    "id": "6lxoc4eWXnoA",
    "ExecuteTime": {
     "start_time": "2024-01-06T18:36:14.968513800Z"
    }
   },
   "outputs": [],
   "source": [
    "# Usuńmy wartosci na z poziomu edukacji\n",
    "education_df.isna().sum()\n",
    "education_df = education_df.dropna(subset=[\"Education Level\"])\n",
    "education_df.isna().sum()"
   ]
  },
  {
   "cell_type": "code",
   "execution_count": null,
   "metadata": {
    "id": "qf9DWtzMXnoB",
    "ExecuteTime": {
     "start_time": "2024-01-06T18:36:14.968513800Z"
    }
   },
   "outputs": [],
   "source": [
    "## Do nowej ramki dodaj kolumny gender, age i region, nazywając je w odpowiedniej kolejności\n",
    "cols_to_join = [\"Q1\", \"Q2\", \"Q3\"]\n",
    "desired_col_names = [\"Age\", \"Gender\", \"Region\"]\n",
    "for col, name in zip(cols_to_join, desired_col_names):\n",
    "    education_df[name] = df[col]\n",
    "\n",
    "education_df"
   ]
  },
  {
   "cell_type": "code",
   "execution_count": null,
   "metadata": {
    "id": "GN6JjWg1XnoD",
    "ExecuteTime": {
     "start_time": "2024-01-06T18:36:14.968513800Z"
    }
   },
   "outputs": [],
   "source": [
    "# Dla celów wizualizacyjnych stwórzmy:\n",
    "# 1. szersze przedziały wieku, jak 18-29, 30-49, 50-69 oraz 70+\n",
    "# 2. grupy płci jako \"Male\", \"Female\", \"Other\"\n",
    "# 3. zamieńmy kraje na kontynenty, poza: \"India\", \"United States of America\" oraz \"Other\"\n",
    "\n",
    "values_to_update = {\n",
    "    \"Age\": {\"18-21\": \"18-29\", \"22-24\": \"18-29\", \"25-29\": \"18-29\",\n",
    "            \"30-34\": \"30-49\", \"35-39\": \"30-49\", \"40-44\": \"30-49\", \"45-49\": \"30-49\",\n",
    "            \"50-54\": \"50-69\", \"55-59\": \"50-69\", \"60-69\": \"50-69\"\n",
    "           },\n",
    "    \"Gender\": {\"Prefer not to say\": \"Other\", \"Prefer to self-describe\": \"Other\"}\n",
    "}\n",
    "\n",
    "education_df = education_df.replace(values_to_update)\n",
    "education_df"
   ]
  },
  {
   "cell_type": "code",
   "execution_count": null,
   "metadata": {
    "id": "wZULl-2bXnoF",
    "ExecuteTime": {
     "start_time": "2024-01-06T18:36:14.968513800Z"
    }
   },
   "outputs": [],
   "source": [
    "import pycountry_convert as pc\n",
    "## Mapuj kraje na odpowiednie kontynenty, chyba że krajem są Indie, Stany Zjednoczone Ameryki lub inne\n",
    "countries_to_not_map = [\"India\", \"United States of America\", \"Other\"]\n",
    "countries_to_map_to_continents = set(education_df[\"Region\"])\n",
    "for country in countries_to_not_map:\n",
    "    countries_to_map_to_continents.discard(country)\n",
    "\n",
    "countries_continent_dict = dict()\n",
    "for country in countries_to_map_to_continents:\n",
    "    country_alpha2 = pycountry.countries.search_fuzzy(country)[0].alpha_2\n",
    "    continent_code = pc.country_alpha2_to_continent_code(country_alpha2)\n",
    "    continent_name = pc.convert_continent_code_to_continent_name(continent_code)\n",
    "    countries_continent_dict[country] = continent_name\n",
    "\n",
    "to_update = {\"Region\": countries_continent_dict}\n",
    "education_df = education_df.replace(to_update)\n",
    "education_df"
   ]
  },
  {
   "cell_type": "code",
   "execution_count": null,
   "metadata": {
    "id": "_hLYeRe6XnoG",
    "ExecuteTime": {
     "start_time": "2024-01-06T18:36:14.968513800Z"
    }
   },
   "outputs": [],
   "source": [
    "# Ponowne indeksowanie kolumn w kolejności, w jakiej chcemy je umieścić na diagramie, ponieważ będzie łatwiej z nimi pracować\n",
    "education_df = education_df.reindex([\"Gender\", \"Age\", \"Region\", \"Education Level\"], axis=1)\n",
    "\n",
    "col_names = education_df.columns.tolist()\n",
    "node_labels = []\n",
    "num_categorical_vals_per_col = []\n",
    "for col in col_names:\n",
    "    uniques = education_df[col].unique().tolist()\n",
    "    node_labels.extend(uniques)\n",
    "    num_categorical_vals_per_col.append(len(uniques))\n",
    "\n",
    "node_labels, num_categorical_vals_per_col"
   ]
  },
  {
   "cell_type": "markdown",
   "metadata": {
    "id": "SSsSIdRDXnoH"
   },
   "source": [
    "Ok, więc po obejrzeniu diagramu Sankeya wiemy, że poprzednia kolumna połączy się tylko z następną kolumną. Parametr `num_categorical_vals_per_col` pozwoli nam dowiedzieć się, które wartości z poprzedniej musimy zmapować na następne.\n",
    "\n",
    "Teraz musimy skonstruować nasz słownik `link`. Jest to nieco mniej proste niż powyższe. Nasz słownik `link` będzie zawierał 3 listy: `source`, `target` i `value`. `source` i `target` wskazują, które węzły chcemy ze sobą połączyć, a `value` wskazuje ilość, którą chcemy „wypełnić” to połączenie. `source` i `target` to numeryczne indeksy listy `node_labels`, którą utworzyliśmy powyżej.\n",
    "\n",
    "Dla każdej kategorii na kolumnę (kategoria źródłowa) połączymy tę kategorię ze wszystkimi innymi kategoriami następnej kolumny (kategoria docelowa), z rozmiarem, ile kategorii źródłowych jest mapowanych na kategorie docelowe."
   ]
  },
  {
   "cell_type": "code",
   "execution_count": null,
   "metadata": {
    "id": "PHkJQ0NvXnoI",
    "ExecuteTime": {
     "start_time": "2024-01-06T18:36:14.968513800Z"
    }
   },
   "outputs": [],
   "source": [
    "education_df.groupby([\"Gender\", \"Age\"]).size()[\"Female\"][\"18-29\"]"
   ]
  },
  {
   "cell_type": "code",
   "execution_count": null,
   "metadata": {
    "scrolled": false,
    "id": "WKrojpHLXnoJ",
    "ExecuteTime": {
     "start_time": "2024-01-06T18:36:14.968513800Z"
    }
   },
   "outputs": [],
   "source": [
    "import numpy as np\n",
    "import random\n",
    "\n",
    "source = []\n",
    "target = []\n",
    "value = []\n",
    "colors = []\n",
    "for i, num_categories in enumerate(num_categorical_vals_per_col):\n",
    "\n",
    "    if i == len(num_categorical_vals_per_col)-1:\n",
    "        break\n",
    "\n",
    "    # indeks umożliwia nam odwoływanie się do kategorii według indeksu z listy `node_labels`\n",
    "    start_index = sum(num_categorical_vals_per_col[:i])\n",
    "    start_index_next = sum(num_categorical_vals_per_col[:i+1])\n",
    "    end_index_next = sum(num_categorical_vals_per_col[:i+2])\n",
    "#     print(start_index, start_index_next, end_index_next)\n",
    "\n",
    "    # może również dać nam kolumnę kategorii, do której się odwołujemy\n",
    "    col_name = col_names[i]\n",
    "    next_col_name = col_names[i+1]\n",
    "\n",
    "    grouped_df = education_df.groupby([col_name, next_col_name]).size()\n",
    "#     print(grouped_df)\n",
    "\n",
    "    for source_i in range(start_index, start_index_next):\n",
    "        for target_i in range(start_index_next, end_index_next):\n",
    "            source.append(source_i)\n",
    "            target.append(target_i)\n",
    "            source_label = node_labels[source_i]\n",
    "            target_label = node_labels[target_i]\n",
    "            # jeśli indeks nie istnieje w grouped_df, to wartość wynosi 0\n",
    "            try:\n",
    "                value.append(grouped_df[source_label][target_label])\n",
    "            except:\n",
    "                value.append(0)\n",
    "\n",
    "            random_color = list(np.random.randint(256, size=3)) + [random.random()]\n",
    "            random_color_string = ','.join(map(str, random_color))\n",
    "            colors.append('rgba({})'.format(random_color_string))\n",
    "\n",
    "print(source)\n",
    "print(target)\n",
    "print(value)\n",
    "\n",
    "link = dict(source=source, target=target, value=value, color=colors)"
   ]
  },
  {
   "cell_type": "code",
   "execution_count": null,
   "metadata": {
    "id": "c49h7VwuXnoK",
    "ExecuteTime": {
     "start_time": "2024-01-06T18:36:14.968513800Z"
    }
   },
   "outputs": [],
   "source": [
    "\n",
    "\n",
    "fig.update_layout(title_text=\"Sankey Diagram (Gender, Age, Region, Education)\", font_size=10)\n",
    "fig.show()"
   ]
  },
  {
   "cell_type": "markdown",
   "metadata": {
    "id": "NfpsQnLiXnoN"
   },
   "source": [
    "***Wiek***\n",
    "\n",
    "Wcześniej bardzo szybko przyjrzeliśmy się wiekowi, ale chciałabym dowiedzieć się więcej na jego temat. Używając oryginalnego `df`, utwórz następujące wykresy:\n",
    "1. Wykres fasetowy liczby poziomów wykształcenia według wieku\n",
    "2. Aspekty różnych ról według wieku\n",
    "\n",
    "Następnie omówimy następujące kwestie:\n",
    "1. Wykres liczby różnych języków\n",
    "2. Wykresy podrzędne/wykres fasetowy liczby różnych języków na wiek"
   ]
  },
  {
   "cell_type": "markdown",
   "source": [
    "### ZADANIE 2:\n",
    "Korzystając z biblioteki plotly narysuj **WYKRES FASETOWY** prezentujący  liczbę poziomów wykształcenia wg. wieku\n",
    "\n",
    "Na każdym poziomie mają być widoczne 4 wykresy, wiek to kolumna Q1."
   ],
   "metadata": {
    "id": "1KMX0aBi9qxj"
   }
  },
  {
   "cell_type": "code",
   "execution_count": null,
   "metadata": {
    "id": "o3iT_iNzXnoO",
    "colab": {
     "base_uri": "https://localhost:8080/",
     "height": 1000
    },
    "executionInfo": {
     "status": "ok",
     "timestamp": 1669298564482,
     "user_tz": -60,
     "elapsed": 1498,
     "user": {
      "displayName": "Dominika Wnuk",
      "userId": "05926253260396442282"
     }
    },
    "outputId": "ee5d60f5-df4b-43ad-947c-5c9565c349ab",
    "ExecuteTime": {
     "start_time": "2024-01-06T18:36:14.984151300Z"
    }
   },
   "outputs": [],
   "source": [
    "# Posortujemy plik df według wieku, aby nasz wykres wyświetlał się w kolejności wiekowej\n",
    "df = df.sort_values(by=[\"Q1\"])\n"
   ]
  },
  {
   "cell_type": "markdown",
   "metadata": {
    "id": "znWT51egXnoR"
   },
   "source": [
    "Ciekawe! Być może wyniki są tym, czego byśmy się spodziewali - osoby w wieku 18-21 lat są zazwyczaj za młode, aby uzyskać tytuły magisterskie, stąd liczba licencjatów jest dla nich wyższa. Jednak w prawie każdej innej grupie wiekowej wyróżniają się stopnie magisterskie. Co ciekawe, osoby powyżej 70. roku życia częściej mają doktorat 😀"
   ]
  },
  {
   "cell_type": "code",
   "execution_count": null,
   "metadata": {
    "id": "wtNpv_DxXnoS",
    "ExecuteTime": {
     "start_time": "2024-01-06T18:36:14.984151300Z"
    }
   },
   "outputs": [],
   "source": [
    "set(df[\"Q5\"])"
   ]
  },
  {
   "cell_type": "code",
   "execution_count": null,
   "metadata": {
    "scrolled": false,
    "id": "6s2-K43jXnoT",
    "ExecuteTime": {
     "start_time": "2024-01-06T18:36:14.984151300Z"
    }
   },
   "outputs": [],
   "source": [
    "fig = px.histogram(df, \"Q5\",\n",
    "             facet_col=\"Q1\",\n",
    "             color=\"Q1\",\n",
    "             title=\"Counts of Education level per Age\",\n",
    "             labels={\"Q1\": \"Age\", \"Q5\": \"Job Role\"},\n",
    "             height=2000,\n",
    "             facet_col_wrap=2,\n",
    "             facet_col_spacing=0.1)\n",
    "\n",
    "fig.update_layout(showlegend=False)\n",
    "fig.update_xaxes(showticklabels=True, tickangle=45)\n",
    "fig.update_yaxes(matches=None, showticklabels=True)"
   ]
  },
  {
   "cell_type": "code",
   "execution_count": null,
   "metadata": {
    "id": "iHv8xjzMXnoU",
    "ExecuteTime": {
     "start_time": "2024-01-06T18:36:14.984151300Z"
    }
   },
   "outputs": [],
   "source": [
    "# Nasze dane znajdują się w kolumnach 18_p1, 18_p12\n",
    "# Naszym pierwszym krokiem będzie utworzenie nowej kolumny o nazwie „Known programming languages” i utworzenie dla każdego wiersza listy oddzielonej przecinkami zawierającej języki programowania, które znają (oczywiście z wyłączeniem NaNs)\n",
    "programming_cols = [\"Q18_Part_{}\".format(str(i)) for i in range(1, 13)]\n",
    "programming_df = df[programming_cols]\n",
    "programming_df.head(5)"
   ]
  },
  {
   "cell_type": "code",
   "execution_count": null,
   "metadata": {
    "id": "x7QlnUvgXnoW",
    "ExecuteTime": {
     "start_time": "2024-01-06T18:36:14.984151300Z"
    }
   },
   "outputs": [],
   "source": [
    "programming_col = []\n",
    "for row in programming_df.itertuples(index=False):\n",
    "    languages_known = [language for language in row if isinstance(language, str)]\n",
    "    programming_col.append(\",\".join(languages_known))\n",
    "\n",
    "programming_df[\"languages_known\"] = programming_col\n",
    "programming_df"
   ]
  },
  {
   "cell_type": "code",
   "execution_count": null,
   "metadata": {
    "id": "2Hw1GAN7XnoX",
    "ExecuteTime": {
     "start_time": "2024-01-06T18:36:14.984151300Z"
    }
   },
   "outputs": [],
   "source": [
    "# Przytnijmy nowy df, żeby miał tylko nasz nowy col\n",
    "programming_df.drop(labels=programming_cols, axis=1, inplace=True)\n",
    "programming_df"
   ]
  },
  {
   "cell_type": "code",
   "execution_count": null,
   "metadata": {
    "id": "HzntDfLHXnoY",
    "ExecuteTime": {
     "start_time": "2024-01-06T18:36:14.984151300Z"
    }
   },
   "outputs": [],
   "source": [
    "# Załóż, że spacje oznaczają, że nie znają języka i zamień zarówno spacje, jak i „None” na „None/NA”\n",
    "values_to_update = {\"languages_known\": {\"\": \"None/NA\", \"None\": \"None/NA\"}}\n",
    "programming_df = programming_df.replace(values_to_update)\n",
    "programming_df"
   ]
  },
  {
   "cell_type": "code",
   "execution_count": null,
   "metadata": {
    "id": "4yhVQLk4XnoZ",
    "ExecuteTime": {
     "start_time": "2024-01-06T18:36:14.984151300Z"
    }
   },
   "outputs": [],
   "source": [
    "# Użyjmy metody get_dummies do stworzenia nowych kolumn\n",
    "language_dummies = programming_df['languages_known'].str.get_dummies(sep=',')\n",
    "language_dummies"
   ]
  },
  {
   "cell_type": "code",
   "execution_count": null,
   "metadata": {
    "id": "cdSfRSyoXnoa",
    "ExecuteTime": {
     "start_time": "2024-01-06T18:36:14.984151300Z"
    }
   },
   "outputs": [],
   "source": [
    "fig = px.bar(language_dummies.sum(), labels={\"index\": \"Programming Language\"}, title=\"Count of Programming Languages\")\n",
    "fig.update_layout(showlegend=False, xaxis={'categoryorder':'total descending'})\n",
    "fig.show()"
   ]
  },
  {
   "cell_type": "code",
   "execution_count": null,
   "metadata": {
    "id": "0qBC4a9wXnoc",
    "ExecuteTime": {
     "start_time": "2024-01-06T18:36:14.984151300Z"
    }
   },
   "outputs": [],
   "source": [
    "# Dla 4. pobierzmy wiek z oryginalnej ramki danych i połączmy je z tą nową ramką danych\n",
    "ages = df[\"Q1\"]\n",
    "language_dummies_with_age = language_dummies.join(ages).rename(columns={\"Q1\": \"Age\"})\n",
    "language_dummies_with_age"
   ]
  },
  {
   "cell_type": "code",
   "execution_count": null,
   "metadata": {
    "id": "cqgHvCAHXnoe",
    "ExecuteTime": {
     "start_time": "2024-01-06T18:36:14.999783200Z"
    }
   },
   "outputs": [],
   "source": [
    "programming_languages_by_age = language_dummies_with_age.groupby([\"Age\"]).sum()\n",
    "px.bar(programming_languages_by_age)\n",
    "# px.bar(programming_languages_by_age.T)\n",
    "programming_languages_by_age = programming_languages_by_age.reindex(\n",
    "    programming_languages_by_age.mean().sort_values().index, axis=1)\n",
    "programming_languages_by_age = programming_languages_by_age.iloc[:, ::-1]\n",
    "programming_languages_by_age"
   ]
  },
  {
   "cell_type": "code",
   "execution_count": null,
   "metadata": {
    "id": "rght-JeXXnof",
    "ExecuteTime": {
     "start_time": "2024-01-06T18:36:14.999783200Z"
    }
   },
   "outputs": [],
   "source": [
    "programming_languages_by_age_row_norm = programming_languages_by_age.div(programming_languages_by_age.sum(axis=1), axis=0)"
   ]
  },
  {
   "cell_type": "markdown",
   "source": [
    "Stwórzmy wykres z podwykresami, który będzie pokazywał Percent of Known Programming Languages by Age"
   ],
   "metadata": {
    "id": "wo6Ki0GKfXFW"
   }
  },
  {
   "cell_type": "code",
   "execution_count": null,
   "metadata": {
    "id": "np6bOJvKXnof",
    "ExecuteTime": {
     "start_time": "2024-01-06T18:36:14.999783200Z"
    }
   },
   "outputs": [],
   "source": [
    "from plotly.subplots import make_subplots\n",
    "\n",
    "# programming_languages_by_age.index\n",
    "programming_languages = programming_languages_by_age_row_norm.columns.tolist()\n",
    "\n",
    "\n",
    "\n",
    "fig.update_layout(showlegend=False, height=1000, title=\"Percent of Known Programming Languages by Age\")\n",
    "fig.update_yaxes(tickformat=\"%\")\n",
    "fig.show()"
   ]
  },
  {
   "cell_type": "markdown",
   "metadata": {
    "id": "6eLNpm-EXnog"
   },
   "source": [
    "Wygląda na to, że wszyscy lubią Pythona! Młodsi ludzie (którzy najprawdopodobniej robią licencjat) mają stosunkowo wyższy odsetek języków niższego poziomu, takich jak C, C++ i Java. Może to być spowodowane tym, że muszą uczyć się tych języków na uniwersytecie. Ponieważ naukowcy zajmujący się danymi bardziej specjalizują się w swojej karierze, wydają się odchodzić od tych języków do bardziej typowych języków związanych z DSML. Grupa 60-69 lat ma wysoki poziom użytkowników języka R w porównaniu z innymi grupami wiekowymi, podczas gdy wydaje się, że większość osób powyżej 70. roku życia nie zna żadnych języków programowania.\n",
    "\n",
    "Być może bardziej przydatne dla nas jest to, jakie języki programowania są popularne w stosunku do zawodu (P5). Stwórz wykres, który to pokazuje"
   ]
  },
  {
   "cell_type": "code",
   "execution_count": null,
   "metadata": {
    "id": "x39Kmyr0Xnog",
    "ExecuteTime": {
     "start_time": "2024-01-06T18:36:14.999783200Z"
    }
   },
   "outputs": [],
   "source": [
    "## Połącz pytanie o zawód z ramką language_dummies\n",
    "language_dummies_with_job = language_dummies.join(df[\"Q5\"]).rename(columns={\"Q5\": \"Job Title\"})\n",
    "language_dummies_with_job"
   ]
  },
  {
   "cell_type": "code",
   "execution_count": null,
   "metadata": {
    "id": "LE8GRuqRXnoh",
    "ExecuteTime": {
     "start_time": "2024-01-06T18:36:14.999783200Z"
    }
   },
   "outputs": [],
   "source": [
    "## Pogrupuj według stanowiska i zagreguj liczbę, znormalizuj każdy wiersz i posortuj ramkę danych według średniej z kolumn\n",
    "languages_job_title_grouped = language_dummies_with_job.groupby([\"Job Title\"]).sum()\n",
    "languages_job_title_grouped = languages_job_title_grouped.div(languages_job_title_grouped.sum(axis=1), axis=0)\n",
    "languages_job_title_grouped = languages_job_title_grouped.reindex(\n",
    "    languages_job_title_grouped.mean().sort_values().index, axis=1)\n",
    "languages_job_title_grouped = languages_job_title_grouped.iloc[:, ::-1]\n",
    "languages_job_title_grouped"
   ]
  },
  {
   "cell_type": "markdown",
   "source": [
    "### ZADANIE 3:\n",
    "Stwórz wykres mapy cieplnej powiązania języków programowania i nazwy zawodu (job title)"
   ],
   "metadata": {
    "id": "ow_8ok2UfaQx"
   }
  },
  {
   "cell_type": "code",
   "execution_count": null,
   "metadata": {
    "id": "pdFEaD-QXnoj",
    "colab": {
     "base_uri": "https://localhost:8080/",
     "height": 542
    },
    "executionInfo": {
     "status": "ok",
     "timestamp": 1669298610185,
     "user_tz": -60,
     "elapsed": 229,
     "user": {
      "displayName": "Dominika Wnuk",
      "userId": "05926253260396442282"
     }
    },
    "outputId": "62d4e789-3ae8-44e6-9876-a7b7ff9a6c15",
    "ExecuteTime": {
     "start_time": "2024-01-06T18:36:14.999783200Z"
    }
   },
   "outputs": [],
   "source": []
  },
  {
   "cell_type": "markdown",
   "source": [
    "### ZADANIE 4:\n",
    "Stwórz wykres z podwykresami, który będzie pokazywał Known Programming Language per Job"
   ],
   "metadata": {
    "id": "4wJKq1bR-VI-"
   }
  },
  {
   "cell_type": "code",
   "execution_count": null,
   "metadata": {
    "id": "VAbfOLoXXnok",
    "colab": {
     "base_uri": "https://localhost:8080/",
     "height": 1000
    },
    "executionInfo": {
     "status": "ok",
     "timestamp": 1669298611245,
     "user_tz": -60,
     "elapsed": 5,
     "user": {
      "displayName": "Dominika Wnuk",
      "userId": "05926253260396442282"
     }
    },
    "outputId": "f7bbf9b7-0db6-4442-badf-1130745ec410",
    "ExecuteTime": {
     "start_time": "2024-01-06T18:36:14.999783200Z"
    }
   },
   "outputs": [],
   "source": [
    "## Stwórzy wykres danych!\n",
    "programming_languages = languages_job_title_grouped.columns.tolist()\n",
    "\n",
    "\n",
    "fig.show()"
   ]
  },
  {
   "cell_type": "markdown",
   "metadata": {
    "id": "KhoOUPj5Xnol"
   },
   "source": [
    "**Obserwacje**:\n",
    "- Python jest średnio najpopularniejszym językiem spośród wszystkich stanowisk pracy\n",
    "- SQL jest najpopularniejszym językiem wśród inżynierów baz danych\n",
    "- MATLAB jest stosunkowo bardziej popularny wśród naukowców niż na innych stanowiskach pracy\n",
    "- Statystyk woli R od Pythona\n",
    "- Studenci i inżynierowie oprogramowania wolą C++ od R\n",
    "\n",
    "Zróbmy jeszcze jeden wykres - mapę cieplną frameworka, z którego lubi korzystać każda rola zawodowa"
   ]
  },
  {
   "cell_type": "code",
   "execution_count": null,
   "metadata": {
    "id": "J29x_okiXnom",
    "ExecuteTime": {
     "start_time": "2024-01-06T18:36:14.999783200Z"
    }
   },
   "outputs": [],
   "source": [
    "## Wykreśl 3 najlepsze frameworki, z których każda rola lubi korzystać\n",
    "# 28p1 - 28p12\n",
    "## Utwórz ramkę danych, która zawiera tylko kolumnę z frameworkiem\n",
    "framework_cols = [\"Q28_Part_{}\".format(str(i)) for i in range(1, 13)]\n",
    "framework_df = df[framework_cols]\n",
    "framework_df"
   ]
  },
  {
   "cell_type": "markdown",
   "metadata": {
    "id": "AGd5yt0rXnoq"
   },
   "source": [
    "Utwórz ogólną funkcję `get_df_for_dummies()`, która pobiera ramkę danych, ciąg przedrostka nazwy kolumny oraz górny zakres i zwraca ramkę danych wypełnioną zakresem kolumn na podstawie ciągu przedrostka"
   ]
  },
  {
   "cell_type": "code",
   "execution_count": null,
   "metadata": {
    "id": "useH742bXnoq",
    "ExecuteTime": {
     "start_time": "2024-01-06T18:36:14.999783200Z"
    }
   },
   "outputs": [],
   "source": [
    "def get_df_for_dummies(df, prefix_string, end_range, start_range=1):\n",
    "    ## WSKAZÓWKA: skorzystaj z funckji range oraz iteracji aby wygenerować nazwy kolumn\n",
    "    dummies_cols = [prefix_string + str(i) for i in range(start_range, end_range)]\n",
    "    ## WSKAZÓWKA: wyciągnij i zwróć nazwy kolumn z ramki danych\n",
    "    return df[dummies_cols]"
   ]
  },
  {
   "cell_type": "code",
   "execution_count": null,
   "metadata": {
    "id": "McD97t8_Xnos",
    "ExecuteTime": {
     "start_time": "2024-01-06T18:36:15.015400900Z"
    }
   },
   "outputs": [],
   "source": [
    "## Utwórz kolumnę w tej ramce danych o nazwie „Użyte struktury” i wypełnij tę kolumnę ramami oddzielonymi przecinkami\n",
    "framework_col = []\n",
    "for row in framework_df.itertuples(index=False):\n",
    "    frameworks_used = [framework for framework in row if isinstance(framework, str)]\n",
    "    framework_col.append(\",\".join(frameworks_used))\n",
    "\n",
    "framework_df[\"frameworks_used\"] = framework_col\n",
    "framework_df"
   ]
  },
  {
   "cell_type": "code",
   "execution_count": null,
   "metadata": {
    "id": "i2O5-YCYXnou",
    "ExecuteTime": {
     "start_time": "2024-01-06T18:36:15.015400900Z"
    }
   },
   "outputs": [],
   "source": [
    "## Zastąp kolumny puste i None wartościami \"None/NA\"\n",
    "values_to_update = {\"frameworks_used\": {\"\": \"None/NA\", \"None\": \"None/NA\"}}\n",
    "framework_df = framework_df.replace(values_to_update)\n",
    "framework_df"
   ]
  },
  {
   "cell_type": "markdown",
   "metadata": {
    "id": "-77bEOM-Xnox"
   },
   "source": [
    "Utwórz ogólną funkcję `get_dummies()`, która pobiera ramkę danych i zwraca kolumnę wypełnioną wartościami oddzielonymi przecinkami poszczególnych wartości w ramce danych."
   ]
  },
  {
   "cell_type": "code",
   "execution_count": null,
   "metadata": {
    "id": "sJsU-VfcXnox",
    "ExecuteTime": {
     "start_time": "2024-01-06T18:36:15.015400900Z"
    }
   },
   "outputs": [],
   "source": [
    "def get_dummies_col(df, sep=\",\"):\n",
    "\n",
    "    ## zainicjuj pustą listę do przechowywania kolumny stringów, która zostanie użyta do utworzenia fikcyjnej ramki danych\n",
    "    dummies_col = []\n",
    "\n",
    "    ## iteruj po każdym wierszu w ramce danych w sposób, w który możemy uzyskać dostęp do poszczególnych elementów komórek\n",
    "    ## uzyskaj listę wartości komórek z wiersza (np. listę języków programowania). Upewnij się, że nie dodajesz NaNs\n",
    "    ## połącz je jako ciąg oddzielony przecinkami i dołącz go do pustej listy w kolumnie\n",
    "    for row in df.itertuples(index=False):\n",
    "        values = [item for item in row if isinstance(item, str)]\n",
    "        dummies_col.append(sep.join(values))\n",
    "\n",
    "    ## utwórz nową kolumnę w dataframe o nazwie \"dummies\", która przyjmuje zawartość kolumny dummies\n",
    "    df[\"dummies\"] = dummies_col\n",
    "\n",
    "    ## zamień wszystkie \"\" i \"None\" z ramki danych na \"None/NA\"\n",
    "    values_to_update = {\"dummies\": {\"\": \"None/NA\", \"None\": \"None/NA\"}}\n",
    "    df = df.replace(values_to_update)\n",
    "\n",
    "    ## zwróć nową ramkę\n",
    "    return df"
   ]
  },
  {
   "cell_type": "code",
   "execution_count": null,
   "metadata": {
    "id": "gXTGHvgIXnoy",
    "ExecuteTime": {
     "start_time": "2024-01-06T18:36:15.015400900Z"
    }
   },
   "outputs": [],
   "source": [
    "## Stwórz ramkę dla frameworków metodą dummies\n",
    "framework_dummies = framework_df['frameworks_used'].str.get_dummies(sep=',')\n",
    "framework_dummies"
   ]
  },
  {
   "cell_type": "markdown",
   "metadata": {
    "id": "eI4pEBYTXnoz"
   },
   "source": [
    "Stwórz ogólną funkcję `dummies_from_series()`, która pobiera ramkę danych i argument separatora i zwraca dummies dla Serii"
   ]
  },
  {
   "cell_type": "code",
   "execution_count": null,
   "metadata": {
    "id": "wiPNOOvQXnoz",
    "ExecuteTime": {
     "start_time": "2024-01-06T18:36:15.015400900Z"
    }
   },
   "outputs": [],
   "source": [
    "def dummies_from_series(series, sep=\",\"):\n",
    "    ## zwraca dummy ramkę danych z ramki danych.\n",
    "    # Zapamiętaj, która kolumna została użyta do przypisania ciągów, nad którymi chcemy utworzyć dummies\n",
    "    return series[\"dummies\"].str.get_dummies(sep=sep)"
   ]
  },
  {
   "cell_type": "code",
   "execution_count": null,
   "metadata": {
    "id": "2wTd4mVEXno3",
    "ExecuteTime": {
     "start_time": "2024-01-06T18:36:15.015400900Z"
    }
   },
   "outputs": [],
   "source": [
    "## Utwórz nową ramkę danych, która połączy tę ramkę danych z rolami stanowisk\n",
    "frameworks_for_job_role = framework_dummies.join(df[\"Q5\"]).rename(columns={\"Q5\": \"Job Title\"})\n",
    "frameworks_for_job_role"
   ]
  },
  {
   "cell_type": "code",
   "execution_count": null,
   "metadata": {
    "id": "_D5UDfn9Xno4",
    "ExecuteTime": {
     "start_time": "2024-01-06T18:36:15.015400900Z"
    }
   },
   "outputs": [],
   "source": [
    "## Pogrupuj ramkę danych według tytułu stanowiska i zagreguj według języków programowania\n",
    "frameworks_for_job_role_grouped = frameworks_for_job_role.groupby([\"Job Title\"]).sum()\n",
    "frameworks_for_job_role_grouped"
   ]
  },
  {
   "cell_type": "markdown",
   "metadata": {
    "id": "z3BCtsSYXno8"
   },
   "source": [
    "Utwórz ogólną funkcję `group_dummies_by()`, która pobiera ramkę danych dummies oraz Serię i zwraca dummies pogrupowane i zagregowane według Serii."
   ]
  },
  {
   "cell_type": "code",
   "execution_count": null,
   "metadata": {
    "id": "p_ayf911Xno9",
    "ExecuteTime": {
     "start_time": "2024-01-06T18:36:15.015400900Z"
    }
   },
   "outputs": [],
   "source": [
    "def group_dummies_by(dummies_df, series):\n",
    "    series_name = series.name\n",
    "    to_group = dummies_df.join(series)\n",
    "    grouped = to_group.groupby([series_name]).sum()\n",
    "\n",
    "    return grouped"
   ]
  },
  {
   "cell_type": "code",
   "execution_count": null,
   "metadata": {
    "id": "7KfDr0YfXno_",
    "ExecuteTime": {
     "start_time": "2024-01-06T18:36:15.015400900Z"
    }
   },
   "outputs": [],
   "source": [
    "framework_df = get_df_for_dummies(df, \"Q28_Part_\", 13)\n",
    "framework_df = get_dummies_col(framework_df)\n",
    "framework_dummies = dummies_from_series(framework_df)\n",
    "frameworks_for_job_role_grouped = group_dummies_by(framework_dummies, df[\"Q5\"])\n",
    "frameworks_for_job_role_grouped = frameworks_for_job_role_grouped.div(\n",
    "    frameworks_for_job_role_grouped.sum(axis=1), axis=0)\n",
    "frameworks_for_job_role_grouped.index.rename(\"Job Role\", inplace=True)\n",
    "frameworks_for_job_role_grouped"
   ]
  },
  {
   "cell_type": "code",
   "execution_count": null,
   "metadata": {
    "id": "52v-3DTBXnpA",
    "ExecuteTime": {
     "start_time": "2024-01-06T18:36:15.015400900Z"
    }
   },
   "outputs": [],
   "source": [
    "## Utwórz mapę cieplną powyższej ramki danych\n",
    "px.imshow(frameworks_for_job_role_grouped, title=\"Heatmap of preferred Frameworks per Job Role\")"
   ]
  },
  {
   "cell_type": "markdown",
   "metadata": {
    "id": "LlehCE3rXnpB"
   },
   "source": [
    "**Obserwacje**:\n",
    "- None/NA może wprowadzać w błąd. Nie zawsze oznacza to, że ich rola nie wymaga frameworków, ponieważ obejmuje również osoby, które być może nie odpowiedziały na pytanie, ponieważ ich narzędzie użytkowania nie było dostępne jako opcja. Na przykład statystyk może używać frameworka R, którego opcja nie jest tutaj podana.\n",
    "- Scikit-learn jest najpopularniejszym wymienionym narzędziem\n",
    "- Statystycy często używają lasu losowego (Random Forest)"
   ]
  },
  {
   "cell_type": "markdown",
   "metadata": {
    "id": "hqCw1qrdXnpB"
   },
   "source": [
    "**Roczne wynagrodzenie**\n",
    "\n",
    "Zacznijmy teraz rozważać naszą zmienną docelową! Zaczniemy od od początku. Narysujmy histogram zarobków i posortujmy ten wykres w kolejności zakresów wynagrodzeń"
   ]
  },
  {
   "cell_type": "code",
   "execution_count": null,
   "metadata": {
    "id": "xDBFLIl-XnpB",
    "ExecuteTime": {
     "start_time": "2024-01-06T18:36:15.015400900Z"
    }
   },
   "outputs": [],
   "source": [
    "px.histogram(df, \"Q10\", labels={\"Q10\": \"Salary\"}, title=\"Count of salary ranges (Unsorted)\")"
   ]
  },
  {
   "cell_type": "markdown",
   "metadata": {
    "id": "AY1r8-q3XnpC"
   },
   "source": [
    "Widzę już z tego kilka interesujących ustaleń, ale zanim wspomnę o czymkolwiek, chcę, abyśmy posortowali oś x w kolejności wartości liczbowej. Oznacza to, że skrajna lewa kolumna to `0-999 USD`, a skrajna prawa to `> 500 000 USD`.\n",
    "\n",
    "Poświęć trochę czasu na przemyślenie i wdrożenie sposobu rozwiązania tego problemu. Jeśli po kilku minutach nie jesteś w stanie wymyślić/wymyślić rozwiązania, przeczytaj i zaimplementuj wg. poniższych kroków.\n",
    "\n",
    "<details>\n",
    "<summary><b> Kliknij tutaj, aby wyświetlić moje rozwiązanie</b></summary>\n",
    "<ul>\n",
    "<li>Utwórz nową ramkę danych z samymi pensjami</li>\n",
    "<li>Utwórz set wynagrodzeń (unikalne wartości)</li>\n",
    "<li>Utwórz mapowanie kategorii wynagrodzeń na int, gdzie int to pierwsza numeryczna część ciągu (np. <code>{\"$0-999\": 0, \"100,000-124,999\": 100000}</code >). Ta część będzie wymagała użycia metod `.replace()` i `.split()` natywnych dla Pythona\n",
    "<li>Zastąp pensje w ramce danych wartością całkowitą</li>\n",
    "<li>Posortuj ramkę danych w rosnącej kolejności numerycznej</li>\n",
    "<li>Odwróć mapowanie i zastąp int ich wariantem ciągu</li>\n",
    "<li>Wykreśl ramkę danych i zastąp etykiety x ciągami wynagrodzeń</li>\n",
    "</ul>\n",
    "</details>"
   ]
  },
  {
   "cell_type": "code",
   "execution_count": null,
   "metadata": {
    "id": "aWWhrDiDXnpC",
    "ExecuteTime": {
     "start_time": "2024-01-06T18:36:15.015400900Z"
    }
   },
   "outputs": [],
   "source": [
    "salary_df = pd.DataFrame(df[\"Q10\"])\n",
    "salary_df.rename(columns={\"Q10\": \"Salary\"}, inplace=True)\n",
    "salary_set = set(salary_df[\"Salary\"])\n",
    "salary_string_int_dict = dict()\n",
    "\n",
    "for string_salary in salary_set:\n",
    "\n",
    "    if isinstance(string_salary, float): continue\n",
    "\n",
    "    salary = string_salary.replace(\"$\", \"\").replace(\"> \", \"\").replace(\",\", \"\")\n",
    "    salary = salary.split(\"-\")[0]\n",
    "    salary_string_int_dict[string_salary] = int(salary)\n",
    "\n",
    "values_to_update = {\"Salary\": salary_string_int_dict}\n",
    "salary_df = salary_df.replace(values_to_update)\n",
    "salary_df = salary_df.sort_values(\"Salary\")\n",
    "\n",
    "salary_int_string_dict = {v:k for k,v in salary_string_int_dict.items()}\n",
    "values_to_update = {\"Salary\": salary_int_string_dict}\n",
    "salary_df = salary_df.replace(values_to_update)\n",
    "\n",
    "percent_na = np.round(100 * salary_df[\"Salary\"].isna().sum()/len(salary_df), 2)\n",
    "print(\"Percent of users who didn't answer the salary question:\", percent_na)\n",
    "px.histogram(salary_df, \"Salary\", title=\"Count of Salary ranges\")"
   ]
  },
  {
   "cell_type": "markdown",
   "metadata": {
    "id": "VR1BqZzLXnpD"
   },
   "source": [
    "Prawie 37% uczestników ankiety wprost nie odpowiedziało na to pytanie. Wydaje się, że jest dziwnie duża liczba ludzi, którzy zarabiają od \\\\$0 do \\\\$999 rocznie. Podejrzewam, że jest to tak wysokie, ponieważ wiele osób, które nie chciały odpowiedzieć na pytanie (i nie zdawały sobie sprawy, że jest to opcjonalne) zaznaczyło to pole. Możemy również zauważyć kilka innych interesujących faktów - to znaczy - wydaje się, że mamy \"dwa\" szczyty przy bardzo różnych zarobkach - jeden na poziomie 10 000 - 14 999, a drugi na 100 000 - 124 999. Czy możesz pomyśleć, dlaczego tak może być? Wygląda też na to, że jest kilku bardzo bogatych kagglerów, z których 83 zarabia ponad $500k rocznie.\n",
    "\n",
    "Trzy najbardziej popularne grupy zarobków (poza 0 - 999) wydają się wynosić 10 000 - 14 999, 100 000 - 124 999 i 30 000 - 39 999. Przygotuj kartogram przedstawiający medianę wynagrodzeń w krajach, abyśmy mogli lepiej rozróżnić, w jakich regionach możemy spodziewać się zarobków"
   ]
  },
  {
   "cell_type": "code",
   "execution_count": null,
   "metadata": {
    "id": "iciaxU8QXnpD",
    "ExecuteTime": {
     "start_time": "2024-01-06T18:36:15.015400900Z"
    }
   },
   "outputs": [],
   "source": [
    "## Przygotuj kartogram przedstawiający medianę wynagrodzeń w krajach\n",
    "median_salaries_df = df[[\"Q3\", \"Q10\"]]\n",
    "median_salaries_df.rename(columns={\"Q3\": \"Country\", \"Q10\": \"Salary\"}, inplace=True)\n",
    "values_to_update = {\"Salary\": salary_string_int_dict}\n",
    "median_salaries_df = median_salaries_df.replace(values_to_update)\n",
    "median_salaries_df = median_salaries_df.groupby([\"Country\"]).median()\n",
    "median_salaries_df"
   ]
  },
  {
   "cell_type": "code",
   "execution_count": null,
   "metadata": {
    "id": "1nB1l2NAXnpD",
    "ExecuteTime": {
     "start_time": "2024-01-06T18:36:15.031026100Z"
    }
   },
   "outputs": [],
   "source": [
    "country_codes = []\n",
    "for country in median_salaries_df.index:\n",
    "    country_code = pycountry.countries.search_fuzzy(country)[0] # Weź pierwszy element zwracany przez przybliżone wyszukiwanie\n",
    "    country_codes.append(country_code.alpha_3)\n",
    "\n",
    "median_salaries_df[\"Country Code\"] = country_codes\n",
    "median_salaries_df"
   ]
  },
  {
   "cell_type": "code",
   "execution_count": null,
   "metadata": {
    "id": "4wWLGrDPXnpE",
    "ExecuteTime": {
     "start_time": "2024-01-06T18:36:15.031026100Z"
    }
   },
   "outputs": [],
   "source": [
    "salaries_series = median_salaries_df[\"Salary\"]\n",
    "values_to_update = {\"Salary\": salary_int_string_dict}\n",
    "median_salaries_df = median_salaries_df.replace(values_to_update)\n",
    "median_salaries_df[\"Salary Values\"] = salaries_series"
   ]
  },
  {
   "cell_type": "code",
   "execution_count": null,
   "metadata": {
    "id": "tbTgelEgXnpF",
    "ExecuteTime": {
     "start_time": "2024-01-06T18:36:15.031026100Z"
    }
   },
   "outputs": [],
   "source": [
    "px.choropleth(median_salaries_df, locations=\"Country Code\", hover_name=median_salaries_df.index, color=\"Salary Values\", hover_data=[\"Salary\"], title=\"Median Salaries by Country\")"
   ]
  },
  {
   "cell_type": "markdown",
   "metadata": {
    "id": "Tm2DuzB5XnpG"
   },
   "source": [
    "Biorąc pod uwagę liczbę uczestników z USA i Indii, którą rozpoznaliśmy wcześniej, możemy przyjąć te wartości, aby były bardziej poprawne w stosunku do rozkładu generowania danych niż w większości innych krajów. Działając przy tym założeniu, wygląda na to, że w USA i Szwajcarii rozsądnie byłoby być na 100 000+, podczas gdy w Indiach najprawdopodobniej zarabialiby coś w przedziale 7500 - 9999. Wygląda na to, że Australia też ma kilka dobrze płatnych miejsc pracy. Spodziewalibyśmy się, że średnia pensja w Wielkiej Brytanii będzie wyższa niż 10 000 - 14 999. Jakie rzeczy moglibyśmy zbadać, aby określić, dlaczego ta wartość wynagrodzenia jest niższa, niż się spodziewamy?\n",
    "\n",
    "A co z wynagrodzeniami według płci?"
   ]
  },
  {
   "cell_type": "code",
   "execution_count": null,
   "metadata": {
    "id": "mSyhP5egXnpI",
    "ExecuteTime": {
     "start_time": "2024-01-06T18:36:15.031026100Z"
    }
   },
   "outputs": [],
   "source": [
    "salaries_by_gender_df = df[[\"Q2\", \"Q10\"]]\n",
    "salaries_by_gender_df.rename(columns={\"Q2\": \"Gender\", \"Q10\": \"Salary\"}, inplace=True)\n",
    "values_to_update = {\"Salary\": salary_string_int_dict}\n",
    "salaries_by_gender_df = salaries_by_gender_df.replace(values_to_update)\n",
    "salaries_by_gender_df"
   ]
  },
  {
   "cell_type": "markdown",
   "source": [
    "Stwórzmy wykres pudełkowy salary per gender"
   ],
   "metadata": {
    "id": "0i2b2C1OfktM"
   }
  },
  {
   "cell_type": "code",
   "execution_count": null,
   "metadata": {
    "id": "rRx2ogU0XnpK",
    "ExecuteTime": {
     "start_time": "2024-01-06T18:36:15.031026100Z"
    }
   },
   "outputs": [],
   "source": []
  },
  {
   "cell_type": "markdown",
   "metadata": {
    "id": "c1iTn9KMXnpK"
   },
   "source": [
    "Chociaż wygląda na to, że którakolwiek z kategorii jest w stanie osiągnąć najwyższy przedział zarobków, wydaje się, że kobiety mają najniższą medianę zarobków. Wydaje się, że ci, którzy wolą opisywać siebie, mają również wyższe średnie zarobki.\n",
    "\n",
    "Jakie są najlepiej płatne prace? Wykreślmy średnią pensję każdej roli"
   ]
  },
  {
   "cell_type": "code",
   "execution_count": null,
   "metadata": {
    "id": "yPo6dzk1XnpL",
    "ExecuteTime": {
     "start_time": "2024-01-06T18:36:15.037465800Z"
    }
   },
   "outputs": [],
   "source": [
    "salaries_job_df = df[[\"Q5\", \"Q10\"]]\n",
    "salaries_job_df.rename(columns={\"Q5\": \"Job Title\", \"Q10\": \"Salary\"}, inplace=True)\n",
    "\n",
    "values_to_update = {\"Salary\": salary_string_int_dict}\n",
    "salaries_job_df = salaries_job_df.replace(values_to_update)\n",
    "salaries_job_df\n",
    "\n",
    "# salary_series = salaries_job_df[\"Salary\"]\n",
    "# salaries_job_df[\"Salary Bracket\"] = salary_series\n",
    "# salaries_job_df"
   ]
  },
  {
   "cell_type": "code",
   "execution_count": null,
   "metadata": {
    "id": "Zn_y7-LrXnpM",
    "ExecuteTime": {
     "start_time": "2024-01-06T18:36:15.037542900Z"
    }
   },
   "outputs": [],
   "source": [
    "grouped_mean_salaries = salaries_job_df.groupby([\"Job Title\"]).mean().reset_index().sort_values(by=\"Salary\", ascending=False)\n",
    "grouped_mean_salaries.dropna(inplace=True)\n",
    "px.bar(grouped_mean_salaries, \"Job Title\", \"Salary\", labels={\"Salary\": \"Mean Salary\"}, title=\"Mean Salary per Job Role\")"
   ]
  },
  {
   "cell_type": "markdown",
   "metadata": {
    "id": "7MZXEzRkXnpP"
   },
   "source": [
    "Jaki może być może bardziej informacyjny sposób przedstawienia tych wynagrodzeń? Myślę o wykresie pudełkowym. Odrzućmy pensje NA i „0” i zwizualizujmy to"
   ]
  },
  {
   "cell_type": "markdown",
   "source": [
    "### ZADANIE 5:\n",
    "Stwórz wykres pudełkowy dla wynagrodzeń."
   ],
   "metadata": {
    "id": "ZgkfA1GU-w86"
   }
  },
  {
   "cell_type": "code",
   "execution_count": null,
   "metadata": {
    "id": "oFWFK88oXnpP",
    "colab": {
     "base_uri": "https://localhost:8080/",
     "height": 542
    },
    "executionInfo": {
     "status": "ok",
     "timestamp": 1669298646008,
     "user_tz": -60,
     "elapsed": 9,
     "user": {
      "displayName": "Dominika Wnuk",
      "userId": "05926253260396442282"
     }
    },
    "outputId": "e80cfaa0-0af9-43e2-e058-fd26871df0b9",
    "ExecuteTime": {
     "start_time": "2024-01-06T18:36:15.037542900Z"
    }
   },
   "outputs": [],
   "source": [
    "salaries_job_df.dropna(inplace=True)\n",
    "salaries_job_df = salaries_job_df[(salaries_job_df[\"Salary\"] != 0)]\n",
    "\n",
    "\n",
    "fig.show()"
   ]
  },
  {
   "cell_type": "markdown",
   "metadata": {
    "id": "vI-sjTh0XnpS"
   },
   "source": [
    "**Obserwacje**:\n",
    "- Ankieta wydaje się wskazywać, że wszystkie role zawodowe mają potencjał do zdobycia pracy za \\\\$500k+ poza pracą inżyniera bazy danych\n",
    "- Na całym świecie inżynierowie oprogramowania i analitycy danych mają dwie najniższe średnie pensje - przy czym inżynier oprogramowania ma niższą medianę wynagrodzenia niż analityk danych, ale wyższą średnią (jak widać na pierwszym wykresie)\n",
    "- Zarządzanie produktami/projektami i Data Science 😉 wydają się być najbardziej lukratywnymi stanowiskami pracy - przy czym ta pierwsza nieznacznie przejmuje inicjatywę\n",
    "\n",
    "Zastanówmy sie, jaki jest procent data scientists, którzy zarabiają powyżej \\\\500 tys. USD w porównaniu z kierownikami projektów:"
   ]
  },
  {
   "cell_type": "code",
   "execution_count": null,
   "metadata": {
    "id": "_BayNdOyXnpS",
    "ExecuteTime": {
     "start_time": "2024-01-06T18:36:15.037542900Z"
    }
   },
   "outputs": [],
   "source": [
    "num_data_scientists_above_500 = len(salaries_job_df[(salaries_job_df[\"Job Title\"] == \"Data Scientist\") & (salaries_job_df[\"Salary\"] == 500000)])\n",
    "num_project_managers_above_500 = len(salaries_job_df[(salaries_job_df[\"Job Title\"] == \"Product/Project Manager\") & (salaries_job_df[\"Salary\"] == 500000)])\n",
    "\n",
    "percent_ds_above_500 = 100 * num_data_scientists_above_500/len(salaries_job_df)\n",
    "percent_pm_above_500 = 100 * num_project_managers_above_500/len(salaries_job_df)\n",
    "\n",
    "print(\"The percent of Data Scientists who earn above $500,000: {}%\".format(np.round(percent_ds_above_500, 2)))\n",
    "print(\"The percent of Project Managers who earn above $500,000: {}%\".format(np.round(percent_pm_above_500, 2)))"
   ]
  },
  {
   "cell_type": "markdown",
   "metadata": {
    "id": "ILVk1MG8XnpT"
   },
   "source": [
    "Zobaczmy, jaki wpływ mają lata programowania (Q11) na wynagrodzenia"
   ]
  },
  {
   "cell_type": "code",
   "execution_count": null,
   "metadata": {
    "id": "TnADQyfnXnpT",
    "ExecuteTime": {
     "start_time": "2024-01-06T18:36:15.037542900Z"
    }
   },
   "outputs": [],
   "source": [
    "programming_experience_salary_df = df[[\"Q10\", \"Q15\"]]\n",
    "programming_experience_salary_df.rename(columns={\"Q10\": \"Salary\", \"Q15\": \"Programming Experience\"}, inplace=True)\n",
    "values_to_update = {\"Salary\": salary_string_int_dict}\n",
    "programming_experience_salary_df = programming_experience_salary_df.replace(values_to_update)\n",
    "programming_experience_salary_df"
   ]
  },
  {
   "cell_type": "code",
   "execution_count": null,
   "metadata": {
    "id": "P23G_hBpXnpU",
    "ExecuteTime": {
     "start_time": "2024-01-06T18:36:15.037542900Z"
    }
   },
   "outputs": [],
   "source": [
    "category_array = [\"I have never written code\", \"< 1 years\", \"1-2 years\", \"3-5 years\", \"5-10 years\", \"10-20 years\", \"20+ years\"]\n",
    "# fig = px.scatter(programming_experience_salary_df, \"Programming Experience\", \"Salary\", title=\"Density of Programming Experience vs Salary\")\n",
    "fig = px.scatter(programming_experience_salary_df, \"Programming Experience\", \"Salary\", facet_col=df[\"Q2\"],title=\"Density of Programming Experience vs Salary\")\n",
    "fig.update_traces(marker=dict(\n",
    "            opacity=0.05,\n",
    "            size=20,\n",
    "            line=dict(\n",
    "                color='MediumPurple',\n",
    "                width=0.5\n",
    "            )))\n",
    "fig.update_layout(xaxis={'categoryorder':'array', 'categoryarray':category_array})\n",
    "fig.show()"
   ]
  },
  {
   "cell_type": "markdown",
   "metadata": {
    "id": "Jkluu_MTXnpW"
   },
   "source": [
    "**Obserwacje**:\n",
    "- Są ludzie zarabiający \\\\$500k+, którzy nigdy nie napisali kodu. To samo z ludźmi, którzy mają mniej niż rok doświadczenia w programowaniu.\n",
    "- Istnieje jednak trend, w którym bardziej doświadczeni programiści zarabiają wyższe wynagrodzenie na wszystkich poziomach wynagrodzeń\n",
    "- Nie ma zbyt wielu doświadczonych kobiet (tj. ponad 10-20 lat doświadczenia)\n",
    "\n",
    "Teraz narysujemy kolejny diagram Sankeya – tym razem śledzący, w jaki sposób płeć, wiek, stopień naukowy, rola i kraj wpływają na twoją pensję. Aby to osiągnąć, uogólnij kod, który napisałam wcześniej dla diagramu Sankeya, do funkcji `get_sankey_data`, która jako argument pobiera ponownie zindeksowaną ramkę danych i zwraca node_labels oraz słownik `link`. Następnie użyj tych elementów, aby wykreślić diagram Sankeya"
   ]
  },
  {
   "cell_type": "code",
   "source": [],
   "metadata": {
    "id": "J18itUBLhf7s",
    "ExecuteTime": {
     "start_time": "2024-01-06T18:36:15.037542900Z"
    }
   },
   "execution_count": null,
   "outputs": []
  },
  {
   "cell_type": "markdown",
   "source": [
    "### *ZADANIE 6:\n",
    "Zadanie dla chętnych\n",
    "\n",
    "\n",
    "Stwórzy wykres z podwykresami, który będzie pokazywał Percent of Known Programming Languages by Age\n",
    "Teraz narysujemy kolejny diagram Sankeya – tym razem śledzący, w jaki sposób płeć, wiek, stopień naukowy, rola i kraj wpływają na twoją pensję. Aby to osiągnąć, uogólnij kod, który napisałam wcześniej dla diagramu Sankeya, do funkcji `get_sankey_data`, która jako argument pobiera ponownie zindeksowaną ramkę danych i zwraca node_labels oraz słownik `link`. Następnie użyj tych elementów, aby wykreślić diagram Sankeya"
   ],
   "metadata": {
    "id": "rHPQRWa4f4Pn"
   }
  },
  {
   "cell_type": "code",
   "execution_count": null,
   "metadata": {
    "id": "hlzi0_OIXnpY",
    "ExecuteTime": {
     "start_time": "2024-01-06T18:36:15.037542900Z"
    }
   },
   "outputs": [],
   "source": [
    "## Wykorzystaj ponownie kod do Sankeya\n"
   ]
  },
  {
   "cell_type": "code",
   "execution_count": null,
   "metadata": {
    "id": "olZdxajfXnpa",
    "ExecuteTime": {
     "start_time": "2024-01-06T18:36:15.037542900Z"
    }
   },
   "outputs": [],
   "source": [
    "## utwórz nową ramkę danych z odpowiednimi zmiennymi, za pomocą których chcemy wykreślić naszego Sankeya, ponownie zindeksuj go i przekaż do funkcji get_sankey_data\n"
   ]
  },
  {
   "cell_type": "code",
   "execution_count": null,
   "metadata": {
    "scrolled": false,
    "id": "qnOvkevCXnpa",
    "colab": {
     "base_uri": "https://localhost:8080/",
     "height": 1000
    },
    "executionInfo": {
     "status": "ok",
     "timestamp": 1669298647397,
     "user_tz": -60,
     "elapsed": 10,
     "user": {
      "displayName": "Dominika Wnuk",
      "userId": "05926253260396442282"
     }
    },
    "outputId": "3c25cda2-5a41-47cc-fc48-919fc2f782cb",
    "ExecuteTime": {
     "start_time": "2024-01-06T18:36:15.037542900Z"
    }
   },
   "outputs": [],
   "source": [
    "\n",
    "\n",
    "fig.update_layout(title_text=\"Sankey Diagram (Gender, Age, Education, Role, Country, Salary)\", font_size=10, height=1000)\n",
    "fig.show()"
   ]
  },
  {
   "cell_type": "markdown",
   "metadata": {
    "id": "A54XuPhMXnpb"
   },
   "source": [
    "Powyższy schemat jest chaotyczny, uporządkujmy go w następujący sposób:\n",
    "- Pogrupuj kraje według kontynentów (znowu nie zmienimy Indii i USA)\n",
    "- Stwórz szersze przedziały na pensję (może 5 przedziałów?), usuwając \\\\$0-999\n",
    "- Dodaj doświadczenie w programowaniu jako kolumnę na powyższym wykresie"
   ]
  },
  {
   "cell_type": "code",
   "execution_count": null,
   "metadata": {
    "id": "6qsNr_ivXnpc",
    "colab": {
     "base_uri": "https://localhost:8080/",
     "height": 424
    },
    "executionInfo": {
     "status": "ok",
     "timestamp": 1669298647398,
     "user_tz": -60,
     "elapsed": 10,
     "user": {
      "displayName": "Dominika Wnuk",
      "userId": "05926253260396442282"
     }
    },
    "outputId": "e4d851e2-18e6-41f0-a424-e60085330685",
    "ExecuteTime": {
     "start_time": "2024-01-06T18:36:15.037542900Z"
    }
   },
   "outputs": [],
   "source": [
    "## Zamień kraje na kontynenty\n",
    "values_to_update = {\"Country\": countries_continent_dict}\n",
    "salaries_sankey_df = salaries_sankey_df.replace(values_to_update)\n",
    "salaries_sankey_df"
   ]
  },
  {
   "cell_type": "code",
   "execution_count": null,
   "metadata": {
    "id": "I4dmQKW2Xnpe",
    "colab": {
     "base_uri": "https://localhost:8080/",
     "height": 424
    },
    "executionInfo": {
     "status": "ok",
     "timestamp": 1669298647398,
     "user_tz": -60,
     "elapsed": 10,
     "user": {
      "displayName": "Dominika Wnuk",
      "userId": "05926253260396442282"
     }
    },
    "outputId": "caa51080-c880-4ee1-9085-0ca63b68261b",
    "ExecuteTime": {
     "start_time": "2024-01-06T18:36:15.037542900Z"
    }
   },
   "outputs": [],
   "source": [
    "## Usuń wiersze z pensją $0-999 oraz zwiększ przedziały pensji\n",
    "set(salaries_sankey_df[\"Salary\"])\n",
    "salaries_sankey_df = salaries_sankey_df[salaries_sankey_df[\"Salary\"] != \"$0-999\"]\n",
    "under_30000, under_80000, under_150000, under_300000, under_500000 = \"0 - 29,999\", \"30,000 - 79,999\", \"80,000 - 149,999\", \"150,000 - 299,999\", \"300,000 - 500,000\"\n",
    "salary_wider_bins_dict = dict()\n",
    "for salary_string in set(salaries_sankey_df[\"Salary\"]):\n",
    "\n",
    "    if salary_string == \"> $500,000\" or isinstance(salary_string, float):\n",
    "        continue\n",
    "\n",
    "    salary_upper_bound = salary_string.split(\"-\")[-1]\n",
    "    salary_upper_bound = salary_upper_bound.replace(\",\", \"\")\n",
    "    salary_upper_bound = int(salary_upper_bound)\n",
    "\n",
    "    if salary_upper_bound < 30000:\n",
    "        salary_wider_bins_dict[salary_string] = under_30000\n",
    "    elif salary_upper_bound < 80000:\n",
    "        salary_wider_bins_dict[salary_string] = under_80000\n",
    "    elif salary_upper_bound < 150000:\n",
    "        salary_wider_bins_dict[salary_string] = under_150000\n",
    "    elif salary_upper_bound < 300000:\n",
    "        salary_wider_bins_dict[salary_string] = under_300000\n",
    "    elif salary_upper_bound < 500000:\n",
    "        salary_wider_bins_dict[salary_string] = under_500000\n",
    "\n",
    "values_to_update = {\"Salary\": salary_wider_bins_dict}\n",
    "salaries_sankey_df = salaries_sankey_df.replace(values_to_update)\n",
    "salaries_sankey_df"
   ]
  },
  {
   "cell_type": "code",
   "execution_count": null,
   "metadata": {
    "id": "aDz4vCVLXnpg",
    "colab": {
     "base_uri": "https://localhost:8080/",
     "height": 424
    },
    "executionInfo": {
     "status": "ok",
     "timestamp": 1669298647398,
     "user_tz": -60,
     "elapsed": 10,
     "user": {
      "displayName": "Dominika Wnuk",
      "userId": "05926253260396442282"
     }
    },
    "outputId": "ada90870-0fe8-46bb-fb3f-e12d717ebd74",
    "ExecuteTime": {
     "start_time": "2024-01-06T18:36:15.037542900Z"
    }
   },
   "outputs": [],
   "source": [
    "## Utwórz nową kolumnę w salaries_sankey_df, która jest długością doświadczenia w programowaniu\n",
    "salaries_sankey_df[\"Programming Experience\"] = df[\"Q15\"]\n",
    "salaries_sankey_df"
   ]
  },
  {
   "cell_type": "code",
   "execution_count": null,
   "metadata": {
    "scrolled": false,
    "id": "p9qQbtJkXnph",
    "colab": {
     "base_uri": "https://localhost:8080/",
     "height": 817
    },
    "executionInfo": {
     "status": "ok",
     "timestamp": 1669298647398,
     "user_tz": -60,
     "elapsed": 9,
     "user": {
      "displayName": "Dominika Wnuk",
      "userId": "05926253260396442282"
     }
    },
    "outputId": "6b3e83a2-36e9-41b1-be27-dd25ae63307e",
    "ExecuteTime": {
     "start_time": "2024-01-06T18:36:15.037542900Z"
    }
   },
   "outputs": [],
   "source": [
    "## Zmień indeks i wy świetl wykres Sankeya\n",
    "# Usuń kolumny Age i Gender ci zmień indeksy ramki na:\n",
    "# Role, Programming Experience, Region, Education, Salary\n",
    "salaries_sankey_df = salaries_sankey_df.rename(columns={\"Country\": \"Region\"})\n",
    "salaries_sankey_df = salaries_sankey_df.reindex([\"Role\", \"Programming Experience\", \"Region\", \"Education\", \"Salary\"], axis=1)\n",
    "node_labels, link = get_sankey_data(salaries_sankey_df)\n",
    "fig = go.Figure(data=[go.Sankey(\n",
    "    node = dict(\n",
    "      pad = 15,\n",
    "      thickness = 20,\n",
    "      line = dict(color = \"black\", width = 0.5),\n",
    "      label = node_labels,\n",
    "      color = \"blue\"\n",
    "    ),\n",
    "    link = link)])\n",
    "\n",
    "fig.update_layout(title_text=\"Sankey Diagram (Role, Programming Experience, Region, Education, Salary)\", font_size=10, height=800)\n",
    "fig.show()"
   ]
  },
  {
   "cell_type": "markdown",
   "metadata": {
    "id": "DtxkLcK7Xnpi"
   },
   "source": [
    "Informacje i ścieżki do różnych przedziałów wynagrodzeń stają się teraz znacznie bardziej zrozumiałe do interpretacji. Niektóre interesujące odkrycia, które znalazłam na tym wykresie, to fakt, że jest kilku inżynierów oprogramowania i naukowców zajmujących się danymi, którzy nigdy wcześniej nie pisali kodu - nie jestem przekonana, czy to prawda, ale jest ich niewielu, więc moglibyśmy to przyjąć jako obserwacje odstające. Większość osób zarabiających powyżej 150 000 wydaje się mieć stopień magistra lub doktora. Zabawa z kolejnością indeksowania może szybko umożliwić wyciągnięcie wniosków z różnych kombinacji kolumn (np. umieszczając Education przed Job title, możemy zobaczyć, w jakie role obejmą ludzie, na podstawie ich wykształcenia).\n",
    "\n",
    "Ostatni wykres dla pytania 9, które dotyczy umiejętności i obowiązków związanych z ich obecną pracą. Utwórz poboczne wykresy tych umiejętności, zagregowane, dla każdego przedziału wynagrodzeń. Użyj 6 przedziałów wynagrodzeń, które zdefiniowaliśmy wcześniej. Upewnij się, że kolumny tworzonej ramki danych skills są nienaruszone i zademonstruj swój wykres/i wszelkie inne dane wyjściowe Pythona w zrozumiały sposób."
   ]
  },
  {
   "cell_type": "code",
   "execution_count": null,
   "metadata": {
    "id": "8HUV5gX-Xnpi",
    "colab": {
     "base_uri": "https://localhost:8080/",
     "height": 486
    },
    "executionInfo": {
     "status": "ok",
     "timestamp": 1669298647398,
     "user_tz": -60,
     "elapsed": 9,
     "user": {
      "displayName": "Dominika Wnuk",
      "userId": "05926253260396442282"
     }
    },
    "outputId": "8a891290-65aa-414f-a842-f0e1f89cc4cc",
    "ExecuteTime": {
     "start_time": "2024-01-06T18:36:15.053184800Z"
    }
   },
   "outputs": [],
   "source": [
    "skills_df = get_df_for_dummies(df, \"Q9_Part_\", 9)\n",
    "skills_df = get_dummies_col(skills_df, sep=\"::\")\n",
    "skills_dummies = dummies_from_series(skills_df, sep=\"::\")\n",
    "skills_grouped = group_dummies_by(skills_dummies, salaries_sankey_df[\"Salary\"])\n",
    "skills_grouped = skills_grouped.reindex([\"0 - 29,999\", \"30,000 - 79,999\", \"80,000 - 149,999\", \"150,000 - 299,999\", \"300,000-500,000\", \"> $500,000\"])\n",
    "skills_grouped"
   ]
  },
  {
   "cell_type": "code",
   "execution_count": null,
   "metadata": {
    "id": "_CMlSyeAXnpj",
    "colab": {
     "base_uri": "https://localhost:8080/"
    },
    "executionInfo": {
     "status": "ok",
     "timestamp": 1669298647398,
     "user_tz": -60,
     "elapsed": 9,
     "user": {
      "displayName": "Dominika Wnuk",
      "userId": "05926253260396442282"
     }
    },
    "outputId": "60357856-b4da-4ae3-c914-c4a350937b03",
    "ExecuteTime": {
     "start_time": "2024-01-06T18:36:15.053184800Z"
    }
   },
   "outputs": [],
   "source": [
    "skills_df_columns = skills_grouped.columns\n",
    "skills_df_columns_mapping = {col: i for i, col in enumerate(skills_df_columns)}\n",
    "skills_grouped = skills_grouped.rename(columns=skills_df_columns_mapping)\n",
    "[print(i, \"\\t\", col) for col, i in skills_df_columns_mapping.items()]\n",
    "print()"
   ]
  },
  {
   "cell_type": "code",
   "execution_count": null,
   "metadata": {
    "id": "addOvKU9Xnpj",
    "colab": {
     "base_uri": "https://localhost:8080/",
     "height": 817
    },
    "executionInfo": {
     "status": "ok",
     "timestamp": 1669298647729,
     "user_tz": -60,
     "elapsed": 336,
     "user": {
      "displayName": "Dominika Wnuk",
      "userId": "05926253260396442282"
     }
    },
    "outputId": "859cab9f-bc77-4f73-bb26-8bf6d3df7a16",
    "ExecuteTime": {
     "start_time": "2024-01-06T18:36:15.053184800Z"
    }
   },
   "outputs": [],
   "source": [
    "## Stwórz wykresy. Oś x powinna być 4 najlepszymi językami programowania, a oś y ich liczbą.\n",
    "fig = make_subplots(2, 3, subplot_titles=skills_grouped.index)\n",
    "for i, role in enumerate(skills_grouped.index):\n",
    "    row = (i // 3) + 1\n",
    "    col = (i % 3) + 1\n",
    "    skills_values = skills_grouped.iloc[i]\n",
    "    fig.add_trace(\n",
    "        go.Bar(x=skills_values.index, y=skills_values),\n",
    "        row=row, col=col\n",
    "    )\n",
    "    fig.update_xaxes(type=\"category\")\n",
    "fig.update_layout(showlegend=False, height=800, title=\"Skills/Responsibilities per Salary Bracket\")\n",
    "fig.show()"
   ]
  },
  {
   "cell_type": "markdown",
   "metadata": {
    "id": "eqzuBhRRXnpk"
   },
   "source": [
    "**Obserwacje:**\n",
    "- We wszystkich przedziałach wynagrodzeń obecne jest 0 -„Analyze and understand data to influence product or business decisions”.\n",
    "- Oprócz najniższego i najwyższego przedziału, wygląda na to, że wiele zadań obejmuje 3 - \"Builing prototypes which explores applying machine learning to new area\".\n",
    "- Dwa górne przedziały wynagrodzeń mają wyższą względną częstotliwość odpowiedzi 4 - \"Do research that advances the state of the art of machine learning\".\n",
    "- Wydaje się, że w ostatnich trzech nawiasach wyższy odsetek pracowników ma odpowiedzialność za opcję 5 - \"Experimentation and iteration to improve existing ML models\".\n",
    "- Opcja 7 - \"None/NA\" - wydaje się być bardziej rozpowszechniona w dwóch dolnych nawiasach i najwyższym nawiasie. Podejrzewam, że powodem tego jest to, że żaden z opisów stanowisk nie odnosi się do tych osób, podczas gdy pozostałe trzy przedziały mają obowiązki skoncentrowane bardziej na data science i uczeniu maszynowym.\n",
    "\n",
    "Jaki rodzaj wykresu mógł pokazać te informacje w bardziej przejrzysty i zwięzły sposób?"
   ]
  }
 ],
 "metadata": {
  "kernelspec": {
   "display_name": "Python 3",
   "language": "python",
   "name": "python3"
  },
  "language_info": {
   "codemirror_mode": {
    "name": "ipython",
    "version": 3
   },
   "file_extension": ".py",
   "mimetype": "text/x-python",
   "name": "python",
   "nbconvert_exporter": "python",
   "pygments_lexer": "ipython3",
   "version": "3.7.6"
  },
  "colab": {
   "provenance": [],
   "toc_visible": true
  }
 },
 "nbformat": 4,
 "nbformat_minor": 0
}
