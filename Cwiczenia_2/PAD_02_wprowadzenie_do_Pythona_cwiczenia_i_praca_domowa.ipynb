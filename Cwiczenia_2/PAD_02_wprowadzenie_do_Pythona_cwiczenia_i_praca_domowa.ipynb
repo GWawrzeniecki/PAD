{
 "nbformat": 4,
 "nbformat_minor": 0,
 "metadata": {
  "colab": {
   "provenance": [],
   "authorship_tag": "ABX9TyPfvCA8avt9JyH+RrMyhpFb"
  },
  "kernelspec": {
   "name": "python3",
   "language": "python",
   "display_name": "Python 3 (ipykernel)"
  },
  "language_info": {
   "name": "python"
  }
 },
 "cells": [
  {
   "cell_type": "markdown",
   "source": [
    "## iterator"
   ],
   "metadata": {
    "id": "YBf77-O2VMaK"
   }
  },
  {
   "cell_type": "markdown",
   "source": [
    "## generator"
   ],
   "metadata": {
    "id": "HgA0kNjTVXwG"
   }
  },
  {
   "cell_type": "code",
   "execution_count": 27,
   "outputs": [
    {
     "name": "stdout",
     "output_type": "stream",
     "text": [
      "0\n",
      "0\n",
      "0\n",
      "1\n",
      "1\n",
      "2\n",
      "4\n",
      "8\n",
      "15\n",
      "29\n"
     ]
    }
   ],
   "source": [
    "'''\n",
    "Zadanie 1\n",
    "Zaimplementuj własny iterator o nazwie tetranacci, zwracający kolejne liczby ciągu Tetranacciego.\n",
    "Funkcja __init__ powinna posiadać parametr o nazwie steps określający liczbę wyrazów ciągu,\n",
    "po których funkcja __next__ rzuca wyjątek StopIteration.\n",
    "Napisz program, w którym wykorzystasz swój iterator do wypisania na ekranie kolejnych wyrazów tego ciągu.\n",
    "Niech liczbę wyrazów do wypisania podaje użytkownik.\n",
    "\n",
    "'''\n",
    "\n",
    "\n",
    "class Tetranacci:\n",
    "    def __init__(self, steps):\n",
    "        self.steps = steps\n",
    "        self.counter = 0\n",
    "        self.values = [0,0,0,1]\n",
    "        \n",
    "    def __iter__(self):\n",
    "        return self\n",
    "    \n",
    "    def __next__(self):\n",
    "        if self.counter < self.steps:\n",
    "            self.counter += 1\n",
    "            if self.counter <= 4:\n",
    "                return self.values[self.counter-1]\n",
    "            else:\n",
    "                next_value = sum(self.values)\n",
    "                self.values = self.values[1:] + [next_value]\n",
    "                return next_value\n",
    "        else:\n",
    "            raise StopIteration\n",
    "        \n",
    "steps = int(input())\n",
    "tet = Tetranacci(steps)\n",
    "\n",
    "for val in tet:\n",
    "    print(val)\n"
   ],
   "metadata": {
    "collapsed": false,
    "ExecuteTime": {
     "end_time": "2023-10-24T08:06:36.855406Z",
     "start_time": "2023-10-24T08:06:35.857033Z"
    }
   }
  },
  {
   "cell_type": "code",
   "source": [
    "'''\n",
    "Zadanie 2\n",
    "Zaimplementuj własny generator o nazwie accumulate,\n",
    "zwracający kolejne sumy elementów z podanego obiektu iterowalnego.\n",
    "'''\n",
    "\n",
    "def accumulate(iterable_object):\n",
    "    total = 0\n",
    "    for val in iterable_object:\n",
    "        total += val\n",
    "        yield total\n",
    "        \n",
    "it_ob = [1,2,3,4,5,6]\n",
    "acc = accumulate(it_ob)\n",
    "\n",
    "for val in acc:\n",
    "    print(val)"
   ],
   "metadata": {
    "id": "hl3BhofyVdoH",
    "ExecuteTime": {
     "end_time": "2023-10-15T11:56:48.334411Z",
     "start_time": "2023-10-15T11:56:48.324707Z"
    }
   },
   "execution_count": 59,
   "outputs": [
    {
     "name": "stdout",
     "output_type": "stream",
     "text": [
      "1\n",
      "3\n",
      "6\n",
      "10\n",
      "15\n",
      "21\n"
     ]
    }
   ]
  },
  {
   "cell_type": "code",
   "source": [
    "'''\n",
    "Zadanie 3\n",
    "\n",
    "Napisz własny dekorator o nazwie hello. Wynikiem jego działania powinno być:\n",
    "• wypisanie na ekranie napisu hello\n",
    "• wywołanie funkcji przekazanej jako argument.\n",
    "'''\n",
    "\n",
    "def hello(func):\n",
    "    def wrapper(*args, **kwargs):\n",
    "        print(\"hello\")\n",
    "        return func(*args, **kwargs)\n",
    "    return wrapper\n",
    "\n",
    "@hello\n",
    "def greet(name):\n",
    "    print(f\"Nice to meet you {name}\")\n",
    "    \n",
    "greet(\"Grzegorz\")"
   ],
   "metadata": {
    "id": "ffhbiOTJVnmB",
    "ExecuteTime": {
     "end_time": "2023-10-24T07:58:41.473089Z",
     "start_time": "2023-10-24T07:58:41.464286Z"
    }
   },
   "execution_count": 17,
   "outputs": [
    {
     "name": "stdout",
     "output_type": "stream",
     "text": [
      "hello\n",
      "Nice to meet you Grzegorz\n"
     ]
    }
   ]
  },
  {
   "cell_type": "code",
   "source": [
    "'''\n",
    "Zadanie 4\n",
    "Zaimplementuj własną funkcję o nazwie tetranacci, zwracający określony element ciągu Tetranacciego.\n",
    "Funkcja powinna posiadać parametr o nazwie n określający numer wyrazu ciągu do obliczenia.\n",
    "Obliczenia wykonuj rekurencyjnie.\n",
    "'''\n",
    "\n",
    "def tetranacci(n):\n",
    "    if n == 1 or n == 2 or n == 3:\n",
    "        return 0\n",
    "    elif n == 4:\n",
    "        return 1\n",
    "    else:\n",
    "        return tetranacci(n-1) + tetranacci(n-2) + tetranacci(n-3) + tetranacci(n-4)\n",
    "    \n",
    "print(tetranacci(1))\n",
    "    "
   ],
   "metadata": {
    "id": "NjZRSS6sVrm5",
    "ExecuteTime": {
     "end_time": "2023-10-24T09:04:40.621800Z",
     "start_time": "2023-10-24T09:04:40.612973Z"
    }
   },
   "execution_count": 65,
   "outputs": [
    {
     "name": "stdout",
     "output_type": "stream",
     "text": [
      "0\n"
     ]
    }
   ]
  },
  {
   "cell_type": "markdown",
   "source": [
    "## klasy"
   ],
   "metadata": {
    "id": "eDFgAg3cWRAk"
   }
  },
  {
   "cell_type": "code",
   "source": [
    "'''\n",
    "Zadanie 5\n",
    "Stwórz klasę Pojazd z atrybutami predkosc_max i przebieg\n",
    "stwórz instancję klasy i wydrukuj jej atrybuty do konsoli\n",
    "tworzac instancję możesz podać dowolne wielkości\n",
    "'''\n",
    "\n",
    "class Pojazd:\n",
    "    def __init__(self, predkosc_max, przebieg):\n",
    "        self.predkosc_max = predkosc_max\n",
    "        self.przebieg = przebieg\n",
    "        \n",
    "pojazd = Pojazd(200,400)\n",
    "print(pojazd.predkosc_max)\n",
    "print(pojazd.przebieg)"
   ],
   "metadata": {
    "id": "LMrKGhhSWMM8",
    "ExecuteTime": {
     "end_time": "2023-10-24T08:22:40.849974Z",
     "start_time": "2023-10-24T08:22:40.842711Z"
    }
   },
   "execution_count": 31,
   "outputs": [
    {
     "name": "stdout",
     "output_type": "stream",
     "text": [
      "200\n",
      "400\n"
     ]
    }
   ]
  },
  {
   "cell_type": "code",
   "source": [
    "'''\n",
    "Zadanie 6\n",
    "Stwórz klasę Autobus, która dziedziczy po Pojeździe utworzonym wcześniej,\n",
    "ale do atrybutów Pojazdu dodaj jeszcze nazwę modelu\n",
    "stwórz instancję klasy i wydrukuj jej atrybuty\n",
    "'''\n",
    "\n",
    "class Autobus(Pojazd):\n",
    "    def __init__(self, predkosc_max, przebieg, model):\n",
    "        super().__init__(predkosc_max, przebieg)\n",
    "        self.model = model\n",
    "\n",
    "autobus = Autobus(100,1000,\"Mercedes\")\n",
    "print(autobus.predkosc_max)\n",
    "print(autobus.przebieg)\n",
    "print(autobus.model)\n"
   ],
   "metadata": {
    "id": "z_dYT1f5Wexv",
    "ExecuteTime": {
     "end_time": "2023-10-24T08:25:35.885679Z",
     "start_time": "2023-10-24T08:25:35.875774Z"
    }
   },
   "execution_count": 37,
   "outputs": [
    {
     "name": "stdout",
     "output_type": "stream",
     "text": [
      "100\n",
      "1000\n",
      "Mercedes\n"
     ]
    }
   ]
  },
  {
   "cell_type": "code",
   "source": [
    "'''\n",
    "Zadanie 7\n",
    "klasie Pojazd utwórz metodę liczba_miejsc, która będzie przyjmowała jako argument liczbę miejsc i wyświetlała komunikat:\n",
    "\"{TU WSTAWIMY NAZWE POJAZDU} pomieści {LICZBA MIEJSC} osób.\"\n",
    "Klasa Autobus ma też dziedziczyć tę metodę, ale dodatkowo przyjmować wartość domyślną dla liczby miejsc = 50\n",
    "Utwórz instancję klasy aby zaprezentować działanie\n",
    "'''\n",
    "\n",
    "class Pojazd:\n",
    "    def __init__(self, predkosc_max, przebieg,model):\n",
    "        self.predkosc_max = predkosc_max\n",
    "        self.przebieg = przebieg\n",
    "        self.model = model\n",
    "    \n",
    "    def liczba_miejsc(self, miejsca):\n",
    "        return f\"{self.model} pomieści {miejsca} osób\"\n",
    "    \n",
    "class Autobus(Pojazd):\n",
    "    def liczba_miejsc(self, miejsca=50):\n",
    "        return f\"{self. model} pomieści {miejsca} osób\"\n",
    "    \n",
    "pojazd = Pojazd(200,34,\"Pojazd XYZ\")\n",
    "autobus = Autobus(150,200,\"Autobus XYZ\")\n",
    "\n",
    "print(pojazd.liczba_miejsc(10))\n",
    "\n",
    "print(autobus.liczba_miejsc())\n"
   ],
   "metadata": {
    "id": "CDj9cBQoWj-v",
    "ExecuteTime": {
     "end_time": "2023-10-24T08:35:44.779738Z",
     "start_time": "2023-10-24T08:35:44.773256Z"
    }
   },
   "execution_count": 54,
   "outputs": [
    {
     "name": "stdout",
     "output_type": "stream",
     "text": [
      "Pojazd XYZ pomieści 10 osób\n",
      "Autobus XYZ pomieści 50 osób\n"
     ]
    }
   ]
  },
  {
   "cell_type": "code",
   "source": [
    "'''\n",
    "Zadanie 8\n",
    "Sprawdź czy obiekt autobus jest instancją klasy Pojazd\n",
    "'''\n",
    "\n",
    "print(isinstance(autobus, Pojazd))"
   ],
   "metadata": {
    "id": "y2s80EMmWrKP",
    "ExecuteTime": {
     "end_time": "2023-10-15T11:45:56.394939Z",
     "start_time": "2023-10-15T11:45:56.388064Z"
    }
   },
   "execution_count": 27,
   "outputs": [
    {
     "name": "stdout",
     "output_type": "stream",
     "text": [
      "True\n"
     ]
    }
   ]
  },
  {
   "cell_type": "markdown",
   "source": [
    "## PRACA DOMOWA (15 pkt)"
   ],
   "metadata": {
    "id": "jjNBmv7pVwP_"
   }
  },
  {
   "cell_type": "code",
   "source": [
    "'''\n",
    "Zadanie 1 (4 pkt)\n",
    "Wykorzystując dekoratory, napisz cache dla funkcji tetranacci z poprzedniego zadania.\n",
    "Ten dekorator powinien zapobiegać przed ponownym obliczaniem tych samych wartości.\n",
    "'''\n",
    "\n",
    "class Cache:\n",
    "   cache_values = {}\n",
    "   \n",
    "   @staticmethod\n",
    "   def cache(func):\n",
    "       def wrapper(*args, **kwargs):      \n",
    "           if args in Cache.cache_values:\n",
    "               print(\"from cache\")\n",
    "               return Cache.cache_values[args]\n",
    "           else:\n",
    "                result = func(*args,**kwargs)\n",
    "                print(\"calculated\")\n",
    "                Cache.cache_values[args] = result\n",
    "                return result\n",
    "       return wrapper\n",
    "        \n",
    "            \n",
    "@Cache.cache\n",
    "def tetranacci(n):\n",
    "    if n == 1 or n == 2 or n == 3:\n",
    "        return 0\n",
    "    elif n == 4:\n",
    "        return 1\n",
    "    else:\n",
    "        return tetranacci(n-1) + tetranacci(n-2) + tetranacci(n-3) + tetranacci(n-4)\n",
    "    \n",
    "print(tetranacci(1))\n",
    "\n",
    "print(tetranacci(1))\n",
    "\n",
    "print(tetranacci(100))\n",
    "\n",
    "print(tetranacci(100))"
   ],
   "metadata": {
    "id": "TTUMq_uuVx32",
    "ExecuteTime": {
     "end_time": "2023-10-24T09:23:40.949665Z",
     "start_time": "2023-10-24T09:23:40.915710Z"
    }
   },
   "execution_count": 105,
   "outputs": [
    {
     "name": "stdout",
     "output_type": "stream",
     "text": [
      "calculated\n",
      "0\n",
      "from cache\n",
      "0\n",
      "calculated\n",
      "calculated\n",
      "calculated\n",
      "from cache\n",
      "calculated\n",
      "from cache\n",
      "from cache\n",
      "from cache\n",
      "calculated\n",
      "from cache\n",
      "from cache\n",
      "from cache\n",
      "calculated\n",
      "from cache\n",
      "from cache\n",
      "from cache\n",
      "calculated\n",
      "from cache\n",
      "from cache\n",
      "from cache\n",
      "calculated\n",
      "from cache\n",
      "from cache\n",
      "from cache\n",
      "calculated\n",
      "from cache\n",
      "from cache\n",
      "from cache\n",
      "calculated\n",
      "from cache\n",
      "from cache\n",
      "from cache\n",
      "calculated\n",
      "from cache\n",
      "from cache\n",
      "from cache\n",
      "calculated\n",
      "from cache\n",
      "from cache\n",
      "from cache\n",
      "calculated\n",
      "from cache\n",
      "from cache\n",
      "from cache\n",
      "calculated\n",
      "from cache\n",
      "from cache\n",
      "from cache\n",
      "calculated\n",
      "from cache\n",
      "from cache\n",
      "from cache\n",
      "calculated\n",
      "from cache\n",
      "from cache\n",
      "from cache\n",
      "calculated\n",
      "from cache\n",
      "from cache\n",
      "from cache\n",
      "calculated\n",
      "from cache\n",
      "from cache\n",
      "from cache\n",
      "calculated\n",
      "from cache\n",
      "from cache\n",
      "from cache\n",
      "calculated\n",
      "from cache\n",
      "from cache\n",
      "from cache\n",
      "calculated\n",
      "from cache\n",
      "from cache\n",
      "from cache\n",
      "calculated\n",
      "from cache\n",
      "from cache\n",
      "from cache\n",
      "calculated\n",
      "from cache\n",
      "from cache\n",
      "from cache\n",
      "calculated\n",
      "from cache\n",
      "from cache\n",
      "from cache\n",
      "calculated\n",
      "from cache\n",
      "from cache\n",
      "from cache\n",
      "calculated\n",
      "from cache\n",
      "from cache\n",
      "from cache\n",
      "calculated\n",
      "from cache\n",
      "from cache\n",
      "from cache\n",
      "calculated\n",
      "from cache\n",
      "from cache\n",
      "from cache\n",
      "calculated\n",
      "from cache\n",
      "from cache\n",
      "from cache\n",
      "calculated\n",
      "from cache\n",
      "from cache\n",
      "from cache\n",
      "calculated\n",
      "from cache\n",
      "from cache\n",
      "from cache\n",
      "calculated\n",
      "from cache\n",
      "from cache\n",
      "from cache\n",
      "calculated\n",
      "from cache\n",
      "from cache\n",
      "from cache\n",
      "calculated\n",
      "from cache\n",
      "from cache\n",
      "from cache\n",
      "calculated\n",
      "from cache\n",
      "from cache\n",
      "from cache\n",
      "calculated\n",
      "from cache\n",
      "from cache\n",
      "from cache\n",
      "calculated\n",
      "from cache\n",
      "from cache\n",
      "from cache\n",
      "calculated\n",
      "from cache\n",
      "from cache\n",
      "from cache\n",
      "calculated\n",
      "from cache\n",
      "from cache\n",
      "from cache\n",
      "calculated\n",
      "from cache\n",
      "from cache\n",
      "from cache\n",
      "calculated\n",
      "from cache\n",
      "from cache\n",
      "from cache\n",
      "calculated\n",
      "from cache\n",
      "from cache\n",
      "from cache\n",
      "calculated\n",
      "from cache\n",
      "from cache\n",
      "from cache\n",
      "calculated\n",
      "from cache\n",
      "from cache\n",
      "from cache\n",
      "calculated\n",
      "from cache\n",
      "from cache\n",
      "from cache\n",
      "calculated\n",
      "from cache\n",
      "from cache\n",
      "from cache\n",
      "calculated\n",
      "from cache\n",
      "from cache\n",
      "from cache\n",
      "calculated\n",
      "from cache\n",
      "from cache\n",
      "from cache\n",
      "calculated\n",
      "from cache\n",
      "from cache\n",
      "from cache\n",
      "calculated\n",
      "from cache\n",
      "from cache\n",
      "from cache\n",
      "calculated\n",
      "from cache\n",
      "from cache\n",
      "from cache\n",
      "calculated\n",
      "from cache\n",
      "from cache\n",
      "from cache\n",
      "calculated\n",
      "from cache\n",
      "from cache\n",
      "from cache\n",
      "calculated\n",
      "from cache\n",
      "from cache\n",
      "from cache\n",
      "calculated\n",
      "from cache\n",
      "from cache\n",
      "from cache\n",
      "calculated\n",
      "from cache\n",
      "from cache\n",
      "from cache\n",
      "calculated\n",
      "from cache\n",
      "from cache\n",
      "from cache\n",
      "calculated\n",
      "from cache\n",
      "from cache\n",
      "from cache\n",
      "calculated\n",
      "from cache\n",
      "from cache\n",
      "from cache\n",
      "calculated\n",
      "from cache\n",
      "from cache\n",
      "from cache\n",
      "calculated\n",
      "from cache\n",
      "from cache\n",
      "from cache\n",
      "calculated\n",
      "from cache\n",
      "from cache\n",
      "from cache\n",
      "calculated\n",
      "from cache\n",
      "from cache\n",
      "from cache\n",
      "calculated\n",
      "from cache\n",
      "from cache\n",
      "from cache\n",
      "calculated\n",
      "from cache\n",
      "from cache\n",
      "from cache\n",
      "calculated\n",
      "from cache\n",
      "from cache\n",
      "from cache\n",
      "calculated\n",
      "from cache\n",
      "from cache\n",
      "from cache\n",
      "calculated\n",
      "from cache\n",
      "from cache\n",
      "from cache\n",
      "calculated\n",
      "from cache\n",
      "from cache\n",
      "from cache\n",
      "calculated\n",
      "from cache\n",
      "from cache\n",
      "from cache\n",
      "calculated\n",
      "from cache\n",
      "from cache\n",
      "from cache\n",
      "calculated\n",
      "from cache\n",
      "from cache\n",
      "from cache\n",
      "calculated\n",
      "from cache\n",
      "from cache\n",
      "from cache\n",
      "calculated\n",
      "from cache\n",
      "from cache\n",
      "from cache\n",
      "calculated\n",
      "from cache\n",
      "from cache\n",
      "from cache\n",
      "calculated\n",
      "from cache\n",
      "from cache\n",
      "from cache\n",
      "calculated\n",
      "from cache\n",
      "from cache\n",
      "from cache\n",
      "calculated\n",
      "from cache\n",
      "from cache\n",
      "from cache\n",
      "calculated\n",
      "from cache\n",
      "from cache\n",
      "from cache\n",
      "calculated\n",
      "from cache\n",
      "from cache\n",
      "from cache\n",
      "calculated\n",
      "from cache\n",
      "from cache\n",
      "from cache\n",
      "calculated\n",
      "from cache\n",
      "from cache\n",
      "from cache\n",
      "calculated\n",
      "from cache\n",
      "from cache\n",
      "from cache\n",
      "calculated\n",
      "from cache\n",
      "from cache\n",
      "from cache\n",
      "calculated\n",
      "from cache\n",
      "from cache\n",
      "from cache\n",
      "calculated\n",
      "from cache\n",
      "from cache\n",
      "from cache\n",
      "calculated\n",
      "from cache\n",
      "from cache\n",
      "from cache\n",
      "calculated\n",
      "from cache\n",
      "from cache\n",
      "from cache\n",
      "calculated\n",
      "from cache\n",
      "from cache\n",
      "from cache\n",
      "calculated\n",
      "from cache\n",
      "from cache\n",
      "from cache\n",
      "calculated\n",
      "from cache\n",
      "from cache\n",
      "from cache\n",
      "calculated\n",
      "from cache\n",
      "from cache\n",
      "from cache\n",
      "calculated\n",
      "from cache\n",
      "from cache\n",
      "from cache\n",
      "calculated\n",
      "from cache\n",
      "from cache\n",
      "from cache\n",
      "calculated\n",
      "from cache\n",
      "from cache\n",
      "from cache\n",
      "calculated\n",
      "from cache\n",
      "from cache\n",
      "from cache\n",
      "calculated\n",
      "from cache\n",
      "from cache\n",
      "from cache\n",
      "calculated\n",
      "from cache\n",
      "from cache\n",
      "from cache\n",
      "calculated\n",
      "1299813666022576563302979257\n",
      "from cache\n",
      "1299813666022576563302979257\n"
     ]
    }
   ]
  },
  {
   "cell_type": "code",
   "source": [
    "'''\n",
    "Zadanie 2 (4 pkt)\n",
    "Zaimplementuj własny generator o nazwie repeat, zwracający obiekt podany przez użytkownika dokładnie N razy.\n",
    "Jeśli wartość parametru N nie została określona, generator powinien zwracać wartości w nieskończoność.\n",
    "\n",
    "PRZYKŁAD\n",
    "repeat(10, 3) → 10 10 10\n",
    "repeat(10, 5) → 10 10 10 10 10\n",
    "repeat(5) → 5 5 5 5 5 5 5 5 5 5 5 5 5 5 5…\n",
    "repeat(5, None) → 5 5 5 5 5 5 5 5 5 5 5 5 5 5 5…\n",
    "'''\n",
    "\n",
    "def repeat(val,times = None):\n",
    "       count = 0\n",
    "       while times is None or count < times:\n",
    "           yield val\n",
    "           count +=1\n",
    "                \n",
    "for val in repeat(10,2):\n",
    "    print(val,end=' ')"
   ],
   "metadata": {
    "id": "Q_Ur2Z9uWF-l",
    "ExecuteTime": {
     "end_time": "2023-10-24T11:16:43.479199Z",
     "start_time": "2023-10-24T11:16:43.401225Z"
    }
   },
   "execution_count": 164,
   "outputs": [
    {
     "name": "stdout",
     "output_type": "stream",
     "text": [
      "10 10 "
     ]
    }
   ]
  },
  {
   "cell_type": "code",
   "source": [
    "'''\n",
    "Zadanie 3 (1 pkt)\n",
    "W kodzie z zajęć w klasie Pojazd utwórz atrybut, który niezależnie od utworzonego obiektu będzie miał taką samą wartość.\n",
    "każdy obiekt ma mieć kolor biały\n",
    "'''\n",
    "\n",
    "class Pojazd:\n",
    "    kolor = \"biały\"\n",
    "    def __init__(self, predkosc_max, przebieg):\n",
    "        self.predkosc_max = predkosc_max\n",
    "        self.przebieg = przebieg\n",
    "        \n",
    "pojazd1 = Pojazd(10,10)\n",
    "pojazd2 = Pojazd(10,10)\n",
    "\n",
    "print(pojazd1.kolor)\n",
    "print(pojazd2.kolor)\n",
    "        "
   ],
   "metadata": {
    "id": "gChh80FsWzT7",
    "ExecuteTime": {
     "end_time": "2023-10-24T11:15:47.292335Z",
     "start_time": "2023-10-24T11:15:47.193482Z"
    }
   },
   "execution_count": 163,
   "outputs": [
    {
     "name": "stdout",
     "output_type": "stream",
     "text": [
      "biały\n",
      "biały\n"
     ]
    }
   ]
  },
  {
   "cell_type": "code",
   "source": [
    "'''\n",
    "Zadanie 4 (2 pkt)\n",
    "Wykorzystaj klasy Autobus i Pojazd.\n",
    "Zdefiniuj metodę opłata, k†óra będzie miała wartość domyślną liczba_miejsc * 100\n",
    "Jeżeli Pojazd jest instancją Autobusu, opłata ma zostać powiększona o 10% wartości opłaty początkowej.\n",
    "Np. jeżeli autobus domyślnie ma 50 miejsc to opłata całkowita wyniesie 5500\n",
    "'''\n",
    "\n",
    "class Pojazd:\n",
    "    def __init__(self, liczba_miejsc):\n",
    "        self.liczba_miejsc = liczba_miejsc\n",
    "    \n",
    "    def oplata(self):\n",
    "        return self.liczba_miejsc * 100\n",
    "    \n",
    "class Autobus(Pojazd):\n",
    "    def oplata(self):\n",
    "        return super().oplata() + super().oplata() * 0.1\n",
    "    \n",
    "    \n",
    "\n",
    "autobus = Autobus(50)\n",
    "print(autobus.oplata())\n",
    "    \n"
   ],
   "metadata": {
    "id": "Q4Js_zjIXHZi",
    "ExecuteTime": {
     "end_time": "2023-10-24T11:33:25.436291Z",
     "start_time": "2023-10-24T11:33:25.429557Z"
    }
   },
   "execution_count": 177,
   "outputs": [
    {
     "name": "stdout",
     "output_type": "stream",
     "text": [
      "5500.0\n"
     ]
    }
   ]
  },
  {
   "cell_type": "code",
   "source": [
    "'''\n",
    "Zadanie 5 (4 pkt)\n",
    "Napisz klasę FunkcjaKwadratowa, która przechowuje funkcje typu $ax^2$+bx+c.\n",
    "Klasa powinna zawierać trzy pola: a, b, c, które są przypisywane w konstruktorze.\n",
    "Główną metodą powinna być rozwiaz(), która zwraca miejsca zerowe podanej funkcji.\n",
    "Należy zwrócić uwagę na przypadki gdy a=0, b=0 lub c=0,\n",
    "a także obmyślić sposób informowania o nieskończonej liczbie, jednym lub zerze rozwiązań.\n",
    "'''\n",
    "\n",
    "'''\n",
    "początek kodu dla ułatwienia\n",
    "\n",
    "'''\n",
    "import math\n",
    "\n",
    "class FunkcjaKwadratowa:\n",
    "    def __init__(self, a, b, c):\n",
    "        self.a = a\n",
    "        self.b = b\n",
    "        self.c = c\n",
    "        \n",
    "\n",
    "    def wypisz(self):\n",
    "        print(f\"a: {self.a}\")\n",
    "        print(f\"b: {self.b}\")\n",
    "        print(f\"c: {self.c}\")\n",
    "        \n",
    "    def oblicz_wartosc(self, x):\n",
    "        return self.a * x**2 + self.b * x  + self.c\n",
    "\n",
    "    def rozwiaz(self):\n",
    "        delta = self.b**2 - 4 * self.a * self.c\n",
    "        \n",
    "        if self.a == 0 and self.b != 0:\n",
    "            x = -1 * (self.c / self.b)\n",
    "            return f\"X: {x}\"\n",
    "        elif self.a == 0 and self.b == 0 and self.c !=0:\n",
    "            return \"Funkcja nie ma miejsc zerowych\"\n",
    "        elif self.a == 0 and self.b == 0 and self.c == 0:\n",
    "            return \"Funkcja ma nieskończenie wiele miejsc zerowych\"\n",
    "        elif self.b == 0:\n",
    "             wartosc_pod_pierwiastkiem = -1 * (self.c / self.a)\n",
    "             if wartosc_pod_pierwiastkiem > 0:\n",
    "                x_one = math.sqrt(wartosc_pod_pierwiastkiem)\n",
    "                x_two = -1 * math.sqrt(wartosc_pod_pierwiastkiem)\n",
    "                return f\"X1: {x_one} X2: {x_two}\"\n",
    "             else:\n",
    "                return \"Funkcja nie ma miejsc zerowych\"\n",
    "    \n",
    "        if delta > 0:            \n",
    "            x_one = (-self.b - math.sqrt(delta)) / (2 * self.a)\n",
    "            x_two = ((-self.b) + math.sqrt(delta)) / (2 * self.a)\n",
    "            return f\"X1: {x_one} X2: {x_two}\"\n",
    "        elif delta == 0:\n",
    "            x_zero = -1 * (self.b / (2 * self.a))\n",
    "            return f\"X0: {x_zero}\"\n",
    "        else:\n",
    "            return \"Funkcja nie ma miejsc zerowych\"\n",
    "        \n",
    "   \n",
    "    \n",
    "        \n",
    "def main():\n",
    "    f1 = FunkcjaKwadratowa(2, 3, 1)\n",
    "    f1.wypisz()\n",
    "    print(f1.oblicz_wartosc(0))\n",
    "    print(f1.oblicz_wartosc(1))\n",
    "\n",
    "    print(FunkcjaKwadratowa(0, 0, 0).rozwiaz())\n",
    "    print(FunkcjaKwadratowa(0, 0, 1).rozwiaz())\n",
    "    print(FunkcjaKwadratowa(0, 2, 3).rozwiaz())\n",
    "    print(FunkcjaKwadratowa(1, 2, 3).rozwiaz())\n",
    "    print(FunkcjaKwadratowa(1, -5, 6).rozwiaz())\n",
    "    print(FunkcjaKwadratowa(1, 4, 4).rozwiaz())\n",
    "\n",
    "if __name__ == \"__main__\":\n",
    "    main()"
   ],
   "metadata": {
    "id": "BsdImsIAXXsu",
    "ExecuteTime": {
     "end_time": "2023-10-24T17:21:55.753296Z",
     "start_time": "2023-10-24T17:21:55.734366Z"
    }
   },
   "execution_count": 227,
   "outputs": [
    {
     "name": "stdout",
     "output_type": "stream",
     "text": [
      "a: 2\n",
      "b: 3\n",
      "c: 1\n",
      "1\n",
      "6\n",
      "Funkcja ma nieskończenie wiele miejsc zerowych\n",
      "Funkcja nie ma miejsc zerowych\n",
      "X: -1.5\n",
      "Funkcja nie ma miejsc zerowych\n",
      "X1: 2.0 X2: 3.0\n",
      "X0: -2.0\n"
     ]
    }
   ]
  }
 ]
}
