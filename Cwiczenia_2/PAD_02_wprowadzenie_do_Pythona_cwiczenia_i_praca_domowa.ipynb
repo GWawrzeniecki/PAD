{
 "nbformat": 4,
 "nbformat_minor": 0,
 "metadata": {
  "colab": {
   "provenance": [],
   "authorship_tag": "ABX9TyPfvCA8avt9JyH+RrMyhpFb"
  },
  "kernelspec": {
   "name": "python3",
   "language": "python",
   "display_name": "Python 3 (ipykernel)"
  },
  "language_info": {
   "name": "python"
  }
 },
 "cells": [
  {
   "cell_type": "markdown",
   "source": [
    "## iterator"
   ],
   "metadata": {
    "id": "YBf77-O2VMaK"
   }
  },
  {
   "cell_type": "code",
   "execution_count": 58,
   "metadata": {
    "id": "MobBtdWEVEu1",
    "ExecuteTime": {
     "end_time": "2023-10-15T11:56:15.862264Z",
     "start_time": "2023-10-15T11:56:14.523435Z"
    }
   },
   "outputs": [
    {
     "name": "stdout",
     "output_type": "stream",
     "text": [
      "0\n",
      "0\n",
      "0\n",
      "1\n",
      "1\n",
      "2\n",
      "4\n",
      "8\n",
      "15\n",
      "29\n"
     ]
    }
   ],
   "source": [
    "'''\n",
    "Zadanie 1\n",
    "Zaimplementuj własny iterator o nazwie tetranacci, zwracający kolejne liczby ciągu Tetranacciego.\n",
    "Funkcja __init__ powinna posiadać parametr o nazwie steps określający liczbę wyrazów ciągu,\n",
    "po których funkcja __next__ rzuca wyjątek StopIteration.\n",
    "Napisz program, w którym wykorzystasz swój iterator do wypisania na ekranie kolejnych wyrazów tego ciągu.\n",
    "Niech liczbę wyrazów do wypisania podaje użytkownik.\n",
    "\n",
    "'''\n",
    "\n",
    "\n",
    "class Tetranacci:\n",
    "    def __init__(self, steps):\n",
    "        self.steps = steps\n",
    "        self.counter = 0\n",
    "        self.values = [0,0,0,1]\n",
    "        \n",
    "    def __iter__(self):\n",
    "        return self\n",
    "    \n",
    "    def __next__(self):\n",
    "        if self.counter < self.steps:\n",
    "            self.counter += 1\n",
    "            if self.counter <= 4:\n",
    "                return self.values[self.counter-1]\n",
    "            else:\n",
    "                next_value = sum(self.values)\n",
    "                self.values = self.values[1:] + [next_value]\n",
    "                return next_value\n",
    "        else:\n",
    "            raise StopIteration\n",
    "        \n",
    "steps = int(input())\n",
    "tet = Tetranacci(steps)\n",
    "\n",
    "for val in tet:\n",
    "    print(val)\n"
   ]
  },
  {
   "cell_type": "markdown",
   "source": [
    "## generator"
   ],
   "metadata": {
    "id": "HgA0kNjTVXwG"
   }
  },
  {
   "cell_type": "code",
   "source": [
    "'''\n",
    "Zadanie 2\n",
    "Zaimplementuj własny generator o nazwie accumulate,\n",
    "zwracający kolejne sumy elementów z podanego obiektu iterowalnego.\n",
    "'''\n",
    "\n",
    "def accumulate(iterable_object):\n",
    "    total = 0\n",
    "    for val in iterable_object:\n",
    "        total += val\n",
    "        yield total\n",
    "        \n",
    "it_ob = [1,2,3,4,5,6]\n",
    "acc = accumulate(it_ob)\n",
    "\n",
    "for val in acc:\n",
    "    print(val)"
   ],
   "metadata": {
    "id": "hl3BhofyVdoH",
    "ExecuteTime": {
     "end_time": "2023-10-15T11:56:48.334411Z",
     "start_time": "2023-10-15T11:56:48.324707Z"
    }
   },
   "execution_count": 59,
   "outputs": [
    {
     "name": "stdout",
     "output_type": "stream",
     "text": [
      "1\n",
      "3\n",
      "6\n",
      "10\n",
      "15\n",
      "21\n"
     ]
    }
   ]
  },
  {
   "cell_type": "code",
   "source": [
    "'''\n",
    "Zadanie 3\n",
    "\n",
    "Napisz własny dekorator o nazwie hello. Wynikiem jego działania powinno być:\n",
    "• wypisanie na ekranie napisu hello\n",
    "• wywołanie funkcji przekazanej jako argument.\n",
    "'''\n",
    "\n",
    "def hello(func):\n",
    "    def wrapper(*args, **kwargs):\n",
    "        print(\"hello\")\n",
    "        return func(*args, **kwargs)\n",
    "    return wrapper()\n",
    "\n",
    "@hello\n",
    "def greet(name):\n",
    "    print(f\"Nice to meet you {name}\")\n",
    "    \n",
    "greet(\"Grzegorz\")"
   ],
   "metadata": {
    "id": "ffhbiOTJVnmB",
    "ExecuteTime": {
     "end_time": "2023-10-15T12:14:37.785499Z",
     "start_time": "2023-10-15T12:14:37.729833Z"
    }
   },
   "execution_count": 88,
   "outputs": [
    {
     "name": "stdout",
     "output_type": "stream",
     "text": [
      "hello\n"
     ]
    },
    {
     "ename": "TypeError",
     "evalue": "greet() missing 1 required positional argument: 'name'",
     "output_type": "error",
     "traceback": [
      "\u001B[0;31m---------------------------------------------------------------------------\u001B[0m",
      "\u001B[0;31mTypeError\u001B[0m                                 Traceback (most recent call last)",
      "Cell \u001B[0;32mIn[88], line 16\u001B[0m\n\u001B[1;32m     12\u001B[0m         \u001B[38;5;28;01mreturn\u001B[39;00m func(\u001B[38;5;241m*\u001B[39margs, \u001B[38;5;241m*\u001B[39m\u001B[38;5;241m*\u001B[39mkwargs)\n\u001B[1;32m     13\u001B[0m     \u001B[38;5;28;01mreturn\u001B[39;00m wrapper()\n\u001B[1;32m     15\u001B[0m \u001B[38;5;129;43m@hello\u001B[39;49m\n\u001B[0;32m---> 16\u001B[0m \u001B[38;5;28;43;01mdef\u001B[39;49;00m\u001B[43m \u001B[49m\u001B[38;5;21;43mgreet\u001B[39;49m\u001B[43m(\u001B[49m\u001B[43mname\u001B[49m\u001B[43m)\u001B[49m\u001B[43m:\u001B[49m\n\u001B[1;32m     17\u001B[0m \u001B[43m    \u001B[49m\u001B[38;5;28;43mprint\u001B[39;49m\u001B[43m(\u001B[49m\u001B[38;5;124;43mf\u001B[39;49m\u001B[38;5;124;43m\"\u001B[39;49m\u001B[38;5;124;43mNice to meet you \u001B[39;49m\u001B[38;5;132;43;01m{\u001B[39;49;00m\u001B[43mname\u001B[49m\u001B[38;5;132;43;01m}\u001B[39;49;00m\u001B[38;5;124;43m\"\u001B[39;49m\u001B[43m)\u001B[49m\n\u001B[1;32m     19\u001B[0m greet(\u001B[38;5;124m\"\u001B[39m\u001B[38;5;124mGrzegorz\u001B[39m\u001B[38;5;124m\"\u001B[39m)\n",
      "Cell \u001B[0;32mIn[88], line 13\u001B[0m, in \u001B[0;36mhello\u001B[0;34m(func)\u001B[0m\n\u001B[1;32m     11\u001B[0m     \u001B[38;5;28mprint\u001B[39m(\u001B[38;5;124m\"\u001B[39m\u001B[38;5;124mhello\u001B[39m\u001B[38;5;124m\"\u001B[39m)\n\u001B[1;32m     12\u001B[0m     \u001B[38;5;28;01mreturn\u001B[39;00m func(\u001B[38;5;241m*\u001B[39margs, \u001B[38;5;241m*\u001B[39m\u001B[38;5;241m*\u001B[39mkwargs)\n\u001B[0;32m---> 13\u001B[0m \u001B[38;5;28;01mreturn\u001B[39;00m \u001B[43mwrapper\u001B[49m\u001B[43m(\u001B[49m\u001B[43m)\u001B[49m\n",
      "Cell \u001B[0;32mIn[88], line 12\u001B[0m, in \u001B[0;36mhello.<locals>.wrapper\u001B[0;34m(*args, **kwargs)\u001B[0m\n\u001B[1;32m     10\u001B[0m \u001B[38;5;28;01mdef\u001B[39;00m \u001B[38;5;21mwrapper\u001B[39m(\u001B[38;5;241m*\u001B[39margs, \u001B[38;5;241m*\u001B[39m\u001B[38;5;241m*\u001B[39mkwargs):\n\u001B[1;32m     11\u001B[0m     \u001B[38;5;28mprint\u001B[39m(\u001B[38;5;124m\"\u001B[39m\u001B[38;5;124mhello\u001B[39m\u001B[38;5;124m\"\u001B[39m)\n\u001B[0;32m---> 12\u001B[0m     \u001B[38;5;28;01mreturn\u001B[39;00m \u001B[43mfunc\u001B[49m\u001B[43m(\u001B[49m\u001B[38;5;241;43m*\u001B[39;49m\u001B[43margs\u001B[49m\u001B[43m,\u001B[49m\u001B[43m \u001B[49m\u001B[38;5;241;43m*\u001B[39;49m\u001B[38;5;241;43m*\u001B[39;49m\u001B[43mkwargs\u001B[49m\u001B[43m)\u001B[49m\n",
      "\u001B[0;31mTypeError\u001B[0m: greet() missing 1 required positional argument: 'name'"
     ]
    }
   ]
  },
  {
   "cell_type": "code",
   "source": [
    "'''\n",
    "Zadanie 4\n",
    "Zaimplementuj własną funkcję o nazwie tetranacci, zwracający określony element ciągu Tetranacciego.\n",
    "Funkcja powinna posiadać parametr o nazwie n określający numer wyrazu ciągu do obliczenia.\n",
    "Obliczenia wykonuj rekurencyjnie.\n",
    "'''\n",
    "\n",
    "def tetranacci(n):\n",
    "    if n == 1 or n == 2 or n == 3:\n",
    "        return 0\n",
    "    elif n == 4:\n",
    "        return 1\n",
    "    else:\n",
    "        return tetranacci(n-1) + tetranacci(n-2) + tetranacci(n-3) + tetranacci(n-4)\n",
    "    \n",
    "print(tetranacci(6))\n",
    "    "
   ],
   "metadata": {
    "id": "NjZRSS6sVrm5",
    "ExecuteTime": {
     "end_time": "2023-10-15T11:33:50.349272Z",
     "start_time": "2023-10-15T11:33:50.338494Z"
    }
   },
   "execution_count": 15,
   "outputs": [
    {
     "name": "stdout",
     "output_type": "stream",
     "text": [
      "2\n"
     ]
    }
   ]
  },
  {
   "cell_type": "markdown",
   "source": [
    "## klasy"
   ],
   "metadata": {
    "id": "eDFgAg3cWRAk"
   }
  },
  {
   "cell_type": "code",
   "source": [
    "'''\n",
    "Zadanie 5\n",
    "Stwórz klasę Pojazd z atrybutami predkosc_max i przebieg\n",
    "stwórz instancję klasy i wydrukuj jej atrybuty do konsoli\n",
    "tworzac instancję możesz podać dowolne wielkości\n",
    "'''\n",
    "\n",
    "class Pojazd:\n",
    "    def __init__(self, predkosc_max, przebieg):\n",
    "        self.predkosc_max = predkosc_max\n",
    "        self.przebieg = przebieg\n",
    "        \n",
    "pojazd = Pojazd(200,400)\n",
    "print(pojazd.predkosc_max)\n",
    "print(pojazd.przebieg)"
   ],
   "metadata": {
    "id": "LMrKGhhSWMM8",
    "ExecuteTime": {
     "end_time": "2023-10-15T11:36:49.358412Z",
     "start_time": "2023-10-15T11:36:49.347268Z"
    }
   },
   "execution_count": 16,
   "outputs": [
    {
     "name": "stdout",
     "output_type": "stream",
     "text": [
      "200\n",
      "400\n"
     ]
    }
   ]
  },
  {
   "cell_type": "code",
   "source": [
    "'''\n",
    "Zadanie 6\n",
    "Stwórz klasę Autobus, która dziedziczy po Pojeździe utworzonym wcześniej,\n",
    "ale do atrybutów Pojazdu dodaj jeszcze nazwę modelu\n",
    "stwórz instancję klasy i wydrukuj jej atrybuty\n",
    "'''\n",
    "\n",
    "class Autobus(Pojazd):\n",
    "    def __int__(self, predkosc_max, przebieg, model):\n",
    "        super().__init__(predkosc_max, przebieg)\n",
    "        self.model = model\n",
    "\n",
    "autobus = Autobus(100,1000,\"Mercedes\")\n",
    "print(autobus.predkosc_max)\n",
    "print(autobus.przebieg)\n",
    "print(autobus.model)\n"
   ],
   "metadata": {
    "id": "z_dYT1f5Wexv",
    "ExecuteTime": {
     "end_time": "2023-10-15T11:40:36.347380Z",
     "start_time": "2023-10-15T11:40:36.325987Z"
    }
   },
   "execution_count": 24,
   "outputs": [
    {
     "ename": "TypeError",
     "evalue": "__init__() takes 3 positional arguments but 4 were given",
     "output_type": "error",
     "traceback": [
      "\u001B[0;31m---------------------------------------------------------------------------\u001B[0m",
      "\u001B[0;31mTypeError\u001B[0m                                 Traceback (most recent call last)",
      "Cell \u001B[0;32mIn[24], line 13\u001B[0m\n\u001B[1;32m     10\u001B[0m         \u001B[38;5;28msuper\u001B[39m()\u001B[38;5;241m.\u001B[39m\u001B[38;5;21m__init__\u001B[39m(predkosc_max, przebieg)\n\u001B[1;32m     11\u001B[0m         \u001B[38;5;28mself\u001B[39m\u001B[38;5;241m.\u001B[39mmodel \u001B[38;5;241m=\u001B[39m model\n\u001B[0;32m---> 13\u001B[0m autobus \u001B[38;5;241m=\u001B[39m \u001B[43mAutobus\u001B[49m\u001B[43m(\u001B[49m\u001B[38;5;241;43m100\u001B[39;49m\u001B[43m,\u001B[49m\u001B[38;5;241;43m1000\u001B[39;49m\u001B[43m,\u001B[49m\u001B[38;5;124;43m\"\u001B[39;49m\u001B[38;5;124;43mMercedes\u001B[39;49m\u001B[38;5;124;43m\"\u001B[39;49m\u001B[43m)\u001B[49m\n\u001B[1;32m     14\u001B[0m \u001B[38;5;28mprint\u001B[39m(autobus\u001B[38;5;241m.\u001B[39mpredkosc_max)\n\u001B[1;32m     15\u001B[0m \u001B[38;5;28mprint\u001B[39m(autobus\u001B[38;5;241m.\u001B[39mprzebieg)\n",
      "\u001B[0;31mTypeError\u001B[0m: __init__() takes 3 positional arguments but 4 were given"
     ]
    }
   ]
  },
  {
   "cell_type": "code",
   "source": [
    "'''\n",
    "Zadanie 7\n",
    "klasie Pojazd utwórz metodę liczba_miejsc, która będzie przyjmowała jako argument liczbę miejsc i wyświetlała komunikat:\n",
    "\"{TU WSTAWIMY NAZWE POJAZDU} pomieści {LICZBA MIEJSC} osób.\"\n",
    "Klasa Autobus ma też dziedziczyć tę metodę, ale dodatkowo przyjmować wartość domyślną dla liczby miejsc = 50\n",
    "Utwórz instancję klasy aby zaprezentować działanie\n",
    "'''\n",
    "\n",
    "class Pojazd:\n",
    "    def __init__(self, predkosc_max, przebieg,model):\n",
    "        self.predkosc_max = predkosc_max\n",
    "        self.przebieg = przebieg\n",
    "        self.model = model\n",
    "    \n",
    "    def liczba_miejsc(self, miejsca):\n",
    "        return f\"{self.model} pomieści {miejsca} osób\"\n",
    "    \n",
    "class Autobus(Pojazd):\n",
    "    def liczba_miejsc(self, miejsca=50):\n",
    "        return f\"{self. model} pomieści {miejsca} osób\"\n",
    "\n",
    "autobus = Autobus(150,200,\"Autobus XYZ\")\n",
    "pojazd = Pojazd(200,34,\"Pojazd XYZ\")\n"
   ],
   "metadata": {
    "id": "CDj9cBQoWj-v",
    "ExecuteTime": {
     "end_time": "2023-10-15T11:45:54.664570Z",
     "start_time": "2023-10-15T11:45:54.658616Z"
    }
   },
   "execution_count": 26,
   "outputs": []
  },
  {
   "cell_type": "code",
   "source": [
    "'''\n",
    "Zadanie 8\n",
    "Sprawdź czy obiekt autobus jest instancją klasy Pojazd\n",
    "'''\n",
    "\n",
    "print(isinstance(autobus, Pojazd))"
   ],
   "metadata": {
    "id": "y2s80EMmWrKP",
    "ExecuteTime": {
     "end_time": "2023-10-15T11:45:56.394939Z",
     "start_time": "2023-10-15T11:45:56.388064Z"
    }
   },
   "execution_count": 27,
   "outputs": [
    {
     "name": "stdout",
     "output_type": "stream",
     "text": [
      "True\n"
     ]
    }
   ]
  },
  {
   "cell_type": "markdown",
   "source": [
    "## PRACA DOMOWA (15 pkt)"
   ],
   "metadata": {
    "id": "jjNBmv7pVwP_"
   }
  },
  {
   "cell_type": "code",
   "source": [
    "'''\n",
    "Zadanie 1 (4 pkt)\n",
    "Wykorzystując dekoratory, napisz cache dla funkcji tetranacci z poprzedniego zadania.\n",
    "Ten dekorator powinien zapobiegać przed ponownym obliczaniem tych samych wartości.\n",
    "'''"
   ],
   "metadata": {
    "id": "TTUMq_uuVx32"
   },
   "execution_count": null,
   "outputs": []
  },
  {
   "cell_type": "code",
   "source": [
    "'''\n",
    "Zadanie 2 (4 pkt)\n",
    "Zaimplementuj własny generator o nazwie repeat, zwracający obiekt podany przez użytkownika dokładnie N razy.\n",
    "Jeśli wartość parametru N nie została określona, generator powinien zwracać wartości w nieskończoność.\n",
    "\n",
    "PRZYKŁAD\n",
    "repeat(10, 3) → 10 10 10\n",
    "repeat(10, 5) → 10 10 10 10 10\n",
    "repeat(5) → 5 5 5 5 5 5 5 5 5 5 5 5 5 5 5…\n",
    "repeat(5, None) → 5 5 5 5 5 5 5 5 5 5 5 5 5 5 5…\n",
    "'''"
   ],
   "metadata": {
    "id": "Q_Ur2Z9uWF-l"
   },
   "execution_count": null,
   "outputs": []
  },
  {
   "cell_type": "code",
   "source": [
    "'''\n",
    "Zadanie 3 (1 pkt)\n",
    "W kodzie z zajęć w klasie Pojazd utwórz atrybut, który niezależnie od utworzonego obiektu będzie miał taką samą wartość.\n",
    "każdy obiekt ma mieć kolor biały\n",
    "'''"
   ],
   "metadata": {
    "id": "gChh80FsWzT7"
   },
   "execution_count": null,
   "outputs": []
  },
  {
   "cell_type": "code",
   "source": [
    "'''\n",
    "Zadanie 4 (2 pkt)\n",
    "Wykorzystaj klasy Autobus i Pojazd.\n",
    "Zdefiniuj metodę opłata, k†óra będzie miała wartość domyślną liczba_miejsc * 100\n",
    "Jeżeli Pojazd jest instancją Autobusu, opłata ma zostać powiększona o 10% wartości opłaty początkowej.\n",
    "Np. jeżeli autobus domyślnie ma 50 miejsc to opłata całkowita wyniesie 5500\n",
    "'''"
   ],
   "metadata": {
    "id": "Q4Js_zjIXHZi"
   },
   "execution_count": null,
   "outputs": []
  },
  {
   "cell_type": "code",
   "source": [
    "'''\n",
    "Zadanie 5 (4 pkt)\n",
    "Napisz klasę FunkcjaKwadratowa, która przechowuje funkcje typu $ax^2$+bx+c.\n",
    "Klasa powinna zawierać trzy pola: a, b, c, które są przypisywane w konstruktorze.\n",
    "Główną metodą powinna być rozwiaz(), która zwraca miejsca zerowe podanej funkcji.\n",
    "Należy zwrócić uwagę na przypadki gdy a=0, b=0 lub c=0,\n",
    "a także obmyślić sposób informowania o nieskończonej liczbie, jednym lub zerze rozwiązań.\n",
    "'''\n",
    "\n",
    "'''\n",
    "początek kodu dla ułatwienia\n",
    "\n",
    "'''\n",
    "import math\n",
    "\n",
    "class FunkcjaKwadratowa:\n",
    "    def __init__(self, a, b, c):\n",
    "        ...\n",
    "\n",
    "    def wypisz(self):\n",
    "        ...\n",
    "\n",
    "    def oblicz_wartosc(self, x):\n",
    "        ...\n",
    "\n",
    "    def rozwiaz(self):\n",
    "        ...\n",
    "\n",
    "def main():\n",
    "    f1 = FunkcjaKwadratowa(2, 3, 1)\n",
    "    f1.wypisz()\n",
    "    print(f1.oblicz_wartosc(0))\n",
    "    print(f1.oblicz_wartosc(1))\n",
    "\n",
    "    print(FunkcjaKwadratowa(0, 0, 0).rozwiaz())\n",
    "    print(FunkcjaKwadratowa(0, 0, 1).rozwiaz())\n",
    "    print(FunkcjaKwadratowa(0, 2, 3).rozwiaz())\n",
    "    print(FunkcjaKwadratowa(1, 2, 3).rozwiaz())\n",
    "    print(FunkcjaKwadratowa(1, -5, 6).rozwiaz())\n",
    "    print(FunkcjaKwadratowa(1, 4, 4).rozwiaz())\n",
    "\n",
    "if __name__ == \"__main__\":\n",
    "    main()"
   ],
   "metadata": {
    "id": "BsdImsIAXXsu"
   },
   "execution_count": null,
   "outputs": []
  }
 ]
}
