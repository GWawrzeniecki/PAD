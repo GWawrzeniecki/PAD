{
 "cells": [
  {
   "cell_type": "markdown",
   "metadata": {
    "id": "Yp1hCg5fnqW_"
   },
   "source": [
    "## wyjątki"
   ]
  },
  {
   "cell_type": "markdown",
   "metadata": {
    "id": "ub1UG2Ch0f6Q"
   },
   "source": [
    "Napisz program, który będzie kalkulatorem:\n",
    "- program ma pobierać od użytkownika input: liczba operator liczba\n",
    "- każdy znak w inpucie po spacji, np. 1 + 1\n",
    "- pobrany input należy przerobić na listę i sprawdzić jej poprawność:\n",
    "  - jeżeli w liście jest więcej niż 3 elementy - podnieś wyjątek IllegalFormulaError\n",
    "  - IllegalFormulaError ma być własnym wyjątkiem stworzonym przez Ciebie\n",
    "  - zamień liczby na typ float\n",
    "  - jeśli liczby zmieniane na float zwrócą ValueError - przechwyć go i podnieć IllegalFormulaError i wyświetl komunikat \"1 i 3 wartość muszą być liczbam\"\n",
    "  - jeśli użytkownik zamiast +, -, * lub / da inny operator, również zwróć IllegalFormulaError\n",
    "- jeśli nie wystąpił żaden wyjątek wyświetl wynik\n",
    "- pobieraj input od użytkownika tak długo jak użytkownik nie wpisze w inpucike polecenia KONIEC\n",
    "- działania na operatorach zawrzyj w funkcji"
   ]
  },
  {
   "cell_type": "code",
   "execution_count": null,
   "metadata": {
    "id": "A6onwAE6nkwu"
   },
   "outputs": [],
   "source": []
  },
  {
   "cell_type": "markdown",
   "metadata": {
    "id": "zZtBZ2XNnuHk"
   },
   "source": [
    "## numpy"
   ]
  },
  {
   "cell_type": "markdown",
   "metadata": {
    "id": "lO5X1CFanwuq"
   },
   "source": [
    "1. Korzystając z poniższego kodu oraz pliku `Zadanie_1.csv` utwórz tablicę zawierającą wzrost prezydentów USA."
   ]
  },
  {
   "cell_type": "code",
   "execution_count": 2,
   "metadata": {
    "id": "EqV8dAQWnwDr",
    "ExecuteTime": {
     "end_time": "2023-12-30T16:34:16.071115700Z",
     "start_time": "2023-12-30T16:34:15.781770300Z"
    }
   },
   "outputs": [
    {
     "name": "stdout",
     "output_type": "stream",
     "text": [
      "[189 170 189 163 183 171 185 168 173 183 173 173 175 178 183 193 178 173\n",
      " 174 183 183 168 170 178 182 180 183 178 182 188 175 179 183 193 182 183\n",
      " 177 185 188 188 182 185]\n"
     ]
    }
   ],
   "source": [
    "import pandas as pd\n",
    "import numpy as np\n",
    "\n",
    "data_ = pd.read_csv(\"Zadanie_1.csv\")\n",
    "data = np.array(data_['height(cm)'])\n",
    "print(data)"
   ]
  },
  {
   "cell_type": "markdown",
   "metadata": {
    "id": "dd2hB7gsojiL"
   },
   "source": [
    "Korzystając z pakietu NumPy podaj:\n",
    "- średni wzrost\n",
    "- odchylenie standardowe\n",
    "- najwyższy oraz najniższy wzrost:\n"
   ]
  },
  {
   "cell_type": "code",
   "execution_count": 7,
   "metadata": {
    "id": "5CBFy878ohq1"
   },
   "outputs": [
    {
     "name": "stdout",
     "output_type": "stream",
     "text": [
      "Średni wzrost:  179.74\n",
      "Odchylenie standardowe:  6.93\n",
      "Maksymalny wzrost:  193\n",
      "Minimalny wzrost:  163\n"
     ]
    }
   ],
   "source": [
    "print(\"Średni wzrost: \", round(np.mean(data), 2))\n",
    "print(\"Odchylenie standardowe: \", round(np.std(data), 2))\n",
    "print(\"Maksymalny wzrost: \", np.max(data))\n",
    "print(\"Minimalny wzrost: \", np.min(data))"
   ]
  },
  {
   "cell_type": "markdown",
   "metadata": {
    "id": "H5GJvIXFrabE"
   },
   "source": [
    "Podaj również 25 i 75 kwantyl oraz medianę:"
   ]
  },
  {
   "cell_type": "code",
   "execution_count": 8,
   "metadata": {
    "id": "ea8MmGaArWVT"
   },
   "outputs": [
    {
     "name": "stdout",
     "output_type": "stream",
     "text": [
      "25 kwantyl:  174.25\n",
      "75 kwantyl:  183.0\n",
      "Mediana:  182.0\n"
     ]
    }
   ],
   "source": [
    "print(\"25 kwantyl: \", np.percentile(data, 25))\n",
    "print(\"75 kwantyl: \", np.percentile(data, 75))\n",
    "print(\"Mediana: \", np.median(data))"
   ]
  },
  {
   "cell_type": "markdown",
   "metadata": {
    "id": "lLR5_N2-reHz"
   },
   "source": [
    "---\n",
    "2. Wgraj dane z pliku `Zadanie_2.csv`.\n",
    "- Znajdź wektory własne, oraz wartości własne dla zawartej w pliku macierzy\n",
    "- Oblicz macierz odwrotną dla macierzy z pliku\n"
   ]
  },
  {
   "cell_type": "code",
   "execution_count": 42,
   "metadata": {
    "id": "ylst1dqJrj-g"
   },
   "outputs": [
    {
     "data": {
      "text/plain": [
       "array([[  1.,   2.,  15., -59.,   9.,   3.,  75.,   6.,   7.,   1.],\n",
       "       [  0.,   5.,   0.,   4.,   6.,  16.,  44.,   7.,   1.,   1.],\n",
       "       [  7.,  14.,   3., -10.,   9.,  15.,  73.,   8.,   2.,   9.],\n",
       "       [  1.,   5.,  15., -54.,   5.,  15.,  35.,   8.,   6.,   4.],\n",
       "       [  0.,   8.,   5., -18.,   7.,  16.,  91.,   6.,   7.,   9.],\n",
       "       [  7.,  18.,  23., -90.,   4.,   8.,  31.,   0.,   1.,   7.],\n",
       "       [  2.,   8.,  20., -72.,   4.,   1.,  91.,   9.,   4.,   4.],\n",
       "       [  4.,  12.,  18., -65.,   6.,   9.,  76.,   4.,   9.,   9.],\n",
       "       [  7.,  15.,  13., -52.,   5.,   7.,  54.,   2.,   7.,   0.],\n",
       "       [  2.,   9.,  15., -56.,   6.,   1.,  98.,   4.,   8.,   4.]])"
      ]
     },
     "execution_count": 42,
     "metadata": {},
     "output_type": "execute_result"
    }
   ],
   "source": [
    "matrix = np.genfromtxt(\"Zadanie_2.csv\", delimiter=';')\n",
    "matrix"
   ]
  },
  {
   "cell_type": "code",
   "execution_count": 45,
   "metadata": {},
   "outputs": [
    {
     "name": "stdout",
     "output_type": "stream",
     "text": [
      "Eigenvalues: \n",
      "\n",
      " [104.34960192 +0.j         -23.35660516+18.84992811j\n",
      " -23.35660516-18.84992811j  15.92989017 +0.j\n",
      "  -4.99456452 +0.j           0.35205717 +5.80125175j\n",
      "   0.35205717 -5.80125175j  -1.03383491 +0.j\n",
      "   3.87900166 +1.42651533j   3.87900166 -1.42651533j]\n",
      "\n",
      "\n",
      "Eigenvectors: \n",
      "\n",
      " [[-0.29000475+0.j         -0.07545445+0.07743149j -0.07545445-0.07743149j\n",
      "  -0.03544485+0.j          0.42681634+0.j         -0.22172831-0.29869259j\n",
      "  -0.22172831+0.29869259j  0.41343726+0.j         -0.28670255+0.21891569j\n",
      "  -0.28670255-0.21891569j]\n",
      " [-0.24163153+0.j          0.41229621+0.09197324j  0.41229621-0.09197324j\n",
      "   0.45873475+0.j         -0.27056206+0.j         -0.01331344+0.1422557j\n",
      "  -0.01331344-0.1422557j  -0.31591047+0.j          0.41954481-0.10561864j\n",
      "   0.41954481+0.10561864j]\n",
      " [-0.41060573+0.j          0.37509638-0.00960818j  0.37509638+0.00960818j\n",
      "   0.64067986+0.j         -0.37967609+0.j         -0.60525232+0.j\n",
      "  -0.60525232-0.j          0.6457768 +0.j          0.63631555+0.j\n",
      "   0.63631555-0.j        ]\n",
      " [-0.18899971+0.j         -0.05624951+0.174848j   -0.05624951-0.174848j\n",
      "   0.25174536+0.j         -0.07625465+0.j         -0.14870016-0.00795735j\n",
      "  -0.14870016+0.00795735j  0.15206852+0.j          0.21373907+0.00228636j\n",
      "   0.21373907-0.00228636j]\n",
      " [-0.42862199+0.j          0.47707538+0.14580554j  0.47707538-0.14580554j\n",
      "   0.39445834+0.j         -0.69542141+0.j          0.07336021-0.43070469j\n",
      "   0.07336021+0.43070469j -0.25948775+0.j          0.20250102-0.00411374j\n",
      "   0.20250102+0.00411374j]\n",
      " [-0.14730562+0.j         -0.57352911+0.j         -0.57352911-0.j\n",
      "   0.10071325+0.j          0.30158403+0.j         -0.04758838+0.12911829j\n",
      "  -0.04758838-0.12911829j  0.21274791+0.j         -0.1503483 +0.03452906j\n",
      "  -0.1503483 -0.03452906j]\n",
      " [-0.34660607+0.j         -0.13987374+0.06837303j -0.13987374-0.06837303j\n",
      "  -0.04800705+0.j          0.06798106+0.j          0.00512204+0.04215641j\n",
      "   0.00512204-0.04215641j  0.05365357+0.j         -0.0534517 +0.00550802j\n",
      "  -0.0534517 -0.00550802j]\n",
      " [-0.34919853+0.j         -0.08414467+0.07749664j -0.08414467-0.07749664j\n",
      "   0.25925893+0.j         -0.10039982+0.j         -0.06761437-0.25584347j\n",
      "  -0.06761437+0.25584347j -0.38214447+0.j          0.29485109-0.01300678j\n",
      "   0.29485109+0.01300678j]\n",
      " [-0.2440048 +0.j         -0.13777908+0.00402196j -0.13777908-0.00402196j\n",
      "   0.27709282+0.j         -0.00524365+0.j          0.21866893+0.04463336j\n",
      "   0.21866893-0.04463336j -0.12045798+0.j          0.27558332+0.02285482j\n",
      "   0.27558332-0.02285482j]\n",
      " [-0.38231403+0.j         -0.00476199+0.03456836j -0.00476199-0.03456836j\n",
      "   0.04918165+0.j          0.07322815+0.j          0.1819345 -0.29687727j\n",
      "   0.1819345 +0.29687727j -0.11445044+0.j          0.02830199+0.00579727j\n",
      "   0.02830199-0.00579727j]]\n"
     ]
    }
   ],
   "source": [
    "eigenvalues, eigenvectors = np.linalg.eig(matrix)\n",
    "print(\"Eigenvalues: \\n\\n\", eigenvalues, end='\\n\\n\\n')\n",
    "print(\"Eigenvectors: \\n\\n\", eigenvectors)\n"
   ]
  },
  {
   "cell_type": "code",
   "execution_count": 47,
   "metadata": {},
   "outputs": [
    {
     "name": "stdout",
     "output_type": "stream",
     "text": [
      "[[ 0.47461371  0.13269253 -0.24726695 -0.82965177  0.28250384 -0.17012825\n",
      "   0.58274426  0.83686705  0.4146721  -1.56942847]\n",
      " [-0.38032531 -0.11226789  0.23216372  0.58853747 -0.2508954   0.10174485\n",
      "  -0.40729564 -0.58325689 -0.2335154   1.11832726]\n",
      " [ 0.13559662  0.58950334 -0.24709855 -0.58789838 -0.30170699 -0.12721938\n",
      "   0.23740295  1.01003036 -0.02151387 -0.64590149]\n",
      " [ 0.01425207  0.14570726 -0.04557569 -0.12721972 -0.08945184 -0.03756624\n",
      "   0.03910376  0.23606066 -0.01436771 -0.11345749]\n",
      " [-0.09473246  0.01725249  0.19145597  0.32960274 -0.28626296  0.08348529\n",
      "  -0.37577603 -0.27295934 -0.25855803  0.74691827]\n",
      " [ 0.16387032  0.10075684 -0.15404907 -0.29794662  0.16916877 -0.02827782\n",
      "   0.20469921  0.28036265  0.15086178 -0.5882585 ]\n",
      " [ 0.04288003  0.02246462 -0.0366803  -0.09024915  0.04322146 -0.01047861\n",
      "   0.06167348  0.07009721  0.0367806  -0.14185925]\n",
      " [-0.26858433 -0.21167346  0.25168367  0.55607234 -0.16804333  0.01066975\n",
      "  -0.22435849 -0.52957038 -0.15757224  0.77302113]\n",
      " [-0.15583541 -0.13041404  0.0984558   0.3150966  -0.09916278 -0.04426337\n",
      "  -0.20832614 -0.18404388 -0.04309498  0.45794224]\n",
      " [-0.05970783 -0.11342903  0.09122544  0.11908074 -0.00311646  0.02370807\n",
      "  -0.07526552 -0.06924544 -0.10963836  0.16553689]]\n"
     ]
    }
   ],
   "source": [
    "try: \n",
    "    inv = np.linalg.inv(matrix)\n",
    "except:\n",
    "    print(\"nie ma odwrotności\")\n",
    "\n",
    "print(inv)"
   ]
  },
  {
   "cell_type": "markdown",
   "metadata": {
    "id": "Nsez0YSdrkZP"
   },
   "source": [
    "---\n",
    "3. Plik `Zadanie_3.csv` zawiera informacje o rocznych opadach w Seattle w 2014. Wykorzystaj kod poniżej aby wczytać plik."
   ]
  },
  {
   "cell_type": "code",
   "execution_count": 10,
   "metadata": {
    "id": "JoYQ0KMFsP0Z"
   },
   "outputs": [
    {
     "data": {
      "text/plain": [
       "array([  0,  41,  15,   0,   0,   3, 122,  97,  58,  43, 213,  15,   0,\n",
       "         0,   0,   0,   0,   0,   0,   0,   0,   5,   0,   0,   0,   0,\n",
       "         0,  89, 216,   0,  23,  20,   0,   0,   0,   0,   0,   0,  51,\n",
       "         5, 183, 170,  46,  18,  94, 117, 264, 145, 152,  10,  30,  28,\n",
       "        25,  61, 130,   3,   0,   0,   0,   5, 191, 107, 165, 467,  30,\n",
       "         0, 323,  43, 188,   0,   0,   5,  69,  81, 277,   3,   0,   5,\n",
       "         0,   0,   0,   0,   0,  41,  36,   3, 221, 140,   0,   0,   0,\n",
       "         0,  25,   0,  46,   0,   0,  46,   0,   0,   0,   0,   0,   0,\n",
       "         5, 109, 185,   0, 137,   0,  51, 142,  89, 124,   0,  33,  69,\n",
       "         0,   0,   0,   0,   0, 333, 160,  51,   0,   0, 137,  20,   5,\n",
       "         0,   0,   0,   0,   0,   0,   0,   0,   0,   0,   0,   0,  38,\n",
       "         0,  56,   0,   0,   0,   0,   0,   0,   0,   0,   0,   0,   0,\n",
       "         0,   0,   0,   0,   0,   0,  18,  64,   0,   5,  36,  13,   0,\n",
       "         8,   3,   0,   0,   0,   0,   0,   0,  18,  23,   0,   0,   0,\n",
       "         0,   0,   0,   0,   0,   0,   0,   0,   0,   0,   0,   0,   0,\n",
       "         0,   0,   0,   0,   0,   0,   0,   3, 193,   0,   0,   0,   0,\n",
       "         0,   0,   0,   0,   0,   5,   0,   0,   0,   0,   0,   0,   0,\n",
       "         0,   5, 127, 216,   0,  10,   0,   0,   0,   0,   0,   0,   0,\n",
       "         0,   0,   0,   0,   0,   0,   0,  84,  13,   0,  30,   0,   0,\n",
       "         0,   0,   0,   0,   0,   0,   0,   0,   0,   0,   0,   0,   5,\n",
       "         3,   0,   0,   0,   3, 183, 203,  43,  89,   0,   0,   8,   0,\n",
       "         0,   0,   0,   0,   0,   0,   0,   0,   0,   3,  74,   0,  76,\n",
       "        71,  86,   0,  33, 150,   0, 117,  10, 320,  94,  41,  61,  15,\n",
       "         8, 127,   5, 254, 170,   0,  18, 109,  41,  48,  41,   0,   0,\n",
       "        51,   0,   0,   0,   0,   0,   0,   0,   0,   0,   0,  36, 152,\n",
       "         5, 119,  13, 183,   3,  33, 343,  36,   0,   0,   0,   0,   8,\n",
       "        30,  74,   0,  91,  99, 130,  69,   0,   0,   0,   0,   0,  28,\n",
       "       130,  30, 196,   0,   0, 206,  53,   0,   0,  33,  41,   0,   0,\n",
       "         0], dtype=int64)"
      ]
     },
     "execution_count": 10,
     "metadata": {},
     "output_type": "execute_result"
    }
   ],
   "source": [
    "data_ = pd.read_csv(\"Zadanie_3.csv\")\n",
    "data = np.array(data_['PRCP'])\n",
    "data"
   ]
  },
  {
   "cell_type": "markdown",
   "metadata": {
    "id": "Np-JiZEsstly"
   },
   "source": [
    "Możemy zwizualizować dane następującym kodem:"
   ]
  },
  {
   "cell_type": "code",
   "execution_count": 12,
   "metadata": {},
   "outputs": [
    {
     "name": "stdout",
     "output_type": "stream",
     "text": [
      "Collecting seaborn\n",
      "  Downloading seaborn-0.13.0-py3-none-any.whl.metadata (5.3 kB)\n",
      "Requirement already satisfied: numpy!=1.24.0,>=1.20 in c:\\users\\dwnuk\\.conda\\envs\\base11\\lib\\site-packages (from seaborn) (1.26.1)\n",
      "Requirement already satisfied: pandas>=1.2 in c:\\users\\dwnuk\\.conda\\envs\\base11\\lib\\site-packages (from seaborn) (2.1.2)\n",
      "Collecting matplotlib!=3.6.1,>=3.3 (from seaborn)\n",
      "  Downloading matplotlib-3.8.0-cp310-cp310-win_amd64.whl.metadata (5.9 kB)\n",
      "Collecting contourpy>=1.0.1 (from matplotlib!=3.6.1,>=3.3->seaborn)\n",
      "  Downloading contourpy-1.1.1-cp310-cp310-win_amd64.whl.metadata (5.9 kB)\n",
      "Collecting cycler>=0.10 (from matplotlib!=3.6.1,>=3.3->seaborn)\n",
      "  Downloading cycler-0.12.1-py3-none-any.whl.metadata (3.8 kB)\n",
      "Collecting fonttools>=4.22.0 (from matplotlib!=3.6.1,>=3.3->seaborn)\n",
      "  Downloading fonttools-4.43.1-cp310-cp310-win_amd64.whl.metadata (155 kB)\n",
      "     ---------------------------------------- 0.0/155.5 kB ? eta -:--:--\n",
      "     --------- --------------------------- 41.0/155.5 kB 991.0 kB/s eta 0:00:01\n",
      "     -------------------------------------- 155.5/155.5 kB 2.3 MB/s eta 0:00:00\n",
      "Collecting kiwisolver>=1.0.1 (from matplotlib!=3.6.1,>=3.3->seaborn)\n",
      "  Downloading kiwisolver-1.4.5-cp310-cp310-win_amd64.whl.metadata (6.5 kB)\n",
      "Requirement already satisfied: packaging>=20.0 in c:\\users\\dwnuk\\.conda\\envs\\base11\\lib\\site-packages (from matplotlib!=3.6.1,>=3.3->seaborn) (23.2)\n",
      "Collecting pillow>=6.2.0 (from matplotlib!=3.6.1,>=3.3->seaborn)\n",
      "  Downloading Pillow-10.1.0-cp310-cp310-win_amd64.whl.metadata (9.6 kB)\n",
      "Collecting pyparsing>=2.3.1 (from matplotlib!=3.6.1,>=3.3->seaborn)\n",
      "  Downloading pyparsing-3.1.1-py3-none-any.whl.metadata (5.1 kB)\n",
      "Requirement already satisfied: python-dateutil>=2.7 in c:\\users\\dwnuk\\.conda\\envs\\base11\\lib\\site-packages (from matplotlib!=3.6.1,>=3.3->seaborn) (2.8.2)\n",
      "Requirement already satisfied: pytz>=2020.1 in c:\\users\\dwnuk\\.conda\\envs\\base11\\lib\\site-packages (from pandas>=1.2->seaborn) (2023.3.post1)\n",
      "Requirement already satisfied: tzdata>=2022.1 in c:\\users\\dwnuk\\.conda\\envs\\base11\\lib\\site-packages (from pandas>=1.2->seaborn) (2023.3)\n",
      "Requirement already satisfied: six>=1.5 in c:\\users\\dwnuk\\.conda\\envs\\base11\\lib\\site-packages (from python-dateutil>=2.7->matplotlib!=3.6.1,>=3.3->seaborn) (1.16.0)\n",
      "Downloading seaborn-0.13.0-py3-none-any.whl (294 kB)\n",
      "   ---------------------------------------- 0.0/294.6 kB ? eta -:--:--\n",
      "   ---------------------------------------- 294.6/294.6 kB 8.9 MB/s eta 0:00:00\n",
      "Downloading matplotlib-3.8.0-cp310-cp310-win_amd64.whl (7.6 MB)\n",
      "   ---------------------------------------- 0.0/7.6 MB ? eta -:--:--\n",
      "   ----- ---------------------------------- 1.0/7.6 MB 20.5 MB/s eta 0:00:01\n",
      "   ------------------------ --------------- 4.6/7.6 MB 49.0 MB/s eta 0:00:01\n",
      "   ---------------------------------------  7.6/7.6 MB 61.0 MB/s eta 0:00:01\n",
      "   ---------------------------------------- 7.6/7.6 MB 48.9 MB/s eta 0:00:00\n",
      "Downloading contourpy-1.1.1-cp310-cp310-win_amd64.whl (477 kB)\n",
      "   ---------------------------------------- 0.0/478.0 kB ? eta -:--:--\n",
      "   --------------------------------------- 478.0/478.0 kB 29.2 MB/s eta 0:00:00\n",
      "Downloading cycler-0.12.1-py3-none-any.whl (8.3 kB)\n",
      "Downloading fonttools-4.43.1-cp310-cp310-win_amd64.whl (2.1 MB)\n",
      "   ---------------------------------------- 0.0/2.1 MB ? eta -:--:--\n",
      "   ---------------------------------------- 2.1/2.1 MB 68.7 MB/s eta 0:00:00\n",
      "Downloading kiwisolver-1.4.5-cp310-cp310-win_amd64.whl (56 kB)\n",
      "   ---------------------------------------- 0.0/56.1 kB ? eta -:--:--\n",
      "   ---------------------------------------- 56.1/56.1 kB ? eta 0:00:00\n",
      "Downloading Pillow-10.1.0-cp310-cp310-win_amd64.whl (2.6 MB)\n",
      "   ---------------------------------------- 0.0/2.6 MB ? eta -:--:--\n",
      "   ---------------------------------------  2.6/2.6 MB 83.6 MB/s eta 0:00:01\n",
      "   ---------------------------------------- 2.6/2.6 MB 55.3 MB/s eta 0:00:00\n",
      "Downloading pyparsing-3.1.1-py3-none-any.whl (103 kB)\n",
      "   ---------------------------------------- 0.0/103.1 kB ? eta -:--:--\n",
      "   ---------------------------------------- 103.1/103.1 kB 5.8 MB/s eta 0:00:00\n",
      "Installing collected packages: pyparsing, pillow, kiwisolver, fonttools, cycler, contourpy, matplotlib, seaborn\n",
      "Successfully installed contourpy-1.1.1 cycler-0.12.1 fonttools-4.43.1 kiwisolver-1.4.5 matplotlib-3.8.0 pillow-10.1.0 pyparsing-3.1.1 seaborn-0.13.0\n",
      "Note: you may need to restart the kernel to use updated packages.\n"
     ]
    }
   ],
   "source": [
    "%pip install seaborn"
   ]
  },
  {
   "cell_type": "code",
   "execution_count": 13,
   "metadata": {
    "id": "_nGjTmQMswPc"
   },
   "outputs": [
    {
     "data": {
      "text/plain": [
       "(array([245.,  14.,  13.,  17.,   8.,   6.,   5.,   6.,   4.,   3.,   7.,\n",
       "          6.,   3.,   3.,   3.,   4.,   4.,   2.,   4.,   0.,   0.,   1.,\n",
       "          1.,   1.,   0.,   0.,   0.,   2.,   1.,   1.,   0.,   0.,   0.,\n",
       "          0.,   0.,   0.,   0.,   0.,   0.,   1.]),\n",
       " array([  0.   ,  11.675,  23.35 ,  35.025,  46.7  ,  58.375,  70.05 ,\n",
       "         81.725,  93.4  , 105.075, 116.75 , 128.425, 140.1  , 151.775,\n",
       "        163.45 , 175.125, 186.8  , 198.475, 210.15 , 221.825, 233.5  ,\n",
       "        245.175, 256.85 , 268.525, 280.2  , 291.875, 303.55 , 315.225,\n",
       "        326.9  , 338.575, 350.25 , 361.925, 373.6  , 385.275, 396.95 ,\n",
       "        408.625, 420.3  , 431.975, 443.65 , 455.325, 467.   ]),\n",
       " <BarContainer object of 40 artists>)"
      ]
     },
     "execution_count": 13,
     "metadata": {},
     "output_type": "execute_result"
    },
    {
     "data": {
      "image/png": "[encoded data removed]",
      "text/plain": [
       "<Figure size 640x480 with 1 Axes>"
      ]
     },
     "metadata": {},
     "output_type": "display_data"
    }
   ],
   "source": [
    "%matplotlib inline\n",
    "import matplotlib.pyplot as plt\n",
    "import seaborn; seaborn.set()\n",
    "plt.hist(data, 40)"
   ]
  },
  {
   "cell_type": "markdown",
   "metadata": {
    "id": "j0jfV9Ius3oB"
   },
   "source": [
    "Wykorzystując operatory logiczne znajdź dni, kiedy:\n",
    "- Nie padało\n",
    "- Padało\n",
    "- Spadło powyżej 13 mm deszczu\n",
    "- Spadło poniżej 5 mm deszczu, ale padało!"
   ]
  },
  {
   "cell_type": "code",
   "execution_count": 18,
   "metadata": {
    "id": "K21U9F5BsmkK"
   },
   "outputs": [
    {
     "name": "stdout",
     "output_type": "stream",
     "text": [
      "Dni bez opadów:  215\n",
      "Dni deszczowe:  150\n",
      "Opady powyżej 13mm:  117\n",
      "Deszczowe dni z opadem poniżej 5 mm:  10\n"
     ]
    }
   ],
   "source": [
    "print(\"Dni bez opadów: \", np.sum(data == 0))\n",
    "print(\"Dni deszczowe: \", np.sum(data != 0))\n",
    "print(\"Opady powyżej 13mm: \", np.sum(data > 13))\n",
    "print(\"Deszczowe dni z opadem poniżej 5 mm: \", np.sum((data < 5) & (data > 0)))"
   ]
  },
  {
   "cell_type": "markdown",
   "metadata": {
    "id": "bzS95iYVtPax"
   },
   "source": [
    "Korzystając z maskowania policz następujące statystyki:\n",
    "- Medianę opadów w deszczowe dni w 2014 roku\n",
    "- Medianę opadów latem w 2014 roku (czyli dni pomiędzy dniem 172 a 262)\n",
    "- Maksymalne opady latem 2014 roku\n",
    "- Maksymalne opady poza latem 2014 roku (czyli wiosna, jesień i zima)\n",
    "\n"
   ]
  },
  {
   "cell_type": "code",
   "execution_count": 26,
   "metadata": {
    "id": "NS6bFF3FsrBb"
   },
   "outputs": [
    {
     "name": "stdout",
     "output_type": "stream",
     "text": [
      "Mediana dni deszczowych:  49.5\n",
      "Mediana dni letnich:  0.0\n",
      "Mediana dni letnich i deszczowych:  15.5\n",
      "Maksymalne opady w lecie:  216\n",
      "Maksymalne opady poza latem:  467\n"
     ]
    }
   ],
   "source": [
    "dni_deszczowe = data > 0\n",
    "dni = np.arange(365)\n",
    "dni_letnie = (dni > 172) & (dni < 262)\n",
    "\n",
    "print(\"Mediana dni deszczowych: \", np.median(data[dni_deszczowe]))\n",
    "print(\"Mediana dni letnich: \", np.median(data[dni_letnie]))\n",
    "print(\"Mediana dni letnich i deszczowych: \", np.median(data[dni_letnie & dni_deszczowe]))\n",
    "print(\"Maksymalne opady w lecie: \", np.max(data[dni_letnie]))\n",
    "print(\"Maksymalne opady poza latem: \", np.max(data[~dni_letnie]))"
   ]
  },
  {
   "cell_type": "code",
   "execution_count": 25,
   "metadata": {},
   "outputs": [
    {
     "data": {
      "text/plain": [
       "array([ True,  True,  True,  True,  True,  True,  True,  True,  True,\n",
       "        True,  True,  True,  True,  True,  True,  True,  True,  True,\n",
       "        True,  True,  True,  True,  True,  True,  True,  True,  True,\n",
       "        True,  True,  True,  True,  True,  True,  True,  True,  True,\n",
       "        True,  True,  True,  True,  True,  True,  True,  True,  True,\n",
       "        True,  True,  True,  True,  True,  True,  True,  True,  True,\n",
       "        True,  True,  True,  True,  True,  True,  True,  True,  True,\n",
       "        True,  True,  True,  True,  True,  True,  True,  True,  True,\n",
       "        True,  True,  True,  True,  True,  True,  True,  True,  True,\n",
       "        True,  True,  True,  True,  True,  True,  True,  True,  True,\n",
       "        True,  True,  True,  True,  True,  True,  True,  True,  True,\n",
       "        True,  True,  True,  True,  True,  True,  True,  True,  True,\n",
       "        True,  True,  True,  True,  True,  True,  True,  True,  True,\n",
       "        True,  True,  True,  True,  True,  True,  True,  True,  True,\n",
       "        True,  True,  True,  True,  True,  True,  True,  True,  True,\n",
       "        True,  True,  True,  True,  True,  True,  True,  True,  True,\n",
       "        True,  True,  True,  True,  True,  True,  True,  True,  True,\n",
       "        True,  True,  True,  True,  True,  True,  True,  True,  True,\n",
       "        True,  True,  True,  True,  True,  True,  True,  True,  True,\n",
       "        True,  True, False, False, False, False, False, False, False,\n",
       "       False, False, False, False, False, False, False, False, False,\n",
       "       False, False, False, False, False, False, False, False, False,\n",
       "       False, False, False, False, False, False, False, False, False,\n",
       "       False, False, False, False, False, False, False, False, False,\n",
       "       False, False, False, False, False, False, False, False, False,\n",
       "       False, False, False, False, False, False, False, False, False,\n",
       "       False, False, False, False, False, False, False, False, False,\n",
       "       False, False, False, False, False, False, False, False, False,\n",
       "       False, False, False, False, False, False, False, False, False,\n",
       "       False,  True,  True,  True,  True,  True,  True,  True,  True,\n",
       "        True,  True,  True,  True,  True,  True,  True,  True,  True,\n",
       "        True,  True,  True,  True,  True,  True,  True,  True,  True,\n",
       "        True,  True,  True,  True,  True,  True,  True,  True,  True,\n",
       "        True,  True,  True,  True,  True,  True,  True,  True,  True,\n",
       "        True,  True,  True,  True,  True,  True,  True,  True,  True,\n",
       "        True,  True,  True,  True,  True,  True,  True,  True,  True,\n",
       "        True,  True,  True,  True,  True,  True,  True,  True,  True,\n",
       "        True,  True,  True,  True,  True,  True,  True,  True,  True,\n",
       "        True,  True,  True,  True,  True,  True,  True,  True,  True,\n",
       "        True,  True,  True,  True,  True,  True,  True,  True,  True,\n",
       "        True,  True,  True,  True,  True])"
      ]
     },
     "execution_count": 25,
     "metadata": {},
     "output_type": "execute_result"
    }
   ],
   "source": [
    "~dni_letnie"
   ]
  },
  {
   "cell_type": "markdown",
   "metadata": {
    "id": "45_Q0MXbtf3r"
   },
   "source": [
    "---\n",
    "4. Dane są dwa wektory A i B.\n",
    "```\n",
    "A = [0,3,2,5]\n",
    "B = [0,3,1,4]\n",
    "```\n",
    "\n",
    "Wykonaj następujące operacje:\n",
    "- przedstaw wektory jako tablice\n",
    "- Dodaj A i B\n",
    "- Odejmij B od A\n",
    "- Pomnóż wektor A przez skalar a=4\n",
    "- Oblicz iloczyn skalarny wektorów A i B\n",
    "- Znajdź długość wektora B (w przestrzeni, nie chodzi o size!)\n",
    "\n",
    "Te operacje można wykonać „ręcznie” w Pythonie, ale postaraj się znaleźć odpowiednie funkcje NumPy.\n"
   ]
  },
  {
   "cell_type": "code",
   "execution_count": 3,
   "metadata": {
    "id": "WVhnpy9rvM99",
    "ExecuteTime": {
     "end_time": "2023-12-30T16:34:22.164233200Z",
     "start_time": "2023-12-30T16:34:22.149702500Z"
    }
   },
   "outputs": [],
   "source": [
    "vector_A = np.array([0,3,2,5])\n",
    "vector_B = np.array([0,3,1,4])"
   ]
  },
  {
   "cell_type": "code",
   "execution_count": 4,
   "metadata": {
    "ExecuteTime": {
     "end_time": "2023-12-30T16:34:23.837804600Z",
     "start_time": "2023-12-30T16:34:23.822167900Z"
    }
   },
   "outputs": [
    {
     "name": "stdout",
     "output_type": "stream",
     "text": [
      "0\t0\n",
      "3\t3\n",
      "2\t1\n",
      "5\t4\n"
     ]
    }
   ],
   "source": [
    "for element, element2 in zip(vector_A, vector_B):\n",
    "    print(element, end='\\t')\n",
    "    print(element2)"
   ]
  },
  {
   "cell_type": "code",
   "execution_count": 5,
   "metadata": {
    "ExecuteTime": {
     "end_time": "2023-12-30T16:34:44.661325300Z",
     "start_time": "2023-12-30T16:34:44.661325300Z"
    }
   },
   "outputs": [
    {
     "data": {
      "text/plain": "[0, 6, 3, 9]"
     },
     "execution_count": 5,
     "metadata": {},
     "output_type": "execute_result"
    }
   ],
   "source": [
    "def add_vectors(v1, v2):\n",
    "    final_vec = []\n",
    "    for v1_var, va2_var in zip(v1, v2):\n",
    "        sum_ = v1_var + va2_var\n",
    "        final_vec.append(sum_)\n",
    "    return final_vec\n",
    "\n",
    "add_vectors(vector_A, vector_B)"
   ]
  },
  {
   "cell_type": "code",
   "execution_count": 6,
   "metadata": {
    "ExecuteTime": {
     "end_time": "2023-12-30T16:34:49.212786100Z",
     "start_time": "2023-12-30T16:34:49.181143900Z"
    }
   },
   "outputs": [
    {
     "data": {
      "text/plain": "array([0, 6, 3, 9])"
     },
     "execution_count": 6,
     "metadata": {},
     "output_type": "execute_result"
    }
   ],
   "source": [
    "np.add(vector_A, vector_B)\n",
    "vector_A + vector_B"
   ]
  },
  {
   "cell_type": "code",
   "execution_count": 37,
   "metadata": {},
   "outputs": [
    {
     "data": {
      "text/plain": [
       "array([0, 0, 1, 1])"
      ]
     },
     "execution_count": 37,
     "metadata": {},
     "output_type": "execute_result"
    }
   ],
   "source": [
    "vector_A - vector_B\n",
    "np.subtract(vector_A, vector_B)"
   ]
  },
  {
   "cell_type": "code",
   "execution_count": 39,
   "metadata": {},
   "outputs": [
    {
     "data": {
      "text/plain": [
       "array([ 0, 12,  8, 20])"
      ]
     },
     "execution_count": 39,
     "metadata": {},
     "output_type": "execute_result"
    }
   ],
   "source": [
    "a = 4\n",
    "vector_A * a"
   ]
  },
  {
   "cell_type": "code",
   "execution_count": 40,
   "metadata": {},
   "outputs": [
    {
     "data": {
      "text/plain": [
       "31"
      ]
     },
     "execution_count": 40,
     "metadata": {},
     "output_type": "execute_result"
    }
   ],
   "source": [
    "np.dot(vector_A, vector_B)"
   ]
  },
  {
   "cell_type": "code",
   "execution_count": 41,
   "metadata": {},
   "outputs": [
    {
     "data": {
      "text/plain": [
       "5.0990195135927845"
      ]
     },
     "execution_count": 41,
     "metadata": {},
     "output_type": "execute_result"
    }
   ],
   "source": [
    "np.linalg.norm(vector_B)"
   ]
  }
 ],
 "metadata": {
  "colab": {
   "authorship_tag": "ABX9TyO/NIXQTeWpS3253KVNhnaM",
   "provenance": []
  },
  "kernelspec": {
   "name": "python3",
   "language": "python",
   "display_name": "Python 3 (ipykernel)"
  },
  "language_info": {
   "codemirror_mode": {
    "name": "ipython",
    "version": 3
   },
   "file_extension": ".py",
   "mimetype": "text/x-python",
   "name": "python",
   "nbconvert_exporter": "python",
   "pygments_lexer": "ipython3",
   "version": "3.10.13"
  }
 },
 "nbformat": 4,
 "nbformat_minor": 0
}
