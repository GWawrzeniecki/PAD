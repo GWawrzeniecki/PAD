{
 "nbformat": 4,
 "nbformat_minor": 0,
 "metadata": {
  "colab": {
   "provenance": [],
   "authorship_tag": "ABX9TyO/NIXQTeWpS3253KVNhnaM"
  },
  "kernelspec": {
   "name": "python3",
   "language": "python",
   "display_name": "Python 3 (ipykernel)"
  },
  "language_info": {
   "name": "python"
  }
 },
 "cells": [
  {
   "cell_type": "markdown",
   "source": [
    "## wyjątki"
   ],
   "metadata": {
    "id": "Yp1hCg5fnqW_"
   }
  },
  {
   "cell_type": "markdown",
   "source": [
    "Napisz program, który będzie kalkulatorem:\n",
    "- program ma pobierać od użytkownika input: liczba operator liczba\n",
    "- każdy znak w inpucie po spacji, np. 1 + 1\n",
    "- pobrany input należy przerobić na listę i sprawdzić jej poprawność:\n",
    "  - jeżeli w liście jest więcej niż 3 elementy - podnieś wyjątek IllegalFormulaError\n",
    "  - IllegalFormulaError ma być własnym wyjątkiem stworzonym przez Ciebie\n",
    "  - zamień liczby na typ float\n",
    "  - jeśli liczby zmieniane na float zwrócą ValueError - przechwyć go i podnieć IllegalFormulaError i wyświetl komunikat \"1 i 3 wartość muszą być liczbam\"\n",
    "  - jeśli użytkownik zamiast +, -, * lub / da inny operator, również zwróć IllegalFormulaError\n",
    "- jeśli nie wystąpił żaden wyjątek wyświetl wynik\n",
    "- pobieraj input od użytkownika tak długo jak użytkownik nie wpisze w inpucike polecenia KONIEC\n",
    "- działania na operatorach zawrzyj w funkcji"
   ],
   "metadata": {
    "id": "ub1UG2Ch0f6Q"
   }
  },
  {
   "cell_type": "code",
   "execution_count": 3,
   "metadata": {
    "id": "A6onwAE6nkwu",
    "ExecuteTime": {
     "end_time": "2023-10-29T12:27:04.063701Z",
     "start_time": "2023-10-29T12:27:01.873489Z"
    }
   },
   "outputs": [
    {
     "ename": "IllegalFormulaError",
     "evalue": "",
     "output_type": "error",
     "traceback": [
      "\u001B[0;31m---------------------------------------------------------------------------\u001B[0m",
      "\u001B[0;31mIllegalFormulaError\u001B[0m                       Traceback (most recent call last)",
      "Cell \u001B[0;32mIn[3], line 8\u001B[0m\n\u001B[1;32m      5\u001B[0m array \u001B[38;5;241m=\u001B[39m inp\u001B[38;5;241m.\u001B[39msplit(\u001B[38;5;124m'\u001B[39m\u001B[38;5;124m \u001B[39m\u001B[38;5;124m'\u001B[39m)\n\u001B[1;32m      7\u001B[0m \u001B[38;5;28;01mif\u001B[39;00m \u001B[38;5;28mlen\u001B[39m(array) \u001B[38;5;241m!=\u001B[39m \u001B[38;5;241m3\u001B[39m:\n\u001B[0;32m----> 8\u001B[0m     \u001B[38;5;28;01mraise\u001B[39;00m IllegalFormulaError()\n",
      "\u001B[0;31mIllegalFormulaError\u001B[0m: "
     ]
    }
   ],
   "source": [
    "import numpy as np\n",
    "\n",
    "\n",
    "class IllegalFormulaError(Exception):\n",
    "    pass\n",
    "\n",
    "inp = input()\n",
    "array = inp.split(' ')\n",
    "\n",
    "if len(array) != 3:\n",
    "    raise IllegalFormulaError()\n",
    "\n",
    "try:\n",
    "    array[0] = float(array[0])\n",
    "    array[2] = float(array[2])\n",
    "        \n",
    "except ValueError:\n",
    "    raise IllegalFormulaError(f\"{array[0]} i {array[2]} musza byc liczbami\")\n",
    "\n",
    "if array[1] != '+' or array[1] != '-' or array[1] != '*' or array[1] != '/':\n",
    "    raise IllegalFormulaError()\n",
    "\n",
    "calc = lambda \n",
    "    \n"
   ]
  },
  {
   "cell_type": "markdown",
   "source": [
    "## numpy"
   ],
   "metadata": {
    "id": "zZtBZ2XNnuHk"
   }
  },
  {
   "cell_type": "markdown",
   "source": [
    "1. Korzystając z poniższego kodu oraz pliku `Zadanie_1.csv` utwórz tablicę zawierającą wzrost prezydentów USA."
   ],
   "metadata": {
    "id": "lO5X1CFanwuq"
   }
  },
  {
   "cell_type": "code",
   "source": [
    "import pandas as pd\n",
    "import numpy as np\n",
    "\n",
    "data_ = pd.read_csv('Zadanie_1.csv')\n",
    "data = np.array(data_['height(cm)'])\n",
    "print(data)\n",
    "\n"
   ],
   "metadata": {
    "id": "EqV8dAQWnwDr",
    "ExecuteTime": {
     "end_time": "2023-10-29T12:36:00.625028Z",
     "start_time": "2023-10-29T12:36:00.616493Z"
    }
   },
   "execution_count": 5,
   "outputs": [
    {
     "name": "stdout",
     "output_type": "stream",
     "text": [
      "[189 170 189 163 183 171 185 168 173 183 173 173 175 178 183 193 178 173\n",
      " 174 183 183 168 170 178 182 180 183 178 182 188 175 179 183 193 182 183\n",
      " 177 185 188 188 182 185]\n"
     ]
    }
   ]
  },
  {
   "cell_type": "markdown",
   "source": [
    "Korzystając z pakietu NumPy podaj:\n",
    "- średni wzrost\n",
    "- odchylenie standardowe\n",
    "- najwyższy oraz najniższy wzrost:\n"
   ],
   "metadata": {
    "id": "dd2hB7gsojiL"
   }
  },
  {
   "cell_type": "code",
   "source": [
    "print('sredni_wzrost: ', round(np.mean(data),2))\n",
    "print('Odchylenie standardowe: ', round(np.std(data),2))\n",
    "print('Maksymalny wzrost: ',np.max(data))\n",
    "print('Minimalny wzrost: ', np.min(data))"
   ],
   "metadata": {
    "id": "5CBFy878ohq1",
    "ExecuteTime": {
     "end_time": "2023-10-29T12:38:12.900329Z",
     "start_time": "2023-10-29T12:38:12.895605Z"
    }
   },
   "execution_count": 7,
   "outputs": [
    {
     "name": "stdout",
     "output_type": "stream",
     "text": [
      "sredni_wzrost:  179.74\n",
      "Odchylenie standardowe:  6.93\n",
      "Maksymalny wzrost:  193\n",
      "Minimalny wzrost:  163\n"
     ]
    }
   ]
  },
  {
   "cell_type": "markdown",
   "source": [
    "Podaj również 25 i 75 kwantyl oraz medianę:"
   ],
   "metadata": {
    "id": "H5GJvIXFrabE"
   }
  },
  {
   "cell_type": "code",
   "source": [
    "print(\"25 kwantyl:\",np.percentile(data,25))   \n",
    "print(\"75 kwantyl: \",np.percentile(data, 75))\n",
    "\n"
   ],
   "metadata": {
    "id": "ea8MmGaArWVT",
    "ExecuteTime": {
     "end_time": "2023-10-29T12:39:49.134801Z",
     "start_time": "2023-10-29T12:39:49.125291Z"
    }
   },
   "execution_count": 9,
   "outputs": [
    {
     "name": "stdout",
     "output_type": "stream",
     "text": [
      "25 kwantyl: 174.25\n"
     ]
    },
    {
     "data": {
      "text/plain": "183.0"
     },
     "execution_count": 9,
     "metadata": {},
     "output_type": "execute_result"
    }
   ]
  },
  {
   "cell_type": "markdown",
   "source": [
    "---\n",
    "2. Wgraj dane z pliku `Zadanie_2.csv`.\n",
    "- Znajdź wektory własne, oraz wartości własne dla zawartej w pliku macierzy\n",
    "- Oblicz macierz odwrotną dla macierzy z pliku\n"
   ],
   "metadata": {
    "id": "lLR5_N2-reHz"
   }
  },
  {
   "cell_type": "code",
   "source": [
    "matrix = np.genfromtxt('Zadanie_2.csv',delimiter=';')\n",
    "matrix\n",
    "\n",
    "eigenvalues, eigenvectors =  np.linalg.eig(matrix)\n",
    "print(\"Eigenvalues: \\n\\n\", eigenvalues, end='\\n')\n",
    "print(\"Eigenvectors: \\n\\n\", eigenvectors, end='\\n')\n",
    "\n",
    "\n"
   ],
   "metadata": {
    "id": "ylst1dqJrj-g",
    "ExecuteTime": {
     "end_time": "2023-10-29T13:07:09.028317Z",
     "start_time": "2023-10-29T13:07:09.017351Z"
    }
   },
   "execution_count": 29,
   "outputs": [
    {
     "name": "stdout",
     "output_type": "stream",
     "text": [
      "Eigenvalues: \n",
      "\n",
      " [104.34960192 +0.j         -23.35660516+18.84992811j\n",
      " -23.35660516-18.84992811j  15.92989017 +0.j\n",
      "  -4.99456452 +0.j           0.35205717 +5.80125175j\n",
      "   0.35205717 -5.80125175j  -1.03383491 +0.j\n",
      "   3.87900166 +1.42651533j   3.87900166 -1.42651533j]\n",
      "Eigenvectors: \n",
      "\n",
      " [[-0.29000475+0.j         -0.07545445+0.07743149j -0.07545445-0.07743149j\n",
      "  -0.03544485+0.j          0.42681634+0.j         -0.22172831-0.29869259j\n",
      "  -0.22172831+0.29869259j  0.41343726+0.j         -0.28670255+0.21891569j\n",
      "  -0.28670255-0.21891569j]\n",
      " [-0.24163153+0.j          0.41229621+0.09197324j  0.41229621-0.09197324j\n",
      "   0.45873475+0.j         -0.27056206+0.j         -0.01331344+0.1422557j\n",
      "  -0.01331344-0.1422557j  -0.31591047+0.j          0.41954481-0.10561864j\n",
      "   0.41954481+0.10561864j]\n",
      " [-0.41060573+0.j          0.37509638-0.00960818j  0.37509638+0.00960818j\n",
      "   0.64067986+0.j         -0.37967609+0.j         -0.60525232+0.j\n",
      "  -0.60525232-0.j          0.6457768 +0.j          0.63631555+0.j\n",
      "   0.63631555-0.j        ]\n",
      " [-0.18899971+0.j         -0.05624951+0.174848j   -0.05624951-0.174848j\n",
      "   0.25174536+0.j         -0.07625465+0.j         -0.14870016-0.00795735j\n",
      "  -0.14870016+0.00795735j  0.15206852+0.j          0.21373907+0.00228636j\n",
      "   0.21373907-0.00228636j]\n",
      " [-0.42862199+0.j          0.47707538+0.14580554j  0.47707538-0.14580554j\n",
      "   0.39445834+0.j         -0.69542141+0.j          0.07336021-0.43070469j\n",
      "   0.07336021+0.43070469j -0.25948775+0.j          0.20250102-0.00411374j\n",
      "   0.20250102+0.00411374j]\n",
      " [-0.14730562+0.j         -0.57352911+0.j         -0.57352911-0.j\n",
      "   0.10071325+0.j          0.30158403+0.j         -0.04758838+0.12911829j\n",
      "  -0.04758838-0.12911829j  0.21274791+0.j         -0.1503483 +0.03452906j\n",
      "  -0.1503483 -0.03452906j]\n",
      " [-0.34660607+0.j         -0.13987374+0.06837303j -0.13987374-0.06837303j\n",
      "  -0.04800705+0.j          0.06798106+0.j          0.00512204+0.04215641j\n",
      "   0.00512204-0.04215641j  0.05365357+0.j         -0.0534517 +0.00550802j\n",
      "  -0.0534517 -0.00550802j]\n",
      " [-0.34919853+0.j         -0.08414467+0.07749664j -0.08414467-0.07749664j\n",
      "   0.25925893+0.j         -0.10039982+0.j         -0.06761437-0.25584347j\n",
      "  -0.06761437+0.25584347j -0.38214447+0.j          0.29485109-0.01300678j\n",
      "   0.29485109+0.01300678j]\n",
      " [-0.2440048 +0.j         -0.13777908+0.00402196j -0.13777908-0.00402196j\n",
      "   0.27709282+0.j         -0.00524365+0.j          0.21866893+0.04463336j\n",
      "   0.21866893-0.04463336j -0.12045798+0.j          0.27558332+0.02285482j\n",
      "   0.27558332-0.02285482j]\n",
      " [-0.38231403+0.j         -0.00476199+0.03456836j -0.00476199-0.03456836j\n",
      "   0.04918165+0.j          0.07322815+0.j          0.1819345 -0.29687727j\n",
      "   0.1819345 +0.29687727j -0.11445044+0.j          0.02830199+0.00579727j\n",
      "   0.02830199-0.00579727j]]\n"
     ]
    }
   ]
  },
  {
   "cell_type": "markdown",
   "source": [
    "---\n",
    "3. Plik `Zadanie_3.csv` zawiera informacje o rocznych opadach w Seattle w 2014. Wykorzystaj kod poniżej aby wczytać plik."
   ],
   "metadata": {
    "id": "Nsez0YSdrkZP"
   }
  },
  {
   "cell_type": "code",
   "source": [
    "data_ = pd.read_csv('Zadanie_3.csv')\n",
    "data = np.array(data_['PRCP'])"
   ],
   "metadata": {
    "id": "JoYQ0KMFsP0Z",
    "ExecuteTime": {
     "end_time": "2023-10-29T12:41:48.826012Z",
     "start_time": "2023-10-29T12:41:48.815242Z"
    }
   },
   "execution_count": 12,
   "outputs": [
    {
     "data": {
      "text/plain": "array([  0,  41,  15,   0,   0,   3, 122,  97,  58,  43, 213,  15,   0,\n         0,   0,   0,   0,   0,   0,   0,   0,   5,   0,   0,   0,   0,\n         0,  89, 216,   0,  23,  20,   0,   0,   0,   0,   0,   0,  51,\n         5, 183, 170,  46,  18,  94, 117, 264, 145, 152,  10,  30,  28,\n        25,  61, 130,   3,   0,   0,   0,   5, 191, 107, 165, 467,  30,\n         0, 323,  43, 188,   0,   0,   5,  69,  81, 277,   3,   0,   5,\n         0,   0,   0,   0,   0,  41,  36,   3, 221, 140,   0,   0,   0,\n         0,  25,   0,  46,   0,   0,  46,   0,   0,   0,   0,   0,   0,\n         5, 109, 185,   0, 137,   0,  51, 142,  89, 124,   0,  33,  69,\n         0,   0,   0,   0,   0, 333, 160,  51,   0,   0, 137,  20,   5,\n         0,   0,   0,   0,   0,   0,   0,   0,   0,   0,   0,   0,  38,\n         0,  56,   0,   0,   0,   0,   0,   0,   0,   0,   0,   0,   0,\n         0,   0,   0,   0,   0,   0,  18,  64,   0,   5,  36,  13,   0,\n         8,   3,   0,   0,   0,   0,   0,   0,  18,  23,   0,   0,   0,\n         0,   0,   0,   0,   0,   0,   0,   0,   0,   0,   0,   0,   0,\n         0,   0,   0,   0,   0,   0,   0,   3, 193,   0,   0,   0,   0,\n         0,   0,   0,   0,   0,   5,   0,   0,   0,   0,   0,   0,   0,\n         0,   5, 127, 216,   0,  10,   0,   0,   0,   0,   0,   0,   0,\n         0,   0,   0,   0,   0,   0,   0,  84,  13,   0,  30,   0,   0,\n         0,   0,   0,   0,   0,   0,   0,   0,   0,   0,   0,   0,   5,\n         3,   0,   0,   0,   3, 183, 203,  43,  89,   0,   0,   8,   0,\n         0,   0,   0,   0,   0,   0,   0,   0,   0,   3,  74,   0,  76,\n        71,  86,   0,  33, 150,   0, 117,  10, 320,  94,  41,  61,  15,\n         8, 127,   5, 254, 170,   0,  18, 109,  41,  48,  41,   0,   0,\n        51,   0,   0,   0,   0,   0,   0,   0,   0,   0,   0,  36, 152,\n         5, 119,  13, 183,   3,  33, 343,  36,   0,   0,   0,   0,   8,\n        30,  74,   0,  91,  99, 130,  69,   0,   0,   0,   0,   0,  28,\n       130,  30, 196,   0,   0, 206,  53,   0,   0,  33,  41,   0,   0,\n         0])"
     },
     "execution_count": 12,
     "metadata": {},
     "output_type": "execute_result"
    }
   ]
  },
  {
   "cell_type": "markdown",
   "source": [
    "Możemy zwizualizować dane następującym kodem:"
   ],
   "metadata": {
    "id": "Np-JiZEsstly"
   }
  },
  {
   "cell_type": "code",
   "source": [
    "%matplotlib inline\n",
    "import matplotlib.pyplot as plt\n",
    "import seaborn; seaborn.set()\n",
    "plt.hist(data, 40)"
   ],
   "metadata": {
    "id": "_nGjTmQMswPc",
    "ExecuteTime": {
     "end_time": "2023-10-29T12:44:07.579073Z",
     "start_time": "2023-10-29T12:44:07.260056Z"
    }
   },
   "execution_count": 16,
   "outputs": [
    {
     "data": {
      "text/plain": "(array([245.,  14.,  13.,  17.,   8.,   6.,   5.,   6.,   4.,   3.,   7.,\n          6.,   3.,   3.,   3.,   4.,   4.,   2.,   4.,   0.,   0.,   1.,\n          1.,   1.,   0.,   0.,   0.,   2.,   1.,   1.,   0.,   0.,   0.,\n          0.,   0.,   0.,   0.,   0.,   0.,   1.]),\n array([  0.   ,  11.675,  23.35 ,  35.025,  46.7  ,  58.375,  70.05 ,\n         81.725,  93.4  , 105.075, 116.75 , 128.425, 140.1  , 151.775,\n        163.45 , 175.125, 186.8  , 198.475, 210.15 , 221.825, 233.5  ,\n        245.175, 256.85 , 268.525, 280.2  , 291.875, 303.55 , 315.225,\n        326.9  , 338.575, 350.25 , 361.925, 373.6  , 385.275, 396.95 ,\n        408.625, 420.3  , 431.975, 443.65 , 455.325, 467.   ]),\n <BarContainer object of 40 artists>)"
     },
     "execution_count": 16,
     "metadata": {},
     "output_type": "execute_result"
    },
    {
     "data": {
      "text/plain": "<Figure size 640x480 with 1 Axes>",
      "image/png": "[encoded data removed]"
     },
     "metadata": {},
     "output_type": "display_data"
    }
   ]
  },
  {
   "cell_type": "markdown",
   "source": [
    "Wykorzystując operatory logiczne znajdź dni, kiedy:\n",
    "- Nie padało\n",
    "- Padało\n",
    "- Spadło powyżej 13 mm deszczu\n",
    "- Spadło poniżej 5 mm deszczu, ale padało!\n",
    "\n",
    "Do wyświetlenia wyników skorzystaj z:\n",
    "```\n",
    "print(\"Number days without rain:      \")\n",
    "print(\"Number days with rain:         \")\n",
    "print(\"Days with more than 13 mm:     \")\n",
    "print(\"Rainy days with < 5 mm  :      \")\n",
    "```\n"
   ],
   "metadata": {
    "id": "j0jfV9Ius3oB"
   }
  },
  {
   "cell_type": "code",
   "source": [
    "print(\"Dni bez opadow: \", np.sum(data == 0))\n",
    "print(\"Dni deszczowe: \", np.sum(data != 0))\n",
    "print(\"Opady powyżej 13mm: \", np.sum(data > 13))\n",
    "print(\"Desczowe dni z opadem ponizej 5 mm: \", np.sum((data < 5) & (data > 0)))"
   ],
   "metadata": {
    "id": "K21U9F5BsmkK",
    "ExecuteTime": {
     "end_time": "2023-10-29T12:47:19.782148Z",
     "start_time": "2023-10-29T12:47:19.778833Z"
    }
   },
   "execution_count": 19,
   "outputs": [
    {
     "name": "stdout",
     "output_type": "stream",
     "text": [
      "Dni bez opadow:  215\n",
      "Dni deszczowe:  150\n",
      "Opady powyżej 13mm:  117\n",
      "Desczowe dni z opadem ponizej 5 mm:  10\n"
     ]
    }
   ]
  },
  {
   "cell_type": "markdown",
   "source": [
    "Korzystając z maskowania policz następujące statystyki:\n",
    "- Medianę opadów w deszczowe dni w 2014 roku\n",
    "- Medianę opadów latem w 2014 roku (czyli dni pomiędzy dniem 172 a 262)\n",
    "- Maksymalne opady latem 2014 roku\n",
    "- Maksymalne opady poza latem 2014 roku (czyli wiosna, jesień i zima)\n",
    "\n",
    "Do wyświetlenia wyników skorzystaj z:\n",
    "```\n",
    "print(\"Median precip on rainy days in 2014 (inches):   \")\n",
    "print(\"Median precip on summer days in 2014 (inches):  \")\n",
    "print(\"Maximum precip on summer days in 2014 (inches): \")\n",
    "print(\"Median precip on non-summer rainy days (inches):\")\n",
    "```\n",
    "\n",
    "\n"
   ],
   "metadata": {
    "id": "bzS95iYVtPax"
   }
  },
  {
   "cell_type": "code",
   "source": [
    "dni_deszczowe = data > 0\n",
    "dni = np.arange(365)\n",
    "dni_letnie = (dni > 172) & (dni < 262)\n",
    "\n",
    "print(\"Mediana dni deszczowych: \", np.median(data[dni_deszczowe]))\n",
    "print(\"Mediana dni letnich:\", np.median(data[dni_letnie]))\n",
    "print(\"Mediana dni letnich i deszczowych: \", np.median(data[dni_letnie & dni_deszczowe]))\n",
    "print(\"Maksymalne opady w lecie: \", np.max(data[dni_letnie]))\n",
    "print(\"Maksymalne opady poza latem: \", np.max(data[~dni_letnie]))\n",
    "\n",
    "\n"
   ],
   "metadata": {
    "id": "NS6bFF3FsrBb",
    "ExecuteTime": {
     "end_time": "2023-10-29T12:54:33.038747Z",
     "start_time": "2023-10-29T12:54:33.031854Z"
    }
   },
   "execution_count": 24,
   "outputs": [
    {
     "name": "stdout",
     "output_type": "stream",
     "text": [
      "Mediana dni deszczowych:  49.5\n",
      "Mediana dni letnich: 0.0\n",
      "Mediana dni letnich i deszczowych:  15.5\n",
      "Maksymalne opady w lecie:  216\n",
      "Maksymalne opady poza latem:  467\n"
     ]
    }
   ]
  },
  {
   "cell_type": "markdown",
   "source": [
    "---\n",
    "4. Dane są dwa wektory A i B.\n",
    "```\n",
    "A = [0,3,2,5]\n",
    "B = [0,3,1,4]\n",
    "```\n",
    "\n",
    "Wykonaj następujące operacje:\n",
    "- przedstaw wektory jako tablice\n",
    "- Dodaj A i B\n",
    "- Odejmij B od A\n",
    "- Pomnóż wektor A przez skalar a=4\n",
    "- Oblicz iloczyn skalarny wektorów A i B\n",
    "- Znajdź długość wektora B (w przestrzeni, nie chodzi o size!)\n",
    "\n",
    "Te operacje można wykonać „ręcznie” w Pythonie, ale postaraj się znaleźć odpowiednie funkcje NumPy.\n"
   ],
   "metadata": {
    "id": "45_Q0MXbtf3r"
   }
  },
  {
   "cell_type": "code",
   "source": [
    "vector_A = np.array([0,3,2,5])\n",
    "vector_B = np.array([0,3,1,4])\n",
    "\n",
    "for element, element2 in zip(vector_A, vector_B):\n",
    "    print(element, end='\\t')\n",
    "    print(element2)\n",
    "    \n",
    "\n",
    "def add_vectors(v1, v2):\n",
    "    final_vec = []\n",
    "    for v1, v2 in zip(v1,v2):\n",
    "        "
   ],
   "metadata": {
    "id": "WVhnpy9rvM99",
    "ExecuteTime": {
     "end_time": "2023-10-29T13:01:03.969790Z",
     "start_time": "2023-10-29T13:01:03.965657Z"
    }
   },
   "execution_count": 25,
   "outputs": [
    {
     "name": "stdout",
     "output_type": "stream",
     "text": [
      "0\t0\n",
      "3\t3\n",
      "2\t1\n",
      "5\t4\n",
      "The history saving thread hit an unexpected error (OperationalError('attempt to write a readonly database')).History will not be written to the database.\n"
     ]
    }
   ]
  }
 ]
}
