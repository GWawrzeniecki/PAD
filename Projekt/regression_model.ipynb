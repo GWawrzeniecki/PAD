{
 "cells": [
  {
   "cell_type": "code",
   "execution_count": 45,
   "id": "initial_id",
   "metadata": {
    "collapsed": true,
    "ExecuteTime": {
     "end_time": "2024-01-12T12:55:02.656066Z",
     "start_time": "2024-01-12T12:55:02.596281Z"
    }
   },
   "outputs": [],
   "source": [
    "import statsmodels.formula.api as smf\n",
    "import plotly.graph_objects as go\n",
    "import pandas as pd"
   ]
  },
  {
   "cell_type": "code",
   "execution_count": 46,
   "outputs": [],
   "source": [
    "data = pd.read_csv('prepared_data.csv')"
   ],
   "metadata": {
    "collapsed": false,
    "ExecuteTime": {
     "end_time": "2024-01-12T12:55:02.699841Z",
     "start_time": "2024-01-12T12:55:02.602295Z"
    }
   },
   "id": "f5f2061a509f1257"
  },
  {
   "cell_type": "code",
   "execution_count": 47,
   "outputs": [
    {
     "data": {
      "text/plain": "Index(['carat', 'clarity', 'color', 'cut', 'x dimension', 'y dimension',\n       'z dimension', 'depth', 'table', 'price'],\n      dtype='object')"
     },
     "execution_count": 47,
     "metadata": {},
     "output_type": "execute_result"
    }
   ],
   "source": [
    "data.columns"
   ],
   "metadata": {
    "collapsed": false,
    "ExecuteTime": {
     "end_time": "2024-01-12T12:55:02.730926Z",
     "start_time": "2024-01-12T12:55:02.609700Z"
    }
   },
   "id": "bf5e97f4d08b5a6e"
  },
  {
   "cell_type": "markdown",
   "source": [
    "# Hipoteza zerowa\n",
    "\n",
    "- H0: $\\beta_1 = 0$. Nie ma dowodów na wzrost ceny\n",
    "- Ha: $\\beta_1 \\neq 0$. Istnieją dowody na wzrost cen"
   ],
   "metadata": {
    "collapsed": false
   },
   "id": "f4aa588cdd0645d4"
  },
  {
   "cell_type": "code",
   "execution_count": 48,
   "outputs": [
    {
     "name": "stdout",
     "output_type": "stream",
     "text": [
      "                            OLS Regression Results                            \n",
      "==============================================================================\n",
      "Dep. Variable:                  price   R-squared:                       0.976\n",
      "Model:                            OLS   Adj. R-squared:                  0.968\n",
      "Method:                 Least Squares   F-statistic:                     120.2\n",
      "Date:                Fri, 12 Jan 2024   Prob (F-statistic):           2.06e-38\n",
      "Time:                        13:55:02   Log-Likelihood:                -583.28\n",
      "No. Observations:                  76   AIC:                             1207.\n",
      "Df Residuals:                      56   BIC:                             1253.\n",
      "Df Model:                          19                                         \n",
      "Covariance Type:            nonrobust                                         \n",
      "====================================================================================\n",
      "                       coef    std err          t      P>|t|      [0.025      0.975]\n",
      "------------------------------------------------------------------------------------\n",
      "Intercept        -1.989e+04   1.79e+04     -1.110      0.272   -5.58e+04     1.6e+04\n",
      "clarity[T.IF]     1387.9467    418.821      3.314      0.002     548.947    2226.946\n",
      "clarity[T.SI2]     458.2585    298.355      1.536      0.130    -139.418    1055.935\n",
      "clarity[T.Si1]     807.6113    299.661      2.695      0.009     207.318    1407.905\n",
      "clarity[T.VVS1]   1003.7016    328.727      3.053      0.003     345.181    1662.222\n",
      "clarity[T.VVS2]   1034.4633    327.281      3.161      0.003     378.841    1690.086\n",
      "color[T.D]         243.5045    463.870      0.525      0.602    -685.739    1172.748\n",
      "color[T.E]         400.7081    411.244      0.974      0.334    -423.112    1224.528\n",
      "color[T.F]         296.5836    377.236      0.786      0.435    -459.110    1052.278\n",
      "color[T.G]         122.5580    386.964      0.317      0.753    -652.624     897.740\n",
      "color[T.H]         248.2444    386.383      0.642      0.523    -525.773    1022.262\n",
      "color[T.I]         207.6636    372.864      0.557      0.580    -539.273     954.600\n",
      "color[T.J]        -617.8609    763.656     -0.809      0.422   -2147.647     911.925\n",
      "cut[T.Good]       -636.6859    248.746     -2.560      0.013   -1134.984    -138.388\n",
      "cut[T.Ideal]       -19.3564    287.037     -0.067      0.946    -594.361     555.648\n",
      "cut[T.Premium]     105.0320    261.227      0.402      0.689    -418.269     628.333\n",
      "cut[T.Very Good]   -81.2572    262.398     -0.310      0.758    -606.903     444.389\n",
      "carat             9461.5718    270.905     34.926      0.000    8918.884       1e+04\n",
      "depth              239.0159    283.168      0.844      0.402    -328.237     806.269\n",
      "table               35.7197     58.020      0.616      0.541     -80.508     151.948\n",
      "==============================================================================\n",
      "Omnibus:                        1.301   Durbin-Watson:                   1.644\n",
      "Prob(Omnibus):                  0.522   Jarque-Bera (JB):                0.699\n",
      "Skew:                           0.118   Prob(JB):                        0.705\n",
      "Kurtosis:                       3.406   Cond. No.                     2.17e+04\n",
      "==============================================================================\n",
      "\n",
      "Notes:\n",
      "[1] Standard Errors assume that the covariance matrix of the errors is correctly specified.\n",
      "[2] The condition number is large, 2.17e+04. This might indicate that there are\n",
      "strong multicollinearity or other numerical problems.\n"
     ]
    }
   ],
   "source": [
    "model = smf.ols(\"price ~ carat + clarity + color + cut + depth + table\", data=data).fit()\n",
    "print(model.summary())"
   ],
   "metadata": {
    "collapsed": false,
    "ExecuteTime": {
     "end_time": "2024-01-12T12:55:02.733672Z",
     "start_time": "2024-01-12T12:55:02.635891Z"
    }
   },
   "id": "9940b4fa6da1c845"
  },
  {
   "cell_type": "markdown",
   "source": [
    "# Usuńmy kolumny table oraz depth ze współczynników (0.402 oraz 0.541)"
   ],
   "metadata": {
    "collapsed": false
   },
   "id": "c552c0b5c66af247"
  },
  {
   "cell_type": "code",
   "execution_count": 49,
   "outputs": [
    {
     "name": "stdout",
     "output_type": "stream",
     "text": [
      "                            OLS Regression Results                            \n",
      "==============================================================================\n",
      "Dep. Variable:                  price   R-squared:                       0.916\n",
      "Model:                            OLS   Adj. R-squared:                  0.905\n",
      "Method:                 Least Squares   F-statistic:                     83.81\n",
      "Date:                Fri, 12 Jan 2024   Prob (F-statistic):           1.01e-61\n",
      "Time:                        13:55:02   Log-Likelihood:                -1229.4\n",
      "No. Observations:                 149   AIC:                             2495.\n",
      "Df Residuals:                     131   BIC:                             2549.\n",
      "Df Model:                          17                                         \n",
      "Covariance Type:            nonrobust                                         \n",
      "====================================================================================\n",
      "                       coef    std err          t      P>|t|      [0.025      0.975]\n",
      "------------------------------------------------------------------------------------\n",
      "Intercept        -3942.5052    574.721     -6.860      0.000   -5079.441   -2805.569\n",
      "clarity[T.IF]     1584.9401    390.098      4.063      0.000     813.234    2356.646\n",
      "clarity[T.SI2]     910.3687    316.039      2.881      0.005     285.168    1535.570\n",
      "clarity[T.Si1]    1170.2363    327.176      3.577      0.000     523.004    1817.469\n",
      "clarity[T.VVS1]   1427.4494    344.140      4.148      0.000     746.658    2108.241\n",
      "clarity[T.VVS2]   1489.0324    339.160      4.390      0.000     818.092    2159.972\n",
      "color[T.D]         502.8052    537.028      0.936      0.351    -559.565    1565.176\n",
      "color[T.E]         412.8464    518.403      0.796      0.427    -612.678    1438.371\n",
      "color[T.F]         571.8307    474.484      1.205      0.230    -366.812    1510.474\n",
      "color[T.G]         474.4079    464.711      1.021      0.309    -444.901    1393.717\n",
      "color[T.H]         249.1942    485.458      0.513      0.609    -711.158    1209.546\n",
      "color[T.I]          92.1741    471.350      0.196      0.845    -840.269    1024.618\n",
      "color[T.J]        -123.6525    580.438     -0.213      0.832   -1271.898    1024.593\n",
      "cut[T.Good]        183.9281    274.908      0.669      0.505    -359.905     727.761\n",
      "cut[T.Ideal]       532.6749    303.464      1.755      0.082     -67.650    1133.000\n",
      "cut[T.Premium]     963.2029    280.935      3.429      0.001     407.447    1518.959\n",
      "cut[T.Very Good]   542.6348    285.949      1.898      0.060     -23.040    1108.309\n",
      "carat             9296.2781    262.902     35.360      0.000    8776.195    9816.361\n",
      "==============================================================================\n",
      "Omnibus:                      161.185   Durbin-Watson:                   1.716\n",
      "Prob(Omnibus):                  0.000   Jarque-Bera (JB):             5650.661\n",
      "Skew:                          -3.789   Prob(JB):                         0.00\n",
      "Kurtosis:                      32.202   Cond. No.                         22.9\n",
      "==============================================================================\n",
      "\n",
      "Notes:\n",
      "[1] Standard Errors assume that the covariance matrix of the errors is correctly specified.\n"
     ]
    }
   ],
   "source": [
    "model = smf.ols(\"price ~ carat + clarity + color + cut\", data=data).fit()\n",
    "print(model.summary())"
   ],
   "metadata": {
    "collapsed": false,
    "ExecuteTime": {
     "end_time": "2024-01-12T12:55:02.740147Z",
     "start_time": "2024-01-12T12:55:02.670791Z"
    }
   },
   "id": "2a747fa580dd3198"
  },
  {
   "cell_type": "markdown",
   "source": [
    "# Usuńmy kolumnę color (> 0.230)"
   ],
   "metadata": {
    "collapsed": false
   },
   "id": "223be216b3b89a2"
  },
  {
   "cell_type": "code",
   "execution_count": 102,
   "outputs": [
    {
     "name": "stdout",
     "output_type": "stream",
     "text": [
      "                            OLS Regression Results                            \n",
      "==============================================================================\n",
      "Dep. Variable:                  price   R-squared:                       0.912\n",
      "Model:                            OLS   Adj. R-squared:                  0.906\n",
      "Method:                 Least Squares   F-statistic:                     143.5\n",
      "Date:                Fri, 12 Jan 2024   Prob (F-statistic):           8.91e-68\n",
      "Time:                        15:13:12   Log-Likelihood:                -1232.4\n",
      "No. Observations:                 149   AIC:                             2487.\n",
      "Df Residuals:                     138   BIC:                             2520.\n",
      "Df Model:                          10                                         \n",
      "Covariance Type:            nonrobust                                         \n",
      "====================================================================================\n",
      "                       coef    std err          t      P>|t|      [0.025      0.975]\n",
      "------------------------------------------------------------------------------------\n",
      "Intercept        -3828.5481    342.465    -11.179      0.000   -4505.705   -3151.391\n",
      "clarity[T.IF]     1810.5874    356.230      5.083      0.000    1106.213    2514.961\n",
      "clarity[T.SI2]    1029.4879    289.633      3.554      0.001     456.796    1602.180\n",
      "clarity[T.Si1]    1228.7463    313.866      3.915      0.000     608.138    1849.355\n",
      "clarity[T.VVS1]   1573.1284    310.738      5.063      0.000     958.705    2187.552\n",
      "clarity[T.VVS2]   1660.0325    310.049      5.354      0.000    1046.971    2273.094\n",
      "cut[T.Good]        245.0551    266.906      0.918      0.360    -282.698     772.808\n",
      "cut[T.Ideal]       613.2676    291.702      2.102      0.037      36.485    1190.051\n",
      "cut[T.Premium]    1027.1330    262.334      3.915      0.000     508.419    1545.847\n",
      "cut[T.Very Good]   606.2164    275.558      2.200      0.029      61.354    1151.079\n",
      "carat             9357.0543    257.089     36.396      0.000    8848.712    9865.396\n",
      "==============================================================================\n",
      "Omnibus:                      159.642   Durbin-Watson:                   1.680\n",
      "Prob(Omnibus):                  0.000   Jarque-Bera (JB):             5442.717\n",
      "Skew:                          -3.742   Prob(JB):                         0.00\n",
      "Kurtosis:                      31.647   Cond. No.                         10.9\n",
      "==============================================================================\n",
      "\n",
      "Notes:\n",
      "[1] Standard Errors assume that the covariance matrix of the errors is correctly specified.\n"
     ]
    }
   ],
   "source": [
    "model = smf.ols(\"price ~ carat + clarity + cut\", data=data).fit()\n",
    "print(model.summary())"
   ],
   "metadata": {
    "collapsed": false,
    "ExecuteTime": {
     "end_time": "2024-01-12T14:13:12.101942Z",
     "start_time": "2024-01-12T14:13:12.085055Z"
    }
   },
   "id": "92293158104fe54c"
  },
  {
   "cell_type": "code",
   "execution_count": 103,
   "outputs": [
    {
     "name": "stdout",
     "output_type": "stream",
     "text": [
      "                            OLS Regression Results                            \n",
      "==============================================================================\n",
      "Dep. Variable:                  price   R-squared:                       0.912\n",
      "Model:                            OLS   Adj. R-squared:                  0.906\n",
      "Method:                 Least Squares   F-statistic:                     143.5\n",
      "Date:                Fri, 12 Jan 2024   Prob (F-statistic):           8.91e-68\n",
      "Time:                        15:19:47   Log-Likelihood:                -1232.4\n",
      "No. Observations:                 149   AIC:                             2487.\n",
      "Df Residuals:                     138   BIC:                             2520.\n",
      "Df Model:                          10                                         \n",
      "Covariance Type:            nonrobust                                         \n",
      "============================================================================================\n",
      "                               coef    std err          t      P>|t|      [0.025      0.975]\n",
      "--------------------------------------------------------------------------------------------\n",
      "Intercept                -2470.6804    221.742    -11.142      0.000   -2909.132   -2032.229\n",
      "clarity[T.IF]             1810.5874    356.230      5.083      0.000    1106.213    2514.961\n",
      "clarity[T.SI2]            1029.4879    289.633      3.554      0.001     456.796    1602.180\n",
      "clarity[T.Si1]            1228.7463    313.866      3.915      0.000     608.138    1849.355\n",
      "clarity[T.VVS1]           1573.1284    310.738      5.063      0.000     958.705    2187.552\n",
      "clarity[T.VVS2]           1660.0325    310.049      5.354      0.000    1046.971    2273.094\n",
      "cut[T.Good]              -1112.8127    183.907     -6.051      0.000   -1476.453    -749.173\n",
      "cut[T.Ideal]               613.2676    291.702      2.102      0.037      36.485    1190.051\n",
      "cut[T.Premium]            1027.1330    262.334      3.915      0.000     508.419    1545.847\n",
      "cut[T.Very Good]           606.2164    275.558      2.200      0.029      61.354    1151.079\n",
      "I(cut != 'Good')[T.True] -1357.8677    162.426     -8.360      0.000   -1679.034   -1036.702\n",
      "carat                     9357.0543    257.089     36.396      0.000    8848.712    9865.396\n",
      "==============================================================================\n",
      "Omnibus:                      159.642   Durbin-Watson:                   1.680\n",
      "Prob(Omnibus):                  0.000   Jarque-Bera (JB):             5442.717\n",
      "Skew:                          -3.742   Prob(JB):                         0.00\n",
      "Kurtosis:                      31.647   Cond. No.                     4.52e+15\n",
      "==============================================================================\n",
      "\n",
      "Notes:\n",
      "[1] Standard Errors assume that the covariance matrix of the errors is correctly specified.\n",
      "[2] The smallest eigenvalue is 1.92e-29. This might indicate that there are\n",
      "strong multicollinearity problems or that the design matrix is singular.\n"
     ]
    }
   ],
   "source": [
    "model = smf.ols(\"price ~ carat + clarity + cut + I(cut != 'Good')\", data=data).fit()\n",
    "print(model.summary())"
   ],
   "metadata": {
    "collapsed": false,
    "ExecuteTime": {
     "end_time": "2024-01-12T14:19:47.832748Z",
     "start_time": "2024-01-12T14:19:47.826655Z"
    }
   },
   "id": "be10b089f7fb4a20"
  }
 ],
 "metadata": {
  "kernelspec": {
   "display_name": "Python 3",
   "language": "python",
   "name": "python3"
  },
  "language_info": {
   "codemirror_mode": {
    "name": "ipython",
    "version": 2
   },
   "file_extension": ".py",
   "mimetype": "text/x-python",
   "name": "python",
   "nbconvert_exporter": "python",
   "pygments_lexer": "ipython2",
   "version": "2.7.6"
  }
 },
 "nbformat": 4,
 "nbformat_minor": 5
}
