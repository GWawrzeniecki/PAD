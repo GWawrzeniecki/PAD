{
 "cells": [
  {
   "cell_type": "code",
   "execution_count": 40,
   "id": "initial_id",
   "metadata": {
    "collapsed": true,
    "jupyter": {
     "outputs_hidden": true
    },
    "ExecuteTime": {
     "end_time": "2024-01-13T19:17:18.230258500Z",
     "start_time": "2024-01-13T19:17:18.137357Z"
    }
   },
   "outputs": [],
   "source": [
    "import statsmodels.formula.api as smf\n",
    "import pandas as pd"
   ]
  },
  {
   "cell_type": "code",
   "execution_count": 41,
   "id": "f5f2061a509f1257",
   "metadata": {
    "collapsed": false,
    "ExecuteTime": {
     "end_time": "2024-01-13T19:17:18.277136100Z",
     "start_time": "2024-01-13T19:17:18.151823300Z"
    }
   },
   "outputs": [],
   "source": [
    "data = pd.read_csv('prepared_data.csv')"
   ]
  },
  {
   "cell_type": "code",
   "execution_count": 42,
   "id": "bf5e97f4d08b5a6e",
   "metadata": {
    "collapsed": false,
    "ExecuteTime": {
     "end_time": "2024-01-13T19:17:18.277136100Z",
     "start_time": "2024-01-13T19:17:18.167338600Z"
    }
   },
   "outputs": [
    {
     "data": {
      "text/plain": "Index(['carat', 'clarity', 'color', 'cut', 'x dimension', 'y dimension',\n       'z dimension', 'depth', 'table', 'price'],\n      dtype='object')"
     },
     "execution_count": 42,
     "metadata": {},
     "output_type": "execute_result"
    }
   ],
   "source": [
    "data.columns"
   ]
  },
  {
   "cell_type": "markdown",
   "id": "f4aa588cdd0645d4",
   "metadata": {
    "collapsed": false
   },
   "source": [
    "# Hipoteza zerowa\n",
    "\n",
    "- H0: $\\beta_1 = 0$. Nie ma dowodów na wzrost ceny\n",
    "- Ha: $\\beta_1 \\neq 0$. Istnieją dowody na wzrost cen"
   ]
  },
  {
   "cell_type": "code",
   "execution_count": 43,
   "id": "9940b4fa6da1c845",
   "metadata": {
    "collapsed": false,
    "ExecuteTime": {
     "end_time": "2024-01-13T19:17:18.277136100Z",
     "start_time": "2024-01-13T19:17:18.193489700Z"
    }
   },
   "outputs": [
    {
     "name": "stdout",
     "output_type": "stream",
     "text": [
      "                            OLS Regression Results                            \n",
      "==============================================================================\n",
      "Dep. Variable:                  price   R-squared:                       0.977\n",
      "Model:                            OLS   Adj. R-squared:                  0.969\n",
      "Method:                 Least Squares   F-statistic:                     127.3\n",
      "Date:                Sat, 13 Jan 2024   Prob (F-statistic):           1.22e-39\n",
      "Time:                        20:17:18   Log-Likelihood:                -590.64\n",
      "No. Observations:                  77   AIC:                             1221.\n",
      "Df Residuals:                      57   BIC:                             1268.\n",
      "Df Model:                          19                                         \n",
      "Covariance Type:            nonrobust                                         \n",
      "====================================================================================\n",
      "                       coef    std err          t      P>|t|      [0.025      0.975]\n",
      "------------------------------------------------------------------------------------\n",
      "Intercept        -2.057e+04   1.78e+04     -1.158      0.252   -5.61e+04     1.5e+04\n",
      "clarity[T.IF]     1354.5084    411.172      3.294      0.002     531.150    2177.867\n",
      "clarity[T.SI2]     476.9858    294.259      1.621      0.111    -112.258    1066.230\n",
      "clarity[T.Si1]     802.3826    297.566      2.696      0.009     206.518    1398.248\n",
      "clarity[T.VVS1]   1004.0284    326.613      3.074      0.003     349.998    1658.059\n",
      "clarity[T.VVS2]   1027.1969    324.878      3.162      0.003     376.639    1677.755\n",
      "color[T.D]         317.2362    438.730      0.723      0.473    -561.305    1195.778\n",
      "color[T.E]         402.9128    408.577      0.986      0.328    -415.249    1221.075\n",
      "color[T.F]         308.5999    374.103      0.825      0.413    -440.528    1057.728\n",
      "color[T.G]         135.8373    383.634      0.354      0.725    -632.376     904.051\n",
      "color[T.H]         255.1629    383.669      0.665      0.509    -513.121    1023.447\n",
      "color[T.I]         217.5268    369.985      0.588      0.559    -523.354     958.408\n",
      "color[T.J]        -588.1625    756.610     -0.777      0.440   -2103.249     926.924\n",
      "cut[T.Good]       -640.8511    247.017     -2.594      0.012   -1135.495    -146.207\n",
      "cut[T.Ideal]       -23.9625    285.055     -0.084      0.933    -594.775     546.850\n",
      "cut[T.Premium]     108.3973    259.467      0.418      0.678    -411.177     627.971\n",
      "cut[T.Very Good]   -57.3889    256.673     -0.224      0.824    -571.368     456.590\n",
      "carat             9474.3198    268.053     35.345      0.000    8937.552       1e+04\n",
      "depth              247.0485    280.926      0.879      0.383    -315.496     809.593\n",
      "table               38.4212     57.414      0.669      0.506     -76.549     153.392\n",
      "==============================================================================\n",
      "Omnibus:                        0.971   Durbin-Watson:                   1.663\n",
      "Prob(Omnibus):                  0.615   Jarque-Bera (JB):                0.433\n",
      "Skew:                           0.073   Prob(JB):                        0.806\n",
      "Kurtosis:                       3.337   Cond. No.                     2.18e+04\n",
      "==============================================================================\n",
      "\n",
      "Notes:\n",
      "[1] Standard Errors assume that the covariance matrix of the errors is correctly specified.\n",
      "[2] The condition number is large, 2.18e+04. This might indicate that there are\n",
      "strong multicollinearity or other numerical problems.\n"
     ]
    }
   ],
   "source": [
    "model = smf.ols(\"price ~ carat + clarity + color + cut + depth + table\", data=data).fit()\n",
    "print(model.summary())"
   ]
  },
  {
   "cell_type": "markdown",
   "id": "c552c0b5c66af247",
   "metadata": {
    "collapsed": false
   },
   "source": [
    "# Usuńmy kolumny table oraz depth ze współczynników (0.402 oraz 0.541)"
   ]
  },
  {
   "cell_type": "code",
   "execution_count": 44,
   "id": "2a747fa580dd3198",
   "metadata": {
    "collapsed": false,
    "ExecuteTime": {
     "end_time": "2024-01-13T19:17:18.293771400Z",
     "start_time": "2024-01-13T19:17:18.214631300Z"
    }
   },
   "outputs": [
    {
     "name": "stdout",
     "output_type": "stream",
     "text": [
      "                            OLS Regression Results                            \n",
      "==============================================================================\n",
      "Dep. Variable:                  price   R-squared:                       0.972\n",
      "Model:                            OLS   Adj. R-squared:                  0.968\n",
      "Method:                 Least Squares   F-statistic:                     265.9\n",
      "Date:                Sat, 13 Jan 2024   Prob (F-statistic):           1.09e-92\n",
      "Time:                        20:17:18   Log-Likelihood:                -1148.7\n",
      "No. Observations:                 149   AIC:                             2333.\n",
      "Df Residuals:                     131   BIC:                             2387.\n",
      "Df Model:                          17                                         \n",
      "Covariance Type:            nonrobust                                         \n",
      "====================================================================================\n",
      "                       coef    std err          t      P>|t|      [0.025      0.975]\n",
      "------------------------------------------------------------------------------------\n",
      "Intercept        -3505.2750    332.989    -10.527      0.000   -4164.007   -2846.543\n",
      "clarity[T.IF]     1144.9904    227.446      5.034      0.000     695.048    1594.933\n",
      "clarity[T.SI2]     422.8493    185.657      2.278      0.024      55.576     790.122\n",
      "clarity[T.Si1]     671.7661    192.023      3.498      0.001     291.899    1051.633\n",
      "clarity[T.VVS1]    896.1456    202.002      4.436      0.000     496.538    1295.753\n",
      "clarity[T.VVS2]    894.7953    199.175      4.493      0.000     500.779    1288.811\n",
      "color[T.D]         558.8829    307.152      1.820      0.071     -48.737    1166.503\n",
      "color[T.E]         516.1640    301.650      1.711      0.089     -80.572    1112.900\n",
      "color[T.F]         611.5971    275.899      2.217      0.028      65.804    1157.390\n",
      "color[T.G]         410.6657    270.262      1.520      0.131    -123.977     945.309\n",
      "color[T.H]         375.6453    282.350      1.330      0.186    -182.910     934.200\n",
      "color[T.I]         308.7077    274.895      1.123      0.263    -235.101     852.517\n",
      "color[T.J]         352.5322    337.434      1.045      0.298    -314.993    1020.057\n",
      "cut[T.Good]       -336.3771    160.306     -2.098      0.038    -653.500     -19.254\n",
      "cut[T.Ideal]        -1.4922    177.258     -0.008      0.993    -352.151     349.167\n",
      "cut[T.Premium]     378.5691    164.824      2.297      0.023      52.507     704.631\n",
      "cut[T.Very Good]    56.6331    165.596      0.342      0.733    -270.956     384.222\n",
      "carat             9904.1840    154.834     63.967      0.000    9597.886    1.02e+04\n",
      "==============================================================================\n",
      "Omnibus:                        3.130   Durbin-Watson:                   1.554\n",
      "Prob(Omnibus):                  0.209   Jarque-Bera (JB):                3.418\n",
      "Skew:                          -0.023   Prob(JB):                        0.181\n",
      "Kurtosis:                       3.741   Cond. No.                         22.9\n",
      "==============================================================================\n",
      "\n",
      "Notes:\n",
      "[1] Standard Errors assume that the covariance matrix of the errors is correctly specified.\n"
     ]
    }
   ],
   "source": [
    "model = smf.ols(\"price ~ carat + clarity + color + cut\", data=data).fit()\n",
    "print(model.summary())"
   ]
  },
  {
   "cell_type": "markdown",
   "id": "223be216b3b89a2",
   "metadata": {
    "collapsed": false
   },
   "source": [
    "# Usuńmy kolumnę color (> 0.066)"
   ]
  },
  {
   "cell_type": "code",
   "execution_count": 45,
   "id": "92293158104fe54c",
   "metadata": {
    "collapsed": false,
    "ExecuteTime": {
     "end_time": "2024-01-13T19:17:18.293771400Z",
     "start_time": "2024-01-13T19:17:18.245883800Z"
    }
   },
   "outputs": [
    {
     "name": "stdout",
     "output_type": "stream",
     "text": [
      "                            OLS Regression Results                            \n",
      "==============================================================================\n",
      "Dep. Variable:                  price   R-squared:                       0.970\n",
      "Model:                            OLS   Adj. R-squared:                  0.968\n",
      "Method:                 Least Squares   F-statistic:                     450.9\n",
      "Date:                Sat, 13 Jan 2024   Prob (F-statistic):          4.01e-100\n",
      "Time:                        20:17:18   Log-Likelihood:                -1152.6\n",
      "No. Observations:                 149   AIC:                             2327.\n",
      "Df Residuals:                     138   BIC:                             2360.\n",
      "Df Model:                          10                                         \n",
      "Covariance Type:            nonrobust                                         \n",
      "====================================================================================\n",
      "                       coef    std err          t      P>|t|      [0.025      0.975]\n",
      "------------------------------------------------------------------------------------\n",
      "Intercept        -3169.9458    199.840    -15.862      0.000   -3565.091   -2774.801\n",
      "clarity[T.IF]     1274.6768    210.288      6.062      0.000     858.875    1690.479\n",
      "clarity[T.SI2]     499.2032    171.496      2.911      0.004     160.104     838.302\n",
      "clarity[T.Si1]     676.2813    185.518      3.645      0.000     309.455    1043.107\n",
      "clarity[T.VVS1]    989.6259    183.947      5.380      0.000     625.906    1353.345\n",
      "clarity[T.VVS2]   1012.2759    184.183      5.496      0.000     648.090    1376.462\n",
      "cut[T.Good]       -306.5000    157.160     -1.950      0.053    -617.253       4.253\n",
      "cut[T.Ideal]        12.1677    171.926      0.071      0.944    -327.783     352.118\n",
      "cut[T.Premium]     395.2751    155.140      2.548      0.012      88.517     702.033\n",
      "cut[T.Very Good]    54.3510    160.630      0.338      0.736    -263.263     371.965\n",
      "carat             9915.4917    151.693     65.365      0.000    9615.548    1.02e+04\n",
      "==============================================================================\n",
      "Omnibus:                        2.416   Durbin-Watson:                   1.528\n",
      "Prob(Omnibus):                  0.299   Jarque-Bera (JB):                2.287\n",
      "Skew:                           0.044   Prob(JB):                        0.319\n",
      "Kurtosis:                       3.600   Cond. No.                         11.1\n",
      "==============================================================================\n",
      "\n",
      "Notes:\n",
      "[1] Standard Errors assume that the covariance matrix of the errors is correctly specified.\n"
     ]
    }
   ],
   "source": [
    "model = smf.ols(\"price ~ carat + clarity + cut\", data=data).fit()\n",
    "print(model.summary())"
   ]
  },
  {
   "cell_type": "markdown",
   "id": "be3708a3f91d207e",
   "metadata": {
    "collapsed": false
   },
   "source": [
    "# Usuńmy kolumnę cut"
   ]
  },
  {
   "cell_type": "code",
   "execution_count": 46,
   "id": "df4f38641d9f71f9",
   "metadata": {
    "collapsed": false,
    "ExecuteTime": {
     "end_time": "2024-01-13T19:17:18.308780Z",
     "start_time": "2024-01-13T19:17:18.277136100Z"
    }
   },
   "outputs": [
    {
     "name": "stdout",
     "output_type": "stream",
     "text": [
      "                            OLS Regression Results                            \n",
      "==============================================================================\n",
      "Dep. Variable:                  price   R-squared:                       0.965\n",
      "Model:                            OLS   Adj. R-squared:                  0.964\n",
      "Method:                 Least Squares   F-statistic:                     659.5\n",
      "Date:                Sat, 13 Jan 2024   Prob (F-statistic):          5.04e-101\n",
      "Time:                        20:17:18   Log-Likelihood:                -1164.1\n",
      "No. Observations:                 149   AIC:                             2342.\n",
      "Df Residuals:                     142   BIC:                             2363.\n",
      "Df Model:                           6                                         \n",
      "Covariance Type:            nonrobust                                         \n",
      "===================================================================================\n",
      "                      coef    std err          t      P>|t|      [0.025      0.975]\n",
      "-----------------------------------------------------------------------------------\n",
      "Intercept       -3083.4759    194.947    -15.817      0.000   -3468.849   -2698.102\n",
      "clarity[T.IF]    1152.7102    210.241      5.483      0.000     737.103    1568.317\n",
      "clarity[T.SI2]    366.6467    178.800      2.051      0.042      13.193     720.101\n",
      "clarity[T.Si1]    720.3231    192.770      3.737      0.000     339.254    1101.392\n",
      "clarity[T.VVS1]   902.3433    191.161      4.720      0.000     524.455    1280.232\n",
      "clarity[T.VVS2]   881.0768    191.456      4.602      0.000     502.605    1259.548\n",
      "carat            9944.5012    160.685     61.888      0.000    9626.858    1.03e+04\n",
      "==============================================================================\n",
      "Omnibus:                        3.463   Durbin-Watson:                   1.241\n",
      "Prob(Omnibus):                  0.177   Jarque-Bera (JB):                3.395\n",
      "Skew:                          -0.178   Prob(JB):                        0.183\n",
      "Kurtosis:                       3.648   Cond. No.                         10.4\n",
      "==============================================================================\n",
      "\n",
      "Notes:\n",
      "[1] Standard Errors assume that the covariance matrix of the errors is correctly specified.\n"
     ]
    }
   ],
   "source": [
    "model = smf.ols(\"price ~ carat + clarity\", data=data).fit()\n",
    "print(model.summary())"
   ]
  },
  {
   "cell_type": "markdown",
   "source": [
    "# Hipoteza\n",
    "\n",
    "Możemy odrzucić hipotezę zerową. \n",
    "Czynniki takie jak carat oraz clarity mają znaczący wpływ na wzrost ceny wyrobu."
   ],
   "metadata": {
    "collapsed": false
   },
   "id": "c19f140e7904d80e"
  },
  {
   "cell_type": "code",
   "execution_count": 47,
   "outputs": [
    {
     "data": {
      "text/plain": "    carat clarity color    cut  x dimension  y dimension  z dimension  depth  \\\n7    1.50    VVS2     F   Good          7.2         7.18          NaN   62.7   \n33   0.95      IF     D  Ideal          6.3          NaN          3.9   62.6   \n\n    table  price    residuals  \n7    59.0  10800 -1914.352698  \n33   58.0   9400  1883.489553  ",
      "text/html": "<div>\n<style scoped>\n    .dataframe tbody tr th:only-of-type {\n        vertical-align: middle;\n    }\n\n    .dataframe tbody tr th {\n        vertical-align: top;\n    }\n\n    .dataframe thead th {\n        text-align: right;\n    }\n</style>\n<table border=\"1\" class=\"dataframe\">\n  <thead>\n    <tr style=\"text-align: right;\">\n      <th></th>\n      <th>carat</th>\n      <th>clarity</th>\n      <th>color</th>\n      <th>cut</th>\n      <th>x dimension</th>\n      <th>y dimension</th>\n      <th>z dimension</th>\n      <th>depth</th>\n      <th>table</th>\n      <th>price</th>\n      <th>residuals</th>\n    </tr>\n  </thead>\n  <tbody>\n    <tr>\n      <th>7</th>\n      <td>1.50</td>\n      <td>VVS2</td>\n      <td>F</td>\n      <td>Good</td>\n      <td>7.2</td>\n      <td>7.18</td>\n      <td>NaN</td>\n      <td>62.7</td>\n      <td>59.0</td>\n      <td>10800</td>\n      <td>-1914.352698</td>\n    </tr>\n    <tr>\n      <th>33</th>\n      <td>0.95</td>\n      <td>IF</td>\n      <td>D</td>\n      <td>Ideal</td>\n      <td>6.3</td>\n      <td>NaN</td>\n      <td>3.9</td>\n      <td>62.6</td>\n      <td>58.0</td>\n      <td>9400</td>\n      <td>1883.489553</td>\n    </tr>\n  </tbody>\n</table>\n</div>"
     },
     "execution_count": 47,
     "metadata": {},
     "output_type": "execute_result"
    }
   ],
   "source": [
    "data['residuals'] = model.resid\n",
    "outliers = data[abs(data['residuals']) > 3 * data['residuals'].std()]\n",
    "outliers"
   ],
   "metadata": {
    "collapsed": false,
    "ExecuteTime": {
     "end_time": "2024-01-13T19:17:18.371302600Z",
     "start_time": "2024-01-13T19:17:18.293771400Z"
    }
   },
   "id": "57a4cfda91f4b05b"
  }
 ],
 "metadata": {
  "kernelspec": {
   "display_name": "Python 3 (ipykernel)",
   "language": "python",
   "name": "python3"
  },
  "language_info": {
   "codemirror_mode": {
    "name": "ipython",
    "version": 3
   },
   "file_extension": ".py",
   "mimetype": "text/x-python",
   "name": "python",
   "nbconvert_exporter": "python",
   "pygments_lexer": "ipython3",
   "version": "3.9.13"
  }
 },
 "nbformat": 4,
 "nbformat_minor": 5
}
