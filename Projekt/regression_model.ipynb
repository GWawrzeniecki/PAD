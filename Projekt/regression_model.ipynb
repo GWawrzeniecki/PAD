{
 "cells": [
  {
   "cell_type": "code",
   "execution_count": 2,
   "id": "initial_id",
   "metadata": {
    "collapsed": true,
    "ExecuteTime": {
     "end_time": "2024-01-13T13:15:48.084220900Z",
     "start_time": "2024-01-13T13:15:47.245784Z"
    }
   },
   "outputs": [],
   "source": [
    "import statsmodels.formula.api as smf\n",
    "import plotly.graph_objects as go\n",
    "import pandas as pd"
   ]
  },
  {
   "cell_type": "code",
   "execution_count": 3,
   "outputs": [],
   "source": [
    "data = pd.read_csv('prepared_data.csv')"
   ],
   "metadata": {
    "collapsed": false,
    "ExecuteTime": {
     "end_time": "2024-01-13T13:15:48.100233300Z",
     "start_time": "2024-01-13T13:15:48.084220900Z"
    }
   },
   "id": "f5f2061a509f1257"
  },
  {
   "cell_type": "code",
   "execution_count": 4,
   "outputs": [
    {
     "data": {
      "text/plain": "Index(['carat', 'clarity', 'color', 'cut', 'x dimension', 'y dimension',\n       'z dimension', 'depth', 'table', 'price'],\n      dtype='object')"
     },
     "execution_count": 4,
     "metadata": {},
     "output_type": "execute_result"
    }
   ],
   "source": [
    "data.columns"
   ],
   "metadata": {
    "collapsed": false,
    "ExecuteTime": {
     "end_time": "2024-01-13T13:15:48.147115700Z",
     "start_time": "2024-01-13T13:15:48.100233300Z"
    }
   },
   "id": "bf5e97f4d08b5a6e"
  },
  {
   "cell_type": "markdown",
   "source": [
    "# Hipoteza zerowa\n",
    "\n",
    "- H0: $\\beta_1 = 0$. Nie ma dowodów na wzrost ceny\n",
    "- Ha: $\\beta_1 \\neq 0$. Istnieją dowody na wzrost cen"
   ],
   "metadata": {
    "collapsed": false
   },
   "id": "f4aa588cdd0645d4"
  },
  {
   "cell_type": "code",
   "execution_count": 5,
   "outputs": [
    {
     "name": "stdout",
     "output_type": "stream",
     "text": [
      "                            OLS Regression Results                            \n",
      "==============================================================================\n",
      "Dep. Variable:                  price   R-squared:                       0.976\n",
      "Model:                            OLS   Adj. R-squared:                  0.968\n",
      "Method:                 Least Squares   F-statistic:                     120.2\n",
      "Date:                Sat, 13 Jan 2024   Prob (F-statistic):           2.06e-38\n",
      "Time:                        14:15:48   Log-Likelihood:                -583.28\n",
      "No. Observations:                  76   AIC:                             1207.\n",
      "Df Residuals:                      56   BIC:                             1253.\n",
      "Df Model:                          19                                         \n",
      "Covariance Type:            nonrobust                                         \n",
      "====================================================================================\n",
      "                       coef    std err          t      P>|t|      [0.025      0.975]\n",
      "------------------------------------------------------------------------------------\n",
      "Intercept        -1.989e+04   1.79e+04     -1.110      0.272   -5.58e+04     1.6e+04\n",
      "clarity[T.IF]     1387.9467    418.821      3.314      0.002     548.947    2226.946\n",
      "clarity[T.SI2]     458.2585    298.355      1.536      0.130    -139.418    1055.935\n",
      "clarity[T.Si1]     807.6113    299.661      2.695      0.009     207.318    1407.905\n",
      "clarity[T.VVS1]   1003.7016    328.727      3.053      0.003     345.181    1662.222\n",
      "clarity[T.VVS2]   1034.4633    327.281      3.161      0.003     378.841    1690.086\n",
      "color[T.D]         243.5045    463.870      0.525      0.602    -685.739    1172.748\n",
      "color[T.E]         400.7081    411.244      0.974      0.334    -423.112    1224.528\n",
      "color[T.F]         296.5836    377.236      0.786      0.435    -459.110    1052.278\n",
      "color[T.G]         122.5580    386.964      0.317      0.753    -652.624     897.740\n",
      "color[T.H]         248.2444    386.383      0.642      0.523    -525.773    1022.262\n",
      "color[T.I]         207.6636    372.864      0.557      0.580    -539.273     954.600\n",
      "color[T.J]        -617.8609    763.656     -0.809      0.422   -2147.647     911.925\n",
      "cut[T.Good]       -636.6859    248.746     -2.560      0.013   -1134.984    -138.388\n",
      "cut[T.Ideal]       -19.3564    287.037     -0.067      0.946    -594.361     555.648\n",
      "cut[T.Premium]     105.0320    261.227      0.402      0.689    -418.269     628.333\n",
      "cut[T.Very Good]   -81.2572    262.398     -0.310      0.758    -606.903     444.389\n",
      "carat             9461.5718    270.905     34.926      0.000    8918.884       1e+04\n",
      "depth              239.0159    283.168      0.844      0.402    -328.237     806.269\n",
      "table               35.7197     58.020      0.616      0.541     -80.508     151.948\n",
      "==============================================================================\n",
      "Omnibus:                        1.301   Durbin-Watson:                   1.644\n",
      "Prob(Omnibus):                  0.522   Jarque-Bera (JB):                0.699\n",
      "Skew:                           0.118   Prob(JB):                        0.705\n",
      "Kurtosis:                       3.406   Cond. No.                     2.17e+04\n",
      "==============================================================================\n",
      "\n",
      "Notes:\n",
      "[1] Standard Errors assume that the covariance matrix of the errors is correctly specified.\n",
      "[2] The condition number is large, 2.17e+04. This might indicate that there are\n",
      "strong multicollinearity or other numerical problems.\n"
     ]
    }
   ],
   "source": [
    "model = smf.ols(\"price ~ carat + clarity + color + cut + depth + table\", data=data).fit()\n",
    "print(model.summary())"
   ],
   "metadata": {
    "collapsed": false,
    "ExecuteTime": {
     "end_time": "2024-01-13T13:15:48.147115700Z",
     "start_time": "2024-01-13T13:15:48.115867500Z"
    }
   },
   "id": "9940b4fa6da1c845"
  },
  {
   "cell_type": "markdown",
   "source": [
    "# Usuńmy kolumny table oraz depth ze współczynników (0.402 oraz 0.541)"
   ],
   "metadata": {
    "collapsed": false
   },
   "id": "c552c0b5c66af247"
  },
  {
   "cell_type": "code",
   "execution_count": 6,
   "outputs": [
    {
     "name": "stdout",
     "output_type": "stream",
     "text": [
      "                            OLS Regression Results                            \n",
      "==============================================================================\n",
      "Dep. Variable:                  price   R-squared:                       0.960\n",
      "Model:                            OLS   Adj. R-squared:                  0.955\n",
      "Method:                 Least Squares   F-statistic:                     184.2\n",
      "Date:                Sat, 13 Jan 2024   Prob (F-statistic):           3.63e-82\n",
      "Time:                        14:15:48   Log-Likelihood:                -1166.1\n",
      "No. Observations:                 148   AIC:                             2368.\n",
      "Df Residuals:                     130   BIC:                             2422.\n",
      "Df Model:                          17                                         \n",
      "Covariance Type:            nonrobust                                         \n",
      "====================================================================================\n",
      "                       coef    std err          t      P>|t|      [0.025      0.975]\n",
      "------------------------------------------------------------------------------------\n",
      "Intercept        -3788.1723    396.656     -9.550      0.000   -4572.909   -3003.436\n",
      "clarity[T.IF]     1237.4562    270.633      4.572      0.000     702.040    1772.872\n",
      "clarity[T.SI2]     489.2374    220.789      2.216      0.028      52.432     926.042\n",
      "clarity[T.Si1]     807.5435    227.687      3.547      0.001     357.093    1257.994\n",
      "clarity[T.VVS1]   1039.3069    239.566      4.338      0.000     565.355    1513.259\n",
      "clarity[T.VVS2]   1100.8200    236.163      4.661      0.000     633.600    1568.040\n",
      "color[T.D]         517.8094    370.450      1.398      0.165    -215.083    1250.701\n",
      "color[T.E]         491.9805    357.661      1.376      0.171    -215.608    1199.569\n",
      "color[T.F]         605.8600    327.317      1.851      0.066     -41.697    1253.417\n",
      "color[T.G]         421.9505    320.592      1.316      0.190    -212.303    1056.204\n",
      "color[T.H]         256.5863    334.875      0.766      0.445    -405.924     919.097\n",
      "color[T.I]         387.7646    326.066      1.189      0.237    -257.319    1032.848\n",
      "color[T.J]        -212.1393    400.460     -0.530      0.597   -1004.402     580.123\n",
      "cut[T.Good]        -16.7652    190.364     -0.088      0.930    -393.377     359.847\n",
      "cut[T.Ideal]       308.3873    210.158      1.467      0.145    -107.386     724.161\n",
      "cut[T.Premium]     660.4432    195.413      3.380      0.001     273.842    1047.044\n",
      "cut[T.Very Good]   332.9079    198.017      1.681      0.095     -58.844     724.660\n",
      "carat             9788.0335    185.885     52.656      0.000    9420.283    1.02e+04\n",
      "==============================================================================\n",
      "Omnibus:                       38.902   Durbin-Watson:                   1.868\n",
      "Prob(Omnibus):                  0.000   Jarque-Bera (JB):              146.976\n",
      "Skew:                          -0.893   Prob(JB):                     1.21e-32\n",
      "Kurtosis:                       7.544   Cond. No.                         22.8\n",
      "==============================================================================\n",
      "\n",
      "Notes:\n",
      "[1] Standard Errors assume that the covariance matrix of the errors is correctly specified.\n"
     ]
    }
   ],
   "source": [
    "model = smf.ols(\"price ~ carat + clarity + color + cut\", data=data).fit()\n",
    "print(model.summary())"
   ],
   "metadata": {
    "collapsed": false,
    "ExecuteTime": {
     "end_time": "2024-01-13T13:15:48.210004800Z",
     "start_time": "2024-01-13T13:15:48.147115700Z"
    }
   },
   "id": "2a747fa580dd3198"
  },
  {
   "cell_type": "markdown",
   "source": [
    "# Usuńmy kolumnę color (> 0.066)"
   ],
   "metadata": {
    "collapsed": false
   },
   "id": "223be216b3b89a2"
  },
  {
   "cell_type": "code",
   "execution_count": 7,
   "outputs": [
    {
     "name": "stdout",
     "output_type": "stream",
     "text": [
      "                            OLS Regression Results                            \n",
      "==============================================================================\n",
      "Dep. Variable:                  price   R-squared:                       0.957\n",
      "Model:                            OLS   Adj. R-squared:                  0.954\n",
      "Method:                 Least Squares   F-statistic:                     303.5\n",
      "Date:                Sat, 13 Jan 2024   Prob (F-statistic):           2.95e-88\n",
      "Time:                        14:15:48   Log-Likelihood:                -1172.0\n",
      "No. Observations:                 148   AIC:                             2366.\n",
      "Df Residuals:                     137   BIC:                             2399.\n",
      "Df Model:                          10                                         \n",
      "Covariance Type:            nonrobust                                         \n",
      "====================================================================================\n",
      "                       coef    std err          t      P>|t|      [0.025      0.975]\n",
      "------------------------------------------------------------------------------------\n",
      "Intercept        -3554.4821    241.971    -14.690      0.000   -4032.964   -3076.000\n",
      "clarity[T.IF]     1423.9088    252.650      5.636      0.000     924.310    1923.507\n",
      "clarity[T.SI2]     597.3788    206.919      2.887      0.005     188.210    1006.547\n",
      "clarity[T.Si1]     856.8054    222.957      3.843      0.000     415.924    1297.687\n",
      "clarity[T.VVS1]   1179.9216    221.038      5.338      0.000     742.834    1617.009\n",
      "clarity[T.VVS2]   1213.3949    221.274      5.484      0.000     775.840    1650.950\n",
      "cut[T.Good]          1.9692    188.836      0.010      0.992    -371.441     375.379\n",
      "cut[T.Ideal]       329.0277    206.553      1.593      0.113     -79.417     737.473\n",
      "cut[T.Premium]     713.4489    186.384      3.828      0.000     344.888    1082.010\n",
      "cut[T.Very Good]   355.4876    194.956      1.823      0.070     -30.024     740.999\n",
      "carat             9822.6564    185.000     53.095      0.000    9456.831    1.02e+04\n",
      "==============================================================================\n",
      "Omnibus:                       47.129   Durbin-Watson:                   1.804\n",
      "Prob(Omnibus):                  0.000   Jarque-Bera (JB):              189.780\n",
      "Skew:                          -1.094   Prob(JB):                     6.16e-42\n",
      "Kurtosis:                       8.098   Cond. No.                         11.0\n",
      "==============================================================================\n",
      "\n",
      "Notes:\n",
      "[1] Standard Errors assume that the covariance matrix of the errors is correctly specified.\n"
     ]
    }
   ],
   "source": [
    "model = smf.ols(\"price ~ carat + clarity + cut\", data=data).fit()\n",
    "print(model.summary())"
   ],
   "metadata": {
    "collapsed": false,
    "ExecuteTime": {
     "end_time": "2024-01-13T13:15:48.210004800Z",
     "start_time": "2024-01-13T13:15:48.178365600Z"
    }
   },
   "id": "92293158104fe54c"
  },
  {
   "cell_type": "markdown",
   "source": [
    "# Usuńmy kolumnę cut"
   ],
   "metadata": {
    "collapsed": false
   },
   "id": "be3708a3f91d207e"
  },
  {
   "cell_type": "code",
   "execution_count": 9,
   "outputs": [
    {
     "name": "stdout",
     "output_type": "stream",
     "text": [
      "                            OLS Regression Results                            \n",
      "==============================================================================\n",
      "Dep. Variable:                  price   R-squared:                       0.950\n",
      "Model:                            OLS   Adj. R-squared:                  0.948\n",
      "Method:                 Least Squares   F-statistic:                     446.9\n",
      "Date:                Sat, 13 Jan 2024   Prob (F-statistic):           4.21e-89\n",
      "Time:                        14:15:53   Log-Likelihood:                -1182.8\n",
      "No. Observations:                 148   AIC:                             2380.\n",
      "Df Residuals:                     141   BIC:                             2401.\n",
      "Df Model:                           6                                         \n",
      "Covariance Type:            nonrobust                                         \n",
      "===================================================================================\n",
      "                      coef    std err          t      P>|t|      [0.025      0.975]\n",
      "-----------------------------------------------------------------------------------\n",
      "Intercept       -3278.0169    234.467    -13.981      0.000   -3741.543   -2814.491\n",
      "clarity[T.IF]    1410.9624    251.512      5.610      0.000     913.741    1908.184\n",
      "clarity[T.SI2]    504.3125    214.758      2.348      0.020      79.750     928.875\n",
      "clarity[T.Si1]    971.8036    230.613      4.214      0.000     515.897    1427.710\n",
      "clarity[T.VVS1]  1155.3533    228.685      5.052      0.000     703.258    1607.448\n",
      "clarity[T.VVS2]  1141.9719    229.047      4.986      0.000     689.162    1594.782\n",
      "carat            9867.1377    194.684     50.683      0.000    9482.262    1.03e+04\n",
      "==============================================================================\n",
      "Omnibus:                       55.258   Durbin-Watson:                   1.590\n",
      "Prob(Omnibus):                  0.000   Jarque-Bera (JB):              219.342\n",
      "Skew:                          -1.326   Prob(JB):                     2.35e-48\n",
      "Kurtosis:                       8.342   Cond. No.                         10.3\n",
      "==============================================================================\n",
      "\n",
      "Notes:\n",
      "[1] Standard Errors assume that the covariance matrix of the errors is correctly specified.\n"
     ]
    }
   ],
   "source": [
    "model = smf.ols(\"price ~ carat + clarity\", data=data).fit()\n",
    "print(model.summary())"
   ],
   "metadata": {
    "collapsed": false,
    "ExecuteTime": {
     "end_time": "2024-01-13T13:15:53.322969500Z",
     "start_time": "2024-01-13T13:15:53.307463400Z"
    }
   },
   "id": "df4f38641d9f71f9"
  }
 ],
 "metadata": {
  "kernelspec": {
   "display_name": "Python 3",
   "language": "python",
   "name": "python3"
  },
  "language_info": {
   "codemirror_mode": {
    "name": "ipython",
    "version": 2
   },
   "file_extension": ".py",
   "mimetype": "text/x-python",
   "name": "python",
   "nbconvert_exporter": "python",
   "pygments_lexer": "ipython2",
   "version": "2.7.6"
  }
 },
 "nbformat": 4,
 "nbformat_minor": 5
}
