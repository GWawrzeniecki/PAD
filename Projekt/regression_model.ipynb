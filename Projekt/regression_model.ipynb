{
 "cells": [
  {
   "cell_type": "code",
   "execution_count": null,
   "outputs": [],
   "source": [
    "import statsmodels.formula.api as smf\n",
    "import plotly.graph_objects as go\n",
    "import pandas as pd"
   ],
   "metadata": {
    "collapsed": false
   },
   "id": "44980d880fe8b59b"
  },
  {
   "cell_type": "code",
   "execution_count": null,
   "outputs": [],
   "source": [
    "data = pd.read_csv('prepared_data.csv')"
   ],
   "metadata": {
    "collapsed": false
   },
   "id": "fb7161b968cf41b6"
  },
  {
   "cell_type": "code",
   "execution_count": null,
   "outputs": [],
   "source": [
    "data.columns"
   ],
   "metadata": {
    "collapsed": false
   },
   "id": "e49d323523c44ab7"
  },
  {
   "cell_type": "markdown",
   "source": [
    "# Hipoteza zerowa\n",
    "\n",
    "- H0: $\\beta_1 = 0$. Nie ma dowodów na wzrost ceny\n",
    "- Ha: $\\beta_1 \\neq 0$. Istnieją dowody na wzrost cen"
   ],
   "metadata": {
    "collapsed": false
   },
   "id": "12ef04fd1dc10ad5"
  },
  {
   "cell_type": "code",
   "execution_count": null,
   "outputs": [],
   "source": [
    "model = smf.ols(\"price ~ carat + clarity + color + cut + depth + table\", data=data).fit()\n",
    "print(model.summary())"
   ],
   "metadata": {
    "collapsed": false
   },
   "id": "ce90280b16191b90"
  },
  {
   "cell_type": "markdown",
   "source": [
    "# Usuńmy kolumny table oraz depth ze współczynników (0.402 oraz 0.541)"
   ],
   "metadata": {
    "collapsed": false
   },
   "id": "107c9e4330d1531b"
  },
  {
   "cell_type": "code",
   "execution_count": null,
   "outputs": [],
   "source": [
    "model = smf.ols(\"price ~ carat + clarity + color + cut\", data=data).fit()\n",
    "print(model.summary())"
   ],
   "metadata": {
    "collapsed": false
   },
   "id": "21ccb4ae515e88ec"
  },
  {
   "cell_type": "markdown",
   "source": [
    "# Usuńmy kolumnę color (> 0.230)"
   ],
   "metadata": {
    "collapsed": false
   },
   "id": "8404e103749e4757"
  },
  {
   "cell_type": "code",
   "execution_count": null,
   "outputs": [],
   "source": [
    "model = smf.ols(\"price ~ carat + clarity + cut\", data=data).fit()\n",
    "print(model.summary())"
   ],
   "metadata": {
    "collapsed": false
   },
   "id": "2ac56a3312f400d7"
  },
  {
   "cell_type": "code",
   "execution_count": null,
   "outputs": [],
   "source": [
    "model = smf.ols(\"price ~ carat + clarity + cut + I(cut != 'Good')\", data=data).fit()\n",
    "print(model.summary())"
   ],
   "metadata": {
    "collapsed": false
   },
   "id": "3872b340c48b9bcf"
  }
 ],
 "metadata": {
  "kernelspec": {
   "display_name": "Python 3 (ipykernel)",
   "language": "python",
   "name": "python3"
  },
  "language_info": {
   "codemirror_mode": {
    "name": "ipython",
    "version": 3
   },
   "file_extension": ".py",
   "mimetype": "text/x-python",
   "name": "python",
   "nbconvert_exporter": "python",
   "pygments_lexer": "ipython3",
   "version": "3.9.13"
  }
 },
 "nbformat": 4,
 "nbformat_minor": 5
}
