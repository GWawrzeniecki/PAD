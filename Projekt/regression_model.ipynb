{
 "cells": [
  {
   "cell_type": "code",
   "execution_count": null,
   "id": "44980d880fe8b59b",
   "metadata": {
    "collapsed": false
   },
   "outputs": [],
   "source": [
    "import statsmodels.formula.api as smf\n",
    "import plotly.graph_objects as go\n",
    "import pandas as pd"
   ]
  },
  {
   "cell_type": "code",
   "execution_count": null,
   "id": "a5c8f951",
   "metadata": {},
   "outputs": [],
   "source": [
    "import statsmodels.formula.api as smf\n",
    "import statsmodels.api as sm\n",
    "import pandas as pd"
   ]
  },
  {
   "cell_type": "code",
   "execution_count": null,
   "id": "3c22a94c",
   "metadata": {},
   "outputs": [],
   "source": [
    "data = pd.read_csv('prepared_data.csv')"
   ]
  },
  {
   "cell_type": "code",
   "execution_count": null,
   "id": "8eb14701",
   "metadata": {},
   "outputs": [
    {
     "data": {
      "text/plain": [
       "Index(['carat', 'clarity', 'color', 'cut', 'x dimension', 'y dimension',\n",
       "       'z dimension', 'depth', 'table', 'price'],\n",
       "      dtype='object')"
      ]
     },
     "metadata": {},
     "output_type": "display_data"
    }
   ],
   "source": [
    "data.columns"
   ]
  },
  {
   "cell_type": "code",
   "execution_count": null,
   "id": "5de5cb9c",
   "metadata": {},
   "outputs": [],
   "source": [
    "data.rename(columns={\"x dimension\": \"x_dimension\", \"y dimension\": \"y_dimension\", \"z dimension\" : \"z_dimension\"}, inplace=True)"
   ]
  },
  {
   "cell_type": "code",
   "execution_count": null,
   "id": "c2c30d98",
   "metadata": {},
   "outputs": [
    {
     "data": {
      "text/plain": [
       "Index(['carat', 'clarity', 'color', 'cut', 'x_dimension', 'y_dimension',\n",
       "       'z_dimension', 'depth', 'table', 'price'],\n",
       "      dtype='object')"
      ]
     },
     "metadata": {},
     "output_type": "display_data"
    }
   ],
   "source": [
    "data.columns"
   ]
  },
  {
   "cell_type": "markdown",
   "id": "a9d8bb27",
   "metadata": {},
   "source": [
    "# Hipoteza zerowa\n",
    "\n",
    "- H0: $\\beta_1 = 0$. Nie ma dowodów na wzrost ceny\n",
    "- Ha: $\\beta_1 \\neq 0$. Istnieją dowody na wzrost ceny"
   ]
  },
  {
   "cell_type": "code",
   "execution_count": null,
   "id": "ddce6d82",
   "metadata": {},
   "outputs": [
    {
     "name": "stdout",
     "output_type": "stream",
     "text": [
      "                            OLS Regression Results                            \n",
      "==============================================================================\n",
      "Dep. Variable:                  price   R-squared:                       0.979\n",
      "Model:                            OLS   Adj. R-squared:                  0.956\n",
      "Method:                 Least Squares   F-statistic:                     42.42\n",
      "Date:                Sun, 28 Jan 2024   Prob (F-statistic):           2.96e-11\n",
      "Time:                        12:34:59   Log-Likelihood:                -292.54\n",
      "No. Observations:                  39   AIC:                             627.1\n",
      "Df Residuals:                      18   BIC:                             662.0\n",
      "Df Model:                          20                                         \n",
      "Covariance Type:            nonrobust                                         \n",
      "====================================================================================\n",
      "                       coef    std err          t      P>|t|      [0.025      0.975]\n",
      "------------------------------------------------------------------------------------\n",
      "Intercept        -1.957e+04   3.33e+04     -0.588      0.564   -8.95e+04    5.04e+04\n",
      "clarity[T.IF]     1441.7768    849.872      1.696      0.107    -343.737    3227.291\n",
      "clarity[T.SI2]     954.1407    535.644      1.781      0.092    -171.205    2079.486\n",
      "clarity[T.Si1]     761.0637    536.910      1.417      0.173    -366.943    1889.070\n",
      "clarity[T.VVS1]   1483.5345    575.229      2.579      0.019     275.024    2692.045\n",
      "clarity[T.VVS2]   1114.2675    576.337      1.933      0.069     -96.571    2325.106\n",
      "color[T.D]         146.1050    842.639      0.173      0.864   -1624.213    1916.423\n",
      "color[T.E]        -517.4054    761.227     -0.680      0.505   -2116.683    1081.873\n",
      "color[T.F]         -40.2904    662.483     -0.061      0.952   -1432.116    1351.535\n",
      "color[T.G]           2.7731    697.225      0.004      0.997   -1462.043    1467.589\n",
      "color[T.H]        -114.1885    689.331     -0.166      0.870   -1562.419    1334.042\n",
      "color[T.I]          28.7331    665.152      0.043      0.966   -1368.699    1426.165\n",
      "color[T.J]        4.939e-11   9.36e-11      0.528      0.604   -1.47e-10    2.46e-10\n",
      "cut[T.Good]      -1050.1645    419.190     -2.505      0.022   -1930.850    -169.479\n",
      "cut[T.Ideal]      -499.0686    470.477     -1.061      0.303   -1487.504     489.367\n",
      "cut[T.Premium]     226.1418    442.265      0.511      0.615    -703.023    1155.307\n",
      "cut[T.Very Good]    60.4024    581.787      0.104      0.918   -1161.886    1282.691\n",
      "carat             9185.5385   2223.741      4.131      0.001    4513.633    1.39e+04\n",
      "depth              250.3749    525.052      0.477      0.639    -852.718    1353.467\n",
      "table               23.0035     95.760      0.240      0.813    -178.181     224.188\n",
      "x_dimension      -4295.9110   7503.813     -0.572      0.574   -2.01e+04    1.15e+04\n",
      "y_dimension       4295.8661   7683.233      0.559      0.583   -1.18e+04    2.04e+04\n",
      "==============================================================================\n",
      "Omnibus:                        1.579   Durbin-Watson:                   1.724\n",
      "Prob(Omnibus):                  0.454   Jarque-Bera (JB):                1.521\n",
      "Skew:                          -0.413   Prob(JB):                        0.467\n",
      "Kurtosis:                       2.497   Cond. No.                     2.34e+18\n",
      "==============================================================================\n",
      "\n",
      "Notes:\n",
      "[1] Standard Errors assume that the covariance matrix of the errors is correctly specified.\n",
      "[2] The smallest eigenvalue is 5.11e-32. This might indicate that there are\n",
      "strong multicollinearity problems or that the design matrix is singular.\n"
     ]
    }
   ],
   "source": [
    "# z_dimension ma za dużo wartości nan\n",
    "model = smf.ols(\"price ~ carat + clarity + color + cut + depth + table + x_dimension + y_dimension\", data=data).fit()\n",
    "print(model.summary())"
   ]
  },
  {
   "cell_type": "markdown",
   "id": "b7c32e00",
   "metadata": {},
   "source": [
    "# Usuńmy najmniej znaczącą zmienną - color"
   ]
  },
  {
   "cell_type": "code",
   "execution_count": null,
   "id": "d9c2055a",
   "metadata": {},
   "outputs": [
    {
     "name": "stdout",
     "output_type": "stream",
     "text": [
      "                            OLS Regression Results                            \n",
      "==============================================================================\n",
      "Dep. Variable:                  price   R-squared:                       0.978\n",
      "Model:                            OLS   Adj. R-squared:                  0.965\n",
      "Method:                 Least Squares   F-statistic:                     75.39\n",
      "Date:                Sun, 28 Jan 2024   Prob (F-statistic):           2.39e-16\n",
      "Time:                        12:34:59   Log-Likelihood:                -293.86\n",
      "No. Observations:                  39   AIC:                             617.7\n",
      "Df Residuals:                      24   BIC:                             642.7\n",
      "Df Model:                          14                                         \n",
      "Covariance Type:            nonrobust                                         \n",
      "====================================================================================\n",
      "                       coef    std err          t      P>|t|      [0.025      0.975]\n",
      "------------------------------------------------------------------------------------\n",
      "Intercept         -1.57e+04   2.77e+04     -0.566      0.577   -7.29e+04    4.15e+04\n",
      "clarity[T.IF]     1468.5070    599.029      2.451      0.022     232.172    2704.842\n",
      "clarity[T.SI2]     818.9002    413.095      1.982      0.059     -33.685    1671.486\n",
      "clarity[T.Si1]     801.1688    436.879      1.834      0.079    -100.504    1702.842\n",
      "clarity[T.VVS1]   1351.9966    463.900      2.914      0.008     394.554    2309.439\n",
      "clarity[T.VVS2]   1050.3758    449.782      2.335      0.028     122.072    1978.680\n",
      "cut[T.Good]      -1007.6329    365.329     -2.758      0.011   -1761.635    -253.631\n",
      "cut[T.Ideal]      -512.4353    401.354     -1.277      0.214   -1340.789     315.919\n",
      "cut[T.Premium]      88.8894    303.821      0.293      0.772    -538.167     715.946\n",
      "cut[T.Very Good]   -33.3145    475.278     -0.070      0.945   -1014.240     947.611\n",
      "carat             9149.2623   1854.756      4.933      0.000    5321.234     1.3e+04\n",
      "depth              178.7054    434.475      0.411      0.684    -718.007    1075.417\n",
      "table               32.0723     76.520      0.419      0.679    -125.857     190.002\n",
      "x_dimension      -2820.0281   5971.409     -0.472      0.641   -1.51e+04    9504.353\n",
      "y_dimension       2846.4862   6135.787      0.464      0.647   -9817.155    1.55e+04\n",
      "==============================================================================\n",
      "Omnibus:                        0.766   Durbin-Watson:                   1.664\n",
      "Prob(Omnibus):                  0.682   Jarque-Bera (JB):                0.848\n",
      "Skew:                          -0.244   Prob(JB):                        0.654\n",
      "Kurtosis:                       2.467   Cond. No.                     2.54e+04\n",
      "==============================================================================\n",
      "\n",
      "Notes:\n",
      "[1] Standard Errors assume that the covariance matrix of the errors is correctly specified.\n",
      "[2] The condition number is large, 2.54e+04. This might indicate that there are\n",
      "strong multicollinearity or other numerical problems.\n"
     ]
    }
   ],
   "source": [
    "model = smf.ols(\"price ~ carat + clarity + cut + depth + table + x_dimension + y_dimension\", data=data).fit()\n",
    "print(model.summary())"
   ]
  },
  {
   "cell_type": "markdown",
   "id": "6105e015",
   "metadata": {},
   "source": [
    "# Usuńmy kolumnę depth"
   ]
  },
  {
   "cell_type": "code",
   "execution_count": null,
   "id": "f0d40cac",
   "metadata": {},
   "outputs": [
    {
     "name": "stdout",
     "output_type": "stream",
     "text": [
      "                            OLS Regression Results                            \n",
      "==============================================================================\n",
      "Dep. Variable:                  price   R-squared:                       0.968\n",
      "Model:                            OLS   Adj. R-squared:                  0.961\n",
      "Method:                 Least Squares   F-statistic:                     145.3\n",
      "Date:                Sun, 28 Jan 2024   Prob (F-statistic):           9.22e-42\n",
      "Time:                        12:34:59   Log-Likelihood:                -589.47\n",
      "No. Observations:                  77   AIC:                             1207.\n",
      "Df Residuals:                      63   BIC:                             1240.\n",
      "Df Model:                          13                                         \n",
      "Covariance Type:            nonrobust                                         \n",
      "====================================================================================\n",
      "                       coef    std err          t      P>|t|      [0.025      0.975]\n",
      "------------------------------------------------------------------------------------\n",
      "Intercept        -2868.2918   3418.686     -0.839      0.405   -9699.991    3963.407\n",
      "clarity[T.IF]     1248.4493    308.454      4.047      0.000     632.054    1864.845\n",
      "clarity[T.SI2]     555.0324    239.403      2.318      0.024      76.624    1033.441\n",
      "clarity[T.Si1]     681.3451    267.232      2.550      0.013     147.325    1215.365\n",
      "clarity[T.VVS1]   1037.1353    267.505      3.877      0.000     502.570    1571.701\n",
      "clarity[T.VVS2]    905.7186    271.265      3.339      0.001     363.640    1447.798\n",
      "cut[T.Good]       -502.0799    214.514     -2.341      0.022    -930.752     -73.407\n",
      "cut[T.Ideal]      -125.5293    239.806     -0.523      0.602    -604.743     353.685\n",
      "cut[T.Premium]     444.4258    218.980      2.030      0.047       6.830     882.022\n",
      "cut[T.Very Good]   200.5720    233.895      0.858      0.394    -266.830     667.974\n",
      "carat             8816.8855   1306.527      6.748      0.000    6206.000    1.14e+04\n",
      "table              -28.3665     58.492     -0.485      0.629    -145.254      88.521\n",
      "x_dimension      -1143.5224   3840.746     -0.298      0.767   -8818.641    6531.597\n",
      "y_dimension       1509.8220   3944.757      0.383      0.703   -6373.146    9392.790\n",
      "==============================================================================\n",
      "Omnibus:                        0.659   Durbin-Watson:                   1.718\n",
      "Prob(Omnibus):                  0.719   Jarque-Bera (JB):                0.782\n",
      "Skew:                           0.136   Prob(JB):                        0.676\n",
      "Kurtosis:                       2.588   Cond. No.                     4.94e+03\n",
      "==============================================================================\n",
      "\n",
      "Notes:\n",
      "[1] Standard Errors assume that the covariance matrix of the errors is correctly specified.\n",
      "[2] The condition number is large, 4.94e+03. This might indicate that there are\n",
      "strong multicollinearity or other numerical problems.\n"
     ]
    }
   ],
   "source": [
    "model = smf.ols(\"price ~ carat + clarity + cut + table + x_dimension + y_dimension\", data=data).fit()\n",
    "print(model.summary())"
   ]
  },
  {
   "cell_type": "markdown",
   "id": "0ec9d1bf",
   "metadata": {},
   "source": [
    "# Usuńmy kolumnę x_dimension"
   ]
  },
  {
   "cell_type": "code",
   "execution_count": null,
   "id": "b93ddb0b",
   "metadata": {},
   "outputs": [
    {
     "name": "stdout",
     "output_type": "stream",
     "text": [
      "                            OLS Regression Results                            \n",
      "==============================================================================\n",
      "Dep. Variable:                  price   R-squared:                       0.969\n",
      "Model:                            OLS   Adj. R-squared:                  0.963\n",
      "Method:                 Least Squares   F-statistic:                     171.6\n",
      "Date:                Sun, 28 Jan 2024   Prob (F-statistic):           7.48e-45\n",
      "Time:                        12:34:59   Log-Likelihood:                -603.98\n",
      "No. Observations:                  79   AIC:                             1234.\n",
      "Df Residuals:                      66   BIC:                             1265.\n",
      "Df Model:                          12                                         \n",
      "Covariance Type:            nonrobust                                         \n",
      "====================================================================================\n",
      "                       coef    std err          t      P>|t|      [0.025      0.975]\n",
      "------------------------------------------------------------------------------------\n",
      "Intercept        -3175.7543   3272.061     -0.971      0.335   -9708.634    3357.126\n",
      "clarity[T.IF]     1281.0811    295.403      4.337      0.000     691.289    1870.873\n",
      "clarity[T.SI2]     560.8059    233.530      2.401      0.019      94.548    1027.064\n",
      "clarity[T.Si1]     690.1862    258.623      2.669      0.010     173.829    1206.544\n",
      "clarity[T.VVS1]   1045.0689    260.680      4.009      0.000     524.604    1565.534\n",
      "clarity[T.VVS2]    912.7314    263.829      3.460      0.001     385.980    1439.483\n",
      "cut[T.Good]       -515.2479    207.279     -2.486      0.015    -929.094    -101.402\n",
      "cut[T.Ideal]      -111.4923    233.333     -0.478      0.634    -577.356     354.371\n",
      "cut[T.Premium]     439.5514    213.656      2.057      0.044      12.974     866.128\n",
      "cut[T.Very Good]   190.6521    228.103      0.836      0.406    -264.770     646.074\n",
      "carat             8867.9828   1260.130      7.037      0.000    6352.053    1.14e+04\n",
      "table              -22.0863     55.024     -0.401      0.689    -131.946      87.774\n",
      "y_dimension        350.7127    486.765      0.720      0.474    -621.145    1322.570\n",
      "==============================================================================\n",
      "Omnibus:                        0.429   Durbin-Watson:                   1.718\n",
      "Prob(Omnibus):                  0.807   Jarque-Bera (JB):                0.591\n",
      "Skew:                           0.097   Prob(JB):                        0.744\n",
      "Kurtosis:                       2.624   Cond. No.                     3.06e+03\n",
      "==============================================================================\n",
      "\n",
      "Notes:\n",
      "[1] Standard Errors assume that the covariance matrix of the errors is correctly specified.\n",
      "[2] The condition number is large, 3.06e+03. This might indicate that there are\n",
      "strong multicollinearity or other numerical problems.\n"
     ]
    }
   ],
   "source": [
    "model = smf.ols(\"price ~ carat + clarity + cut + table + y_dimension\", data=data).fit()\n",
    "print(model.summary())"
   ]
  },
  {
   "cell_type": "markdown",
   "id": "5c33ec83",
   "metadata": {},
   "source": [
    "# # Usuńmy kolumnę table"
   ]
  },
  {
   "cell_type": "code",
   "execution_count": null,
   "id": "cb8e0329",
   "metadata": {},
   "outputs": [
    {
     "name": "stdout",
     "output_type": "stream",
     "text": [
      "                            OLS Regression Results                            \n",
      "==============================================================================\n",
      "Dep. Variable:                  price   R-squared:                       0.965\n",
      "Model:                            OLS   Adj. R-squared:                  0.961\n",
      "Method:                 Least Squares   F-statistic:                     222.9\n",
      "Date:                Sun, 28 Jan 2024   Prob (F-statistic):           2.95e-59\n",
      "Time:                        12:35:00   Log-Likelihood:                -772.75\n",
      "No. Observations:                 100   AIC:                             1570.\n",
      "Df Residuals:                      88   BIC:                             1601.\n",
      "Df Model:                          11                                         \n",
      "Covariance Type:            nonrobust                                         \n",
      "====================================================================================\n",
      "                       coef    std err          t      P>|t|      [0.025      0.975]\n",
      "------------------------------------------------------------------------------------\n",
      "Intercept        -2116.0383   1689.154     -1.253      0.214   -5472.878    1240.801\n",
      "clarity[T.IF]     1183.0525    270.393      4.375      0.000     645.704    1720.401\n",
      "clarity[T.SI2]     610.5122    207.160      2.947      0.004     198.826    1022.199\n",
      "clarity[T.Si1]     593.9217    223.820      2.654      0.009     149.127    1038.717\n",
      "clarity[T.VVS1]   1080.8895    234.687      4.606      0.000     614.499    1547.280\n",
      "clarity[T.VVS2]   1094.5394    229.386      4.772      0.000     638.683    1550.396\n",
      "cut[T.Good]       -379.4521    188.966     -2.008      0.048    -754.981      -3.923\n",
      "cut[T.Ideal]        72.1011    212.197      0.340      0.735    -349.596     493.798\n",
      "cut[T.Premium]     575.8008    187.546      3.070      0.003     203.093     948.509\n",
      "cut[T.Very Good]   275.1723    212.064      1.298      0.198    -146.260     696.605\n",
      "carat             1.058e+04   1154.617      9.166      0.000    8288.899    1.29e+04\n",
      "y_dimension       -290.7617    437.197     -0.665      0.508   -1159.599     578.075\n",
      "==============================================================================\n",
      "Omnibus:                        0.717   Durbin-Watson:                   1.573\n",
      "Prob(Omnibus):                  0.699   Jarque-Bera (JB):                0.450\n",
      "Skew:                          -0.159   Prob(JB):                        0.799\n",
      "Kurtosis:                       3.080   Cond. No.                         213.\n",
      "==============================================================================\n",
      "\n",
      "Notes:\n",
      "[1] Standard Errors assume that the covariance matrix of the errors is correctly specified.\n"
     ]
    }
   ],
   "source": [
    "model = smf.ols(\"price ~ carat + clarity + cut + y_dimension\", data=data).fit()\n",
    "print(model.summary())"
   ]
  },
  {
   "cell_type": "markdown",
   "id": "c7705a30",
   "metadata": {},
   "source": [
    "# Porównajmy zmienne kategorialne clarity oraz cut za pomocą metody pełna suma kwadratów"
   ]
  },
  {
   "cell_type": "code",
   "execution_count": null,
   "id": "fee770b9",
   "metadata": {},
   "outputs": [
    {
     "name": "stdout",
     "output_type": "stream",
     "text": [
      "True\n"
     ]
    }
   ],
   "source": [
    "difference_clarity = smf.ols(\"price ~ 1\", data=data).fit().ssr - smf.ols(\"price ~ clarity\", data=data).fit().ssr\n",
    "difference_cut = smf.ols(\"price ~ 1\", data=data).fit().ssr - smf.ols(\"price ~ cut\", data=data).fit().ssr\n",
    "\n",
    "print(difference_clarity > difference_cut)"
   ]
  },
  {
   "cell_type": "markdown",
   "id": "23414b99",
   "metadata": {},
   "source": [
    "# Usuńmy kolumnę cut"
   ]
  },
  {
   "cell_type": "code",
   "execution_count": null,
   "id": "2442d593",
   "metadata": {},
   "outputs": [
    {
     "name": "stdout",
     "output_type": "stream",
     "text": [
      "                            OLS Regression Results                            \n",
      "==============================================================================\n",
      "Dep. Variable:                  price   R-squared:                       0.954\n",
      "Model:                            OLS   Adj. R-squared:                  0.951\n",
      "Method:                 Least Squares   F-statistic:                     272.8\n",
      "Date:                Sun, 28 Jan 2024   Prob (F-statistic):           1.24e-58\n",
      "Time:                        12:35:00   Log-Likelihood:                -786.89\n",
      "No. Observations:                 100   AIC:                             1590.\n",
      "Df Residuals:                      92   BIC:                             1611.\n",
      "Df Model:                           7                                         \n",
      "Covariance Type:            nonrobust                                         \n",
      "===================================================================================\n",
      "                      coef    std err          t      P>|t|      [0.025      0.975]\n",
      "-----------------------------------------------------------------------------------\n",
      "Intercept       -3445.6972   1834.353     -1.878      0.063   -7088.880     197.485\n",
      "clarity[T.IF]    1157.8063    292.023      3.965      0.000     577.824    1737.789\n",
      "clarity[T.SI2]    459.2860    227.912      2.015      0.047       6.633     911.939\n",
      "clarity[T.Si1]    742.0849    244.312      3.037      0.003     256.861    1227.309\n",
      "clarity[T.VVS1]   832.0783    251.266      3.312      0.001     333.043    1331.114\n",
      "clarity[T.VVS2]   979.6204    256.358      3.821      0.000     470.472    1488.769\n",
      "carat            9529.2085   1253.518      7.602      0.000    7039.613     1.2e+04\n",
      "y_dimension       106.7095    475.058      0.225      0.823    -836.796    1050.215\n",
      "==============================================================================\n",
      "Omnibus:                        1.357   Durbin-Watson:                   1.256\n",
      "Prob(Omnibus):                  0.507   Jarque-Bera (JB):                1.019\n",
      "Skew:                          -0.243   Prob(JB):                        0.601\n",
      "Kurtosis:                       3.093   Cond. No.                         204.\n",
      "==============================================================================\n",
      "\n",
      "Notes:\n",
      "[1] Standard Errors assume that the covariance matrix of the errors is correctly specified.\n"
     ]
    }
   ],
   "source": [
    "model = smf.ols(\"price ~ carat + clarity + y_dimension\", data=data).fit()\n",
    "print(model.summary())"
   ]
  },
  {
   "cell_type": "markdown",
   "id": "856e71f7",
   "metadata": {},
   "source": [
    "# Usuńmy kolumnę y_dimension"
   ]
  },
  {
   "cell_type": "code",
   "execution_count": null,
   "id": "c4246466",
   "metadata": {},
   "outputs": [
    {
     "name": "stdout",
     "output_type": "stream",
     "text": [
      "                            OLS Regression Results                            \n",
      "==============================================================================\n",
      "Dep. Variable:                  price   R-squared:                       0.965\n",
      "Model:                            OLS   Adj. R-squared:                  0.964\n",
      "Method:                 Least Squares   F-statistic:                     659.5\n",
      "Date:                Sun, 28 Jan 2024   Prob (F-statistic):          5.04e-101\n",
      "Time:                        12:35:00   Log-Likelihood:                -1164.1\n",
      "No. Observations:                 149   AIC:                             2342.\n",
      "Df Residuals:                     142   BIC:                             2363.\n",
      "Df Model:                           6                                         \n",
      "Covariance Type:            nonrobust                                         \n",
      "===================================================================================\n",
      "                      coef    std err          t      P>|t|      [0.025      0.975]\n",
      "-----------------------------------------------------------------------------------\n",
      "Intercept       -3083.4759    194.947    -15.817      0.000   -3468.849   -2698.102\n",
      "clarity[T.IF]    1152.7102    210.241      5.483      0.000     737.103    1568.317\n",
      "clarity[T.SI2]    366.6467    178.800      2.051      0.042      13.193     720.101\n",
      "clarity[T.Si1]    720.3231    192.770      3.737      0.000     339.254    1101.392\n",
      "clarity[T.VVS1]   902.3433    191.161      4.720      0.000     524.455    1280.232\n",
      "clarity[T.VVS2]   881.0768    191.456      4.602      0.000     502.605    1259.548\n",
      "carat            9944.5012    160.685     61.888      0.000    9626.858    1.03e+04\n",
      "==============================================================================\n",
      "Omnibus:                        3.463   Durbin-Watson:                   1.241\n",
      "Prob(Omnibus):                  0.177   Jarque-Bera (JB):                3.395\n",
      "Skew:                          -0.178   Prob(JB):                        0.183\n",
      "Kurtosis:                       3.648   Cond. No.                         10.4\n",
      "==============================================================================\n",
      "\n",
      "Notes:\n",
      "[1] Standard Errors assume that the covariance matrix of the errors is correctly specified.\n"
     ]
    }
   ],
   "source": [
    "model = smf.ols(\"price ~ carat + clarity\", data=data).fit()\n",
    "print(model.summary())"
   ]
  },
  {
   "cell_type": "markdown",
   "id": "47476aa8",
   "metadata": {},
   "source": [
    "# Hipoteza\n",
    "\n",
    "Możemy odrzucić hipotezę zerową. \n",
    "Czynniki takie jak carat oraz clarity mają znaczący wpływ na wzrost ceny wyrobu."
   ]
  },
  {
   "cell_type": "code",
   "execution_count": null,
   "id": "fb7161b968cf41b6",
   "metadata": {
    "collapsed": false
   },
   "outputs": [],
   "source": [
    "data = pd.read_csv('prepared_data.csv')"
   ]
  },
  {
   "cell_type": "code",
   "execution_count": null,
   "id": "e49d323523c44ab7",
   "metadata": {
    "collapsed": false
   },
   "outputs": [],
   "source": [
    "data.columns"
   ]
  },
  {
   "cell_type": "markdown",
   "id": "12ef04fd1dc10ad5",
   "metadata": {
    "collapsed": false
   },
   "source": [
    "# Hipoteza zerowa\n",
    "\n",
    "- H0: $\\beta_1 = 0$. Nie ma dowodów na wzrost ceny\n",
    "- Ha: $\\beta_1 \\neq 0$. Istnieją dowody na wzrost cen"
   ]
  },
  {
   "cell_type": "code",
   "execution_count": null,
   "id": "ce90280b16191b90",
   "metadata": {
    "collapsed": false
   },
   "outputs": [],
   "source": [
    "model = smf.ols(\"price ~ carat + clarity + color + cut + depth + table\", data=data).fit()\n",
    "print(model.summary())"
   ]
  },
  {
   "cell_type": "markdown",
   "id": "107c9e4330d1531b",
   "metadata": {
    "collapsed": false
   },
   "source": [
    "# Usuńmy kolumny table oraz depth ze współczynników (0.402 oraz 0.541)"
   ]
  },
  {
   "cell_type": "code",
   "execution_count": null,
   "id": "21ccb4ae515e88ec",
   "metadata": {
    "collapsed": false
   },
   "outputs": [],
   "source": [
    "model = smf.ols(\"price ~ carat + clarity + color + cut\", data=data).fit()\n",
    "print(model.summary())"
   ]
  },
  {
   "cell_type": "markdown",
   "id": "8404e103749e4757",
   "metadata": {
    "collapsed": false
   },
   "source": [
    "# Usuńmy kolumnę color (> 0.230)"
   ]
  },
  {
   "cell_type": "code",
   "execution_count": null,
   "id": "2ac56a3312f400d7",
   "metadata": {
    "collapsed": false
   },
   "outputs": [],
   "source": [
    "model = smf.ols(\"price ~ carat + clarity + cut\", data=data).fit()\n",
    "print(model.summary())"
   ]
  },
  {
   "cell_type": "code",
   "execution_count": null,
   "id": "3872b340c48b9bcf",
   "metadata": {
    "collapsed": false
   },
   "outputs": [],
   "source": [
    "model = smf.ols(\"price ~ carat + clarity + cut + I(cut != 'Good')\", data=data).fit()\n",
    "print(model.summary())"
   ]
  }
 ],
 "metadata": {
  "kernelspec": {
   "display_name": "Python 3 (ipykernel)",
   "language": "python",
   "name": "python3"
  },
  "language_info": {
   "codemirror_mode": {
    "name": "ipython",
    "version": 3
   },
   "file_extension": ".py",
   "mimetype": "text/x-python",
   "name": "python",
   "nbconvert_exporter": "python",
   "pygments_lexer": "ipython3",
   "version": "3.9.13"
  }
 },
 "nbformat": 4,
 "nbformat_minor": 5
}
