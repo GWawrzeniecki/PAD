{
 "cells": [
  {
   "cell_type": "code",
   "execution_count": 25,
   "id": "initial_id",
   "metadata": {
    "ExecuteTime": {
     "end_time": "2024-01-13T12:43:36.821541100Z",
     "start_time": "2024-01-13T12:43:36.714824800Z"
    }
   },
   "outputs": [],
   "source": [
    "import pandas as pd\n",
    "import numpy as np\n",
    "data = pd.read_csv('C:/Users/grzeg/PycharmProjects/PAD/Projekt/messy_data.csv')"
   ]
  },
  {
   "cell_type": "markdown",
   "id": "68e81320d1436839",
   "metadata": {
    "collapsed": false
   },
   "source": [
    "# Dane - pierwsze 5 wierszy"
   ]
  },
  {
   "cell_type": "code",
   "execution_count": 26,
   "id": "a2a5f3c113089b0",
   "metadata": {
    "collapsed": false,
    "ExecuteTime": {
     "end_time": "2024-01-13T12:43:36.933435400Z",
     "start_time": "2024-01-13T12:43:36.727262300Z"
    }
   },
   "outputs": [
    {
     "data": {
      "text/plain": "   carat  clarity  color       cut  x dimension  y dimension  z dimension  \\\n0    0.5       IF      D     Ideal          5.1         5.15          3.2   \n1    0.7     vvs2      E   premium          5.7                      3.52   \n2    NaN      Si2      h      Good          4.3         4.31                \n3    1.2       if      d     ideal                      6.82          4.2   \n4    0.9       I1      J      Fair            6                       3.7   \n\n   depth  table  price  \n0   61.5          3000  \n1     62     59   4500  \n2   62.3     56    700  \n3   61.7     58  10000  \n4   61.7          2400  ",
      "text/html": "<div>\n<style scoped>\n    .dataframe tbody tr th:only-of-type {\n        vertical-align: middle;\n    }\n\n    .dataframe tbody tr th {\n        vertical-align: top;\n    }\n\n    .dataframe thead th {\n        text-align: right;\n    }\n</style>\n<table border=\"1\" class=\"dataframe\">\n  <thead>\n    <tr style=\"text-align: right;\">\n      <th></th>\n      <th>carat</th>\n      <th>clarity</th>\n      <th>color</th>\n      <th>cut</th>\n      <th>x dimension</th>\n      <th>y dimension</th>\n      <th>z dimension</th>\n      <th>depth</th>\n      <th>table</th>\n      <th>price</th>\n    </tr>\n  </thead>\n  <tbody>\n    <tr>\n      <th>0</th>\n      <td>0.5</td>\n      <td>IF</td>\n      <td>D</td>\n      <td>Ideal</td>\n      <td>5.1</td>\n      <td>5.15</td>\n      <td>3.2</td>\n      <td>61.5</td>\n      <td></td>\n      <td>3000</td>\n    </tr>\n    <tr>\n      <th>1</th>\n      <td>0.7</td>\n      <td>vvs2</td>\n      <td>E</td>\n      <td>premium</td>\n      <td>5.7</td>\n      <td></td>\n      <td>3.52</td>\n      <td>62</td>\n      <td>59</td>\n      <td>4500</td>\n    </tr>\n    <tr>\n      <th>2</th>\n      <td>NaN</td>\n      <td>Si2</td>\n      <td>h</td>\n      <td>Good</td>\n      <td>4.3</td>\n      <td>4.31</td>\n      <td></td>\n      <td>62.3</td>\n      <td>56</td>\n      <td>700</td>\n    </tr>\n    <tr>\n      <th>3</th>\n      <td>1.2</td>\n      <td>if</td>\n      <td>d</td>\n      <td>ideal</td>\n      <td></td>\n      <td>6.82</td>\n      <td>4.2</td>\n      <td>61.7</td>\n      <td>58</td>\n      <td>10000</td>\n    </tr>\n    <tr>\n      <th>4</th>\n      <td>0.9</td>\n      <td>I1</td>\n      <td>J</td>\n      <td>Fair</td>\n      <td>6</td>\n      <td></td>\n      <td>3.7</td>\n      <td>61.7</td>\n      <td></td>\n      <td>2400</td>\n    </tr>\n  </tbody>\n</table>\n</div>"
     },
     "execution_count": 26,
     "metadata": {},
     "output_type": "execute_result"
    }
   ],
   "source": [
    "data.head()"
   ]
  },
  {
   "cell_type": "markdown",
   "id": "972e7a2d889a704d",
   "metadata": {
    "collapsed": false
   },
   "source": [
    "# Analiza danych - kolumny\n",
    "\n",
    "- **carat**: Liczba karatów w danym wyrobie. Typ zmiennoprzecinkowy, zawiera puste wiersze\n",
    "- **clarity**: Przejrzystość/czystość wyrobu - kategoria. Wymaga ujednolicenia\n",
    "- **color**: Kolor - kategoria. Wymaga ujednolicenia\n",
    "- **cut**: Szlif - kategoria. Wymaga ujednolicenia\n",
    "- **x/y/z dimension**: Wymiary. Typ zmiennoprzecinkowy, zawiera puste wiersze\n",
    "- **depth**: Głębokość. Typ zmiennoprzecinkowy, zawiera puste wiersze\n",
    "- **table**: Płaska górna powierzchnia diamentu. Typ int, zawiera puste wiersze\n",
    "- **price**: Cena wyrobu. Typ int, zawiera puste wiersze"
   ]
  },
  {
   "cell_type": "markdown",
   "id": "7669612c3d4b3c10",
   "metadata": {
    "collapsed": false
   },
   "source": [
    "# Czyszczenie i ujednolicenie danych"
   ]
  },
  {
   "cell_type": "markdown",
   "id": "e4335aef9e14e62f",
   "metadata": {
    "collapsed": false
   },
   "source": [
    "## Nazwy kolumn"
   ]
  },
  {
   "cell_type": "code",
   "execution_count": 27,
   "id": "f0a56c79d557d4fc",
   "metadata": {
    "collapsed": false,
    "ExecuteTime": {
     "end_time": "2024-01-13T12:43:36.964717300Z",
     "start_time": "2024-01-13T12:43:36.742994700Z"
    }
   },
   "outputs": [
    {
     "data": {
      "text/plain": "Index(['carat', 'clarity', 'color', 'cut', 'x dimension', 'y dimension',\n       'z dimension', 'depth', 'table', 'price'],\n      dtype='object')"
     },
     "execution_count": 27,
     "metadata": {},
     "output_type": "execute_result"
    }
   ],
   "source": [
    "# w nazwach kolumn są białe znaki\n",
    "data.columns = data.columns.str.strip()\n",
    "data.columns"
   ]
  },
  {
   "cell_type": "markdown",
   "id": "16bc544d9aa5f4c8",
   "metadata": {
    "collapsed": false
   },
   "source": [
    "## Kolumna clarity"
   ]
  },
  {
   "cell_type": "code",
   "execution_count": 28,
   "id": "93c72eaa7b498754",
   "metadata": {
    "collapsed": false,
    "ExecuteTime": {
     "end_time": "2024-01-13T12:43:36.995968300Z",
     "start_time": "2024-01-13T12:43:36.758648Z"
    }
   },
   "outputs": [
    {
     "data": {
      "text/plain": "{'I1',\n 'IF',\n 'SI2',\n 'Si1',\n 'Si2',\n 'VVS1',\n 'VVS2',\n 'Vvs1',\n 'i1',\n 'if',\n 'si1',\n 'si2',\n 'vvs1',\n 'vvs2'}"
     },
     "execution_count": 28,
     "metadata": {},
     "output_type": "execute_result"
    }
   ],
   "source": [
    "clarity_categories = set(data['clarity'])\n",
    "clarity_categories\n",
    "\n",
    "# W nazwach są białe znaki\n",
    "data['clarity'] = data['clarity'].str.strip()\n",
    "\n",
    "clarity_categories = set(data['clarity'])\n",
    "clarity_categories"
   ]
  },
  {
   "cell_type": "code",
   "execution_count": 29,
   "id": "5df12104a674133c",
   "metadata": {
    "collapsed": false,
    "ExecuteTime": {
     "end_time": "2024-01-13T12:43:36.995968300Z",
     "start_time": "2024-01-13T12:43:36.774278300Z"
    }
   },
   "outputs": [
    {
     "data": {
      "text/plain": "carat           float64\nclarity        category\ncolor            object\ncut              object\nx dimension      object\ny dimension      object\nz dimension      object\ndepth            object\ntable            object\nprice            object\ndtype: object"
     },
     "execution_count": 29,
     "metadata": {},
     "output_type": "execute_result"
    }
   ],
   "source": [
    "# Mapowanie rodzajów i ustawienie typu na kategorie\n",
    "\n",
    "mapping = {'i1': 'I1', 'if': 'IF', 'si1': 'Si1', 'si2': 'SI2','Si2': 'SI2' ,'vvs1': 'VVS1', 'Vvs1': 'VVS1', 'vvs2': 'VVS2'}\n",
    "data['clarity'] = data['clarity'].replace(mapping)\n",
    "\n",
    "clarity_categories = set(data['clarity'])\n",
    "clarity_categories\n",
    "\n",
    "data['clarity'] = data['clarity'].astype('category')\n",
    "data.dtypes\n"
   ]
  },
  {
   "cell_type": "markdown",
   "id": "f91d5530667a2226",
   "metadata": {
    "collapsed": false
   },
   "source": [
    "## Kolumna **color**"
   ]
  },
  {
   "cell_type": "code",
   "execution_count": 30,
   "id": "8351fb6fe0a34fe8",
   "metadata": {
    "collapsed": false,
    "ExecuteTime": {
     "end_time": "2024-01-13T12:43:36.995968300Z",
     "start_time": "2024-01-13T12:43:36.789897800Z"
    }
   },
   "outputs": [
    {
     "data": {
      "text/plain": "{'Colorless',\n 'D',\n 'E',\n 'F',\n 'G',\n 'H',\n 'I',\n 'J',\n 'colorless',\n 'd',\n 'e',\n 'f',\n 'g',\n 'h',\n 'j'}"
     },
     "execution_count": 30,
     "metadata": {},
     "output_type": "execute_result"
    }
   ],
   "source": [
    "colors = set(data['color'])\n",
    "colors\n",
    "\n",
    "# W nazwach kolorów są białe znaki\n",
    "data['color'] = data['color'].str.strip()\n",
    "\n",
    "colors = set(data['color'])\n",
    "colors"
   ]
  },
  {
   "cell_type": "code",
   "execution_count": 31,
   "id": "cefb3c693c9a75c4",
   "metadata": {
    "collapsed": false,
    "ExecuteTime": {
     "end_time": "2024-01-13T12:43:37.011989400Z",
     "start_time": "2024-01-13T12:43:36.811031100Z"
    }
   },
   "outputs": [
    {
     "data": {
      "text/plain": "carat           float64\nclarity        category\ncolor          category\ncut              object\nx dimension      object\ny dimension      object\nz dimension      object\ndepth            object\ntable            object\nprice            object\ndtype: object"
     },
     "execution_count": 31,
     "metadata": {},
     "output_type": "execute_result"
    }
   ],
   "source": [
    "# Mapowanie kolorów i ustawienie typu na kategorie\n",
    "\n",
    "mapping = {'colorless': 'Colorless', 'd': 'D', 'e': 'E', 'f': 'F', 'g': 'G', 'h': 'H', 'j': 'J'}\n",
    "data['color'] = data['color'].replace(mapping)\n",
    "\n",
    "colors = set(data['color'])\n",
    "colors\n",
    "\n",
    "data['color'] = data['color'].astype('category')\n",
    "data.dtypes"
   ]
  },
  {
   "cell_type": "markdown",
   "id": "dd02196a98127d05",
   "metadata": {
    "collapsed": false
   },
   "source": [
    "## Kolumna cut"
   ]
  },
  {
   "cell_type": "code",
   "execution_count": 32,
   "id": "d432b463e427a284",
   "metadata": {
    "collapsed": false,
    "ExecuteTime": {
     "end_time": "2024-01-13T12:43:37.011989400Z",
     "start_time": "2024-01-13T12:43:36.826180600Z"
    }
   },
   "outputs": [
    {
     "data": {
      "text/plain": "{'Fair',\n 'Good',\n 'Ideal',\n 'Premium',\n 'Very Good',\n 'Very good',\n 'fair',\n 'good',\n 'ideal',\n 'premium',\n 'very Good',\n 'very good'}"
     },
     "execution_count": 32,
     "metadata": {},
     "output_type": "execute_result"
    }
   ],
   "source": [
    "cut_categories = set(data['cut'])\n",
    "\n",
    "# W nazwach są białe znaki\n",
    "data['cut'] = data['cut'].str.strip()\n",
    "\n",
    "cut_categories = set(data['cut'])\n",
    "cut_categories"
   ]
  },
  {
   "cell_type": "code",
   "execution_count": 33,
   "id": "56bd9d126f89f572",
   "metadata": {
    "collapsed": false,
    "ExecuteTime": {
     "end_time": "2024-01-13T12:43:37.011989400Z",
     "start_time": "2024-01-13T12:43:36.842618Z"
    }
   },
   "outputs": [
    {
     "data": {
      "text/plain": "carat           float64\nclarity        category\ncolor          category\ncut            category\nx dimension      object\ny dimension      object\nz dimension      object\ndepth            object\ntable            object\nprice            object\ndtype: object"
     },
     "execution_count": 33,
     "metadata": {},
     "output_type": "execute_result"
    }
   ],
   "source": [
    "# Mapowanie szlifów i ustawienie typu na kategorie\n",
    "\n",
    "mapping = {'fair': 'Fair', 'good': 'Good', 'ideal': 'Ideal', 'premium': 'Premium', 'very good': 'Very Good', 'Very good': 'Very Good', 'very Good': 'Very Good'}\n",
    "data['cut'] = data['cut'].replace(mapping)\n",
    "\n",
    "cut_categories = set(data['cut'])\n",
    "cut_categories\n",
    "\n",
    "data['cut'] = data['cut'].astype('category')\n",
    "data.dtypes"
   ]
  },
  {
   "cell_type": "code",
   "execution_count": 34,
   "id": "3d80906f51c044fc",
   "metadata": {
    "collapsed": false,
    "ExecuteTime": {
     "end_time": "2024-01-13T12:43:37.011989400Z",
     "start_time": "2024-01-13T12:43:36.858241600Z"
    }
   },
   "outputs": [
    {
     "data": {
      "text/plain": "carat           float64\nclarity        category\ncolor          category\ncut            category\nx dimension     float64\ny dimension     float64\nz dimension     float64\ndepth           float64\ntable             Int32\nprice             Int32\ndtype: object"
     },
     "execution_count": 34,
     "metadata": {},
     "output_type": "execute_result"
    }
   ],
   "source": [
    "#Ustawienie typu danych dla reszty kolumn\n",
    "\n",
    "cols_with_empty_strings = data.columns[data.apply(lambda col: col == ' ').any()]\n",
    "data[cols_with_empty_strings] = data[cols_with_empty_strings].replace(' ', np.nan)\n",
    "\n",
    "data['x dimension'] = data['x dimension'].astype(float)\n",
    "data['y dimension'] = data['y dimension'].astype(float)\n",
    "data['z dimension'] = data['z dimension'].astype(float)\n",
    "data['depth'] = data['depth'].astype(float)\n",
    "data['table'] = data['table'].astype('Int32')\n",
    "data['price'] = data['price'].astype('Int32')\n",
    "\n",
    "data.dtypes\n"
   ]
  },
  {
   "cell_type": "code",
   "execution_count": 35,
   "id": "bd7afb954d52be6a",
   "metadata": {
    "collapsed": false,
    "ExecuteTime": {
     "end_time": "2024-01-13T12:43:37.011989400Z",
     "start_time": "2024-01-13T12:43:36.873865500Z"
    }
   },
   "outputs": [
    {
     "data": {
      "text/plain": "    carat clarity      color        cut  x dimension  y dimension  \\\n0    0.50      IF          D      Ideal          5.1         5.15   \n1    0.70    VVS2          E    Premium          5.7          NaN   \n2     NaN     SI2          H       Good          4.3         4.31   \n3    1.20      IF          D      Ideal          NaN         6.82   \n4    0.90      I1          J       Fair          6.0          NaN   \n5     NaN     Si1          G  Very Good          5.9         5.92   \n6    0.50      IF          D      Ideal          5.1          NaN   \n7    0.40    VVS1          F       Good          4.8         4.79   \n8     NaN     SI2          I       Good          4.3         4.32   \n9    1.00    VVS1          F      Ideal          6.4          NaN   \n10   0.50     Si1  Colorless    Premium          NaN         5.21   \n11   0.40    VVS2          G  Very Good          4.9         4.88   \n12    NaN     SI2          J       Fair          5.7         5.71   \n13   1.10    VVS1          E    Premium          6.6          NaN   \n14   0.55     SI2          H       Good          5.3         5.29   \n\n    z dimension  depth  table  price  \n0          3.20   61.5   <NA>   3000  \n1          3.52   62.0     59   4500  \n2           NaN   62.3     56    700  \n3          4.20   61.7     58  10000  \n4          3.70   61.7   <NA>   2400  \n5          3.63    NaN     57   4200  \n6          3.20   61.5     57   3100  \n7          2.95    NaN   <NA>   1500  \n8           NaN   62.3   <NA>   <NA>  \n9          4.00    NaN     58   7500  \n10         3.21   61.6     58   <NA>  \n11          NaN   61.2     56   1400  \n12         3.54    NaN     54   2000  \n13         4.08    NaN     57   9200  \n14          NaN   62.0   <NA>   1800  ",
      "text/html": "<div>\n<style scoped>\n    .dataframe tbody tr th:only-of-type {\n        vertical-align: middle;\n    }\n\n    .dataframe tbody tr th {\n        vertical-align: top;\n    }\n\n    .dataframe thead th {\n        text-align: right;\n    }\n</style>\n<table border=\"1\" class=\"dataframe\">\n  <thead>\n    <tr style=\"text-align: right;\">\n      <th></th>\n      <th>carat</th>\n      <th>clarity</th>\n      <th>color</th>\n      <th>cut</th>\n      <th>x dimension</th>\n      <th>y dimension</th>\n      <th>z dimension</th>\n      <th>depth</th>\n      <th>table</th>\n      <th>price</th>\n    </tr>\n  </thead>\n  <tbody>\n    <tr>\n      <th>0</th>\n      <td>0.50</td>\n      <td>IF</td>\n      <td>D</td>\n      <td>Ideal</td>\n      <td>5.1</td>\n      <td>5.15</td>\n      <td>3.20</td>\n      <td>61.5</td>\n      <td>&lt;NA&gt;</td>\n      <td>3000</td>\n    </tr>\n    <tr>\n      <th>1</th>\n      <td>0.70</td>\n      <td>VVS2</td>\n      <td>E</td>\n      <td>Premium</td>\n      <td>5.7</td>\n      <td>NaN</td>\n      <td>3.52</td>\n      <td>62.0</td>\n      <td>59</td>\n      <td>4500</td>\n    </tr>\n    <tr>\n      <th>2</th>\n      <td>NaN</td>\n      <td>SI2</td>\n      <td>H</td>\n      <td>Good</td>\n      <td>4.3</td>\n      <td>4.31</td>\n      <td>NaN</td>\n      <td>62.3</td>\n      <td>56</td>\n      <td>700</td>\n    </tr>\n    <tr>\n      <th>3</th>\n      <td>1.20</td>\n      <td>IF</td>\n      <td>D</td>\n      <td>Ideal</td>\n      <td>NaN</td>\n      <td>6.82</td>\n      <td>4.20</td>\n      <td>61.7</td>\n      <td>58</td>\n      <td>10000</td>\n    </tr>\n    <tr>\n      <th>4</th>\n      <td>0.90</td>\n      <td>I1</td>\n      <td>J</td>\n      <td>Fair</td>\n      <td>6.0</td>\n      <td>NaN</td>\n      <td>3.70</td>\n      <td>61.7</td>\n      <td>&lt;NA&gt;</td>\n      <td>2400</td>\n    </tr>\n    <tr>\n      <th>5</th>\n      <td>NaN</td>\n      <td>Si1</td>\n      <td>G</td>\n      <td>Very Good</td>\n      <td>5.9</td>\n      <td>5.92</td>\n      <td>3.63</td>\n      <td>NaN</td>\n      <td>57</td>\n      <td>4200</td>\n    </tr>\n    <tr>\n      <th>6</th>\n      <td>0.50</td>\n      <td>IF</td>\n      <td>D</td>\n      <td>Ideal</td>\n      <td>5.1</td>\n      <td>NaN</td>\n      <td>3.20</td>\n      <td>61.5</td>\n      <td>57</td>\n      <td>3100</td>\n    </tr>\n    <tr>\n      <th>7</th>\n      <td>0.40</td>\n      <td>VVS1</td>\n      <td>F</td>\n      <td>Good</td>\n      <td>4.8</td>\n      <td>4.79</td>\n      <td>2.95</td>\n      <td>NaN</td>\n      <td>&lt;NA&gt;</td>\n      <td>1500</td>\n    </tr>\n    <tr>\n      <th>8</th>\n      <td>NaN</td>\n      <td>SI2</td>\n      <td>I</td>\n      <td>Good</td>\n      <td>4.3</td>\n      <td>4.32</td>\n      <td>NaN</td>\n      <td>62.3</td>\n      <td>&lt;NA&gt;</td>\n      <td>&lt;NA&gt;</td>\n    </tr>\n    <tr>\n      <th>9</th>\n      <td>1.00</td>\n      <td>VVS1</td>\n      <td>F</td>\n      <td>Ideal</td>\n      <td>6.4</td>\n      <td>NaN</td>\n      <td>4.00</td>\n      <td>NaN</td>\n      <td>58</td>\n      <td>7500</td>\n    </tr>\n    <tr>\n      <th>10</th>\n      <td>0.50</td>\n      <td>Si1</td>\n      <td>Colorless</td>\n      <td>Premium</td>\n      <td>NaN</td>\n      <td>5.21</td>\n      <td>3.21</td>\n      <td>61.6</td>\n      <td>58</td>\n      <td>&lt;NA&gt;</td>\n    </tr>\n    <tr>\n      <th>11</th>\n      <td>0.40</td>\n      <td>VVS2</td>\n      <td>G</td>\n      <td>Very Good</td>\n      <td>4.9</td>\n      <td>4.88</td>\n      <td>NaN</td>\n      <td>61.2</td>\n      <td>56</td>\n      <td>1400</td>\n    </tr>\n    <tr>\n      <th>12</th>\n      <td>NaN</td>\n      <td>SI2</td>\n      <td>J</td>\n      <td>Fair</td>\n      <td>5.7</td>\n      <td>5.71</td>\n      <td>3.54</td>\n      <td>NaN</td>\n      <td>54</td>\n      <td>2000</td>\n    </tr>\n    <tr>\n      <th>13</th>\n      <td>1.10</td>\n      <td>VVS1</td>\n      <td>E</td>\n      <td>Premium</td>\n      <td>6.6</td>\n      <td>NaN</td>\n      <td>4.08</td>\n      <td>NaN</td>\n      <td>57</td>\n      <td>9200</td>\n    </tr>\n    <tr>\n      <th>14</th>\n      <td>0.55</td>\n      <td>SI2</td>\n      <td>H</td>\n      <td>Good</td>\n      <td>5.3</td>\n      <td>5.29</td>\n      <td>NaN</td>\n      <td>62.0</td>\n      <td>&lt;NA&gt;</td>\n      <td>1800</td>\n    </tr>\n  </tbody>\n</table>\n</div>"
     },
     "execution_count": 35,
     "metadata": {},
     "output_type": "execute_result"
    }
   ],
   "source": [
    "data.head(15)"
   ]
  },
  {
   "cell_type": "markdown",
   "source": [
    "# Usuwanie wierszy z brakującymi danymi"
   ],
   "metadata": {
    "collapsed": false
   },
   "id": "4fb9767a8bda046f"
  },
  {
   "cell_type": "code",
   "execution_count": 36,
   "outputs": [
    {
     "data": {
      "text/plain": "82"
     },
     "execution_count": 36,
     "metadata": {},
     "output_type": "execute_result"
    }
   ],
   "source": [
    "# Postanowiłem usunąć wiersze gdzie carat jest nan. \n",
    "# Myślę, że jest to największy czynnik który ma wpływ na cene wyrobu\n",
    "# Zmniejszy to rozmiar danych o 50 wierszy ale dane będą dokładniejsze\n",
    "count = data['carat'].isna().sum()\n",
    "data = data.dropna(subset=['carat'])\n",
    "\n",
    "# Brakujące dane w kolumnie price postanowiłem zamienić średnią z wierszy o podobnych wartościach (carat i cut jest taki sam)\n",
    "# Zobaczmy ile jest wierszy gdzie carat i cut jest taki sam - 82\n",
    "size = len(data.groupby(['carat', 'cut'], observed=True))\n",
    "size"
   ],
   "metadata": {
    "collapsed": false,
    "ExecuteTime": {
     "end_time": "2024-01-13T12:43:37.011989400Z",
     "start_time": "2024-01-13T12:43:36.889492200Z"
    }
   },
   "id": "d3284c5b8e8ab4b0"
  },
  {
   "cell_type": "code",
   "execution_count": 37,
   "outputs": [
    {
     "name": "stdout",
     "output_type": "stream",
     "text": [
      "2\n"
     ]
    }
   ],
   "source": [
    "# Ilosc wierszy bez ceny\n",
    "price_na_data = data[data['price'].isna()]\n",
    "print(len(price_na_data)) "
   ],
   "metadata": {
    "collapsed": false,
    "ExecuteTime": {
     "end_time": "2024-01-13T12:43:37.011989400Z",
     "start_time": "2024-01-13T12:43:36.905116400Z"
    }
   },
   "id": "798b10250893d6d4"
  },
  {
   "cell_type": "markdown",
   "source": [],
   "metadata": {
    "collapsed": false
   },
   "id": "a4b5a4dfb3c0ad50"
  },
  {
   "cell_type": "code",
   "execution_count": 38,
   "outputs": [
    {
     "data": {
      "text/plain": "   carat clarity      color      cut  x dimension  y dimension  z dimension  \\\n0    1.0    VVS1          F    Ideal          6.4          NaN         4.00   \n1    0.5     Si1  Colorless  Premium          NaN         5.21         3.21   \n2    1.0      IF          D    Ideal          6.5         6.49          NaN   \n3    0.5    VVS1          E  Premium          5.2         5.22          NaN   \n4    0.5    VVS2          F  Premium          5.2         5.23          NaN   \n5    0.5     Si1          H  Premium          5.1          NaN         3.16   \n6    0.5     SI2          E  Premium          5.1         5.11          NaN   \n\n   depth  table  price  \n0    NaN     58   7500  \n1   61.6     58   <NA>  \n2   61.7     58   <NA>  \n3    NaN     58   2900  \n4   62.1     58   3200  \n5   62.3     57   3000  \n6   62.5     55   2900  ",
      "text/html": "<div>\n<style scoped>\n    .dataframe tbody tr th:only-of-type {\n        vertical-align: middle;\n    }\n\n    .dataframe tbody tr th {\n        vertical-align: top;\n    }\n\n    .dataframe thead th {\n        text-align: right;\n    }\n</style>\n<table border=\"1\" class=\"dataframe\">\n  <thead>\n    <tr style=\"text-align: right;\">\n      <th></th>\n      <th>carat</th>\n      <th>clarity</th>\n      <th>color</th>\n      <th>cut</th>\n      <th>x dimension</th>\n      <th>y dimension</th>\n      <th>z dimension</th>\n      <th>depth</th>\n      <th>table</th>\n      <th>price</th>\n    </tr>\n  </thead>\n  <tbody>\n    <tr>\n      <th>0</th>\n      <td>1.0</td>\n      <td>VVS1</td>\n      <td>F</td>\n      <td>Ideal</td>\n      <td>6.4</td>\n      <td>NaN</td>\n      <td>4.00</td>\n      <td>NaN</td>\n      <td>58</td>\n      <td>7500</td>\n    </tr>\n    <tr>\n      <th>1</th>\n      <td>0.5</td>\n      <td>Si1</td>\n      <td>Colorless</td>\n      <td>Premium</td>\n      <td>NaN</td>\n      <td>5.21</td>\n      <td>3.21</td>\n      <td>61.6</td>\n      <td>58</td>\n      <td>&lt;NA&gt;</td>\n    </tr>\n    <tr>\n      <th>2</th>\n      <td>1.0</td>\n      <td>IF</td>\n      <td>D</td>\n      <td>Ideal</td>\n      <td>6.5</td>\n      <td>6.49</td>\n      <td>NaN</td>\n      <td>61.7</td>\n      <td>58</td>\n      <td>&lt;NA&gt;</td>\n    </tr>\n    <tr>\n      <th>3</th>\n      <td>0.5</td>\n      <td>VVS1</td>\n      <td>E</td>\n      <td>Premium</td>\n      <td>5.2</td>\n      <td>5.22</td>\n      <td>NaN</td>\n      <td>NaN</td>\n      <td>58</td>\n      <td>2900</td>\n    </tr>\n    <tr>\n      <th>4</th>\n      <td>0.5</td>\n      <td>VVS2</td>\n      <td>F</td>\n      <td>Premium</td>\n      <td>5.2</td>\n      <td>5.23</td>\n      <td>NaN</td>\n      <td>62.1</td>\n      <td>58</td>\n      <td>3200</td>\n    </tr>\n    <tr>\n      <th>5</th>\n      <td>0.5</td>\n      <td>Si1</td>\n      <td>H</td>\n      <td>Premium</td>\n      <td>5.1</td>\n      <td>NaN</td>\n      <td>3.16</td>\n      <td>62.3</td>\n      <td>57</td>\n      <td>3000</td>\n    </tr>\n    <tr>\n      <th>6</th>\n      <td>0.5</td>\n      <td>SI2</td>\n      <td>E</td>\n      <td>Premium</td>\n      <td>5.1</td>\n      <td>5.11</td>\n      <td>NaN</td>\n      <td>62.5</td>\n      <td>55</td>\n      <td>2900</td>\n    </tr>\n  </tbody>\n</table>\n</div>"
     },
     "execution_count": 38,
     "metadata": {},
     "output_type": "execute_result"
    }
   ],
   "source": [
    "# Wyswietlmy wiersze gdzie price jest nan oraz wiersze z takim samym carat i cut\n",
    "matched_data = pd.merge(data,price_na_data[['carat', 'cut']], on=['carat', 'cut'])\n",
    "matched_data "
   ],
   "metadata": {
    "collapsed": false,
    "ExecuteTime": {
     "end_time": "2024-01-13T12:43:37.027622300Z",
     "start_time": "2024-01-13T12:43:36.921131Z"
    }
   },
   "id": "53bee2447f103988"
  },
  {
   "cell_type": "code",
   "execution_count": 39,
   "outputs": [
    {
     "name": "stdout",
     "output_type": "stream",
     "text": [
      "5\n"
     ]
    }
   ],
   "source": [
    "# Liczba wierszy z cena oraz z takim samym cut i caratem\n",
    "print(len(matched_data[~matched_data['price'].isna()])) # 5"
   ],
   "metadata": {
    "collapsed": false,
    "ExecuteTime": {
     "end_time": "2024-01-13T12:43:37.126158400Z",
     "start_time": "2024-01-13T12:43:36.949091500Z"
    }
   },
   "id": "7cfde76a03eaffc8"
  },
  {
   "cell_type": "code",
   "execution_count": 40,
   "outputs": [
    {
     "data": {
      "text/plain": "    carat clarity      color      cut  x dimension  y dimension  z dimension  \\\n7     0.5     Si1  Colorless  Premium          NaN         5.21         3.21   \n12    1.0      IF          D    Ideal          6.5         6.49          NaN   \n\n    depth  table  price  mean_price  \n7    61.6     58   3000        3000  \n12   61.7     58   7500        7500  ",
      "text/html": "<div>\n<style scoped>\n    .dataframe tbody tr th:only-of-type {\n        vertical-align: middle;\n    }\n\n    .dataframe tbody tr th {\n        vertical-align: top;\n    }\n\n    .dataframe thead th {\n        text-align: right;\n    }\n</style>\n<table border=\"1\" class=\"dataframe\">\n  <thead>\n    <tr style=\"text-align: right;\">\n      <th></th>\n      <th>carat</th>\n      <th>clarity</th>\n      <th>color</th>\n      <th>cut</th>\n      <th>x dimension</th>\n      <th>y dimension</th>\n      <th>z dimension</th>\n      <th>depth</th>\n      <th>table</th>\n      <th>price</th>\n      <th>mean_price</th>\n    </tr>\n  </thead>\n  <tbody>\n    <tr>\n      <th>7</th>\n      <td>0.5</td>\n      <td>Si1</td>\n      <td>Colorless</td>\n      <td>Premium</td>\n      <td>NaN</td>\n      <td>5.21</td>\n      <td>3.21</td>\n      <td>61.6</td>\n      <td>58</td>\n      <td>3000</td>\n      <td>3000</td>\n    </tr>\n    <tr>\n      <th>12</th>\n      <td>1.0</td>\n      <td>IF</td>\n      <td>D</td>\n      <td>Ideal</td>\n      <td>6.5</td>\n      <td>6.49</td>\n      <td>NaN</td>\n      <td>61.7</td>\n      <td>58</td>\n      <td>7500</td>\n      <td>7500</td>\n    </tr>\n  </tbody>\n</table>\n</div>"
     },
     "execution_count": 40,
     "metadata": {},
     "output_type": "execute_result"
    }
   ],
   "source": [
    "mean_prices = data.groupby(['carat', 'cut'], observed=True)['price'].mean().reset_index(name='mean_price')\n",
    "merged_data = pd.merge(data, mean_prices, on=['carat', 'cut'], how='left')\n",
    "merged_data['mean_price'] = merged_data['mean_price'].astype('Int32')\n",
    "price_nan_mask_merged = merged_data['price'].isna()\n",
    "merged_data['price'] = merged_data['price'].fillna(merged_data['mean_price']) # inplace=true dawalo warning \n",
    "merged_data[price_nan_mask_merged]"
   ],
   "metadata": {
    "collapsed": false,
    "ExecuteTime": {
     "end_time": "2024-01-13T12:43:37.126158400Z",
     "start_time": "2024-01-13T12:43:36.964717300Z"
    }
   },
   "id": "817667c57e045cda"
  },
  {
   "cell_type": "code",
   "execution_count": 41,
   "outputs": [
    {
     "data": {
      "text/plain": "    carat clarity      color      cut  x dimension  y dimension  z dimension  \\\n7     0.5     Si1  Colorless  Premium          NaN         5.21         3.21   \n12    1.0      IF          D    Ideal          6.5         6.49          NaN   \n\n    depth  table  price  \n7    61.6     58   3000  \n12   61.7     58   7500  ",
      "text/html": "<div>\n<style scoped>\n    .dataframe tbody tr th:only-of-type {\n        vertical-align: middle;\n    }\n\n    .dataframe tbody tr th {\n        vertical-align: top;\n    }\n\n    .dataframe thead th {\n        text-align: right;\n    }\n</style>\n<table border=\"1\" class=\"dataframe\">\n  <thead>\n    <tr style=\"text-align: right;\">\n      <th></th>\n      <th>carat</th>\n      <th>clarity</th>\n      <th>color</th>\n      <th>cut</th>\n      <th>x dimension</th>\n      <th>y dimension</th>\n      <th>z dimension</th>\n      <th>depth</th>\n      <th>table</th>\n      <th>price</th>\n    </tr>\n  </thead>\n  <tbody>\n    <tr>\n      <th>7</th>\n      <td>0.5</td>\n      <td>Si1</td>\n      <td>Colorless</td>\n      <td>Premium</td>\n      <td>NaN</td>\n      <td>5.21</td>\n      <td>3.21</td>\n      <td>61.6</td>\n      <td>58</td>\n      <td>3000</td>\n    </tr>\n    <tr>\n      <th>12</th>\n      <td>1.0</td>\n      <td>IF</td>\n      <td>D</td>\n      <td>Ideal</td>\n      <td>6.5</td>\n      <td>6.49</td>\n      <td>NaN</td>\n      <td>61.7</td>\n      <td>58</td>\n      <td>7500</td>\n    </tr>\n  </tbody>\n</table>\n</div>"
     },
     "execution_count": 41,
     "metadata": {},
     "output_type": "execute_result"
    }
   ],
   "source": [
    "data = merged_data.drop(columns=['mean_price'])\n",
    "data[price_nan_mask_merged]"
   ],
   "metadata": {
    "collapsed": false,
    "ExecuteTime": {
     "end_time": "2024-01-13T12:43:37.126158400Z",
     "start_time": "2024-01-13T12:43:36.980343200Z"
    }
   },
   "id": "9cef7eaaf6731ac7"
  },
  {
   "cell_type": "markdown",
   "id": "f3b8a85f01c37706",
   "metadata": {
    "collapsed": false
   },
   "source": [
    "# Duplikaty"
   ]
  },
  {
   "cell_type": "code",
   "execution_count": 42,
   "id": "fab4fa19a5f86cd6",
   "metadata": {
    "collapsed": false,
    "ExecuteTime": {
     "end_time": "2024-01-13T12:43:37.126158400Z",
     "start_time": "2024-01-13T12:43:36.995968300Z"
    }
   },
   "outputs": [
    {
     "data": {
      "text/plain": "     carat clarity color      cut  x dimension  y dimension  z dimension  \\\n53     1.2    VVS1     E  Premium          6.8          NaN          4.2   \n102    1.2    VVS1     G  Premium          6.8          NaN          4.2   \n\n     depth  table  price  \n53    62.7     58  10200  \n102    NaN     58  10100  ",
      "text/html": "<div>\n<style scoped>\n    .dataframe tbody tr th:only-of-type {\n        vertical-align: middle;\n    }\n\n    .dataframe tbody tr th {\n        vertical-align: top;\n    }\n\n    .dataframe thead th {\n        text-align: right;\n    }\n</style>\n<table border=\"1\" class=\"dataframe\">\n  <thead>\n    <tr style=\"text-align: right;\">\n      <th></th>\n      <th>carat</th>\n      <th>clarity</th>\n      <th>color</th>\n      <th>cut</th>\n      <th>x dimension</th>\n      <th>y dimension</th>\n      <th>z dimension</th>\n      <th>depth</th>\n      <th>table</th>\n      <th>price</th>\n    </tr>\n  </thead>\n  <tbody>\n    <tr>\n      <th>53</th>\n      <td>1.2</td>\n      <td>VVS1</td>\n      <td>E</td>\n      <td>Premium</td>\n      <td>6.8</td>\n      <td>NaN</td>\n      <td>4.2</td>\n      <td>62.7</td>\n      <td>58</td>\n      <td>10200</td>\n    </tr>\n    <tr>\n      <th>102</th>\n      <td>1.2</td>\n      <td>VVS1</td>\n      <td>G</td>\n      <td>Premium</td>\n      <td>6.8</td>\n      <td>NaN</td>\n      <td>4.2</td>\n      <td>NaN</td>\n      <td>58</td>\n      <td>10100</td>\n    </tr>\n  </tbody>\n</table>\n</div>"
     },
     "execution_count": 42,
     "metadata": {},
     "output_type": "execute_result"
    }
   ],
   "source": [
    " data.duplicated().sum()\n",
    "# Nie ma wierszy identycznych\n",
    "\n",
    "# Sprawdzmy duplikaty biorąc pod uwage ponizsze kolumny\n",
    "duplicates = data.duplicated(subset=['carat', 'cut', 'clarity', 'x dimension', 'y dimension', 'z dimension'], keep=False)\n",
    "data[duplicates]\n",
    "\n",
    "# Znaleziono tylko 2 rekordy, cena moze sie roznic ze wzgledu na kolor\n",
    "\n",
    "# Wyglada na to ze zbior po wstepnym oczyszczeniu nie ma duplikatow \n"
   ]
  },
  {
   "cell_type": "markdown",
   "source": [
    "# Błędne dane"
   ],
   "metadata": {
    "collapsed": false
   },
   "id": "66d8964621318ab2"
  },
  {
   "cell_type": "code",
   "execution_count": 43,
   "outputs": [],
   "source": [
    "# Po obejrzeniu wykresów z rozkładem zmiennych zauważyłem, że 4 wiersze znacząco odbiegają od reszty\n",
    "data = data.sort_values(by='price', ascending=False)\n",
    "data.head(3)\n",
    "\n",
    "# Tak jak wcześniej, zamienie ceny na średnią cen z podobnych rekordów (carat + cut)\n",
    "# Najpierw zamienie te ceny na nan \n",
    "data.loc[data['price'] > 12000, 'price'] = np.nan\n",
    "\n",
    "mean_prices = data.groupby(['carat', 'cut'], observed=True)['price'].mean().reset_index(name='mean_price')\n",
    "merged_data = pd.merge(data, mean_prices, on=['carat', 'cut'], how='left')\n",
    "merged_data['mean_price'] = merged_data['mean_price'].astype('Int32')\n",
    "\n",
    "merged_data_na_price_mask = merged_data['price'].isna()\n",
    "\n",
    "merged_data['price'] = merged_data['price'].fillna(merged_data['mean_price']) # inplace=true dawalo warning \n",
    "\n",
    "# Po ponownym obejrzeniu wykresu zauważyłem poniższy rekord, którego cena znacząco odbiega od normy\n",
    "# Jako że nie ma innych wierszy z caratem równym 1.6 na razie go usune\n",
    "cleaned_data = merged_data[merged_data['carat'] != 1.6]"
   ],
   "metadata": {
    "collapsed": false,
    "ExecuteTime": {
     "end_time": "2024-01-13T12:43:37.173043700Z",
     "start_time": "2024-01-13T12:43:37.011989400Z"
    }
   },
   "id": "144a2422d4c532bd"
  },
  {
   "cell_type": "code",
   "execution_count": 44,
   "outputs": [
    {
     "name": "stderr",
     "output_type": "stream",
     "text": [
      "C:\\Users\\grzeg\\AppData\\Local\\Temp\\ipykernel_26228\\1991026144.py:2: UserWarning: Boolean Series key will be reindexed to match DataFrame index.\n",
      "  data[merged_data_na_price_mask]\n"
     ]
    },
    {
     "data": {
      "text/plain": "   carat clarity color        cut  x dimension  y dimension  z dimension  \\\n0   1.40     SI2     D  Very Good          7.3          NaN         4.50   \n1   0.90      IF     G  Very Good          6.3          NaN         3.90   \n2   0.55      I1     I    Premium          5.3          NaN         3.28   \n\n   depth  table  price  \n0   62.6     59   <NA>  \n1    NaN     57   6700  \n2   62.3     57   2500  ",
      "text/html": "<div>\n<style scoped>\n    .dataframe tbody tr th:only-of-type {\n        vertical-align: middle;\n    }\n\n    .dataframe tbody tr th {\n        vertical-align: top;\n    }\n\n    .dataframe thead th {\n        text-align: right;\n    }\n</style>\n<table border=\"1\" class=\"dataframe\">\n  <thead>\n    <tr style=\"text-align: right;\">\n      <th></th>\n      <th>carat</th>\n      <th>clarity</th>\n      <th>color</th>\n      <th>cut</th>\n      <th>x dimension</th>\n      <th>y dimension</th>\n      <th>z dimension</th>\n      <th>depth</th>\n      <th>table</th>\n      <th>price</th>\n    </tr>\n  </thead>\n  <tbody>\n    <tr>\n      <th>0</th>\n      <td>1.40</td>\n      <td>SI2</td>\n      <td>D</td>\n      <td>Very Good</td>\n      <td>7.3</td>\n      <td>NaN</td>\n      <td>4.50</td>\n      <td>62.6</td>\n      <td>59</td>\n      <td>&lt;NA&gt;</td>\n    </tr>\n    <tr>\n      <th>1</th>\n      <td>0.90</td>\n      <td>IF</td>\n      <td>G</td>\n      <td>Very Good</td>\n      <td>6.3</td>\n      <td>NaN</td>\n      <td>3.90</td>\n      <td>NaN</td>\n      <td>57</td>\n      <td>6700</td>\n    </tr>\n    <tr>\n      <th>2</th>\n      <td>0.55</td>\n      <td>I1</td>\n      <td>I</td>\n      <td>Premium</td>\n      <td>5.3</td>\n      <td>NaN</td>\n      <td>3.28</td>\n      <td>62.3</td>\n      <td>57</td>\n      <td>2500</td>\n    </tr>\n  </tbody>\n</table>\n</div>"
     },
     "execution_count": 44,
     "metadata": {},
     "output_type": "execute_result"
    }
   ],
   "source": [
    "data = cleaned_data.drop(columns=['mean_price'])\n",
    "data[merged_data_na_price_mask]"
   ],
   "metadata": {
    "collapsed": false,
    "ExecuteTime": {
     "end_time": "2024-01-13T12:43:37.211305800Z",
     "start_time": "2024-01-13T12:43:37.027622300Z"
    }
   },
   "id": "cb3e4c97f0b40992"
  },
  {
   "cell_type": "markdown",
   "source": [
    "# Zapisanie danych"
   ],
   "metadata": {
    "collapsed": false
   },
   "id": "264ba6327ceeafb0"
  },
  {
   "cell_type": "code",
   "execution_count": 45,
   "outputs": [],
   "source": [
    "data.to_csv('prepared_data.csv',index=False)"
   ],
   "metadata": {
    "collapsed": false,
    "ExecuteTime": {
     "end_time": "2024-01-13T12:43:37.211305800Z",
     "start_time": "2024-01-13T12:43:37.043252Z"
    }
   },
   "id": "ac1de2d355d8a2fe"
  }
 ],
 "metadata": {
  "kernelspec": {
   "display_name": "Python 3 (ipykernel)",
   "language": "python",
   "name": "python3"
  },
  "language_info": {
   "codemirror_mode": {
    "name": "ipython",
    "version": 3
   },
   "file_extension": ".py",
   "mimetype": "text/x-python",
   "name": "python",
   "nbconvert_exporter": "python",
   "pygments_lexer": "ipython3",
   "version": "3.9.13"
  }
 },
 "nbformat": 4,
 "nbformat_minor": 5
}
