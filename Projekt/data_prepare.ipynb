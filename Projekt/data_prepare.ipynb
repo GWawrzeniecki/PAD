{
 "cells": [
  {
   "cell_type": "code",
   "execution_count": 33,
   "id": "initial_id",
   "metadata": {
    "collapsed": true,
    "ExecuteTime": {
     "end_time": "2023-11-25T17:00:09.853456900Z",
     "start_time": "2023-11-25T17:00:09.848459600Z"
    }
   },
   "outputs": [],
   "source": [
    "import numpy as np\n",
    "\n",
    "data = np.genfromtxt('Projekt/messy_data.csv', delimiter=',',dtype=object)\n"
   ]
  },
  {
   "cell_type": "code",
   "execution_count": 34,
   "outputs": [
    {
     "ename": "TypeError",
     "evalue": "unhashable type: 'numpy.ndarray'",
     "output_type": "error",
     "traceback": [
      "\u001B[1;31m---------------------------------------------------------------------------\u001B[0m",
      "\u001B[1;31mTypeError\u001B[0m                                 Traceback (most recent call last)",
      "Cell \u001B[1;32mIn[34], line 5\u001B[0m\n\u001B[0;32m      2\u001B[0m duplicate_values \u001B[38;5;241m=\u001B[39m \u001B[38;5;28mset\u001B[39m()\n\u001B[0;32m      4\u001B[0m \u001B[38;5;28;01mfor\u001B[39;00m row \u001B[38;5;129;01min\u001B[39;00m data[\u001B[38;5;241m1\u001B[39m:]:\n\u001B[1;32m----> 5\u001B[0m     \u001B[38;5;28;01mif\u001B[39;00m \u001B[43mrow\u001B[49m\u001B[43m \u001B[49m\u001B[38;5;129;43;01min\u001B[39;49;00m\u001B[43m \u001B[49m\u001B[43muniques_values\u001B[49m:\n\u001B[0;32m      6\u001B[0m         duplicate_values\u001B[38;5;241m.\u001B[39madd(row)\n\u001B[0;32m      7\u001B[0m     \u001B[38;5;28;01melse\u001B[39;00m:\n",
      "\u001B[1;31mTypeError\u001B[0m: unhashable type: 'numpy.ndarray'"
     ]
    }
   ],
   "source": [
    "uniques_values = set()\n",
    "duplicate_values = set()\n",
    "\n",
    "for row in data[1:]:\n",
    "    if row in uniques_values:\n",
    "        duplicate_values.add(row)\n",
    "    else:\n",
    "        uniques_values.add(row)\n",
    "\n"
   ],
   "metadata": {
    "collapsed": false,
    "ExecuteTime": {
     "end_time": "2023-11-25T17:00:11.730261200Z",
     "start_time": "2023-11-25T17:00:11.720744800Z"
    }
   },
   "id": "5012d1e457d7c165"
  }
 ],
 "metadata": {
  "kernelspec": {
   "display_name": "Python 3",
   "language": "python",
   "name": "python3"
  },
  "language_info": {
   "codemirror_mode": {
    "name": "ipython",
    "version": 2
   },
   "file_extension": ".py",
   "mimetype": "text/x-python",
   "name": "python",
   "nbconvert_exporter": "python",
   "pygments_lexer": "ipython2",
   "version": "2.7.6"
  }
 },
 "nbformat": 4,
 "nbformat_minor": 5
}
