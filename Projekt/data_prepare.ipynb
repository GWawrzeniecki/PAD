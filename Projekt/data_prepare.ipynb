{
 "cells": [
  {
   "cell_type": "code",
   "execution_count": 2,
   "id": "initial_id",
   "metadata": {
    "ExecuteTime": {
     "end_time": "2024-02-03T18:00:29.264376Z",
     "start_time": "2024-02-03T18:00:29.143551Z"
    }
   },
   "outputs": [],
   "source": [
    "import pandas as pd\n",
    "import numpy as np\n",
    "data = pd.read_csv('/Users/grzegorzwawrzeniecki/PycharmProjects/PAD/Projekt/messy_data.csv')"
   ]
  },
  {
   "cell_type": "markdown",
   "id": "68e81320d1436839",
   "metadata": {
    "collapsed": false
   },
   "source": [
    "# Dane - pierwsze 5 wierszy"
   ]
  },
  {
   "cell_type": "code",
   "execution_count": 3,
   "id": "a2a5f3c113089b0",
   "metadata": {
    "collapsed": false,
    "ExecuteTime": {
     "end_time": "2024-02-03T18:00:29.410290Z",
     "start_time": "2024-02-03T18:00:29.163181Z"
    }
   },
   "outputs": [
    {
     "data": {
      "text/plain": "   carat  clarity  color       cut  x dimension  y dimension  z dimension  \\\n0    0.5       IF      D     Ideal          5.1         5.15          3.2   \n1    0.7     vvs2      E   premium          5.7                      3.52   \n2    NaN      Si2      h      Good          4.3         4.31                \n3    1.2       if      d     ideal                      6.82          4.2   \n4    0.9       I1      J      Fair            6                       3.7   \n\n   depth  table  price  \n0   61.5          3000  \n1     62     59   4500  \n2   62.3     56    700  \n3   61.7     58  10000  \n4   61.7          2400  ",
      "text/html": "<div>\n<style scoped>\n    .dataframe tbody tr th:only-of-type {\n        vertical-align: middle;\n    }\n\n    .dataframe tbody tr th {\n        vertical-align: top;\n    }\n\n    .dataframe thead th {\n        text-align: right;\n    }\n</style>\n<table border=\"1\" class=\"dataframe\">\n  <thead>\n    <tr style=\"text-align: right;\">\n      <th></th>\n      <th>carat</th>\n      <th>clarity</th>\n      <th>color</th>\n      <th>cut</th>\n      <th>x dimension</th>\n      <th>y dimension</th>\n      <th>z dimension</th>\n      <th>depth</th>\n      <th>table</th>\n      <th>price</th>\n    </tr>\n  </thead>\n  <tbody>\n    <tr>\n      <th>0</th>\n      <td>0.5</td>\n      <td>IF</td>\n      <td>D</td>\n      <td>Ideal</td>\n      <td>5.1</td>\n      <td>5.15</td>\n      <td>3.2</td>\n      <td>61.5</td>\n      <td></td>\n      <td>3000</td>\n    </tr>\n    <tr>\n      <th>1</th>\n      <td>0.7</td>\n      <td>vvs2</td>\n      <td>E</td>\n      <td>premium</td>\n      <td>5.7</td>\n      <td></td>\n      <td>3.52</td>\n      <td>62</td>\n      <td>59</td>\n      <td>4500</td>\n    </tr>\n    <tr>\n      <th>2</th>\n      <td>NaN</td>\n      <td>Si2</td>\n      <td>h</td>\n      <td>Good</td>\n      <td>4.3</td>\n      <td>4.31</td>\n      <td></td>\n      <td>62.3</td>\n      <td>56</td>\n      <td>700</td>\n    </tr>\n    <tr>\n      <th>3</th>\n      <td>1.2</td>\n      <td>if</td>\n      <td>d</td>\n      <td>ideal</td>\n      <td></td>\n      <td>6.82</td>\n      <td>4.2</td>\n      <td>61.7</td>\n      <td>58</td>\n      <td>10000</td>\n    </tr>\n    <tr>\n      <th>4</th>\n      <td>0.9</td>\n      <td>I1</td>\n      <td>J</td>\n      <td>Fair</td>\n      <td>6</td>\n      <td></td>\n      <td>3.7</td>\n      <td>61.7</td>\n      <td></td>\n      <td>2400</td>\n    </tr>\n  </tbody>\n</table>\n</div>"
     },
     "execution_count": 3,
     "metadata": {},
     "output_type": "execute_result"
    }
   ],
   "source": [
    "data.head()"
   ]
  },
  {
   "cell_type": "markdown",
   "id": "972e7a2d889a704d",
   "metadata": {
    "collapsed": false
   },
   "source": [
    "# Analiza danych - kolumny\n",
    "\n",
    "- **carat**: Liczba karatów w danym wyrobie. Typ zmiennoprzecinkowy, zawiera puste wiersze\n",
    "- **clarity**: Przejrzystość/czystość wyrobu - kategoria. Wymaga ujednolicenia\n",
    "- **color**: Kolor - kategoria. Wymaga ujednolicenia\n",
    "- **cut**: Szlif - kategoria. Wymaga ujednolicenia\n",
    "- **x/y/z dimension**: Wymiary. Typ zmiennoprzecinkowy, zawiera puste wiersze\n",
    "- **depth**: Głębokość. Typ zmiennoprzecinkowy, zawiera puste wiersze\n",
    "- **table**: Płaska górna powierzchnia diamentu. Typ int, zawiera puste wiersze\n",
    "- **price**: Cena wyrobu. Typ int, zawiera puste wiersze"
   ]
  },
  {
   "cell_type": "markdown",
   "id": "7669612c3d4b3c10",
   "metadata": {
    "collapsed": false
   },
   "source": [
    "# Czyszczenie i ujednolicenie danych"
   ]
  },
  {
   "cell_type": "markdown",
   "id": "e4335aef9e14e62f",
   "metadata": {
    "collapsed": false
   },
   "source": [
    "## Nazwy kolumn"
   ]
  },
  {
   "cell_type": "code",
   "execution_count": 4,
   "id": "f0a56c79d557d4fc",
   "metadata": {
    "collapsed": false,
    "ExecuteTime": {
     "end_time": "2024-02-03T18:00:29.440838Z",
     "start_time": "2024-02-03T18:00:29.184093Z"
    }
   },
   "outputs": [
    {
     "data": {
      "text/plain": "Index(['carat', 'clarity', 'color', 'cut', 'x dimension', 'y dimension',\n       'z dimension', 'depth', 'table', 'price'],\n      dtype='object')"
     },
     "execution_count": 4,
     "metadata": {},
     "output_type": "execute_result"
    }
   ],
   "source": [
    "# w nazwach kolumn są białe znaki\n",
    "data.columns = data.columns.str.strip()\n",
    "data.columns"
   ]
  },
  {
   "cell_type": "markdown",
   "id": "16bc544d9aa5f4c8",
   "metadata": {
    "collapsed": false
   },
   "source": [
    "## Kolumna clarity"
   ]
  },
  {
   "cell_type": "code",
   "execution_count": 5,
   "id": "93c72eaa7b498754",
   "metadata": {
    "collapsed": false,
    "ExecuteTime": {
     "end_time": "2024-02-03T18:00:29.481672Z",
     "start_time": "2024-02-03T18:00:29.194828Z"
    }
   },
   "outputs": [
    {
     "data": {
      "text/plain": "{'I1',\n 'IF',\n 'SI2',\n 'Si1',\n 'Si2',\n 'VVS1',\n 'VVS2',\n 'Vvs1',\n 'i1',\n 'if',\n 'si1',\n 'si2',\n 'vvs1',\n 'vvs2'}"
     },
     "execution_count": 5,
     "metadata": {},
     "output_type": "execute_result"
    }
   ],
   "source": [
    "clarity_categories = set(data['clarity'])\n",
    "clarity_categories\n",
    "\n",
    "# W nazwach są białe znaki\n",
    "data['clarity'] = data['clarity'].str.strip()\n",
    "\n",
    "clarity_categories = set(data['clarity'])\n",
    "clarity_categories"
   ]
  },
  {
   "cell_type": "code",
   "execution_count": 6,
   "id": "5df12104a674133c",
   "metadata": {
    "collapsed": false,
    "ExecuteTime": {
     "end_time": "2024-02-03T18:00:29.555314Z",
     "start_time": "2024-02-03T18:00:29.209025Z"
    }
   },
   "outputs": [
    {
     "data": {
      "text/plain": "carat           float64\nclarity        category\ncolor            object\ncut              object\nx dimension      object\ny dimension      object\nz dimension      object\ndepth            object\ntable            object\nprice            object\ndtype: object"
     },
     "execution_count": 6,
     "metadata": {},
     "output_type": "execute_result"
    }
   ],
   "source": [
    "# Mapowanie rodzajów i ustawienie typu na kategorie\n",
    "\n",
    "mapping = {'i1': 'I1', 'if': 'IF', 'si1': 'Si1', 'si2': 'SI2','Si2': 'SI2' ,'vvs1': 'VVS1', 'Vvs1': 'VVS1', 'vvs2': 'VVS2'}\n",
    "data['clarity'] = data['clarity'].replace(mapping)\n",
    "\n",
    "clarity_categories = set(data['clarity'])\n",
    "clarity_categories\n",
    "\n",
    "data['clarity'] = data['clarity'].astype('category')\n",
    "data.dtypes\n"
   ]
  },
  {
   "cell_type": "markdown",
   "id": "f91d5530667a2226",
   "metadata": {
    "collapsed": false
   },
   "source": [
    "## Kolumna **color**"
   ]
  },
  {
   "cell_type": "code",
   "execution_count": 7,
   "id": "8351fb6fe0a34fe8",
   "metadata": {
    "collapsed": false,
    "ExecuteTime": {
     "end_time": "2024-02-03T18:00:29.711951Z",
     "start_time": "2024-02-03T18:00:29.221061Z"
    }
   },
   "outputs": [
    {
     "data": {
      "text/plain": "{'Colorless',\n 'D',\n 'E',\n 'F',\n 'G',\n 'H',\n 'I',\n 'J',\n 'colorless',\n 'd',\n 'e',\n 'f',\n 'g',\n 'h',\n 'j'}"
     },
     "execution_count": 7,
     "metadata": {},
     "output_type": "execute_result"
    }
   ],
   "source": [
    "colors = set(data['color'])\n",
    "colors\n",
    "\n",
    "# W nazwach kolorów są białe znaki\n",
    "data['color'] = data['color'].str.strip()\n",
    "\n",
    "colors = set(data['color'])\n",
    "colors"
   ]
  },
  {
   "cell_type": "code",
   "execution_count": 8,
   "id": "cefb3c693c9a75c4",
   "metadata": {
    "collapsed": false,
    "ExecuteTime": {
     "end_time": "2024-02-03T18:00:29.730966Z",
     "start_time": "2024-02-03T18:00:29.234394Z"
    }
   },
   "outputs": [
    {
     "data": {
      "text/plain": "carat           float64\nclarity        category\ncolor          category\ncut              object\nx dimension      object\ny dimension      object\nz dimension      object\ndepth            object\ntable            object\nprice            object\ndtype: object"
     },
     "execution_count": 8,
     "metadata": {},
     "output_type": "execute_result"
    }
   ],
   "source": [
    "# Mapowanie kolorów i ustawienie typu na kategorie\n",
    "\n",
    "mapping = {'colorless': 'Colorless', 'd': 'D', 'e': 'E', 'f': 'F', 'g': 'G', 'h': 'H', 'j': 'J'}\n",
    "data['color'] = data['color'].replace(mapping)\n",
    "\n",
    "colors = set(data['color'])\n",
    "colors\n",
    "\n",
    "data['color'] = data['color'].astype('category')\n",
    "data.dtypes"
   ]
  },
  {
   "cell_type": "markdown",
   "id": "dd02196a98127d05",
   "metadata": {
    "collapsed": false
   },
   "source": [
    "## Kolumna cut"
   ]
  },
  {
   "cell_type": "code",
   "execution_count": 9,
   "id": "d432b463e427a284",
   "metadata": {
    "collapsed": false,
    "ExecuteTime": {
     "end_time": "2024-02-03T18:00:29.749117Z",
     "start_time": "2024-02-03T18:00:29.243811Z"
    }
   },
   "outputs": [
    {
     "data": {
      "text/plain": "{'Fair',\n 'Good',\n 'Ideal',\n 'Premium',\n 'Very Good',\n 'Very good',\n 'fair',\n 'good',\n 'ideal',\n 'premium',\n 'very Good',\n 'very good'}"
     },
     "execution_count": 9,
     "metadata": {},
     "output_type": "execute_result"
    }
   ],
   "source": [
    "cut_categories = set(data['cut'])\n",
    "\n",
    "# W nazwach są białe znaki\n",
    "data['cut'] = data['cut'].str.strip()\n",
    "\n",
    "cut_categories = set(data['cut'])\n",
    "cut_categories"
   ]
  },
  {
   "cell_type": "code",
   "execution_count": 10,
   "id": "56bd9d126f89f572",
   "metadata": {
    "collapsed": false,
    "ExecuteTime": {
     "end_time": "2024-02-03T18:00:29.752723Z",
     "start_time": "2024-02-03T18:00:29.251477Z"
    }
   },
   "outputs": [
    {
     "data": {
      "text/plain": "carat           float64\nclarity        category\ncolor          category\ncut            category\nx dimension      object\ny dimension      object\nz dimension      object\ndepth            object\ntable            object\nprice            object\ndtype: object"
     },
     "execution_count": 10,
     "metadata": {},
     "output_type": "execute_result"
    }
   ],
   "source": [
    "# Mapowanie szlifów i ustawienie typu na kategorie\n",
    "\n",
    "mapping = {'fair': 'Fair', 'good': 'Good', 'ideal': 'Ideal', 'premium': 'Premium', 'very good': 'Very Good', 'Very good': 'Very Good', 'very Good': 'Very Good'}\n",
    "data['cut'] = data['cut'].replace(mapping)\n",
    "\n",
    "cut_categories = set(data['cut'])\n",
    "cut_categories\n",
    "\n",
    "data['cut'] = data['cut'].astype('category')\n",
    "data.dtypes"
   ]
  },
  {
   "cell_type": "code",
   "execution_count": 11,
   "id": "3d80906f51c044fc",
   "metadata": {
    "collapsed": false,
    "ExecuteTime": {
     "end_time": "2024-02-03T18:00:29.753399Z",
     "start_time": "2024-02-03T18:00:29.290506Z"
    }
   },
   "outputs": [
    {
     "data": {
      "text/plain": "carat           float64\nclarity        category\ncolor          category\ncut            category\nx dimension     float64\ny dimension     float64\nz dimension     float64\ndepth           float64\ntable             Int32\nprice             Int32\ndtype: object"
     },
     "execution_count": 11,
     "metadata": {},
     "output_type": "execute_result"
    }
   ],
   "source": [
    "#Ustawienie typu danych dla reszty kolumn\n",
    "\n",
    "cols_with_empty_strings = data.columns[data.apply(lambda col: col == ' ').any()]\n",
    "data[cols_with_empty_strings] = data[cols_with_empty_strings].replace(' ', np.nan)\n",
    "\n",
    "data['x dimension'] = data['x dimension'].astype(float)\n",
    "data['y dimension'] = data['y dimension'].astype(float)\n",
    "data['z dimension'] = data['z dimension'].astype(float)\n",
    "data['depth'] = data['depth'].astype(float)\n",
    "data['table'] = data['table'].astype('Int32')\n",
    "data['price'] = data['price'].astype('Int32')\n",
    "\n",
    "data.dtypes\n"
   ]
  },
  {
   "cell_type": "code",
   "execution_count": 32,
   "id": "bd7afb954d52be6a",
   "metadata": {
    "collapsed": false,
    "ExecuteTime": {
     "end_time": "2024-02-03T18:52:56.669469Z",
     "start_time": "2024-02-03T18:52:56.654496Z"
    }
   },
   "outputs": [
    {
     "data": {
      "text/plain": "    carat clarity      color        cut  x dimension  y dimension  \\\n0    1.40     SI2          D  Very Good          7.3          NaN   \n1    0.90      IF          G  Very Good          6.3          NaN   \n2    0.55      I1          I    Premium          5.3          NaN   \n3    1.40    VVS2          H       Good          7.2          NaN   \n4    1.40    VVS1          E    Premium          7.1          NaN   \n5    1.40    VVS2          H       Good          7.1          NaN   \n6    1.40      IF          D       Good          7.1         7.12   \n7    1.50    VVS2          F       Good          7.2         7.18   \n8    1.35     SI2          E      Ideal          7.2          NaN   \n9    1.25     SI2          G       Fair          6.9         6.91   \n10   1.30     Si1          G    Premium          6.9          NaN   \n11   1.25    VVS2          H       Good          6.9          NaN   \n12   1.25     SI2          D       Good          6.9          NaN   \n13   1.25      IF          G      Ideal          6.8          NaN   \n14   1.30     Si1  Colorless  Very Good          7.1          NaN   \n\n    z dimension  depth  table  price  \n0          4.50   62.6     59  11425  \n1          3.90    NaN     57   6700  \n2          3.28   62.3     57   2500  \n3          4.45   62.7     58  12000  \n4          4.40   62.7     58  11500  \n5          4.39   62.7     59  11200  \n6           NaN   62.4     59  11000  \n7           NaN   62.7     59  10800  \n8          4.46   62.8     57  10700  \n9           NaN   62.3     58  10500  \n10         4.30   63.0     60  10500  \n11         4.27    NaN     55  10400  \n12         4.26    NaN     58  10400  \n13         4.21    NaN     59  10300  \n14         4.39    NaN     56  10300  ",
      "text/html": "<div>\n<style scoped>\n    .dataframe tbody tr th:only-of-type {\n        vertical-align: middle;\n    }\n\n    .dataframe tbody tr th {\n        vertical-align: top;\n    }\n\n    .dataframe thead th {\n        text-align: right;\n    }\n</style>\n<table border=\"1\" class=\"dataframe\">\n  <thead>\n    <tr style=\"text-align: right;\">\n      <th></th>\n      <th>carat</th>\n      <th>clarity</th>\n      <th>color</th>\n      <th>cut</th>\n      <th>x dimension</th>\n      <th>y dimension</th>\n      <th>z dimension</th>\n      <th>depth</th>\n      <th>table</th>\n      <th>price</th>\n    </tr>\n  </thead>\n  <tbody>\n    <tr>\n      <th>0</th>\n      <td>1.40</td>\n      <td>SI2</td>\n      <td>D</td>\n      <td>Very Good</td>\n      <td>7.3</td>\n      <td>NaN</td>\n      <td>4.50</td>\n      <td>62.6</td>\n      <td>59</td>\n      <td>11425</td>\n    </tr>\n    <tr>\n      <th>1</th>\n      <td>0.90</td>\n      <td>IF</td>\n      <td>G</td>\n      <td>Very Good</td>\n      <td>6.3</td>\n      <td>NaN</td>\n      <td>3.90</td>\n      <td>NaN</td>\n      <td>57</td>\n      <td>6700</td>\n    </tr>\n    <tr>\n      <th>2</th>\n      <td>0.55</td>\n      <td>I1</td>\n      <td>I</td>\n      <td>Premium</td>\n      <td>5.3</td>\n      <td>NaN</td>\n      <td>3.28</td>\n      <td>62.3</td>\n      <td>57</td>\n      <td>2500</td>\n    </tr>\n    <tr>\n      <th>3</th>\n      <td>1.40</td>\n      <td>VVS2</td>\n      <td>H</td>\n      <td>Good</td>\n      <td>7.2</td>\n      <td>NaN</td>\n      <td>4.45</td>\n      <td>62.7</td>\n      <td>58</td>\n      <td>12000</td>\n    </tr>\n    <tr>\n      <th>4</th>\n      <td>1.40</td>\n      <td>VVS1</td>\n      <td>E</td>\n      <td>Premium</td>\n      <td>7.1</td>\n      <td>NaN</td>\n      <td>4.40</td>\n      <td>62.7</td>\n      <td>58</td>\n      <td>11500</td>\n    </tr>\n    <tr>\n      <th>5</th>\n      <td>1.40</td>\n      <td>VVS2</td>\n      <td>H</td>\n      <td>Good</td>\n      <td>7.1</td>\n      <td>NaN</td>\n      <td>4.39</td>\n      <td>62.7</td>\n      <td>59</td>\n      <td>11200</td>\n    </tr>\n    <tr>\n      <th>6</th>\n      <td>1.40</td>\n      <td>IF</td>\n      <td>D</td>\n      <td>Good</td>\n      <td>7.1</td>\n      <td>7.12</td>\n      <td>NaN</td>\n      <td>62.4</td>\n      <td>59</td>\n      <td>11000</td>\n    </tr>\n    <tr>\n      <th>7</th>\n      <td>1.50</td>\n      <td>VVS2</td>\n      <td>F</td>\n      <td>Good</td>\n      <td>7.2</td>\n      <td>7.18</td>\n      <td>NaN</td>\n      <td>62.7</td>\n      <td>59</td>\n      <td>10800</td>\n    </tr>\n    <tr>\n      <th>8</th>\n      <td>1.35</td>\n      <td>SI2</td>\n      <td>E</td>\n      <td>Ideal</td>\n      <td>7.2</td>\n      <td>NaN</td>\n      <td>4.46</td>\n      <td>62.8</td>\n      <td>57</td>\n      <td>10700</td>\n    </tr>\n    <tr>\n      <th>9</th>\n      <td>1.25</td>\n      <td>SI2</td>\n      <td>G</td>\n      <td>Fair</td>\n      <td>6.9</td>\n      <td>6.91</td>\n      <td>NaN</td>\n      <td>62.3</td>\n      <td>58</td>\n      <td>10500</td>\n    </tr>\n    <tr>\n      <th>10</th>\n      <td>1.30</td>\n      <td>Si1</td>\n      <td>G</td>\n      <td>Premium</td>\n      <td>6.9</td>\n      <td>NaN</td>\n      <td>4.30</td>\n      <td>63.0</td>\n      <td>60</td>\n      <td>10500</td>\n    </tr>\n    <tr>\n      <th>11</th>\n      <td>1.25</td>\n      <td>VVS2</td>\n      <td>H</td>\n      <td>Good</td>\n      <td>6.9</td>\n      <td>NaN</td>\n      <td>4.27</td>\n      <td>NaN</td>\n      <td>55</td>\n      <td>10400</td>\n    </tr>\n    <tr>\n      <th>12</th>\n      <td>1.25</td>\n      <td>SI2</td>\n      <td>D</td>\n      <td>Good</td>\n      <td>6.9</td>\n      <td>NaN</td>\n      <td>4.26</td>\n      <td>NaN</td>\n      <td>58</td>\n      <td>10400</td>\n    </tr>\n    <tr>\n      <th>13</th>\n      <td>1.25</td>\n      <td>IF</td>\n      <td>G</td>\n      <td>Ideal</td>\n      <td>6.8</td>\n      <td>NaN</td>\n      <td>4.21</td>\n      <td>NaN</td>\n      <td>59</td>\n      <td>10300</td>\n    </tr>\n    <tr>\n      <th>14</th>\n      <td>1.30</td>\n      <td>Si1</td>\n      <td>Colorless</td>\n      <td>Very Good</td>\n      <td>7.1</td>\n      <td>NaN</td>\n      <td>4.39</td>\n      <td>NaN</td>\n      <td>56</td>\n      <td>10300</td>\n    </tr>\n  </tbody>\n</table>\n</div>"
     },
     "execution_count": 32,
     "metadata": {},
     "output_type": "execute_result"
    }
   ],
   "source": [
    "data.head(15)\n"
   ]
  },
  {
   "cell_type": "markdown",
   "source": [
    "# Usuwanie wierszy z brakującymi danymi"
   ],
   "metadata": {
    "collapsed": false
   },
   "id": "4fb9767a8bda046f"
  },
  {
   "cell_type": "code",
   "execution_count": 13,
   "outputs": [
    {
     "data": {
      "text/plain": "82"
     },
     "execution_count": 13,
     "metadata": {},
     "output_type": "execute_result"
    }
   ],
   "source": [
    "# Postanowiłem usunąć wiersze gdzie carat jest nan. \n",
    "# Myślę, że jest to największy czynnik który ma wpływ na cene wyrobu\n",
    "# Zmniejszy to rozmiar danych o 50 wierszy ale dane będą dokładniejsze\n",
    "count = data['carat'].isna().sum()\n",
    "data = data.dropna(subset=['carat'])\n",
    "\n",
    "# Brakujące dane w kolumnie price postanowiłem zamienić średnią z wierszy o podobnych wartościach (carat i cut jest taki sam)\n",
    "# Zobaczmy ile jest wierszy gdzie carat i cut jest taki sam - 82\n",
    "size = len(data.groupby(['carat', 'cut'], observed=True))\n",
    "size"
   ],
   "metadata": {
    "collapsed": false,
    "ExecuteTime": {
     "end_time": "2024-02-03T18:00:29.765757Z",
     "start_time": "2024-02-03T18:00:29.326774Z"
    }
   },
   "id": "d3284c5b8e8ab4b0"
  },
  {
   "cell_type": "code",
   "execution_count": 14,
   "outputs": [
    {
     "name": "stdout",
     "output_type": "stream",
     "text": [
      "2\n"
     ]
    }
   ],
   "source": [
    "# Ilosc wierszy bez ceny\n",
    "price_na_data = data[data['price'].isna()]\n",
    "print(len(price_na_data)) "
   ],
   "metadata": {
    "collapsed": false,
    "ExecuteTime": {
     "end_time": "2024-02-03T18:00:29.766268Z",
     "start_time": "2024-02-03T18:00:29.341628Z"
    }
   },
   "id": "798b10250893d6d4"
  },
  {
   "cell_type": "markdown",
   "source": [],
   "metadata": {
    "collapsed": false
   },
   "id": "a4b5a4dfb3c0ad50"
  },
  {
   "cell_type": "code",
   "execution_count": 15,
   "outputs": [
    {
     "data": {
      "text/plain": "   carat clarity      color      cut  x dimension  y dimension  z dimension  \\\n0    1.0    VVS1          F    Ideal          6.4          NaN         4.00   \n1    1.0      IF          D    Ideal          6.5         6.49          NaN   \n2    0.5     Si1  Colorless  Premium          NaN         5.21         3.21   \n3    0.5    VVS1          E  Premium          5.2         5.22          NaN   \n4    0.5    VVS2          F  Premium          5.2         5.23          NaN   \n5    0.5     Si1          H  Premium          5.1          NaN         3.16   \n6    0.5     SI2          E  Premium          5.1         5.11          NaN   \n\n   depth  table  price  \n0    NaN     58   7500  \n1   61.7     58   <NA>  \n2   61.6     58   <NA>  \n3    NaN     58   2900  \n4   62.1     58   3200  \n5   62.3     57   3000  \n6   62.5     55   2900  ",
      "text/html": "<div>\n<style scoped>\n    .dataframe tbody tr th:only-of-type {\n        vertical-align: middle;\n    }\n\n    .dataframe tbody tr th {\n        vertical-align: top;\n    }\n\n    .dataframe thead th {\n        text-align: right;\n    }\n</style>\n<table border=\"1\" class=\"dataframe\">\n  <thead>\n    <tr style=\"text-align: right;\">\n      <th></th>\n      <th>carat</th>\n      <th>clarity</th>\n      <th>color</th>\n      <th>cut</th>\n      <th>x dimension</th>\n      <th>y dimension</th>\n      <th>z dimension</th>\n      <th>depth</th>\n      <th>table</th>\n      <th>price</th>\n    </tr>\n  </thead>\n  <tbody>\n    <tr>\n      <th>0</th>\n      <td>1.0</td>\n      <td>VVS1</td>\n      <td>F</td>\n      <td>Ideal</td>\n      <td>6.4</td>\n      <td>NaN</td>\n      <td>4.00</td>\n      <td>NaN</td>\n      <td>58</td>\n      <td>7500</td>\n    </tr>\n    <tr>\n      <th>1</th>\n      <td>1.0</td>\n      <td>IF</td>\n      <td>D</td>\n      <td>Ideal</td>\n      <td>6.5</td>\n      <td>6.49</td>\n      <td>NaN</td>\n      <td>61.7</td>\n      <td>58</td>\n      <td>&lt;NA&gt;</td>\n    </tr>\n    <tr>\n      <th>2</th>\n      <td>0.5</td>\n      <td>Si1</td>\n      <td>Colorless</td>\n      <td>Premium</td>\n      <td>NaN</td>\n      <td>5.21</td>\n      <td>3.21</td>\n      <td>61.6</td>\n      <td>58</td>\n      <td>&lt;NA&gt;</td>\n    </tr>\n    <tr>\n      <th>3</th>\n      <td>0.5</td>\n      <td>VVS1</td>\n      <td>E</td>\n      <td>Premium</td>\n      <td>5.2</td>\n      <td>5.22</td>\n      <td>NaN</td>\n      <td>NaN</td>\n      <td>58</td>\n      <td>2900</td>\n    </tr>\n    <tr>\n      <th>4</th>\n      <td>0.5</td>\n      <td>VVS2</td>\n      <td>F</td>\n      <td>Premium</td>\n      <td>5.2</td>\n      <td>5.23</td>\n      <td>NaN</td>\n      <td>62.1</td>\n      <td>58</td>\n      <td>3200</td>\n    </tr>\n    <tr>\n      <th>5</th>\n      <td>0.5</td>\n      <td>Si1</td>\n      <td>H</td>\n      <td>Premium</td>\n      <td>5.1</td>\n      <td>NaN</td>\n      <td>3.16</td>\n      <td>62.3</td>\n      <td>57</td>\n      <td>3000</td>\n    </tr>\n    <tr>\n      <th>6</th>\n      <td>0.5</td>\n      <td>SI2</td>\n      <td>E</td>\n      <td>Premium</td>\n      <td>5.1</td>\n      <td>5.11</td>\n      <td>NaN</td>\n      <td>62.5</td>\n      <td>55</td>\n      <td>2900</td>\n    </tr>\n  </tbody>\n</table>\n</div>"
     },
     "execution_count": 15,
     "metadata": {},
     "output_type": "execute_result"
    }
   ],
   "source": [
    "# Wyswietlmy wiersze gdzie price jest nan oraz wiersze z takim samym carat i cut\n",
    "matched_data = pd.merge(data,price_na_data[['carat', 'cut']], on=['carat', 'cut'])\n",
    "matched_data "
   ],
   "metadata": {
    "collapsed": false,
    "ExecuteTime": {
     "end_time": "2024-02-03T18:00:29.920689Z",
     "start_time": "2024-02-03T18:00:29.351347Z"
    }
   },
   "id": "53bee2447f103988"
  },
  {
   "cell_type": "code",
   "execution_count": 16,
   "outputs": [
    {
     "name": "stdout",
     "output_type": "stream",
     "text": [
      "5\n"
     ]
    }
   ],
   "source": [
    "# Liczba wierszy z cena oraz z takim samym cut i caratem\n",
    "print(len(matched_data[~matched_data['price'].isna()])) # 5"
   ],
   "metadata": {
    "collapsed": false,
    "ExecuteTime": {
     "end_time": "2024-02-03T18:00:29.922304Z",
     "start_time": "2024-02-03T18:00:29.437892Z"
    }
   },
   "id": "7cfde76a03eaffc8"
  },
  {
   "cell_type": "code",
   "execution_count": 17,
   "outputs": [
    {
     "data": {
      "text/plain": "    carat clarity      color      cut  x dimension  y dimension  z dimension  \\\n7     0.5     Si1  Colorless  Premium          NaN         5.21         3.21   \n12    1.0      IF          D    Ideal          6.5         6.49          NaN   \n\n    depth  table  price  mean_price  \n7    61.6     58   3000        3000  \n12   61.7     58   7500        7500  ",
      "text/html": "<div>\n<style scoped>\n    .dataframe tbody tr th:only-of-type {\n        vertical-align: middle;\n    }\n\n    .dataframe tbody tr th {\n        vertical-align: top;\n    }\n\n    .dataframe thead th {\n        text-align: right;\n    }\n</style>\n<table border=\"1\" class=\"dataframe\">\n  <thead>\n    <tr style=\"text-align: right;\">\n      <th></th>\n      <th>carat</th>\n      <th>clarity</th>\n      <th>color</th>\n      <th>cut</th>\n      <th>x dimension</th>\n      <th>y dimension</th>\n      <th>z dimension</th>\n      <th>depth</th>\n      <th>table</th>\n      <th>price</th>\n      <th>mean_price</th>\n    </tr>\n  </thead>\n  <tbody>\n    <tr>\n      <th>7</th>\n      <td>0.5</td>\n      <td>Si1</td>\n      <td>Colorless</td>\n      <td>Premium</td>\n      <td>NaN</td>\n      <td>5.21</td>\n      <td>3.21</td>\n      <td>61.6</td>\n      <td>58</td>\n      <td>3000</td>\n      <td>3000</td>\n    </tr>\n    <tr>\n      <th>12</th>\n      <td>1.0</td>\n      <td>IF</td>\n      <td>D</td>\n      <td>Ideal</td>\n      <td>6.5</td>\n      <td>6.49</td>\n      <td>NaN</td>\n      <td>61.7</td>\n      <td>58</td>\n      <td>7500</td>\n      <td>7500</td>\n    </tr>\n  </tbody>\n</table>\n</div>"
     },
     "execution_count": 17,
     "metadata": {},
     "output_type": "execute_result"
    }
   ],
   "source": [
    "mean_prices = data.groupby(['carat', 'cut'], observed=True)['price'].mean().reset_index(name='mean_price')\n",
    "merged_data = pd.merge(data, mean_prices, on=['carat', 'cut'], how='left')\n",
    "merged_data['mean_price'] = merged_data['mean_price'].astype('Int32')\n",
    "price_nan_mask_merged = merged_data['price'].isna()\n",
    "merged_data['price'] = merged_data['price'].fillna(merged_data['mean_price']) # inplace=true dawalo warning \n",
    "merged_data[price_nan_mask_merged]"
   ],
   "metadata": {
    "collapsed": false,
    "ExecuteTime": {
     "end_time": "2024-02-03T18:00:29.923213Z",
     "start_time": "2024-02-03T18:00:29.449275Z"
    }
   },
   "id": "817667c57e045cda"
  },
  {
   "cell_type": "code",
   "execution_count": 18,
   "outputs": [
    {
     "data": {
      "text/plain": "    carat clarity      color      cut  x dimension  y dimension  z dimension  \\\n7     0.5     Si1  Colorless  Premium          NaN         5.21         3.21   \n12    1.0      IF          D    Ideal          6.5         6.49          NaN   \n\n    depth  table  price  \n7    61.6     58   3000  \n12   61.7     58   7500  ",
      "text/html": "<div>\n<style scoped>\n    .dataframe tbody tr th:only-of-type {\n        vertical-align: middle;\n    }\n\n    .dataframe tbody tr th {\n        vertical-align: top;\n    }\n\n    .dataframe thead th {\n        text-align: right;\n    }\n</style>\n<table border=\"1\" class=\"dataframe\">\n  <thead>\n    <tr style=\"text-align: right;\">\n      <th></th>\n      <th>carat</th>\n      <th>clarity</th>\n      <th>color</th>\n      <th>cut</th>\n      <th>x dimension</th>\n      <th>y dimension</th>\n      <th>z dimension</th>\n      <th>depth</th>\n      <th>table</th>\n      <th>price</th>\n    </tr>\n  </thead>\n  <tbody>\n    <tr>\n      <th>7</th>\n      <td>0.5</td>\n      <td>Si1</td>\n      <td>Colorless</td>\n      <td>Premium</td>\n      <td>NaN</td>\n      <td>5.21</td>\n      <td>3.21</td>\n      <td>61.6</td>\n      <td>58</td>\n      <td>3000</td>\n    </tr>\n    <tr>\n      <th>12</th>\n      <td>1.0</td>\n      <td>IF</td>\n      <td>D</td>\n      <td>Ideal</td>\n      <td>6.5</td>\n      <td>6.49</td>\n      <td>NaN</td>\n      <td>61.7</td>\n      <td>58</td>\n      <td>7500</td>\n    </tr>\n  </tbody>\n</table>\n</div>"
     },
     "execution_count": 18,
     "metadata": {},
     "output_type": "execute_result"
    }
   ],
   "source": [
    "data = merged_data.drop(columns=['mean_price'])\n",
    "data[price_nan_mask_merged]"
   ],
   "metadata": {
    "collapsed": false,
    "ExecuteTime": {
     "end_time": "2024-02-03T18:00:29.942247Z",
     "start_time": "2024-02-03T18:00:29.477594Z"
    }
   },
   "id": "9cef7eaaf6731ac7"
  },
  {
   "cell_type": "markdown",
   "id": "f3b8a85f01c37706",
   "metadata": {
    "collapsed": false
   },
   "source": [
    "# Duplikaty"
   ]
  },
  {
   "cell_type": "code",
   "execution_count": 19,
   "id": "fab4fa19a5f86cd6",
   "metadata": {
    "collapsed": false,
    "ExecuteTime": {
     "end_time": "2024-02-03T18:00:29.943168Z",
     "start_time": "2024-02-03T18:00:29.500877Z"
    }
   },
   "outputs": [
    {
     "data": {
      "text/plain": "     carat clarity color      cut  x dimension  y dimension  z dimension  \\\n53     1.2    VVS1     E  Premium          6.8          NaN          4.2   \n102    1.2    VVS1     G  Premium          6.8          NaN          4.2   \n\n     depth  table  price  \n53    62.7     58  10200  \n102    NaN     58  10100  ",
      "text/html": "<div>\n<style scoped>\n    .dataframe tbody tr th:only-of-type {\n        vertical-align: middle;\n    }\n\n    .dataframe tbody tr th {\n        vertical-align: top;\n    }\n\n    .dataframe thead th {\n        text-align: right;\n    }\n</style>\n<table border=\"1\" class=\"dataframe\">\n  <thead>\n    <tr style=\"text-align: right;\">\n      <th></th>\n      <th>carat</th>\n      <th>clarity</th>\n      <th>color</th>\n      <th>cut</th>\n      <th>x dimension</th>\n      <th>y dimension</th>\n      <th>z dimension</th>\n      <th>depth</th>\n      <th>table</th>\n      <th>price</th>\n    </tr>\n  </thead>\n  <tbody>\n    <tr>\n      <th>53</th>\n      <td>1.2</td>\n      <td>VVS1</td>\n      <td>E</td>\n      <td>Premium</td>\n      <td>6.8</td>\n      <td>NaN</td>\n      <td>4.2</td>\n      <td>62.7</td>\n      <td>58</td>\n      <td>10200</td>\n    </tr>\n    <tr>\n      <th>102</th>\n      <td>1.2</td>\n      <td>VVS1</td>\n      <td>G</td>\n      <td>Premium</td>\n      <td>6.8</td>\n      <td>NaN</td>\n      <td>4.2</td>\n      <td>NaN</td>\n      <td>58</td>\n      <td>10100</td>\n    </tr>\n  </tbody>\n</table>\n</div>"
     },
     "execution_count": 19,
     "metadata": {},
     "output_type": "execute_result"
    }
   ],
   "source": [
    "data.duplicated().sum()\n",
    "# Nie ma wierszy identycznych\n",
    "\n",
    "# Sprawdzmy duplikaty biorąc pod uwage ponizsze kolumny\n",
    "duplicates = data.duplicated(subset=['carat', 'cut', 'clarity', 'x dimension', 'y dimension', 'z dimension'], keep=False)\n",
    "data[duplicates]\n",
    "\n",
    "# Znaleziono tylko 2 rekordy, cena moze sie roznic ze wzgledu na kolor\n",
    "\n",
    "# Wyglada na to ze zbior po wstepnym oczyszczeniu nie ma duplikatow \n"
   ]
  },
  {
   "cell_type": "markdown",
   "source": [
    "# Błędne dane"
   ],
   "metadata": {
    "collapsed": false
   },
   "id": "66d8964621318ab2"
  },
  {
   "cell_type": "code",
   "execution_count": 20,
   "outputs": [],
   "source": [
    "# Po obejrzeniu wykresów z rozkładem zmiennych zauważyłem, że 4 wiersze znacząco odbiegają od reszty\n",
    "data = data.sort_values(by='price', ascending=False)\n",
    "data.head(3)\n",
    "\n",
    "# Tak jak wcześniej, zamienie ceny na średnią cen z podobnych rekordów (carat + cut)\n",
    "# Najpierw zamienie te ceny na nan \n",
    "data.loc[data['price'] > 12000, 'price'] = np.nan\n",
    "\n",
    "mean_prices = data.groupby(['carat', 'cut'], observed=True)['price'].mean().reset_index(name='mean_price')\n",
    "merged_data = pd.merge(data, mean_prices, on=['carat', 'cut'], how='left')\n",
    "merged_data['mean_price'] = merged_data['mean_price'].astype('Int32')\n",
    "\n",
    "merged_data_na_price_mask = merged_data['price'].isna()\n",
    "\n",
    "merged_data['price'] = merged_data['price'].fillna(merged_data['mean_price']) # inplace=true dawalo warning "
   ],
   "metadata": {
    "collapsed": false,
    "ExecuteTime": {
     "end_time": "2024-02-03T18:00:29.943415Z",
     "start_time": "2024-02-03T18:00:29.523277Z"
    }
   },
   "id": "144a2422d4c532bd"
  },
  {
   "cell_type": "code",
   "execution_count": 21,
   "outputs": [
    {
     "data": {
      "text/plain": "   carat clarity color        cut  x dimension  y dimension  z dimension  \\\n0   1.40     SI2     D  Very Good          7.3          NaN         4.50   \n1   0.90      IF     G  Very Good          6.3          NaN         3.90   \n2   0.55      I1     I    Premium          5.3          NaN         3.28   \n\n   depth  table  price  \n0   62.6     59   <NA>  \n1    NaN     57   6700  \n2   62.3     57   2500  ",
      "text/html": "<div>\n<style scoped>\n    .dataframe tbody tr th:only-of-type {\n        vertical-align: middle;\n    }\n\n    .dataframe tbody tr th {\n        vertical-align: top;\n    }\n\n    .dataframe thead th {\n        text-align: right;\n    }\n</style>\n<table border=\"1\" class=\"dataframe\">\n  <thead>\n    <tr style=\"text-align: right;\">\n      <th></th>\n      <th>carat</th>\n      <th>clarity</th>\n      <th>color</th>\n      <th>cut</th>\n      <th>x dimension</th>\n      <th>y dimension</th>\n      <th>z dimension</th>\n      <th>depth</th>\n      <th>table</th>\n      <th>price</th>\n    </tr>\n  </thead>\n  <tbody>\n    <tr>\n      <th>0</th>\n      <td>1.40</td>\n      <td>SI2</td>\n      <td>D</td>\n      <td>Very Good</td>\n      <td>7.3</td>\n      <td>NaN</td>\n      <td>4.50</td>\n      <td>62.6</td>\n      <td>59</td>\n      <td>&lt;NA&gt;</td>\n    </tr>\n    <tr>\n      <th>1</th>\n      <td>0.90</td>\n      <td>IF</td>\n      <td>G</td>\n      <td>Very Good</td>\n      <td>6.3</td>\n      <td>NaN</td>\n      <td>3.90</td>\n      <td>NaN</td>\n      <td>57</td>\n      <td>6700</td>\n    </tr>\n    <tr>\n      <th>2</th>\n      <td>0.55</td>\n      <td>I1</td>\n      <td>I</td>\n      <td>Premium</td>\n      <td>5.3</td>\n      <td>NaN</td>\n      <td>3.28</td>\n      <td>62.3</td>\n      <td>57</td>\n      <td>2500</td>\n    </tr>\n  </tbody>\n</table>\n</div>"
     },
     "execution_count": 21,
     "metadata": {},
     "output_type": "execute_result"
    }
   ],
   "source": [
    "data = merged_data.drop(columns=['mean_price'])\n",
    "data[merged_data_na_price_mask]"
   ],
   "metadata": {
    "collapsed": false,
    "ExecuteTime": {
     "end_time": "2024-02-03T18:00:29.956556Z",
     "start_time": "2024-02-03T18:00:29.552233Z"
    }
   },
   "id": "b2cb50b9e9c51667"
  },
  {
   "cell_type": "code",
   "execution_count": 22,
   "outputs": [
    {
     "data": {
      "text/plain": "   carat clarity color        cut  x dimension  y dimension  z dimension  \\\n0    1.4     SI2     D  Very Good          7.3          NaN          4.5   \n\n   depth  table  price  \n0   62.6     59   <NA>  ",
      "text/html": "<div>\n<style scoped>\n    .dataframe tbody tr th:only-of-type {\n        vertical-align: middle;\n    }\n\n    .dataframe tbody tr th {\n        vertical-align: top;\n    }\n\n    .dataframe thead th {\n        text-align: right;\n    }\n</style>\n<table border=\"1\" class=\"dataframe\">\n  <thead>\n    <tr style=\"text-align: right;\">\n      <th></th>\n      <th>carat</th>\n      <th>clarity</th>\n      <th>color</th>\n      <th>cut</th>\n      <th>x dimension</th>\n      <th>y dimension</th>\n      <th>z dimension</th>\n      <th>depth</th>\n      <th>table</th>\n      <th>price</th>\n    </tr>\n  </thead>\n  <tbody>\n    <tr>\n      <th>0</th>\n      <td>1.4</td>\n      <td>SI2</td>\n      <td>D</td>\n      <td>Very Good</td>\n      <td>7.3</td>\n      <td>NaN</td>\n      <td>4.5</td>\n      <td>62.6</td>\n      <td>59</td>\n      <td>&lt;NA&gt;</td>\n    </tr>\n  </tbody>\n</table>\n</div>"
     },
     "execution_count": 22,
     "metadata": {},
     "output_type": "execute_result"
    }
   ],
   "source": [
    "# Dla tego rekordu nie udało się znaleźć dopasowania\n",
    "data[data['price'].isna()]"
   ],
   "metadata": {
    "collapsed": false,
    "ExecuteTime": {
     "end_time": "2024-02-03T18:00:29.959364Z",
     "start_time": "2024-02-03T18:00:29.574614Z"
    }
   },
   "id": "a31950857f8e19b0"
  },
  {
   "cell_type": "code",
   "execution_count": 23,
   "outputs": [],
   "source": [
    "# Znajdźmy rekordy z takim samym caratem bez takiego samego szlifu\n",
    "mean = data[data['carat'] == 1.4]['price'].mean()\n",
    "data['price'] = data['price'].fillna(mean)"
   ],
   "metadata": {
    "collapsed": false,
    "ExecuteTime": {
     "end_time": "2024-02-03T18:00:29.965776Z",
     "start_time": "2024-02-03T18:00:29.587084Z"
    }
   },
   "id": "8731b8137dd3cbc"
  },
  {
   "cell_type": "code",
   "execution_count": 37,
   "outputs": [
    {
     "data": {
      "text/plain": "   carat clarity color        cut  x dimension  y dimension  z dimension  \\\n0    1.4     SI2     D  Very Good          7.3          NaN         4.50   \n3    1.4    VVS2     H       Good          7.2          NaN         4.45   \n4    1.4    VVS1     E    Premium          7.1          NaN         4.40   \n5    1.4    VVS2     H       Good          7.1          NaN         4.39   \n6    1.4      IF     D       Good          7.1         7.12          NaN   \n\n   depth  table  price  \n0   62.6     59  11425  \n3   62.7     58  12000  \n4   62.7     58  11500  \n5   62.7     59  11200  \n6   62.4     59  11000  ",
      "text/html": "<div>\n<style scoped>\n    .dataframe tbody tr th:only-of-type {\n        vertical-align: middle;\n    }\n\n    .dataframe tbody tr th {\n        vertical-align: top;\n    }\n\n    .dataframe thead th {\n        text-align: right;\n    }\n</style>\n<table border=\"1\" class=\"dataframe\">\n  <thead>\n    <tr style=\"text-align: right;\">\n      <th></th>\n      <th>carat</th>\n      <th>clarity</th>\n      <th>color</th>\n      <th>cut</th>\n      <th>x dimension</th>\n      <th>y dimension</th>\n      <th>z dimension</th>\n      <th>depth</th>\n      <th>table</th>\n      <th>price</th>\n    </tr>\n  </thead>\n  <tbody>\n    <tr>\n      <th>0</th>\n      <td>1.4</td>\n      <td>SI2</td>\n      <td>D</td>\n      <td>Very Good</td>\n      <td>7.3</td>\n      <td>NaN</td>\n      <td>4.50</td>\n      <td>62.6</td>\n      <td>59</td>\n      <td>11425</td>\n    </tr>\n    <tr>\n      <th>3</th>\n      <td>1.4</td>\n      <td>VVS2</td>\n      <td>H</td>\n      <td>Good</td>\n      <td>7.2</td>\n      <td>NaN</td>\n      <td>4.45</td>\n      <td>62.7</td>\n      <td>58</td>\n      <td>12000</td>\n    </tr>\n    <tr>\n      <th>4</th>\n      <td>1.4</td>\n      <td>VVS1</td>\n      <td>E</td>\n      <td>Premium</td>\n      <td>7.1</td>\n      <td>NaN</td>\n      <td>4.40</td>\n      <td>62.7</td>\n      <td>58</td>\n      <td>11500</td>\n    </tr>\n    <tr>\n      <th>5</th>\n      <td>1.4</td>\n      <td>VVS2</td>\n      <td>H</td>\n      <td>Good</td>\n      <td>7.1</td>\n      <td>NaN</td>\n      <td>4.39</td>\n      <td>62.7</td>\n      <td>59</td>\n      <td>11200</td>\n    </tr>\n    <tr>\n      <th>6</th>\n      <td>1.4</td>\n      <td>IF</td>\n      <td>D</td>\n      <td>Good</td>\n      <td>7.1</td>\n      <td>7.12</td>\n      <td>NaN</td>\n      <td>62.4</td>\n      <td>59</td>\n      <td>11000</td>\n    </tr>\n  </tbody>\n</table>\n</div>"
     },
     "execution_count": 37,
     "metadata": {},
     "output_type": "execute_result"
    }
   ],
   "source": [
    "data[data['carat'] == 1.4]"
   ],
   "metadata": {
    "collapsed": false,
    "ExecuteTime": {
     "end_time": "2024-02-03T19:18:16.410327Z",
     "start_time": "2024-02-03T19:18:16.399767Z"
    }
   },
   "id": "59312445b3ea02ea"
  },
  {
   "cell_type": "code",
   "execution_count": 25,
   "outputs": [
    {
     "data": {
      "text/plain": "    carat clarity color   cut  x dimension  y dimension  z dimension  depth  \\\n91    1.6      I1     I  Fair          7.3         7.28          4.5    NaN   \n\n    table  price  \n91     54   3400  ",
      "text/html": "<div>\n<style scoped>\n    .dataframe tbody tr th:only-of-type {\n        vertical-align: middle;\n    }\n\n    .dataframe tbody tr th {\n        vertical-align: top;\n    }\n\n    .dataframe thead th {\n        text-align: right;\n    }\n</style>\n<table border=\"1\" class=\"dataframe\">\n  <thead>\n    <tr style=\"text-align: right;\">\n      <th></th>\n      <th>carat</th>\n      <th>clarity</th>\n      <th>color</th>\n      <th>cut</th>\n      <th>x dimension</th>\n      <th>y dimension</th>\n      <th>z dimension</th>\n      <th>depth</th>\n      <th>table</th>\n      <th>price</th>\n    </tr>\n  </thead>\n  <tbody>\n    <tr>\n      <th>91</th>\n      <td>1.6</td>\n      <td>I1</td>\n      <td>I</td>\n      <td>Fair</td>\n      <td>7.3</td>\n      <td>7.28</td>\n      <td>4.5</td>\n      <td>NaN</td>\n      <td>54</td>\n      <td>3400</td>\n    </tr>\n  </tbody>\n</table>\n</div>"
     },
     "execution_count": 25,
     "metadata": {},
     "output_type": "execute_result"
    }
   ],
   "source": [
    "# Po ponownym obejrzeniu wykresu zauważyłem poniższy rekord, którego cena znacząco odbiega od normy\n",
    "data[data['carat'] == 1.6]"
   ],
   "metadata": {
    "collapsed": false,
    "ExecuteTime": {
     "end_time": "2024-02-03T18:00:29.970609Z",
     "start_time": "2024-02-03T18:00:29.631315Z"
    }
   },
   "id": "1ea855de06c76b55"
  },
  {
   "cell_type": "code",
   "execution_count": 26,
   "outputs": [],
   "source": [
    "# Jako że nie ma innych wierszy z caratem równym 1.6 na razie go usunę\n",
    "data = data[data['carat'] != 1.6]"
   ],
   "metadata": {
    "collapsed": false,
    "ExecuteTime": {
     "end_time": "2024-02-03T18:00:29.970908Z",
     "start_time": "2024-02-03T18:00:29.637521Z"
    }
   },
   "id": "3f9d935f3775b4ff"
  },
  {
   "cell_type": "code",
   "execution_count": 27,
   "outputs": [
    {
     "data": {
      "text/plain": "     carat clarity      color        cut  x dimension  y dimension  \\\n1      0.9      IF          G  Very Good          6.3          NaN   \n50     0.9     SI2          G    Premium          6.3         6.31   \n53     0.9     SI2          H    Premium          6.2         6.21   \n54     0.9     Si1          I  Very Good          6.2          NaN   \n55     0.9     Si1  Colorless    Premium          6.2         6.22   \n114    0.9     SI2          H       Fair          6.1         6.12   \n121    0.9      I1          J       Fair          6.0          NaN   \n\n     z dimension  depth  table  price  \n1           3.90    NaN     57   6700  \n50          3.90    NaN     58   6900  \n53          3.84    NaN     59   6800  \n54          3.85   62.2     59   6700  \n55           NaN   62.3     59   6600  \n114         3.78   62.4   <NA>   2600  \n121         3.70   61.7   <NA>   2400  ",
      "text/html": "<div>\n<style scoped>\n    .dataframe tbody tr th:only-of-type {\n        vertical-align: middle;\n    }\n\n    .dataframe tbody tr th {\n        vertical-align: top;\n    }\n\n    .dataframe thead th {\n        text-align: right;\n    }\n</style>\n<table border=\"1\" class=\"dataframe\">\n  <thead>\n    <tr style=\"text-align: right;\">\n      <th></th>\n      <th>carat</th>\n      <th>clarity</th>\n      <th>color</th>\n      <th>cut</th>\n      <th>x dimension</th>\n      <th>y dimension</th>\n      <th>z dimension</th>\n      <th>depth</th>\n      <th>table</th>\n      <th>price</th>\n    </tr>\n  </thead>\n  <tbody>\n    <tr>\n      <th>1</th>\n      <td>0.9</td>\n      <td>IF</td>\n      <td>G</td>\n      <td>Very Good</td>\n      <td>6.3</td>\n      <td>NaN</td>\n      <td>3.90</td>\n      <td>NaN</td>\n      <td>57</td>\n      <td>6700</td>\n    </tr>\n    <tr>\n      <th>50</th>\n      <td>0.9</td>\n      <td>SI2</td>\n      <td>G</td>\n      <td>Premium</td>\n      <td>6.3</td>\n      <td>6.31</td>\n      <td>3.90</td>\n      <td>NaN</td>\n      <td>58</td>\n      <td>6900</td>\n    </tr>\n    <tr>\n      <th>53</th>\n      <td>0.9</td>\n      <td>SI2</td>\n      <td>H</td>\n      <td>Premium</td>\n      <td>6.2</td>\n      <td>6.21</td>\n      <td>3.84</td>\n      <td>NaN</td>\n      <td>59</td>\n      <td>6800</td>\n    </tr>\n    <tr>\n      <th>54</th>\n      <td>0.9</td>\n      <td>Si1</td>\n      <td>I</td>\n      <td>Very Good</td>\n      <td>6.2</td>\n      <td>NaN</td>\n      <td>3.85</td>\n      <td>62.2</td>\n      <td>59</td>\n      <td>6700</td>\n    </tr>\n    <tr>\n      <th>55</th>\n      <td>0.9</td>\n      <td>Si1</td>\n      <td>Colorless</td>\n      <td>Premium</td>\n      <td>6.2</td>\n      <td>6.22</td>\n      <td>NaN</td>\n      <td>62.3</td>\n      <td>59</td>\n      <td>6600</td>\n    </tr>\n    <tr>\n      <th>114</th>\n      <td>0.9</td>\n      <td>SI2</td>\n      <td>H</td>\n      <td>Fair</td>\n      <td>6.1</td>\n      <td>6.12</td>\n      <td>3.78</td>\n      <td>62.4</td>\n      <td>&lt;NA&gt;</td>\n      <td>2600</td>\n    </tr>\n    <tr>\n      <th>121</th>\n      <td>0.9</td>\n      <td>I1</td>\n      <td>J</td>\n      <td>Fair</td>\n      <td>6.0</td>\n      <td>NaN</td>\n      <td>3.70</td>\n      <td>61.7</td>\n      <td>&lt;NA&gt;</td>\n      <td>2400</td>\n    </tr>\n  </tbody>\n</table>\n</div>"
     },
     "execution_count": 27,
     "metadata": {},
     "output_type": "execute_result"
    }
   ],
   "source": [
    "# Cena dwóch ostatnich wierszy też odbiega od normy\n",
    "data[data['carat']==0.9]"
   ],
   "metadata": {
    "collapsed": false,
    "ExecuteTime": {
     "end_time": "2024-02-03T18:00:29.972089Z",
     "start_time": "2024-02-03T18:00:29.682990Z"
    }
   },
   "id": "fe9c23f7847c22fb"
  },
  {
   "cell_type": "code",
   "execution_count": 28,
   "outputs": [],
   "source": [
    "data.loc[(data['carat'] == 0.9) & (data['price'] == 2400), 'price'] = np.nan\n",
    "data.loc[(data['carat'] == 0.9) & (data['price'] == 2600), 'price'] = np.nan"
   ],
   "metadata": {
    "collapsed": false,
    "ExecuteTime": {
     "end_time": "2024-02-03T18:00:29.972315Z",
     "start_time": "2024-02-03T18:00:29.696240Z"
    }
   },
   "id": "80a22e640d2c0caf"
  },
  {
   "cell_type": "code",
   "execution_count": 29,
   "outputs": [
    {
     "data": {
      "text/plain": "     carat clarity      color        cut  x dimension  y dimension  \\\n1      0.9      IF          G  Very Good          6.3          NaN   \n50     0.9     SI2          G    Premium          6.3         6.31   \n53     0.9     SI2          H    Premium          6.2         6.21   \n54     0.9     Si1          I  Very Good          6.2          NaN   \n55     0.9     Si1  Colorless    Premium          6.2         6.22   \n114    0.9     SI2          H       Fair          6.1         6.12   \n121    0.9      I1          J       Fair          6.0          NaN   \n\n     z dimension  depth  table  price  \n1           3.90    NaN     57   6700  \n50          3.90    NaN     58   6900  \n53          3.84    NaN     59   6800  \n54          3.85   62.2     59   6700  \n55           NaN   62.3     59   6600  \n114         3.78   62.4   <NA>   <NA>  \n121         3.70   61.7   <NA>   <NA>  ",
      "text/html": "<div>\n<style scoped>\n    .dataframe tbody tr th:only-of-type {\n        vertical-align: middle;\n    }\n\n    .dataframe tbody tr th {\n        vertical-align: top;\n    }\n\n    .dataframe thead th {\n        text-align: right;\n    }\n</style>\n<table border=\"1\" class=\"dataframe\">\n  <thead>\n    <tr style=\"text-align: right;\">\n      <th></th>\n      <th>carat</th>\n      <th>clarity</th>\n      <th>color</th>\n      <th>cut</th>\n      <th>x dimension</th>\n      <th>y dimension</th>\n      <th>z dimension</th>\n      <th>depth</th>\n      <th>table</th>\n      <th>price</th>\n    </tr>\n  </thead>\n  <tbody>\n    <tr>\n      <th>1</th>\n      <td>0.9</td>\n      <td>IF</td>\n      <td>G</td>\n      <td>Very Good</td>\n      <td>6.3</td>\n      <td>NaN</td>\n      <td>3.90</td>\n      <td>NaN</td>\n      <td>57</td>\n      <td>6700</td>\n    </tr>\n    <tr>\n      <th>50</th>\n      <td>0.9</td>\n      <td>SI2</td>\n      <td>G</td>\n      <td>Premium</td>\n      <td>6.3</td>\n      <td>6.31</td>\n      <td>3.90</td>\n      <td>NaN</td>\n      <td>58</td>\n      <td>6900</td>\n    </tr>\n    <tr>\n      <th>53</th>\n      <td>0.9</td>\n      <td>SI2</td>\n      <td>H</td>\n      <td>Premium</td>\n      <td>6.2</td>\n      <td>6.21</td>\n      <td>3.84</td>\n      <td>NaN</td>\n      <td>59</td>\n      <td>6800</td>\n    </tr>\n    <tr>\n      <th>54</th>\n      <td>0.9</td>\n      <td>Si1</td>\n      <td>I</td>\n      <td>Very Good</td>\n      <td>6.2</td>\n      <td>NaN</td>\n      <td>3.85</td>\n      <td>62.2</td>\n      <td>59</td>\n      <td>6700</td>\n    </tr>\n    <tr>\n      <th>55</th>\n      <td>0.9</td>\n      <td>Si1</td>\n      <td>Colorless</td>\n      <td>Premium</td>\n      <td>6.2</td>\n      <td>6.22</td>\n      <td>NaN</td>\n      <td>62.3</td>\n      <td>59</td>\n      <td>6600</td>\n    </tr>\n    <tr>\n      <th>114</th>\n      <td>0.9</td>\n      <td>SI2</td>\n      <td>H</td>\n      <td>Fair</td>\n      <td>6.1</td>\n      <td>6.12</td>\n      <td>3.78</td>\n      <td>62.4</td>\n      <td>&lt;NA&gt;</td>\n      <td>&lt;NA&gt;</td>\n    </tr>\n    <tr>\n      <th>121</th>\n      <td>0.9</td>\n      <td>I1</td>\n      <td>J</td>\n      <td>Fair</td>\n      <td>6.0</td>\n      <td>NaN</td>\n      <td>3.70</td>\n      <td>61.7</td>\n      <td>&lt;NA&gt;</td>\n      <td>&lt;NA&gt;</td>\n    </tr>\n  </tbody>\n</table>\n</div>"
     },
     "execution_count": 29,
     "metadata": {},
     "output_type": "execute_result"
    }
   ],
   "source": [
    "data[data['carat']==0.9]"
   ],
   "metadata": {
    "collapsed": false,
    "ExecuteTime": {
     "end_time": "2024-02-03T18:00:29.984540Z",
     "start_time": "2024-02-03T18:00:29.703116Z"
    }
   },
   "id": "5e7760c9bf4537e6"
  },
  {
   "cell_type": "code",
   "execution_count": 30,
   "outputs": [],
   "source": [
    "mean = data[data['carat'] == 0.9]['price'].mean()\n",
    "data['price'] = data['price'].fillna(mean)"
   ],
   "metadata": {
    "collapsed": false,
    "ExecuteTime": {
     "end_time": "2024-02-03T18:00:29.986400Z",
     "start_time": "2024-02-03T18:00:29.727964Z"
    }
   },
   "id": "db8538b8adf2726"
  },
  {
   "cell_type": "markdown",
   "source": [
    "# Zapisanie danych"
   ],
   "metadata": {
    "collapsed": false
   },
   "id": "264ba6327ceeafb0"
  },
  {
   "cell_type": "code",
   "execution_count": 31,
   "outputs": [],
   "source": [
    "data.to_csv('prepared_data.csv',index=False)"
   ],
   "metadata": {
    "collapsed": false,
    "ExecuteTime": {
     "end_time": "2024-02-03T18:00:29.987963Z",
     "start_time": "2024-02-03T18:00:29.733957Z"
    }
   },
   "id": "ac1de2d355d8a2fe"
  }
 ],
 "metadata": {
  "kernelspec": {
   "display_name": "Python 3 (ipykernel)",
   "language": "python",
   "name": "python3"
  },
  "language_info": {
   "codemirror_mode": {
    "name": "ipython",
    "version": 3
   },
   "file_extension": ".py",
   "mimetype": "text/x-python",
   "name": "python",
   "nbconvert_exporter": "python",
   "pygments_lexer": "ipython3",
   "version": "3.9.13"
  }
 },
 "nbformat": 4,
 "nbformat_minor": 5
}
