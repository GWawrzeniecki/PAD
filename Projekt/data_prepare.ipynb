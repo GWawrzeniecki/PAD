{
 "cells": [
  {
   "cell_type": "code",
   "execution_count": 59,
   "id": "initial_id",
   "metadata": {
    "collapsed": true,
    "ExecuteTime": {
     "end_time": "2024-01-01T17:31:24.821069100Z",
     "start_time": "2024-01-01T17:31:24.804902300Z"
    }
   },
   "outputs": [],
   "source": [
    "import pandas as pd\n",
    "data = pd.read_csv('C:/Users/grzeg/PycharmProjects/PAD/Projekt/messy_data.csv')"
   ]
  },
  {
   "cell_type": "markdown",
   "source": [
    "# Dane - pierwsze 5 wierszy"
   ],
   "metadata": {
    "collapsed": false
   },
   "id": "68e81320d1436839"
  },
  {
   "cell_type": "code",
   "execution_count": 25,
   "outputs": [
    {
     "data": {
      "text/plain": "   carat  clarity  color       cut  x dimension  y dimension  z dimension  \\\n0    0.5       IF      D     Ideal          5.1         5.15          3.2   \n1    0.7     vvs2      E   premium          5.7                      3.52   \n2    NaN      Si2      h      Good          4.3         4.31                \n3    1.2       if      d     ideal                      6.82          4.2   \n4    0.9       I1      J      Fair            6                       3.7   \n\n   depth  table   price  \n0   61.5           3000  \n1     62     59    4500  \n2   62.3     56     700  \n3   61.7     58   10000  \n4   61.7           2400  ",
      "text/html": "<div>\n<style scoped>\n    .dataframe tbody tr th:only-of-type {\n        vertical-align: middle;\n    }\n\n    .dataframe tbody tr th {\n        vertical-align: top;\n    }\n\n    .dataframe thead th {\n        text-align: right;\n    }\n</style>\n<table border=\"1\" class=\"dataframe\">\n  <thead>\n    <tr style=\"text-align: right;\">\n      <th></th>\n      <th>carat</th>\n      <th>clarity</th>\n      <th>color</th>\n      <th>cut</th>\n      <th>x dimension</th>\n      <th>y dimension</th>\n      <th>z dimension</th>\n      <th>depth</th>\n      <th>table</th>\n      <th>price</th>\n    </tr>\n  </thead>\n  <tbody>\n    <tr>\n      <th>0</th>\n      <td>0.5</td>\n      <td>IF</td>\n      <td>D</td>\n      <td>Ideal</td>\n      <td>5.1</td>\n      <td>5.15</td>\n      <td>3.2</td>\n      <td>61.5</td>\n      <td></td>\n      <td>3000</td>\n    </tr>\n    <tr>\n      <th>1</th>\n      <td>0.7</td>\n      <td>vvs2</td>\n      <td>E</td>\n      <td>premium</td>\n      <td>5.7</td>\n      <td></td>\n      <td>3.52</td>\n      <td>62</td>\n      <td>59</td>\n      <td>4500</td>\n    </tr>\n    <tr>\n      <th>2</th>\n      <td>NaN</td>\n      <td>Si2</td>\n      <td>h</td>\n      <td>Good</td>\n      <td>4.3</td>\n      <td>4.31</td>\n      <td></td>\n      <td>62.3</td>\n      <td>56</td>\n      <td>700</td>\n    </tr>\n    <tr>\n      <th>3</th>\n      <td>1.2</td>\n      <td>if</td>\n      <td>d</td>\n      <td>ideal</td>\n      <td></td>\n      <td>6.82</td>\n      <td>4.2</td>\n      <td>61.7</td>\n      <td>58</td>\n      <td>10000</td>\n    </tr>\n    <tr>\n      <th>4</th>\n      <td>0.9</td>\n      <td>I1</td>\n      <td>J</td>\n      <td>Fair</td>\n      <td>6</td>\n      <td></td>\n      <td>3.7</td>\n      <td>61.7</td>\n      <td></td>\n      <td>2400</td>\n    </tr>\n  </tbody>\n</table>\n</div>"
     },
     "execution_count": 25,
     "metadata": {},
     "output_type": "execute_result"
    }
   ],
   "source": [
    "data.head()"
   ],
   "metadata": {
    "collapsed": false,
    "ExecuteTime": {
     "end_time": "2024-01-01T16:19:47.228373200Z",
     "start_time": "2024-01-01T16:19:47.207245800Z"
    }
   },
   "id": "a2a5f3c113089b0"
  },
  {
   "cell_type": "markdown",
   "source": [
    "# Analiza danych - kolumny\n",
    "\n",
    "- **carat**: Liczba karatów w danym wyrobie. Typ zmiennoprzecinkowy, zawiera puste wiersze\n",
    "- **clarity**: Przejrzystość/czystość wyrobu - kategoria. Wymaga ujednolicenia\n",
    "- **kolor**: Kolor - kategoria. Wymaga ujednolicenia\n",
    "- **cut**: Szlif - kategoria. Dane niejednolite - \"very good\" - \"Very good\"\n",
    "- **x/y/z dimension**: Wymiary. Typ zmiennoprzecinkowy, zawiera puste wiersze\n",
    "- **depth**: Głębokość, Typ zmiennoprzecinkowy, zawiera puste wiersze\n",
    "- **table**: Płaska górna powierzchnia diamentu, Typ int, zawiera puste wiersze\n",
    "- **price**: cena wyrobu, Typ int, zawiera puste wiersze"
   ],
   "metadata": {
    "collapsed": false
   },
   "id": "972e7a2d889a704d"
  },
  {
   "cell_type": "markdown",
   "source": [
    "# Czyszczenie i ujednolicenie danych"
   ],
   "metadata": {
    "collapsed": false
   },
   "id": "7669612c3d4b3c10"
  },
  {
   "cell_type": "markdown",
   "source": [
    "## Nazwy kolumn"
   ],
   "metadata": {
    "collapsed": false
   },
   "id": "e4335aef9e14e62f"
  },
  {
   "cell_type": "code",
   "execution_count": 61,
   "outputs": [
    {
     "data": {
      "text/plain": "Index(['carat', 'clarity', 'color', 'cut', 'x dimension', 'y dimension',\n       'z dimension', 'depth', 'table', 'price'],\n      dtype='object')"
     },
     "execution_count": 61,
     "metadata": {},
     "output_type": "execute_result"
    }
   ],
   "source": [
    "# w nazwach kolumn są puste spacje\n",
    "data.columns = data.columns.str.strip()\n",
    "data.columns"
   ],
   "metadata": {
    "collapsed": false,
    "ExecuteTime": {
     "end_time": "2024-01-01T17:31:31.607982200Z",
     "start_time": "2024-01-01T17:31:31.593952300Z"
    }
   },
   "id": "f0a56c79d557d4fc"
  },
  {
   "cell_type": "markdown",
   "source": [
    "## Kolumna clarity"
   ],
   "metadata": {
    "collapsed": false
   },
   "id": "16bc544d9aa5f4c8"
  },
  {
   "cell_type": "code",
   "execution_count": 89,
   "outputs": [
    {
     "data": {
      "text/plain": "{'I1',\n 'IF',\n 'SI2',\n 'Si1',\n 'Si2',\n 'VVS1',\n 'VVS2',\n 'Vvs1',\n 'i1',\n 'if',\n 'si1',\n 'si2',\n 'vvs1',\n 'vvs2'}"
     },
     "execution_count": 89,
     "metadata": {},
     "output_type": "execute_result"
    }
   ],
   "source": [
    "clarity_categories = set(data['clarity'])\n",
    "clarity_categories\n",
    "\n",
    "# W nazwach są białe znaki\n",
    "data['clarity'] = data['clarity'].str.strip()\n",
    "\n",
    "clarity_categories = set(data['clarity'])\n",
    "clarity_categories"
   ],
   "metadata": {
    "collapsed": false,
    "ExecuteTime": {
     "end_time": "2024-01-01T18:19:33.690246500Z",
     "start_time": "2024-01-01T18:19:33.673697700Z"
    }
   },
   "id": "93c72eaa7b498754"
  },
  {
   "cell_type": "code",
   "execution_count": 95,
   "outputs": [
    {
     "data": {
      "text/plain": "carat           float64\nclarity        category\ncolor          category\ncut            category\nx dimension      object\ny dimension      object\nz dimension      object\ndepth            object\ntable            object\nprice            object\ndtype: object"
     },
     "execution_count": 95,
     "metadata": {},
     "output_type": "execute_result"
    }
   ],
   "source": [
    "# Mapowanie rodzajów i ustawienie typu na kategorie\n",
    "\n",
    "mapping = {'i1': 'I1', 'if': 'IF', 'si1': 'Si1', 'si2': 'SI2','Si2': 'SI2' ,'vvs1': 'VVS1', 'Vvs1': 'VVS1', 'vvs2': 'VVS2'}\n",
    "data['clarity'] = data['clarity'].replace(mapping)\n",
    "\n",
    "clarity_categories = set(data['clarity'])\n",
    "clarity_categories\n",
    "\n",
    "data['clarity'] = data['clarity'].astype('category')\n",
    "data.dtypes\n"
   ],
   "metadata": {
    "collapsed": false,
    "ExecuteTime": {
     "end_time": "2024-01-01T18:28:21.706704700Z",
     "start_time": "2024-01-01T18:28:21.701199200Z"
    }
   },
   "id": "5df12104a674133c"
  },
  {
   "cell_type": "markdown",
   "source": [
    "## Kolumna **color**"
   ],
   "metadata": {
    "collapsed": false
   },
   "id": "f91d5530667a2226"
  },
  {
   "cell_type": "code",
   "execution_count": 62,
   "outputs": [
    {
     "data": {
      "text/plain": "{'Colorless',\n 'D',\n 'E',\n 'F',\n 'G',\n 'H',\n 'I',\n 'J',\n 'colorless',\n 'd',\n 'e',\n 'f',\n 'g',\n 'h',\n 'j'}"
     },
     "execution_count": 62,
     "metadata": {},
     "output_type": "execute_result"
    }
   ],
   "source": [
    "colors = set(data['color'])\n",
    "colors\n",
    "\n",
    "# W nazwach kolorów są białe znaki\n",
    "data['color'] = data['color'].str.strip()\n",
    "\n",
    "colors = set(data['color'])\n",
    "colors"
   ],
   "metadata": {
    "collapsed": false,
    "ExecuteTime": {
     "end_time": "2024-01-01T17:33:46.012090700Z",
     "start_time": "2024-01-01T17:33:45.988449400Z"
    }
   },
   "id": "8351fb6fe0a34fe8"
  },
  {
   "cell_type": "code",
   "execution_count": 71,
   "outputs": [
    {
     "data": {
      "text/plain": "{'Colorless', 'D', 'E', 'F', 'G', 'H', 'I', 'J'}"
     },
     "execution_count": 71,
     "metadata": {},
     "output_type": "execute_result"
    }
   ],
   "source": [
    "# Mapowanie kolorów i ustawienie typu na kategorie\n",
    "\n",
    "mapping = {'colorless': 'Colorless', 'd': 'D', 'e': 'E', 'f': 'F', 'g': 'G', 'h': 'H', 'j': 'J'}\n",
    "data['color'] = data['color'].replace(mapping)\n",
    "\n",
    "colors = set(data['color'])\n",
    "colors\n",
    "\n",
    "data['color'] = data['color'].astype('category')\n",
    "data.dtypes"
   ],
   "metadata": {
    "collapsed": false,
    "ExecuteTime": {
     "end_time": "2024-01-01T17:42:49.358243400Z",
     "start_time": "2024-01-01T17:42:49.326535300Z"
    }
   },
   "id": "cefb3c693c9a75c4"
  },
  {
   "cell_type": "markdown",
   "source": [
    "## Kolumna cut"
   ],
   "metadata": {
    "collapsed": false
   },
   "id": "dd02196a98127d05"
  },
  {
   "cell_type": "code",
   "execution_count": 87,
   "outputs": [
    {
     "data": {
      "text/plain": "{'Fair', 'Good', 'Ideal', 'Premium', 'Very Good'}"
     },
     "execution_count": 87,
     "metadata": {},
     "output_type": "execute_result"
    }
   ],
   "source": [
    "cut_categories = set(data['cut'])\n",
    "\n",
    "# W nazwach są białe znaki\n",
    "data['cut'] = data['cut'].str.strip()\n",
    "\n",
    "cut_categories = set(data['cut'])\n",
    "cut_categories"
   ],
   "metadata": {
    "collapsed": false,
    "ExecuteTime": {
     "end_time": "2024-01-01T18:18:10.567687800Z",
     "start_time": "2024-01-01T18:18:10.550663900Z"
    }
   },
   "id": "d432b463e427a284"
  },
  {
   "cell_type": "code",
   "execution_count": 88,
   "outputs": [
    {
     "data": {
      "text/plain": "carat           float64\nclarity          object\ncolor          category\ncut            category\nx dimension      object\ny dimension      object\nz dimension      object\ndepth            object\ntable            object\nprice            object\ndtype: object"
     },
     "execution_count": 88,
     "metadata": {},
     "output_type": "execute_result"
    }
   ],
   "source": [
    "# Mapowanie szlifów i ustawienie typu na kategorie\n",
    "\n",
    "mapping = {'fair': 'Fair', 'good': 'Good', 'ideal': 'Ideal', 'premium': 'Premium', 'very good': 'Very Good', 'Very good': 'Very Good', 'very Good': 'Very Good'}\n",
    "data['cut'] = data['cut'].replace(mapping)\n",
    "\n",
    "cut_categories = set(data['cut'])\n",
    "cut_categories\n",
    "\n",
    "data['cut'] = data['cut'].astype('category')\n",
    "data.dtypes"
   ],
   "metadata": {
    "collapsed": false,
    "ExecuteTime": {
     "end_time": "2024-01-01T18:18:18.454691500Z",
     "start_time": "2024-01-01T18:18:18.437002Z"
    }
   },
   "id": "56bd9d126f89f572"
  },
  {
   "cell_type": "markdown",
   "source": [],
   "metadata": {
    "collapsed": false
   },
   "id": "af95292ff7bb2ed9"
  },
  {
   "cell_type": "markdown",
   "source": [
    "# Duplikaty"
   ],
   "metadata": {
    "collapsed": false
   },
   "id": "f3b8a85f01c37706"
  },
  {
   "cell_type": "code",
   "execution_count": 96,
   "outputs": [
    {
     "data": {
      "text/plain": "   carat clarity color      cut x dimension y dimension z dimension  depth  \\\n0    0.5      IF     D    Ideal         5.1        5.15         3.2   61.5   \n1    0.7    VVS2     E  Premium         5.7                    3.52     62   \n\n  table  price  \n0         3000  \n1    59   4500  ",
      "text/html": "<div>\n<style scoped>\n    .dataframe tbody tr th:only-of-type {\n        vertical-align: middle;\n    }\n\n    .dataframe tbody tr th {\n        vertical-align: top;\n    }\n\n    .dataframe thead th {\n        text-align: right;\n    }\n</style>\n<table border=\"1\" class=\"dataframe\">\n  <thead>\n    <tr style=\"text-align: right;\">\n      <th></th>\n      <th>carat</th>\n      <th>clarity</th>\n      <th>color</th>\n      <th>cut</th>\n      <th>x dimension</th>\n      <th>y dimension</th>\n      <th>z dimension</th>\n      <th>depth</th>\n      <th>table</th>\n      <th>price</th>\n    </tr>\n  </thead>\n  <tbody>\n    <tr>\n      <th>0</th>\n      <td>0.5</td>\n      <td>IF</td>\n      <td>D</td>\n      <td>Ideal</td>\n      <td>5.1</td>\n      <td>5.15</td>\n      <td>3.2</td>\n      <td>61.5</td>\n      <td></td>\n      <td>3000</td>\n    </tr>\n    <tr>\n      <th>1</th>\n      <td>0.7</td>\n      <td>VVS2</td>\n      <td>E</td>\n      <td>Premium</td>\n      <td>5.7</td>\n      <td></td>\n      <td>3.52</td>\n      <td>62</td>\n      <td>59</td>\n      <td>4500</td>\n    </tr>\n  </tbody>\n</table>\n</div>"
     },
     "execution_count": 96,
     "metadata": {},
     "output_type": "execute_result"
    }
   ],
   "source": [
    "data.duplicated().sum()\n",
    "# Nie ma wierszy identycznych\n",
    "\n"
   ],
   "metadata": {
    "collapsed": false,
    "ExecuteTime": {
     "end_time": "2024-01-01T18:29:12.680702300Z",
     "start_time": "2024-01-01T18:29:12.655139200Z"
    }
   },
   "id": "fab4fa19a5f86cd6"
  }
 ],
 "metadata": {
  "kernelspec": {
   "display_name": "Python 3",
   "language": "python",
   "name": "python3"
  },
  "language_info": {
   "codemirror_mode": {
    "name": "ipython",
    "version": 2
   },
   "file_extension": ".py",
   "mimetype": "text/x-python",
   "name": "python",
   "nbconvert_exporter": "python",
   "pygments_lexer": "ipython2",
   "version": "2.7.6"
  }
 },
 "nbformat": 4,
 "nbformat_minor": 5
}
