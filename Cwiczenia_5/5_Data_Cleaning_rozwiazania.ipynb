{
 "cells": [
  {
   "cell_type": "code",
   "source": [
    "from google.colab import drive\n",
    "drive.mount('/content/drive')"
   ],
   "metadata": {
    "colab": {
     "base_uri": "https://localhost:8080/"
    },
    "id": "8B3Tbf6UnH7q",
    "outputId": "6d080a1b-60cf-468d-8998-268145faae70",
    "ExecuteTime": {
     "end_time": "2024-01-06T17:02:05.061172800Z",
     "start_time": "2024-01-06T17:02:04.635175700Z"
    }
   },
   "execution_count": 3,
   "outputs": [
    {
     "ename": "ModuleNotFoundError",
     "evalue": "No module named 'google'",
     "output_type": "error",
     "traceback": [
      "\u001B[1;31m---------------------------------------------------------------------------\u001B[0m",
      "\u001B[1;31mModuleNotFoundError\u001B[0m                       Traceback (most recent call last)",
      "Cell \u001B[1;32mIn[3], line 1\u001B[0m\n\u001B[1;32m----> 1\u001B[0m \u001B[38;5;28;01mfrom\u001B[39;00m \u001B[38;5;21;01mgoogle\u001B[39;00m\u001B[38;5;21;01m.\u001B[39;00m\u001B[38;5;21;01mcolab\u001B[39;00m \u001B[38;5;28;01mimport\u001B[39;00m drive\n\u001B[0;32m      2\u001B[0m drive\u001B[38;5;241m.\u001B[39mmount(\u001B[38;5;124m'\u001B[39m\u001B[38;5;124m/content/drive\u001B[39m\u001B[38;5;124m'\u001B[39m)\n",
      "\u001B[1;31mModuleNotFoundError\u001B[0m: No module named 'google'"
     ]
    }
   ]
  },
  {
   "cell_type": "markdown",
   "metadata": {
    "id": "jj4cqcDOLYqN"
   },
   "source": [
    "# Data Cleaning\n",
    "\n",
    "Przed uruchomieniem naszych danych przez model ważnym krokiem jest **Eksploracyjna analiza danych** lub EDA. EDA, jak sama nazwa wskazuje, to dogłębna analiza naszych danych. Proces EDA przeplata czyszczenie danych, radzenie sobie z brakującymi wartościami oraz wizualizację danych i ich właściwości statystycznych. Zazwyczaj wszystkie te procesy są wykonywane razem, ale dla potrzeb edukacyjnych rozbijemy je na osobne części.\n",
    "\n",
    "### Prerequisites\n",
    "[flights.txt](https://drive.google.com/file/d/1cVV3TZcxS31fk9JrskaRP1pbOfaoNcwe/view?usp=sharing)\n",
    "(źródło: https://www.kaggle.com/mmetter/flights/data).\n",
    "W większości przypadków dane posiadają dokumentację. **Czytanie dokumentacji danych jest ważne**!!!! Ta konkretna część danych nie ma jednak żadnej dokumentacji - będziemy musieli skorzystać z naszej intuicji oraz nazw kolumn (zmiennych).\n",
    "\n",
    "### Typy danych\n",
    "\n",
    "<table >\n",
    "\t<tbody>\n",
    "\t\t<tr>\n",
    "            <td><b>Typ danych</b></td>\n",
    "            <td><b>Typ danych w Pythonie</b></td>\n",
    "            <td><b>Przykłady</b></td>\n",
    "\t\t</tr>\n",
    "\t\t<tr>\n",
    "\t\t\t<td>Dane tekstowe</td>\n",
    "            <td>str</td>\n",
    "\t\t\t<td>Nazwiska, adresy</td>\n",
    "\t\t</tr>\n",
    "\t\t<tr>\n",
    "\t\t\t<td>Integers</td>\n",
    "            <td>int</td>\n",
    "\t\t\t<td># przedmioty, # osoby</td>\n",
    "\t\t</tr>\n",
    "\t\t<tr>\n",
    "\t\t\t<td>Floats/Ułamki</td>\n",
    "            <td>float</td>\n",
    "\t\t\t<td>Waluty, odległości</td>\n",
    "\t\t</tr>\n",
    "\t\t<tr>\n",
    "\t\t\t<td>Binary/Boolean</td>\n",
    "            <td>bool</td>\n",
    "\t\t\t<td>Pytania zamknięte, yes/no</td>\n",
    "\t\t</tr>\n",
    "\t\t<tr>\n",
    "\t\t\t<td>Data (i czas)</td>\n",
    "            <td>datetime</td>\n",
    "\t\t\t<td>Data wysyłki, czas przyjazdu</td>\n",
    "\t\t</tr>\n",
    "\t\t<tr>\n",
    "\t\t\t<td>Kategorie</td>\n",
    "            <td>category</td>\n",
    "\t\t\t<td>Stany, kolory, płeć</td>\n",
    "\t\t</tr>\n",
    "\t</tbody>\n",
    "</table>"
   ]
  },
  {
   "cell_type": "code",
   "source": [
    "path='sciezka na twoim dysku/komputerze'"
   ],
   "metadata": {
    "id": "jxH6Py-e1Qzx",
    "ExecuteTime": {
     "end_time": "2024-01-06T17:02:05.464078Z",
     "start_time": "2024-01-06T17:02:04.650821300Z"
    }
   },
   "execution_count": 4,
   "outputs": []
  },
  {
   "cell_type": "code",
   "execution_count": 5,
   "metadata": {
    "id": "OqdQSm72LYqg",
    "ExecuteTime": {
     "start_time": "2024-01-06T17:02:04.666435400Z"
    }
   },
   "outputs": [
    {
     "ename": "FileNotFoundError",
     "evalue": "[Errno 2] No such file or directory: 'C:/Users/grzeg/PycharmProjects/PAD/Cwiczenia_5/flights.txt'",
     "output_type": "error",
     "traceback": [
      "\u001B[1;31m---------------------------------------------------------------------------\u001B[0m",
      "\u001B[1;31mFileNotFoundError\u001B[0m                         Traceback (most recent call last)",
      "Cell \u001B[1;32mIn[5], line 3\u001B[0m\n\u001B[0;32m      1\u001B[0m \u001B[38;5;28;01mimport\u001B[39;00m \u001B[38;5;21;01mpandas\u001B[39;00m \u001B[38;5;28;01mas\u001B[39;00m \u001B[38;5;21;01mpd\u001B[39;00m\n\u001B[0;32m      2\u001B[0m pd\u001B[38;5;241m.\u001B[39mset_option(\u001B[38;5;124m'\u001B[39m\u001B[38;5;124mdisplay.max_columns\u001B[39m\u001B[38;5;124m'\u001B[39m, \u001B[38;5;28;01mNone\u001B[39;00m)\n\u001B[1;32m----> 3\u001B[0m flights_df \u001B[38;5;241m=\u001B[39m \u001B[43mpd\u001B[49m\u001B[38;5;241;43m.\u001B[39;49m\u001B[43mread_csv\u001B[49m\u001B[43m(\u001B[49m\u001B[38;5;124;43m\"\u001B[39;49m\u001B[38;5;124;43mC:/Users/grzeg/PycharmProjects/PAD/Cwiczenia_5/flights.txt\u001B[39;49m\u001B[38;5;124;43m\"\u001B[39;49m\u001B[43m,\u001B[49m\u001B[43m \u001B[49m\u001B[43msep\u001B[49m\u001B[38;5;241;43m=\u001B[39;49m\u001B[38;5;124;43m\"\u001B[39;49m\u001B[38;5;124;43m|\u001B[39;49m\u001B[38;5;124;43m\"\u001B[39;49m\u001B[43m)\u001B[49m\n",
      "File \u001B[1;32m~\\AppData\\Local\\Programs\\Python\\Python39\\lib\\site-packages\\pandas\\io\\parsers\\readers.py:1024\u001B[0m, in \u001B[0;36mread_csv\u001B[1;34m(filepath_or_buffer, sep, delimiter, header, names, index_col, usecols, dtype, engine, converters, true_values, false_values, skipinitialspace, skiprows, skipfooter, nrows, na_values, keep_default_na, na_filter, verbose, skip_blank_lines, parse_dates, infer_datetime_format, keep_date_col, date_parser, date_format, dayfirst, cache_dates, iterator, chunksize, compression, thousands, decimal, lineterminator, quotechar, quoting, doublequote, escapechar, comment, encoding, encoding_errors, dialect, on_bad_lines, delim_whitespace, low_memory, memory_map, float_precision, storage_options, dtype_backend)\u001B[0m\n\u001B[0;32m   1011\u001B[0m kwds_defaults \u001B[38;5;241m=\u001B[39m _refine_defaults_read(\n\u001B[0;32m   1012\u001B[0m     dialect,\n\u001B[0;32m   1013\u001B[0m     delimiter,\n\u001B[1;32m   (...)\u001B[0m\n\u001B[0;32m   1020\u001B[0m     dtype_backend\u001B[38;5;241m=\u001B[39mdtype_backend,\n\u001B[0;32m   1021\u001B[0m )\n\u001B[0;32m   1022\u001B[0m kwds\u001B[38;5;241m.\u001B[39mupdate(kwds_defaults)\n\u001B[1;32m-> 1024\u001B[0m \u001B[38;5;28;01mreturn\u001B[39;00m \u001B[43m_read\u001B[49m\u001B[43m(\u001B[49m\u001B[43mfilepath_or_buffer\u001B[49m\u001B[43m,\u001B[49m\u001B[43m \u001B[49m\u001B[43mkwds\u001B[49m\u001B[43m)\u001B[49m\n",
      "File \u001B[1;32m~\\AppData\\Local\\Programs\\Python\\Python39\\lib\\site-packages\\pandas\\io\\parsers\\readers.py:618\u001B[0m, in \u001B[0;36m_read\u001B[1;34m(filepath_or_buffer, kwds)\u001B[0m\n\u001B[0;32m    615\u001B[0m _validate_names(kwds\u001B[38;5;241m.\u001B[39mget(\u001B[38;5;124m\"\u001B[39m\u001B[38;5;124mnames\u001B[39m\u001B[38;5;124m\"\u001B[39m, \u001B[38;5;28;01mNone\u001B[39;00m))\n\u001B[0;32m    617\u001B[0m \u001B[38;5;66;03m# Create the parser.\u001B[39;00m\n\u001B[1;32m--> 618\u001B[0m parser \u001B[38;5;241m=\u001B[39m TextFileReader(filepath_or_buffer, \u001B[38;5;241m*\u001B[39m\u001B[38;5;241m*\u001B[39mkwds)\n\u001B[0;32m    620\u001B[0m \u001B[38;5;28;01mif\u001B[39;00m chunksize \u001B[38;5;129;01mor\u001B[39;00m iterator:\n\u001B[0;32m    621\u001B[0m     \u001B[38;5;28;01mreturn\u001B[39;00m parser\n",
      "File \u001B[1;32m~\\AppData\\Local\\Programs\\Python\\Python39\\lib\\site-packages\\pandas\\io\\parsers\\readers.py:1618\u001B[0m, in \u001B[0;36mTextFileReader.__init__\u001B[1;34m(self, f, engine, **kwds)\u001B[0m\n\u001B[0;32m   1615\u001B[0m     \u001B[38;5;28mself\u001B[39m\u001B[38;5;241m.\u001B[39moptions[\u001B[38;5;124m\"\u001B[39m\u001B[38;5;124mhas_index_names\u001B[39m\u001B[38;5;124m\"\u001B[39m] \u001B[38;5;241m=\u001B[39m kwds[\u001B[38;5;124m\"\u001B[39m\u001B[38;5;124mhas_index_names\u001B[39m\u001B[38;5;124m\"\u001B[39m]\n\u001B[0;32m   1617\u001B[0m \u001B[38;5;28mself\u001B[39m\u001B[38;5;241m.\u001B[39mhandles: IOHandles \u001B[38;5;241m|\u001B[39m \u001B[38;5;28;01mNone\u001B[39;00m \u001B[38;5;241m=\u001B[39m \u001B[38;5;28;01mNone\u001B[39;00m\n\u001B[1;32m-> 1618\u001B[0m \u001B[38;5;28mself\u001B[39m\u001B[38;5;241m.\u001B[39m_engine \u001B[38;5;241m=\u001B[39m \u001B[38;5;28;43mself\u001B[39;49m\u001B[38;5;241;43m.\u001B[39;49m\u001B[43m_make_engine\u001B[49m\u001B[43m(\u001B[49m\u001B[43mf\u001B[49m\u001B[43m,\u001B[49m\u001B[43m \u001B[49m\u001B[38;5;28;43mself\u001B[39;49m\u001B[38;5;241;43m.\u001B[39;49m\u001B[43mengine\u001B[49m\u001B[43m)\u001B[49m\n",
      "File \u001B[1;32m~\\AppData\\Local\\Programs\\Python\\Python39\\lib\\site-packages\\pandas\\io\\parsers\\readers.py:1878\u001B[0m, in \u001B[0;36mTextFileReader._make_engine\u001B[1;34m(self, f, engine)\u001B[0m\n\u001B[0;32m   1876\u001B[0m     \u001B[38;5;28;01mif\u001B[39;00m \u001B[38;5;124m\"\u001B[39m\u001B[38;5;124mb\u001B[39m\u001B[38;5;124m\"\u001B[39m \u001B[38;5;129;01mnot\u001B[39;00m \u001B[38;5;129;01min\u001B[39;00m mode:\n\u001B[0;32m   1877\u001B[0m         mode \u001B[38;5;241m+\u001B[39m\u001B[38;5;241m=\u001B[39m \u001B[38;5;124m\"\u001B[39m\u001B[38;5;124mb\u001B[39m\u001B[38;5;124m\"\u001B[39m\n\u001B[1;32m-> 1878\u001B[0m \u001B[38;5;28mself\u001B[39m\u001B[38;5;241m.\u001B[39mhandles \u001B[38;5;241m=\u001B[39m \u001B[43mget_handle\u001B[49m\u001B[43m(\u001B[49m\n\u001B[0;32m   1879\u001B[0m \u001B[43m    \u001B[49m\u001B[43mf\u001B[49m\u001B[43m,\u001B[49m\n\u001B[0;32m   1880\u001B[0m \u001B[43m    \u001B[49m\u001B[43mmode\u001B[49m\u001B[43m,\u001B[49m\n\u001B[0;32m   1881\u001B[0m \u001B[43m    \u001B[49m\u001B[43mencoding\u001B[49m\u001B[38;5;241;43m=\u001B[39;49m\u001B[38;5;28;43mself\u001B[39;49m\u001B[38;5;241;43m.\u001B[39;49m\u001B[43moptions\u001B[49m\u001B[38;5;241;43m.\u001B[39;49m\u001B[43mget\u001B[49m\u001B[43m(\u001B[49m\u001B[38;5;124;43m\"\u001B[39;49m\u001B[38;5;124;43mencoding\u001B[39;49m\u001B[38;5;124;43m\"\u001B[39;49m\u001B[43m,\u001B[49m\u001B[43m \u001B[49m\u001B[38;5;28;43;01mNone\u001B[39;49;00m\u001B[43m)\u001B[49m\u001B[43m,\u001B[49m\n\u001B[0;32m   1882\u001B[0m \u001B[43m    \u001B[49m\u001B[43mcompression\u001B[49m\u001B[38;5;241;43m=\u001B[39;49m\u001B[38;5;28;43mself\u001B[39;49m\u001B[38;5;241;43m.\u001B[39;49m\u001B[43moptions\u001B[49m\u001B[38;5;241;43m.\u001B[39;49m\u001B[43mget\u001B[49m\u001B[43m(\u001B[49m\u001B[38;5;124;43m\"\u001B[39;49m\u001B[38;5;124;43mcompression\u001B[39;49m\u001B[38;5;124;43m\"\u001B[39;49m\u001B[43m,\u001B[49m\u001B[43m \u001B[49m\u001B[38;5;28;43;01mNone\u001B[39;49;00m\u001B[43m)\u001B[49m\u001B[43m,\u001B[49m\n\u001B[0;32m   1883\u001B[0m \u001B[43m    \u001B[49m\u001B[43mmemory_map\u001B[49m\u001B[38;5;241;43m=\u001B[39;49m\u001B[38;5;28;43mself\u001B[39;49m\u001B[38;5;241;43m.\u001B[39;49m\u001B[43moptions\u001B[49m\u001B[38;5;241;43m.\u001B[39;49m\u001B[43mget\u001B[49m\u001B[43m(\u001B[49m\u001B[38;5;124;43m\"\u001B[39;49m\u001B[38;5;124;43mmemory_map\u001B[39;49m\u001B[38;5;124;43m\"\u001B[39;49m\u001B[43m,\u001B[49m\u001B[43m \u001B[49m\u001B[38;5;28;43;01mFalse\u001B[39;49;00m\u001B[43m)\u001B[49m\u001B[43m,\u001B[49m\n\u001B[0;32m   1884\u001B[0m \u001B[43m    \u001B[49m\u001B[43mis_text\u001B[49m\u001B[38;5;241;43m=\u001B[39;49m\u001B[43mis_text\u001B[49m\u001B[43m,\u001B[49m\n\u001B[0;32m   1885\u001B[0m \u001B[43m    \u001B[49m\u001B[43merrors\u001B[49m\u001B[38;5;241;43m=\u001B[39;49m\u001B[38;5;28;43mself\u001B[39;49m\u001B[38;5;241;43m.\u001B[39;49m\u001B[43moptions\u001B[49m\u001B[38;5;241;43m.\u001B[39;49m\u001B[43mget\u001B[49m\u001B[43m(\u001B[49m\u001B[38;5;124;43m\"\u001B[39;49m\u001B[38;5;124;43mencoding_errors\u001B[39;49m\u001B[38;5;124;43m\"\u001B[39;49m\u001B[43m,\u001B[49m\u001B[43m \u001B[49m\u001B[38;5;124;43m\"\u001B[39;49m\u001B[38;5;124;43mstrict\u001B[39;49m\u001B[38;5;124;43m\"\u001B[39;49m\u001B[43m)\u001B[49m\u001B[43m,\u001B[49m\n\u001B[0;32m   1886\u001B[0m \u001B[43m    \u001B[49m\u001B[43mstorage_options\u001B[49m\u001B[38;5;241;43m=\u001B[39;49m\u001B[38;5;28;43mself\u001B[39;49m\u001B[38;5;241;43m.\u001B[39;49m\u001B[43moptions\u001B[49m\u001B[38;5;241;43m.\u001B[39;49m\u001B[43mget\u001B[49m\u001B[43m(\u001B[49m\u001B[38;5;124;43m\"\u001B[39;49m\u001B[38;5;124;43mstorage_options\u001B[39;49m\u001B[38;5;124;43m\"\u001B[39;49m\u001B[43m,\u001B[49m\u001B[43m \u001B[49m\u001B[38;5;28;43;01mNone\u001B[39;49;00m\u001B[43m)\u001B[49m\u001B[43m,\u001B[49m\n\u001B[0;32m   1887\u001B[0m \u001B[43m\u001B[49m\u001B[43m)\u001B[49m\n\u001B[0;32m   1888\u001B[0m \u001B[38;5;28;01massert\u001B[39;00m \u001B[38;5;28mself\u001B[39m\u001B[38;5;241m.\u001B[39mhandles \u001B[38;5;129;01mis\u001B[39;00m \u001B[38;5;129;01mnot\u001B[39;00m \u001B[38;5;28;01mNone\u001B[39;00m\n\u001B[0;32m   1889\u001B[0m f \u001B[38;5;241m=\u001B[39m \u001B[38;5;28mself\u001B[39m\u001B[38;5;241m.\u001B[39mhandles\u001B[38;5;241m.\u001B[39mhandle\n",
      "File \u001B[1;32m~\\AppData\\Local\\Programs\\Python\\Python39\\lib\\site-packages\\pandas\\io\\common.py:873\u001B[0m, in \u001B[0;36mget_handle\u001B[1;34m(path_or_buf, mode, encoding, compression, memory_map, is_text, errors, storage_options)\u001B[0m\n\u001B[0;32m    868\u001B[0m \u001B[38;5;28;01melif\u001B[39;00m \u001B[38;5;28misinstance\u001B[39m(handle, \u001B[38;5;28mstr\u001B[39m):\n\u001B[0;32m    869\u001B[0m     \u001B[38;5;66;03m# Check whether the filename is to be opened in binary mode.\u001B[39;00m\n\u001B[0;32m    870\u001B[0m     \u001B[38;5;66;03m# Binary mode does not support 'encoding' and 'newline'.\u001B[39;00m\n\u001B[0;32m    871\u001B[0m     \u001B[38;5;28;01mif\u001B[39;00m ioargs\u001B[38;5;241m.\u001B[39mencoding \u001B[38;5;129;01mand\u001B[39;00m \u001B[38;5;124m\"\u001B[39m\u001B[38;5;124mb\u001B[39m\u001B[38;5;124m\"\u001B[39m \u001B[38;5;129;01mnot\u001B[39;00m \u001B[38;5;129;01min\u001B[39;00m ioargs\u001B[38;5;241m.\u001B[39mmode:\n\u001B[0;32m    872\u001B[0m         \u001B[38;5;66;03m# Encoding\u001B[39;00m\n\u001B[1;32m--> 873\u001B[0m         handle \u001B[38;5;241m=\u001B[39m \u001B[38;5;28;43mopen\u001B[39;49m\u001B[43m(\u001B[49m\n\u001B[0;32m    874\u001B[0m \u001B[43m            \u001B[49m\u001B[43mhandle\u001B[49m\u001B[43m,\u001B[49m\n\u001B[0;32m    875\u001B[0m \u001B[43m            \u001B[49m\u001B[43mioargs\u001B[49m\u001B[38;5;241;43m.\u001B[39;49m\u001B[43mmode\u001B[49m\u001B[43m,\u001B[49m\n\u001B[0;32m    876\u001B[0m \u001B[43m            \u001B[49m\u001B[43mencoding\u001B[49m\u001B[38;5;241;43m=\u001B[39;49m\u001B[43mioargs\u001B[49m\u001B[38;5;241;43m.\u001B[39;49m\u001B[43mencoding\u001B[49m\u001B[43m,\u001B[49m\n\u001B[0;32m    877\u001B[0m \u001B[43m            \u001B[49m\u001B[43merrors\u001B[49m\u001B[38;5;241;43m=\u001B[39;49m\u001B[43merrors\u001B[49m\u001B[43m,\u001B[49m\n\u001B[0;32m    878\u001B[0m \u001B[43m            \u001B[49m\u001B[43mnewline\u001B[49m\u001B[38;5;241;43m=\u001B[39;49m\u001B[38;5;124;43m\"\u001B[39;49m\u001B[38;5;124;43m\"\u001B[39;49m\u001B[43m,\u001B[49m\n\u001B[0;32m    879\u001B[0m \u001B[43m        \u001B[49m\u001B[43m)\u001B[49m\n\u001B[0;32m    880\u001B[0m     \u001B[38;5;28;01melse\u001B[39;00m:\n\u001B[0;32m    881\u001B[0m         \u001B[38;5;66;03m# Binary mode\u001B[39;00m\n\u001B[0;32m    882\u001B[0m         handle \u001B[38;5;241m=\u001B[39m \u001B[38;5;28mopen\u001B[39m(handle, ioargs\u001B[38;5;241m.\u001B[39mmode)\n",
      "\u001B[1;31mFileNotFoundError\u001B[0m: [Errno 2] No such file or directory: 'C:/Users/grzeg/PycharmProjects/PAD/Cwiczenia_5/flights.txt'"
     ]
    }
   ],
   "source": [
    "import pandas as pd\n",
    "pd.set_option('display.max_columns', None)\n",
    "flights_df = pd.read_csv(\"C:/Users/grzeg/PycharmProjects/PAD/Cwiczenia_5/flights.txt\", sep=\"|\")"
   ]
  },
  {
   "cell_type": "code",
   "execution_count": null,
   "metadata": {
    "scrolled": true,
    "id": "EKCaICraLYql",
    "colab": {
     "base_uri": "https://localhost:8080/",
     "height": 531
    },
    "outputId": "bac9ac2f-7a13-42d2-aa15-9748d86cf910",
    "ExecuteTime": {
     "end_time": "2024-01-06T17:02:06.562571Z",
     "start_time": "2024-01-06T17:02:05.281254500Z"
    }
   },
   "outputs": [],
   "source": [
    "flights_df.head()"
   ]
  },
  {
   "cell_type": "markdown",
   "metadata": {
    "id": "Ep16wLemLYqp"
   },
   "source": [
    "Zestaw danych flights jest problematyzny z wielu względów, ale zanim na nie odpowiemy, przyjrzymy się nazwom zmiennych."
   ]
  },
  {
   "cell_type": "markdown",
   "metadata": {
    "id": "vxcZaN6-LYqs"
   },
   "source": [
    "- **TRANSACTIONID**: Unikalny identyfikator\n",
    "\n",
    "- **FLIGHTDATE**: Data lotu. Wygląda na to, że jest zakodowana jako liczba zamiast obiektu daty\n",
    "\n",
    "- **TAILNUM**: Wygląda na to, że w niektórych wierszach zawiera @@\n",
    "\n",
    "- **ORIGAIRPORTNAME** oraz **DESTAIRPORTNAME**: Wygląda na to, że nazwa miasta i stan są połączone i dołączone przed rzeczywistą nazwą lotniska\n",
    "\n",
    "- **CRSDEPTIME** oraz **DEPTIME**: Wygląda na to, że zawierają niepoprawnie sformatowane czasy. Wydaje się też, że: **CRSDEPTTIME** + **DEPDELAY** = **DEPTIME**\n",
    "\n",
    "- **DEPDELAY**: Opóźnienie wyjazdu w minutach?\n",
    "\n",
    "- **TAXIOUT**: Ile czasu upłynęło od wystartowania silnika do oderwania się od ziemi? Poza tym: **DEPTIME** + **TAXIOUT** = **WHEELSOFF**\n",
    "\n",
    "- **WHEELSOFF**: Czas, w którym koła oderwały się od ziemi\n",
    "\n",
    "- **WHEELSON**: Czas, w którym koła dotknęły ziemi podczas lądowania\n",
    "\n",
    "- **TAXIIN**: Wygląda na liczbę minut od zetknięcia kół z ziemią do „parkowania”\n",
    "\n",
    "- **CRSARRTIME**: Oczekiwany czas przylotu w formacie 24h\n",
    "\n",
    "- **ARRTIME**: Faktyczny czas przylotu\n",
    "\n",
    "- **ARRDELAY**: Różnica pomiędzy **CRSARRTIME** oraz **ARRTIME**\n",
    "\n",
    "- **CRSELAPSEDTIME**: Planowany czas podróży (minuty)\n",
    "\n",
    "- **ACTUALELAPSEDTIME**: Rzeczywisty czas podróży (minuty)\n",
    "\n",
    "- **CANCELLED**: Czy lot został odwołany czy nie. Niektóre wartości logiczne zostały przedstawione jako False, inne jako 0. Podobnie jest z wartościami True i 1.\n",
    "\n",
    "- **DIVERTED**: Czy samolot został przekierowany. Podobne problemy dotyczące True/False jak powyżej?\n",
    "\n",
    "- **DISTANCE**: Odległość (całkowita) przebyta przez samolot, zakodowana jako ciąg znaków z połączonymi z nim „milami”"
   ]
  },
  {
   "cell_type": "code",
   "execution_count": null,
   "metadata": {
    "id": "1Epxt7igLYqv",
    "ExecuteTime": {
     "start_time": "2024-01-06T17:02:05.281254500Z"
    }
   },
   "outputs": [],
   "source": [
    "flights_df"
   ]
  },
  {
   "cell_type": "markdown",
   "metadata": {
    "id": "uzVzEvaHLYqx"
   },
   "source": [
    "Tak więc przechodzenie przez każdą kolumnę identyfikuje problemy, które może mieć zestaw danych. Najpierw zajmijmy się kwestią **odległości**. Wygląda na to, że ma to być zakodowane _całkowite_ (zauważ, że na początku tego wykładu powiedziałem, że odległości mogą być zmiennoprzecinkowe. Dlaczego zmiana zdania?) i mają dopisane 'mile' na końcu numer. Możemy zrobić o wiele więcej rzeczy z danymi liczbowymi niż danymi tekstowymi, które reprezentują liczby, więc najpierw przekonwertujmy to na int.\n",
    "Aalizująć tabelę kolumna po kolumnie dostrzegamy różne problemy, z jakimi musimy się zmierzyć w tym zbiorze danych. Można zacząć od problemu odległości. Wygląda na to, że odległość miała być zakodowana jako integery, ale pojawiają oznaczenia miar. Dane numeryczne pozwalają na o wiele więcej operacji niż dane tekstowe, dlatego należy wyczyścić te wartości tekstowe.\n",
    "\n",
    "<table>\n",
    "    <tr>\n",
    "        <td> </td>\n",
    "        <td><b>OrderID</b></td>\n",
    "        <td><b>Cost</b></td>\n",
    "        <td><b>Quantity</b></td>\n",
    "        <td><b>Address</b></td>\n",
    "    </tr>\n",
    "    <tr>\n",
    "        <td>0</td>\n",
    "        <td>1234</td>\n",
    "        <td>£1000.00</td>\n",
    "        <td>10</td>\n",
    "        <td>123 Fake Street</td>\n",
    "    </tr>\n",
    "    <tr>\n",
    "        <td>1</td>\n",
    "        <td>7890</td>\n",
    "        <td>£35.50</td>\n",
    "        <td>3</td>\n",
    "        <td>789 Real Road</td>\n",
    "    </tr>\n",
    "    \n",
    "</table>\n",
    "W powyższej tabeli widzimy, że koszt powinien być liczbą zmiennoprzecinkową - jednak ma dołączony symbol £. Aby użyć tej kolumny jako float, musimy usunąć £. Jednak zanim to zrobimy, spójrzmy na typy danych kolumn. Odbywa się to poprzez wywołanie atrybutu `.dtypes` w naszej ramce danych. W powyższym przykładzie zwrócilibyśmy:\n",
    "\n",
    "\n",
    "<table>\n",
    "    <tr>\n",
    "        <td>OrderID</td>\n",
    "        <td>int64</td>\n",
    "    </tr>\n",
    "    <tr>\n",
    "        <td>Cost</td>\n",
    "        <td>object</td>\n",
    "    </tr>\n",
    "    <tr>\n",
    "        <td>Quantity</td>\n",
    "        <td>int64</td>\n",
    "    </tr>\n",
    "    <tr>\n",
    "        <td>Address</td>\n",
    "        <td>object</td>\n",
    "    </tr>\n",
    "</table>\n",
    "\n",
    "Możemy również użyć metody `.info()`, która zwraca nam również informacje o wartościach null w każdej kolumnie (wkrótce omówimy, jak radzić sobie z wartościami null/brakującymi wartościami)"
   ]
  },
  {
   "cell_type": "code",
   "execution_count": null,
   "metadata": {
    "id": "mvIMhtpALYq0",
    "colab": {
     "base_uri": "https://localhost:8080/"
    },
    "outputId": "54f0a961-bc95-45f0-f698-3a3b54bce03d",
    "ExecuteTime": {
     "start_time": "2024-01-06T17:02:05.281254500Z"
    }
   },
   "outputs": [],
   "source": [
    "## Znajdź typy obiektów dla każdej kolumny za pomocą .dtypes\n",
    "flights_df.dtypes"
   ]
  },
  {
   "cell_type": "code",
   "execution_count": null,
   "metadata": {
    "id": "whRww4YGLYq2",
    "colab": {
     "base_uri": "https://localhost:8080/"
    },
    "outputId": "d5f5d959-7889-4395-ae9e-244a44e02ca6",
    "ExecuteTime": {
     "start_time": "2024-01-06T17:02:05.291357600Z"
    }
   },
   "outputs": [],
   "source": [
    "## Znajdź typy obiektów i liczbę wartości null za pomocą .info()\n",
    "flights_df.info()"
   ]
  },
  {
   "cell_type": "markdown",
   "metadata": {
    "id": "-vZ1UrNULYq4"
   },
   "source": [
    "\n",
    "Gdybyśmy mieli zsumować powyższą kolumnę <b>cost</b> (`sales['cost'].sum()`), zwrócone zostałoby coś podobnego do następującego ciągu:\n",
    "```£1000,00£35.50£46.10£76.35```...\n",
    "\n",
    "Oczywiście nie o to nam chodzi... wolimy zsumować wszystkie nasze koszty.\n",
    "\n",
    "Powtórz ten krok z kolumną „DISTANCE” z danymi dotyczącymi lotów"
   ]
  },
  {
   "cell_type": "code",
   "execution_count": null,
   "metadata": {
    "id": "h1AF1FnNLYq9",
    "colab": {
     "base_uri": "https://localhost:8080/",
     "height": 35
    },
    "outputId": "1832cb0a-d82c-42c5-d79d-36a8ae8edaab",
    "ExecuteTime": {
     "start_time": "2024-01-06T17:02:05.291357600Z"
    }
   },
   "outputs": [],
   "source": [
    "## Zsumuj pierwsze 10 wystąpień kolumny „DISTANCE” w danych lotów.\n",
    "# Bądź świadomy tego, gdzie używasz slicingu :). Jaka jest techniczna różnica między slicingiem przed .sum() i po?\n",
    "flights_df['DISTANCE'][:10].sum()"
   ]
  },
  {
   "cell_type": "markdown",
   "metadata": {
    "id": "XJgUwSoTLYq_"
   },
   "source": [
    "Aby rozwiązać problem z naszymi danymi sprzedaży, musimy zrobić dwie rzeczy:\n",
    "1. Usuąć „£”\n",
    "2. Zamienić kolumnę na zmiennoprzecinkowy typ danych\n",
    "\n",
    "Odbywałoby się to w następujący sposób:\n",
    "```python\n",
    "sales['cost'] = sales['cost'].str.strip('£')\n",
    "sales['cost'] = sales['cost'].astype('float64')\n",
    "```\n",
    "\n",
    "Uzbrojeni w tę wiedzę, zamieńmy kolumnę odległości na int!"
   ]
  },
  {
   "cell_type": "code",
   "execution_count": null,
   "metadata": {
    "id": "1sTpHRvELYrA",
    "ExecuteTime": {
     "start_time": "2024-01-06T17:02:05.291357600Z"
    }
   },
   "outputs": [],
   "source": [
    "## Usuń „mile” z ramki danych\n",
    "flights_df[\"DISTANCE\"] = flights_df[\"DISTANCE\"].str.strip(\" miles\")\n",
    "## Zamień kolumnę na typ int64\n",
    "flights_df[\"DISTANCE\"] = flights_df[\"DISTANCE\"].astype(\"int64\")\n",
    "## Sprawdź, czy kolumna została pomyślnie przekonwertowana na int"
   ]
  },
  {
   "cell_type": "markdown",
   "metadata": {
    "id": "9IpyIhvFLYrB"
   },
   "source": [
    "Świetnie! W ten sposób możemy przekonwertować nieuporządkowane dane tekstowe na liczby. Przyjrzyjmy się teraz konwersji danych na wartości kategoryczne.\n",
    "\n",
    "W naszym zbiorze danych mamy wiele kolumn, które mogą być kategoryczne. Czy potrafisz określić, które to są?\n",
    "<br>\n",
    "<details>\n",
    "    <summary><b>></b> Categorical variables (click to reveal)</summary>\n",
    "    <ul>\n",
    "        <li>AIRLINECODE</li>\n",
    "        <li>AIRLINENAME</li>\n",
    "        <li>ORIGINAIRPORTCODE</li>\n",
    "        <li>ORIGAIRPORTNAME</li>\n",
    "        <li>ORIGINCITYNAME</li>\n",
    "        <li>ORIGINSTATE</li>\n",
    "        <li>ORIGINSTATENAME</li>\n",
    "        <li>DESTAIRPORTCODE</li>\n",
    "        <li>DESTAIRPORTNAME</li>\n",
    "        <li>DESTCITYNAME</li>\n",
    "        <li>DESTSTATE</li>\n",
    "        <li>DESTSTATENAME</li>\n",
    "    </ul>\n",
    "</details>\n",
    "\n",
    "Używając metody `.describe()` możemy dostać więcej informacji o konkretnej kolumnie. Użyjmy jako przykładu `AIRLINECODE`"
   ]
  },
  {
   "cell_type": "code",
   "execution_count": null,
   "metadata": {
    "id": "3g-_O2p_LYrC",
    "colab": {
     "base_uri": "https://localhost:8080/"
    },
    "outputId": "f15c71a1-49f7-48ca-fa31-01b0ac482b65",
    "ExecuteTime": {
     "start_time": "2024-01-06T17:02:05.291357600Z"
    }
   },
   "outputs": [],
   "source": [
    "flights_df['DISTANCE'].describe()"
   ]
  },
  {
   "cell_type": "code",
   "execution_count": null,
   "metadata": {
    "id": "dWnfRuo3LYrD",
    "ExecuteTime": {
     "start_time": "2024-01-06T17:02:05.291357600Z"
    }
   },
   "outputs": [],
   "source": [
    "flights_df['AIRLINECODE'].describe()"
   ]
  },
  {
   "cell_type": "markdown",
   "metadata": {
    "id": "O3tMZgVkLYrE"
   },
   "source": [
    "Gdy uruchomimy `.describe()` nad tą zmienną, otrzymujemy kilka (średnio) użytecznych statystyk. Widzimy jednak, że typ danych tej kolumny został zinterpretowany jako `object`. Z tabeli typów danych, którą wprowadziliśmy wcześniej, widzimy, że istnieje obsługa kategorii. Przekształćmy to w kategorię i zobaczmy różnicę w stosunku do metody opisu."
   ]
  },
  {
   "cell_type": "code",
   "execution_count": null,
   "metadata": {
    "scrolled": true,
    "id": "9c-qVBAxLYrF",
    "colab": {
     "base_uri": "https://localhost:8080/"
    },
    "outputId": "fb8c2aee-0533-4cbf-cb24-21ade427fcf4",
    "ExecuteTime": {
     "start_time": "2024-01-06T17:02:05.291357600Z"
    }
   },
   "outputs": [],
   "source": [
    "flights_df['AIRLINECODE'] = flights_df['AIRLINECODE'].astype('category')\n",
    "flights_df['AIRLINECODE']"
   ]
  },
  {
   "cell_type": "code",
   "execution_count": 6,
   "metadata": {
    "id": "7RbmqOUALYrG",
    "ExecuteTime": {
     "end_time": "2024-01-06T17:02:11.510560800Z",
     "start_time": "2024-01-06T17:02:11.454087700Z"
    }
   },
   "outputs": [
    {
     "ename": "NameError",
     "evalue": "name 'flights_df' is not defined",
     "output_type": "error",
     "traceback": [
      "\u001B[1;31m---------------------------------------------------------------------------\u001B[0m",
      "\u001B[1;31mNameError\u001B[0m                                 Traceback (most recent call last)",
      "Cell \u001B[1;32mIn[6], line 1\u001B[0m\n\u001B[1;32m----> 1\u001B[0m \u001B[43mflights_df\u001B[49m[\u001B[38;5;124m'\u001B[39m\u001B[38;5;124mAIRLINECODE\u001B[39m\u001B[38;5;124m'\u001B[39m]\u001B[38;5;241m.\u001B[39mdescribe()\n",
      "\u001B[1;31mNameError\u001B[0m: name 'flights_df' is not defined"
     ]
    }
   ],
   "source": [
    "flights_df['AIRLINECODE'].describe()"
   ]
  },
  {
   "cell_type": "markdown",
   "metadata": {
    "id": "VHPG7fHoLYrG"
   },
   "source": [
    "Tak naprawdę brak widocznej różnicy po użyciu metody `.describe()` (co dziwne, wciąż zwraca dtype object)! Użyjemy metody `.info()`, aby sprawdzić nasze zużycie pamięci"
   ]
  },
  {
   "cell_type": "code",
   "execution_count": null,
   "metadata": {
    "tags": [],
    "id": "USF0oZ8yLYrH",
    "ExecuteTime": {
     "start_time": "2024-01-06T17:02:05.291357600Z"
    }
   },
   "outputs": [],
   "source": [
    "flights_df['AIRLINECODE'] = flights_df['AIRLINECODE'].astype('object')\n",
    "flights_df.info()"
   ]
  },
  {
   "cell_type": "code",
   "execution_count": null,
   "metadata": {
    "tags": [],
    "id": "B2Z09NL_LYrI",
    "colab": {
     "base_uri": "https://localhost:8080/"
    },
    "outputId": "f407d350-516c-41e0-b68e-cd800fc768ad",
    "ExecuteTime": {
     "start_time": "2024-01-06T17:02:05.291357600Z"
    }
   },
   "outputs": [],
   "source": [
    "flights_df['AIRLINECODE'] = flights_df['AIRLINECODE'].astype('category')\n",
    "flights_df.info()"
   ]
  },
  {
   "cell_type": "markdown",
   "metadata": {
    "id": "hHR0mRfDLYrL"
   },
   "source": [
    "Widzimy, że nasze zużycie pamięci spadło o około 8 MB po przekształceniu tej jednej kolumny w kategorię! Ok, tak, wprawdzie nie jest to wielka sprawa przy pracy z danymi o tym rozmiarze, ale pamiętaj, że oszczędność pamięci pochodzi tylko z jednej z wielu kategorycznych kolumn, które mamy.\n",
    "\n",
    "Więc dlaczego tak jest? Cóż, pod maską Pandas reprezentują kategorie jako typy całkowite. W rzeczywistości coś, na co możesz natknąć się podczas pracy z innymi zestawami danych, to jawne wyświetlanie kolumny kategorii zakodowanej jako liczby całkowite. Zmodyfikujmy naszą ramkę danych, aby zobaczyć, co się stanie dalej."
   ]
  },
  {
   "cell_type": "code",
   "execution_count": null,
   "metadata": {
    "id": "8GVmfMNULYrN",
    "colab": {
     "base_uri": "https://localhost:8080/"
    },
    "outputId": "d45bcff5-ae6a-43cf-f513-32042a88e786",
    "ExecuteTime": {
     "start_time": "2024-01-06T17:02:05.307007Z"
    }
   },
   "outputs": [],
   "source": [
    "flights_df['AIRLINECODE_ASINT'] = flights_df['AIRLINECODE'].cat.codes.astype('int8')\n",
    "flights_df['AIRLINECODE_ASINT']"
   ]
  },
  {
   "cell_type": "markdown",
   "metadata": {
    "id": "MtBq3U1cLYrP"
   },
   "source": [
    "Kiedy uruchamiamy `.describe()` możemy zobaczyć zwrócone statystyki, które nie mają sensu dla naszej kolumny:"
   ]
  },
  {
   "cell_type": "code",
   "execution_count": null,
   "metadata": {
    "id": "u59__uX1LYrP",
    "colab": {
     "base_uri": "https://localhost:8080/"
    },
    "outputId": "61f56d35-2f35-479e-eaf7-a1d81c7b04ce",
    "ExecuteTime": {
     "start_time": "2024-01-06T17:02:05.307007Z"
    }
   },
   "outputs": [],
   "source": [
    "flights_df['AIRLINECODE_ASINT'].describe()"
   ]
  },
  {
   "cell_type": "markdown",
   "metadata": {
    "id": "95Cenx8OLYrQ"
   },
   "source": [
    "Nie ma sensu, aby kolumna kategoryczna miała średnią lub jakiekolwiek inne właściwości statystyczne."
   ]
  },
  {
   "cell_type": "code",
   "execution_count": null,
   "metadata": {
    "id": "9QelJMS3LYrQ",
    "ExecuteTime": {
     "start_time": "2024-01-06T17:02:05.310012900Z"
    }
   },
   "outputs": [],
   "source": [
    "flights_df = flights_df.drop('AIRLINECODE_ASINT', 1)"
   ]
  },
  {
   "cell_type": "markdown",
   "metadata": {
    "id": "2HMVBclnLYrR"
   },
   "source": [
    "Jakie typy danych (numeryczne, datetime, tekst lub kategoryczne) przypisałbyś następującym danym?:\n",
    "\n",
    "- Opis przedmiotu\n",
    "- Roczny dochód\n",
    "- Rozmiar odzieży\n",
    "- Czas przylotu samolotu\n",
    "- Urodziny\n",
    "- Smaki koktajli mlecznych w McDonalds\n",
    "- Pierwsza połowa kodu pocztowego\n",
    "- Pełny kod pocztowy\n",
    "- Czas potrzebny biegaczom na ukończenie 5K"
   ]
  },
  {
   "cell_type": "markdown",
   "metadata": {
    "id": "DHVs9NzqLYrR"
   },
   "source": [
    "## Zduplikowane wartości\n",
    "\n",
    "Innym częstym problemem, z którym możemy się spotkać, są **zduplikowane wartości**. Jak sama nazwa wskazuje, dzieje się tak, gdy te same wartości powtarzają się w wielu wierszach lub kolumnach:\n",
    "<table>\n",
    "    <tr>\n",
    "        <td><b>first_name</b></td>\n",
    "        <td><b>last_name</b></td>\n",
    "        <td><b>address</b></td>\n",
    "        <td><b>age</b></td>\n",
    "        <td><b>income</b></td>\n",
    "    </tr>\n",
    "    <tr>\n",
    "        <td>John</td>\n",
    "        <td>Doe</td>\n",
    "        <td>123 Real Street</td>\n",
    "        <td>25</td>\n",
    "        <td>£28000</td>\n",
    "    </tr>\n",
    "    <tr>\n",
    "        <td>Jane</td>\n",
    "        <td>Smith</td>\n",
    "        <td>789 Fake Road</td>\n",
    "        <td>29</td>\n",
    "        <td>£32000</td>\n",
    "    </tr>\n",
    "    <tr>\n",
    "        <td>Jane</td>\n",
    "        <td>Smith</td>\n",
    "        <td>789 Fake Road</td>\n",
    "        <td>29</td>\n",
    "        <td>£32000</td>\n",
    "    </tr>\n",
    "    <tr>\n",
    "        <td>Mark</td>\n",
    "        <td>Smith</td>\n",
    "        <td>789 Fake Road</td>\n",
    "        <td>31</td>\n",
    "        <td>£32000</td>\n",
    "    </tr>\n",
    "</table>\n",
    "\n",
    "W powyższym przykładzie widzimy, że Jane Smith ma dwa wpisy bezpośrednio zduplikowane. Jednak w niektórych przypadkach możemy zobaczyć bardzo podobne wpisy:\n",
    "\n",
    "<table>\n",
    "    <tr>\n",
    "        <td><b>first_name</b></td>\n",
    "        <td><b>last_name</b></td>\n",
    "        <td><b>address</b></td>\n",
    "        <td><b>age</b></td>\n",
    "        <td><b>income</b></td>\n",
    "    </tr>\n",
    "    <tr>\n",
    "        <td>John</td>\n",
    "        <td>Doe</td>\n",
    "        <td>123 Real Street</td>\n",
    "        <td>25</td>\n",
    "        <td>£28000</td>\n",
    "    </tr>\n",
    "    <tr>\n",
    "        <td>Jane</td>\n",
    "        <td>Smith</td>\n",
    "        <td>789 Fake Road</td>\n",
    "        <td><b>28</b></td>\n",
    "        <td>£32000</td>\n",
    "    </tr>\n",
    "    <tr>\n",
    "        <td>Jane</td>\n",
    "        <td>Smith</td>\n",
    "        <td>789 Fake Road</td>\n",
    "        <td>29</td>\n",
    "        <td>£32000</td>\n",
    "    </tr>\n",
    "    <tr>\n",
    "        <td>Mark</td>\n",
    "        <td>Smith</td>\n",
    "        <td>789 Fake Road</td>\n",
    "        <td>31</td>\n",
    "        <td>£32000</td>\n",
    "    </tr>\n",
    "</table>\n",
    "\n",
    "(Różnica wieku między obiema Jane Smith). Ten rodzaj duplikatu błędu jest najprawdopodobniej spowodowany problemem z wprowadzaniem danych lub ponownym przesłaniem dowolnego formularza złożonego przez Jane – który został wprowadzony do bazy danych bez usuwania jej starego wpisu.\n",
    "\n",
    "Najczęściej jednak duplikaty danych wynikają z błędów/wzorców projektowych w potokach danych lub najczęściej z łączenia baz danych i konsolidacji danych z różnych zestawów danych/baz danych, które mogą zachować zduplikowane wartości.\n",
    "\n",
    "Pandas udostępnia nam metodę [`.duplicated()`](https://pandas.pydata.org/pandas-docs/stable/reference/api/pandas.DataFrame.duplicated.html). Użyjmy tego w naszej ramce danych, aby zobaczyć, co zwraca"
   ]
  },
  {
   "cell_type": "code",
   "execution_count": null,
   "metadata": {
    "id": "fslvxoC7LYrS",
    "colab": {
     "base_uri": "https://localhost:8080/"
    },
    "outputId": "dcb4b76c-c797-4f70-afff-6a3907bd0408",
    "ExecuteTime": {
     "start_time": "2024-01-06T17:02:05.310012900Z"
    }
   },
   "outputs": [],
   "source": [
    "flights_df.duplicated()"
   ]
  },
  {
   "cell_type": "markdown",
   "metadata": {
    "id": "qm1kK2YaLYrU"
   },
   "source": [
    "Zauważ, że możemy użyć `.sum()` do wartości logicznych. Zasadniczo False są interpretowane jako 0, a True jako 1. Tak więc sumując ramkę danych, możemy uzyskać całkowitą liczbę zduplikowanych wartości!"
   ]
  },
  {
   "cell_type": "code",
   "execution_count": null,
   "metadata": {
    "id": "2XJBdjnnLYrU",
    "colab": {
     "base_uri": "https://localhost:8080/"
    },
    "outputId": "9af85fd5-6fa7-4715-f1a4-45b2e216230d",
    "ExecuteTime": {
     "start_time": "2024-01-06T17:02:05.310012900Z"
    }
   },
   "outputs": [],
   "source": [
    "flights_df.duplicated().sum()"
   ]
  },
  {
   "cell_type": "markdown",
   "metadata": {
    "id": "DfU3KHMXLYrV"
   },
   "source": [
    "Brak duplikatów to dobry wynik, ale nie dajmy się zwieść. Przypomnijmy sobie duplikat Jane Smith powyżej. Zduplikowana metoda nie zwróciłaby wartości true, ponieważ cały wiersz nie był dokładnym duplikatem. Dlatego możemy w metodzie `.duplicated()` skorzystać z dwóch argumentów: `subset` i `keep`. Dla argumentu subset podaj listę nazw kolumn, w których chcemy sprawdzić duplikaty, a w argumencie keep podaj  1 z 3 wartości: „pierwsza”, „ostatnia” lub „Fałsz”. Z dokumentacji wiemy, że:\n",
    "- `first` : Oznacz duplikaty jako True z wyjątkiem pierwszego wystąpienia.\n",
    "- `last` : Zaznacz duplikaty jako True z wyjątkiem ostatniego wystąpienia.\n",
    "- `False` : Oznacz wszystkie duplikaty jako True.\n",
    "\n",
    "W wielu przypadkach wybranie podzbioru jest bardziej intuicyjne niż naukowe."
   ]
  },
  {
   "cell_type": "code",
   "execution_count": null,
   "metadata": {
    "id": "DiIyZOlwLYrV",
    "colab": {
     "base_uri": "https://localhost:8080/",
     "height": 1000
    },
    "outputId": "c7d21357-3c93-40f3-9aa1-46b7c2f7ca26",
    "ExecuteTime": {
     "start_time": "2024-01-06T17:02:05.310012900Z"
    }
   },
   "outputs": [],
   "source": [
    "## Znajdź duplikaty w ramce danych lotów w następujących kolumnach, ustaw keep = False:\n",
    " # \"ORIGAIRPORTNAME\", \"DESTAIRPORTNAME\", \"AIRLINECODE\", \"FLIGHTDATE\", \"CRSDEPTIME\", \"DEPTIME\", \"ARRTIME\"\n",
    " # Przypisz to zmiennej 'duplicates'\n",
    " # Czy wybrałam dobre klolumny? Postąpiłbyś inaczej?\n",
    "duplicates = flights_df.duplicated(subset=[\"ORIGAIRPORTNAME\", \"DESTAIRPORTNAME\", \"AIRLINECODE\", \"FLIGHTDATE\", \"CRSDEPTIME\", \"DEPTIME\", \"ARRTIME\"], keep=False)\n",
    "\n",
    "# Używając df[duplikaty], zwracane są punkty danych, w których istnieją duplikaty.\n",
    "## Zwróć duplikaty dla ramki danych lotów\n",
    "flights_df[duplicates]"
   ]
  },
  {
   "cell_type": "markdown",
   "metadata": {
    "id": "2hzEsurbLYrW"
   },
   "source": [
    "Jako drugorzędną obserwację widzimy, że „TALINUM” również przyjmuje wartość „UNKNOWN” dla brakujących wartości. Zanotujemy to, abyśmy mogli zająć się tym później.\n",
    "\n",
    "Aby posortować naszą ramkę danych, możemy użyć metody [`.sort_values()`](https://pandas.pydata.org/pandas-docs/stable/reference/api/pandas.DataFrame.sort_values.html). Przeczytaj dokumentację i użyj tej metody, aby posortować ramkę danych według nazwy kolumny, która Twoim zdaniem jest odpowiednia (taka, która pozwala łatwo zweryfikować, czy zwrócone wpisy są faktycznymi duplikatami)."
   ]
  },
  {
   "cell_type": "markdown",
   "source": [],
   "metadata": {
    "collapsed": false
   }
  },
  {
   "cell_type": "code",
   "execution_count": null,
   "metadata": {
    "id": "jnqXT_zULYrX",
    "colab": {
     "base_uri": "https://localhost:8080/",
     "height": 1000
    },
    "outputId": "5e4ff4df-e6ab-4f37-afa7-9fd8964ae17b",
    "ExecuteTime": {
     "start_time": "2024-01-06T17:02:05.310012900Z"
    }
   },
   "outputs": [],
   "source": [
    "## Posortuj zduplikowane wartości według odpowiedniego indeksu\n",
    "flights_df[duplicates].sort_values(\"FLIGHTDATE\")\n"
   ]
  },
  {
   "cell_type": "code",
   "execution_count": null,
   "metadata": {
    "scrolled": false,
    "id": "t0y9FfuLLYrY",
    "colab": {
     "base_uri": "https://localhost:8080/"
    },
    "outputId": "b42f461f-3d2e-47fc-db79-cbaad8f7183a",
    "ExecuteTime": {
     "start_time": "2024-01-06T17:02:05.310012900Z"
    }
   },
   "outputs": [],
   "source": [
    "flights_df[\"TAILNUM\"].isna().sum()"
   ]
  },
  {
   "cell_type": "markdown",
   "metadata": {
    "id": "ioHBRmk8LYrZ"
   },
   "source": [
    "### Radzenie sobie z duplikatami\n",
    "\n",
    "Mamy dwie opcje:\n",
    "1. Uśrednienie wartości, tam gdzie to możliwe\n",
    "2. Usunięcie jednego z duplikatów (lub wielu, tak by pozostał pojedynczy wiersz)\n",
    "\n",
    "\n",
    "##### Uśrednianie\n",
    "\n",
    "Uśrednianie po zduplikowanych wartościach można tak naprawdę wykonać tylko na typach danych, które mają sens. W powyższej tabeli pierwsze dwa wpisy mają prawidłowe czasy, które możemy uśrednić. Ogólnie rzecz biorąc, sposób, w jaki uśredniamy, to grupowanie według odpowiednich kolumn (poprzez `.groupby()`) i łączenie tego z funkcją `.agg()`. W tym przypadku chcemy pogrupować wg kolumn w podzbiorze poza kolumnami, które nas interesują (np. wg. czasu). Naszym argumentem do `.agg()` jest słownik z parami klucz-wartość nazw kolumn i funkcją agregacji, którą chcemy nad nimi zastosować (np. suma, różnica, średnia itp.)."
   ]
  },
  {
   "cell_type": "code",
   "execution_count": null,
   "metadata": {
    "scrolled": false,
    "tags": [],
    "id": "tRu5jXOwLYrc",
    "colab": {
     "base_uri": "https://localhost:8080/",
     "height": 780
    },
    "outputId": "c5cbc604-2ad8-493f-d2b1-799c7b2a2b9d",
    "ExecuteTime": {
     "start_time": "2024-01-06T17:02:05.310012900Z"
    }
   },
   "outputs": [],
   "source": [
    "summaries = {\"CRSARRTIME\": \"mean\", \"ARRTIME\": \"mean\", \"ARRDELAY\": \"mean\", \"CRSELAPSEDTIME\": \"mean\", \"ACTUALELAPSEDTIME\": \"mean\"}\n",
    "\n",
    "grouped_duplicates = flights_df[duplicates].groupby([\"FLIGHTDATE\", \"AIRLINECODE\", \"ORIGAIRPORTNAME\", \"DESTAIRPORTNAME\"])\n",
    "grouped_duplicates_min_transactionid = grouped_duplicates[\"TRANSACTIONID\"].min().reset_index()\n",
    "\n",
    "f_df_duplicates = pd.merge(\n",
    "    grouped_duplicates_min_transactionid,\n",
    "    grouped_duplicates.agg(summaries).reset_index(),\n",
    "    how=\"inner\"\n",
    ").sort_values(\"TRANSACTIONID\")\n",
    "\n",
    "f_df_duplicates\n"
   ]
  },
  {
   "cell_type": "markdown",
   "source": [],
   "metadata": {
    "id": "nEWgXqT-ri_O"
   }
  },
  {
   "cell_type": "code",
   "execution_count": null,
   "metadata": {
    "id": "3AEEhirqLYrd",
    "colab": {
     "base_uri": "https://localhost:8080/",
     "height": 1000
    },
    "outputId": "cc81103e-179e-409e-a3b1-43012ae7efa2",
    "ExecuteTime": {
     "start_time": "2024-01-06T17:02:05.310012900Z"
    }
   },
   "outputs": [],
   "source": [
    "# Dlaczego w polu TRANSACTIONID jest teraz tak wiele nowych NaN?\n",
    "## Jak się ich pozbyć?\n",
    "f_df_duplicates = f_df_duplicates.dropna(subset=[\"TRANSACTIONID\"])\n",
    "\n",
    "## Ponownie zakoduj TRANSACTIONID do int64\n",
    "f_df_duplicates[\"TRANSACTIONID\"] = f_df_duplicates[\"TRANSACTIONID\"].astype(\"int64\")\n",
    "f_df_duplicates"
   ]
  },
  {
   "cell_type": "code",
   "execution_count": null,
   "metadata": {
    "tags": [],
    "id": "Njgc4uqVLYrh",
    "ExecuteTime": {
     "start_time": "2024-01-06T17:02:05.323023600Z"
    }
   },
   "outputs": [],
   "source": [
    "# Metoda .update() pozwala nam aktualizować rekordy w jednej ramce danych na podstawie wartości w innej\n",
    "# Potrzebny jest pewien sposób \"powiązania\" rekordów do nadpisania/aktualizacji, jeśli nie chcemy używać domyślnego indeksu ramki danych\n",
    "## Tak więc, używając metody .set_index(), ustaw ramkom flight_df i f_df_duplicates nowy indeks na unikalny klucz indentifera, który obaj współdzielą\n",
    "flights_df = flights_df.set_index(\"TRANSACTIONID\")\n",
    "f_df_duplicates = f_df_duplicates.set_index(\"TRANSACTIONID\")\n",
    "\n",
    "# Teraz możemy zaktualizować ramkę flight_df o nową ramkę danych\n",
    "flights_df.update(f_df_duplicates)\n",
    "\n",
    "## I na koniec możemy opcjonalnie zresetować indeks, aby uzyskać domyślne indeksowanie ramki danych\n",
    "flights_df=flights_df.reset_index()"
   ]
  },
  {
   "cell_type": "code",
   "source": [
    "flights_df.head(2)"
   ],
   "metadata": {
    "colab": {
     "base_uri": "https://localhost:8080/",
     "height": 280
    },
    "id": "_NF3Rpuos1tn",
    "outputId": "e4886ada-2d7a-475e-ed50-4cf5829713b5",
    "ExecuteTime": {
     "start_time": "2024-01-06T17:02:05.323023600Z"
    }
   },
   "execution_count": null,
   "outputs": []
  },
  {
   "cell_type": "code",
   "execution_count": null,
   "metadata": {
    "id": "Ti9zul4uLYri",
    "colab": {
     "base_uri": "https://localhost:8080/",
     "height": 197
    },
    "outputId": "1161ac56-81f6-452d-b01c-d36ac4d4526a",
    "ExecuteTime": {
     "start_time": "2024-01-06T17:02:05.323023600Z"
    }
   },
   "outputs": [],
   "source": [
    "flights_df[flights_df[\"TRANSACTIONID\"]==1974100]"
   ]
  },
  {
   "cell_type": "markdown",
   "metadata": {
    "id": "mhE7iHqPLYrj"
   },
   "source": [
    "##### Usuwanie duplikatów\n",
    "\n",
    "Jeśli chodzi o usuwanie duplikatów, Pandas udostępnia nam metodę `.drop_duplicates()`, która przyjmuje trzy argumenty:\n",
    "1. `subset`\n",
    "2. `keep`\n",
    "3. `inplace` - wartość boolean, czy chcemy nadpisać ramkę czy nie"
   ]
  },
  {
   "cell_type": "code",
   "execution_count": null,
   "metadata": {
    "id": "uWTWGoZmLYrj",
    "colab": {
     "base_uri": "https://localhost:8080/"
    },
    "outputId": "e6e98074-e363-45f3-d9d4-889a1e17b03d",
    "ExecuteTime": {
     "start_time": "2024-01-06T17:02:05.323023600Z"
    }
   },
   "outputs": [],
   "source": [
    "subset = [\"ORIGAIRPORTNAME\", \"DESTAIRPORTNAME\", \"AIRLINECODE\", \"FLIGHTDATE\", \"CRSDEPTIME\", \"DEPTIME\", \"ARRTIME\"]\n",
    "## Używając inplace = True, usuń duplikaty. Zastanów się, jaką wartość powinniśmy ustawić argumentowi keep\n",
    "flights_df.drop_duplicates(subset, 'first', inplace=True)"
   ]
  },
  {
   "cell_type": "code",
   "execution_count": null,
   "metadata": {
    "scrolled": false,
    "id": "b2E4w_2nLYrk",
    "colab": {
     "base_uri": "https://localhost:8080/",
     "height": 496
    },
    "outputId": "92454a6d-446e-4943-bcfb-33d91cf26cb4",
    "ExecuteTime": {
     "start_time": "2024-01-06T17:02:05.323023600Z"
    }
   },
   "outputs": [],
   "source": [
    "flights_df[duplicates].tail()"
   ]
  },
  {
   "cell_type": "markdown",
   "metadata": {
    "id": "7b0dzVwRLYrl"
   },
   "source": [
    "## Dane kategoryczne\n",
    "\n",
    "Wspomnieliśmy już o danych kategorycznych wcześniej, ale tutaj bardziej szczegółowo zdefiniujemy to pojęcie. Zmienne danych kategorycznych przyjmują swoją wartość z predefiniowanego zestawu kategorii. Widzieliśmy powyższy przykład z kodami AIRLINE.\n",
    "\n",
    "Czy poniższe zmienne są kategoryczne?\n",
    "- TAILNUM\n",
    "- FLIGHTNUM\n",
    "- ORIGINAIRPORTCODE\n",
    "- ORIGAIRPORTNAME\n",
    "- CANCELLED\n",
    "\n",
    "A kolumny w poniższej tabeli?\n",
    "\n",
    "<table>\n",
    "    <tr>\n",
    "        <td><b>First Name</b></td>\n",
    "        <td><b>Last Name</b></td>\n",
    "        <td><b>Age</b></td>\n",
    "        <td><b>Address</b></td>\n",
    "        <td><b>District Postcode</b></td>\n",
    "        <td><b>Full Postcode</b></td>\n",
    "        <td><b>Married</b><td>\n",
    "    </tr>\n",
    "    <tr>\n",
    "        <td>John</td>\n",
    "        <td>Doe</td>\n",
    "        <td>31</td>\n",
    "        <td>123 Fake Street, Realtown</td>\n",
    "        <td>RT1</td>\n",
    "        <td>RT1 3NV</td>\n",
    "        <td>True</td>\n",
    "    </tr>\n",
    "    <tr>\n",
    "        <td>Diane</td>\n",
    "        <td>Smith</td>\n",
    "        <td>31</td>\n",
    "        <td>42 World Road, Realtown</td>\n",
    "        <td>RT2</td>\n",
    "        <td>RT2 7XU</td>\n",
    "        <td>False</td>\n",
    "    </tr>\n",
    "    <tr>\n",
    "        <td>Kate</td>\n",
    "        <td>Doe</td>\n",
    "        <td>29</td>\n",
    "        <td>123 Fake Street, Realtown</td>\n",
    "        <td>RT1</td>\n",
    "        <td>RT1 3NV</td>\n",
    "        <td>False</td>\n",
    "    </tr>\n",
    "    <tr>\n",
    "        <td>Charlie</td>\n",
    "        <td>Doe</td>\n",
    "        <td>33</td>\n",
    "        <td>789 Real Road, Fakecity</td>\n",
    "        <td>FC2</td>\n",
    "        <td>FC2 9ER</td>\n",
    "        <td>True</td>        \n",
    "    </tr>    \n",
    "</table>\n",
    "Dane kategoryczne mogą przyjmować tylko jedną ze skończonego zestawu wartości i nie jest możliwe, aby wykroczyły poza te uprzednio zdefiniowane kategorie. Jednak podczas procesu zbierania danych może wystąpić szum w naszych danych (np. jeśli nasze dane kategoryczne zostały zebrane za pomocą okienka tekstowego do wprowadzania dowolnej treści).\n",
    "\n",
    "\n",
    "Istnieje kilka sposobów radzenia sobie z niespójnymi kategoriami:\n",
    "1. Usuwanie danych\n",
    "2. Zmiana mapowania kategorii\n",
    "3. Wnioskowanie kategorii\n",
    "\n",
    "### Usuwanie danych\n",
    "\n",
    "\n",
    "Przyjrzyjmy się kolumnie `ORIGINSTATENAME`. Usunięcie danych jest wymagane, gdy mamy wartość, która w naszym wpisie nie znajduje się (koncepcyjnie) we wstępnie zdefiniowanym zestawie kategorii. Zaczniemy od zwrócenia wszystkich unikalnych wartości w zmiennej."
   ]
  },
  {
   "cell_type": "code",
   "execution_count": null,
   "metadata": {
    "id": "sW8mXOLhLYrl",
    "colab": {
     "base_uri": "https://localhost:8080/"
    },
    "outputId": "a5714ada-445b-4cd4-84f9-2d98b6dc849b",
    "ExecuteTime": {
     "start_time": "2024-01-06T17:02:05.323023600Z"
    }
   },
   "outputs": [],
   "source": [
    "## skonstruuj zbiór unikalnych wartości w ORIGINSTATENAME\n",
    "states = set(flights_df[\"ORIGINSTATENAME\"])\n",
    "states"
   ]
  },
  {
   "cell_type": "markdown",
   "metadata": {
    "id": "vuKmhBJDLYrm"
   },
   "source": [
    "Załóżmy teraz, że otrzymaliśmy kilka nowych wpisów, których nazwy stanów nie występują w tym predefiniowanym zestawie kategorii (na przykład „Fakestate”)."
   ]
  },
  {
   "cell_type": "code",
   "execution_count": null,
   "metadata": {
    "id": "PJKExsdqLYrm",
    "ExecuteTime": {
     "start_time": "2024-01-06T17:02:05.323023600Z"
    }
   },
   "outputs": [],
   "source": [
    "## używając metody .at() lub .iat() na flight_df, zmodyfikuj jeden z wierszy\n",
    "## w naszej tabeli, aby mieć ORIGINSTATENAME jako Fakestate\n",
    "# https://pandas.pydata.org/pandas-docs/stable/reference/api/pandas.DataFrame.at.html\n",
    "flights_df.at[len(flights_df), \"ORIGINSTATENAME\"] = \"Fakestate\""
   ]
  },
  {
   "cell_type": "code",
   "execution_count": null,
   "metadata": {
    "id": "emj6CK9iLYrm",
    "colab": {
     "base_uri": "https://localhost:8080/"
    },
    "outputId": "a5af39ec-f2df-4123-8f6b-a3be5f40d663",
    "ExecuteTime": {
     "start_time": "2024-01-06T17:02:05.323023600Z"
    }
   },
   "outputs": [],
   "source": [
    "# Wyświetl unikalne wpisy w ORIGINSTATENAME w naszej zmodyfikowanej ramce danych\n",
    "flights_df[\"ORIGINSTATENAME\"].unique()\n",
    "# LUB set(flights_df[\"ORIGINSTATENAME\"])"
   ]
  },
  {
   "cell_type": "code",
   "execution_count": null,
   "metadata": {
    "id": "8XQau4l5LYrn",
    "colab": {
     "base_uri": "https://localhost:8080/"
    },
    "outputId": "9abbe740-d901-4f77-add2-9f534595bc5a",
    "ExecuteTime": {
     "start_time": "2024-01-06T17:02:05.323023600Z"
    }
   },
   "outputs": [],
   "source": [
    "## Korzystając z operacji set, znajdź różnicę między stanami początkowymi w naszej ramce danych a naszą predefiniowaną listą\n",
    "inconsistent_categories = set(flights_df[\"ORIGINSTATENAME\"]).difference(states)\n",
    "inconsistent_categories"
   ]
  },
  {
   "cell_type": "code",
   "execution_count": null,
   "metadata": {
    "id": "5LRnimYGLYrn",
    "colab": {
     "base_uri": "https://localhost:8080/",
     "height": 197
    },
    "outputId": "4dddd891-fc7f-4f6c-b20b-5af1a81c82f5",
    "ExecuteTime": {
     "start_time": "2024-01-06T17:02:05.323023600Z"
    }
   },
   "outputs": [],
   "source": [
    "# Metoda .isin zwraca wszystkie wiersze z ramki danych, w których został spełniony p[rzekazany warunek]\n",
    "inconsistent_rows = flights_df[\"ORIGINSTATENAME\"].isin(inconsistent_categories)\n",
    "flights_df[inconsistent_rows]"
   ]
  },
  {
   "cell_type": "code",
   "execution_count": null,
   "metadata": {
    "id": "n6e7KsZWLYro",
    "ExecuteTime": {
     "start_time": "2024-01-06T17:02:05.338659100Z"
    }
   },
   "outputs": [],
   "source": [
    "# Sprytna sztuczka, której możemy użyć do usunięcia wierszy\n",
    "# Jak myślisz, co oznacza ~?\n",
    "flights_df = flights_df[~inconsistent_rows]"
   ]
  },
  {
   "cell_type": "code",
   "source": [
    "set(flights_df['ORIGINSTATENAME'])"
   ],
   "metadata": {
    "id": "bS51Zn6hvNxD",
    "ExecuteTime": {
     "start_time": "2024-01-06T17:02:05.338659100Z"
    }
   },
   "execution_count": null,
   "outputs": []
  },
  {
   "cell_type": "code",
   "source": [],
   "metadata": {
    "id": "eEH_Q-kTvNv-",
    "ExecuteTime": {
     "start_time": "2024-01-06T17:02:05.338659100Z"
    }
   },
   "execution_count": null,
   "outputs": []
  },
  {
   "cell_type": "markdown",
   "metadata": {
    "id": "UhfXnORSLYro"
   },
   "source": [
    "### Zmiana mapowania kategorii\n",
    "\n",
    "To, co widzieliśmy powyżej, to dane, których nie było w predefiniowanym zestawie kategorii. Jednak możemy również natknąć się na inny rodzaj problemów z danymi kategorycznymi, które lepiej rozwiązywać poprzez ponowne mapowanie kategorii niż usuwanie danych. Odpowiednie miejsca do wykonania tego ponownego mapowania to:\n",
    "1. **Niespójność wartości**: „żonaty”, „niezamężna”, „stanu wolnego”, „ożeniony” <br>\n",
    " 1. Uważaj też na końcowe białe znaki!\n",
    "2. **Konwertowanie danych na kategorie lub zbyt wiele kategorii**: Załóżmy, że w naszej ramce danych mamy kolumnę dochodu gospodarstwa domowego.\n",
    " 1. Możemy zmienić ten typ danych na kategoryczny, grupując dochody (np. `0 - 20k`, `20k - 40k`, `40k - 60k`, `60k +` itd.).\n",
    " 2. Możemy również zredukować to dalej do `low_class`, `middle_class`, `upper_class`\n",
    "\n",
    "Zajmijmy się nimi w kolejności. W naszej ramce danych lotów kolumny „CANCELLED” i „DIVERTED” przyjmują niespójne wartości. Być może najbezpieczniejszą opcją jest uruchomienie `.value_counts()` na jednej z tych kolumn (`.value_counts()` działa na danych typu `Series`)"
   ]
  },
  {
   "cell_type": "code",
   "execution_count": null,
   "metadata": {
    "id": "CigO83vkLYro",
    "colab": {
     "base_uri": "https://localhost:8080/"
    },
    "outputId": "7528671e-5b41-4256-de60-b3d7ea08c563",
    "ExecuteTime": {
     "start_time": "2024-01-06T17:02:05.338659100Z"
    }
   },
   "outputs": [],
   "source": [
    "flights_df[\"CANCELLED\"].value_counts()"
   ]
  },
  {
   "cell_type": "markdown",
   "metadata": {
    "id": "MtZjIeBlLYrp"
   },
   "source": [
    "Świetnie! Widzimy więc, że nasze Fałszywe wartości mogą przyjąć jedną z trzech wartości, a wartości Prawdy też są podobne. Możemy arbitralnie wykorzystać te, których chcemy użyć, posuwając się do przodu. Dla jednoznaczności wybierzmy odpowiednio False i True."
   ]
  },
  {
   "cell_type": "code",
   "execution_count": null,
   "metadata": {
    "id": "Eb4UloJQLYrs",
    "colab": {
     "base_uri": "https://localhost:8080/"
    },
    "outputId": "3fad5ade-df12-4961-cac4-94c7711f6152",
    "ExecuteTime": {
     "start_time": "2024-01-06T17:02:05.338659100Z"
    }
   },
   "outputs": [],
   "source": [
    "## Skorzystaj z metody replace: https://pandas.pydata.org/pandas-docs/stable/reference/api/pandas.Series.replace.html\n",
    "## Aby zamienić 0, F, 1 and T na odpowiadające wartości w kolumnie CANCELLED\n",
    "flights_df[\"CANCELLED\"].replace([\"0\", \"F\"], \"False\", inplace=True)\n",
    "flights_df[\"CANCELLED\"].replace([\"1\", \"T\"], \"True\", inplace=True)\n",
    "flights_df[\"CANCELLED\"].value_counts()"
   ]
  },
  {
   "cell_type": "code",
   "execution_count": null,
   "metadata": {
    "id": "e_O-7fSVLYrt",
    "colab": {
     "base_uri": "https://localhost:8080/"
    },
    "outputId": "a10f639f-7a1e-47b9-b4be-aba7baf26258",
    "ExecuteTime": {
     "start_time": "2024-01-06T17:02:05.338659100Z"
    }
   },
   "outputs": [],
   "source": [
    "flights_df[\"DIVERTED\"].value_counts()"
   ]
  },
  {
   "cell_type": "code",
   "execution_count": null,
   "metadata": {
    "id": "FF16YDZhLYrv",
    "colab": {
     "base_uri": "https://localhost:8080/"
    },
    "outputId": "218382fb-7852-449f-e970-2fc6b01cda8c",
    "ExecuteTime": {
     "start_time": "2024-01-06T17:02:05.338659100Z"
    }
   },
   "outputs": [],
   "source": [
    "# Możemy alternatywnie użyć słownika, aby \"zredukować\" nasze kategorie.\n",
    "mapping = {\"F\": \"False\", \"0\": \"False\", \"1\": \"True\", \"T\": \"True\"}\n",
    "flights_df[\"DIVERTED\"] = flights_df[\"DIVERTED\"].replace(mapping)\n",
    "flights_df[\"DIVERTED\"].value_counts()"
   ]
  },
  {
   "cell_type": "markdown",
   "metadata": {
    "id": "GQz1nopdLYrv"
   },
   "source": [
    "Jak wspomniano wcześniej, inną sytuacją, w której możemy chcieć ponownie przyporządkować kategorie, jest zmniejszenie liczby wartości w kolumnie. W naszym przypadku załóżmy, że firma lotnicza chciałaby sklasyfikować loty na podstawie długości tras. Tak więc wszystko między 0 a 1000 mil jest `short`, między 1000 a 2500 to `medium`, a 2500+ to `long`.\n",
    "\n",
    "Możemy użyć metody [`.cut`](https://pandas.pydata.org/pandas-docs/stable/reference/api/pandas.cut.html) aby zaklasyfikować dane. Musimy podać 3 argumenty:\n",
    "1. `Series`, którą chcemy sklasyfikować\n",
    "2. Bins - liczbę przedziałów\n",
    "3. Labels - etykiety do przypisania przydziałom"
   ]
  },
  {
   "cell_type": "code",
   "execution_count": null,
   "metadata": {
    "id": "xXkSml-3LYrw",
    "colab": {
     "base_uri": "https://localhost:8080/",
     "height": 528
    },
    "outputId": "d4d0d585-240d-462d-a3bf-52f7f2b306d9",
    "ExecuteTime": {
     "start_time": "2024-01-06T17:02:05.338659100Z"
    }
   },
   "outputs": [],
   "source": [
    "import numpy as np\n",
    "\n",
    "bins = [0, 1000, 2500, np.inf]\n",
    "labels = [\"short\", \"medium\", \"long\"]\n",
    "flights_df[\"DISTANCE_CATEGORY\"] = pd.cut(flights_df[\"DISTANCE\"], bins=bins, labels=labels)\n",
    "\n",
    "flights_df[[\"DISTANCE\", \"DISTANCE_CATEGORY\"]]"
   ]
  },
  {
   "cell_type": "code",
   "execution_count": null,
   "metadata": {
    "scrolled": false,
    "id": "spKk3mZkLYrw",
    "colab": {
     "base_uri": "https://localhost:8080/",
     "height": 870
    },
    "outputId": "421a02d4-e7e8-46fe-ea9a-c5ee2c04a733",
    "ExecuteTime": {
     "start_time": "2024-01-06T17:02:05.338659100Z"
    }
   },
   "outputs": [],
   "source": [
    "flights_df[flights_df[\"DISTANCE_CATEGORY\"] == \"long\"]"
   ]
  },
  {
   "cell_type": "markdown",
   "metadata": {
    "id": "f9NPqHsLLYrx"
   },
   "source": [
    "### Radzenie sobie z danymi datoczasowymi\n",
    "\n",
    "Jednym z typowych problemów, z którymi się spotkasz, jest zajmowanie się datami i godzinami. Czemu? Ponieważ istnieje wiele sposobów formatowania daty, na przykład `DD/MM/RRRR`, `MM/DD/RR`, `X. MIESIĄC ROK` itp. W powyżej ramce danych nasze daty są w rzeczywistości sformatowane jako jedna numer. Pandas dostarcza nam przydatnego pomocnika do konstruowania dat i godzin — to znaczy metodę [`.to_datetime()`](https://pandas.pydata.org/pandas-docs/stable/reference/api/pandas.to_datetime.html ).\n",
    "\n",
    "Zanim się tym zajmiemy, warto szybko przedstawić, w jaki sposób daty są zwykle przechowywane na komputerach. Zazwyczaj daty są obliczane na podstawie liczby sekund, które upłynęły od **1 stycznia 1970**. Gdy chcemy, znaleźć różnicę w czasie między 3.02.2013 16:00 a 21.01.2013 09:00, program wykonuje swoje operacje na **czasie Epoka/Unix/POSIX** dla tych wartości, a następnie możemy coś zakodować, aby otrzymać wartość z powrotem w wybranym przez nas formacie (np. 13 dni, 7 godzin). Posługując się liczbami:\n",
    "\n",
    "- **3/2/2013 16:00** = 1,359,907,200\n",
    "- **21/1/2013 09:00** = 1,358,758,800\n",
    "\n",
    "Różnica w datach = 1,359,907,200 - 1,358,758,800 = 1,148,400 sekund\n",
    "\n",
    "`format(1148400) = 13 dni, 7 godzin`\n",
    "\n",
    "Przykłady formatowania dat:\n",
    "<table>\n",
    "    <tr>\n",
    "        <td><b>Date</b></td>\n",
    "        <td><b>Datetime format</b></td>\n",
    "    </tr>\n",
    "    <tr>\n",
    "        <td>15th June 2020</td>\n",
    "        <td>%c</td>\n",
    "    </tr>\n",
    "    <tr>\n",
    "        <td>15/06/2020</td>\n",
    "        <td>%d/%m/%Y</td>\n",
    "    </tr>\n",
    "    <tr>\n",
    "        <td>06-15-2020</td>\n",
    "        <td>%m-%d-%Y</td>\n",
    "    </tr>\n",
    "</table>\n"
   ]
  },
  {
   "cell_type": "code",
   "execution_count": null,
   "metadata": {
    "id": "KYdrXAWsLYrx",
    "colab": {
     "base_uri": "https://localhost:8080/"
    },
    "outputId": "6c424f93-725a-493d-d19e-edab4c3509d3",
    "ExecuteTime": {
     "start_time": "2024-01-06T17:02:05.338659100Z"
    }
   },
   "outputs": [],
   "source": [
    "pd.to_datetime(flights_df[\"FLIGHTDATE\"])"
   ]
  },
  {
   "cell_type": "markdown",
   "metadata": {
    "id": "AkrrldXzLYry"
   },
   "source": [
    "To dlaczego teraz wszystkie daty to 1970-01-01?\n",
    "\n",
    "A to dlatego, że daty są wewnętrznie przechowywane jako sekundy (liczby). Nasza kolumna `FLIGHTDATE` również wyświetla daty lotów w postaci liczb. Tak więc, kiedy uruchamiamy metodę `.to_datetime()`, wszystkie nasze daty są interpretowane jako czas POSIX.\n",
    "\n",
    "Jednym z prostych rozwiązań, aby to naprawić, jest jawne określenie naszego formatu daty i godziny. Biorąc pod uwagę powyższe przykłady, jak myślisz, jaki będzie format daty?\n",
    "One simple solution we can do to fix that is to explicitly specify our datetime?"
   ]
  },
  {
   "cell_type": "code",
   "execution_count": null,
   "metadata": {
    "id": "R4IkNWSiLYrz",
    "colab": {
     "base_uri": "https://localhost:8080/"
    },
    "outputId": "ecc47358-ff4b-47be-f762-b9cdd34223d9",
    "ExecuteTime": {
     "start_time": "2024-01-06T17:02:05.354283700Z"
    }
   },
   "outputs": [],
   "source": [
    "## Przypisywanie formatu\n",
    "date_format = \"%Y%m%d\"\n",
    "flights_df[\"FLIGHTDATE\"] = pd.to_datetime(flights_df[\"FLIGHTDATE\"], format=date_format)\n",
    "flights_df[\"FLIGHTDATE\"]"
   ]
  },
  {
   "cell_type": "markdown",
   "metadata": {
    "id": "TVs0VDyQLYr1"
   },
   "source": [
    "To rozwiązanie było dość specyficzne dla problemu, który mieliśmy pod ręką. Ale w prawdziwym świecie często można napotkać mieszane formaty dat w jednej ramce danych. Na przykład:\n",
    "\n",
    "<table>\n",
    "    <tr>\n",
    "        <td><b>Name</b></td>\n",
    "        <td><b>Date of Birth</b></td>\n",
    "        <td><b>Age</b></td>\n",
    "    </tr>\n",
    "    <tr>\n",
    "        <td>John</td>\n",
    "        <td>01/07/1995</td>\n",
    "        <td>25</td>\n",
    "    </tr>\n",
    "    <tr>\n",
    "        <td>Jane</td>\n",
    "        <td>20-04-1992</td>\n",
    "        <td>28</td>\n",
    "    </tr>\n",
    "    <tr>\n",
    "        <td>Mark</td>\n",
    "        <td>3rd January 1990</td>\n",
    "        <td>30</td>\n",
    "    </tr>\n",
    "    </table>\n",
    "\n",
    "\n",
    "`.to_datetime()` ponownie przychodzi tutaj na ratunek! W poprzedniej komórce kodu wyraźnie ustawiliśmy format daty (ze względu na nietypowy charakter sposobu przechowywania tej daty w ramce danych) - ale bardziej ogólnie możemy użyć `.to_datetime()`, aby automatycznie wywnioskować format każdej daty z osobna.\n",
    "\n",
    "```python\n",
    "# errors='coerce' means we'll return NA rows for invalid dates\n",
    "df[\"DATE\"] = pd.to_datetime(df[\"DATE\"], infer_datetime_format=True, errors='coerce')\n",
    "```"
   ]
  },
  {
   "cell_type": "markdown",
   "metadata": {
    "id": "powV2fiNLYr6"
   },
   "source": [
    "## Walidacja krzyżowa\n",
    "\n",
    "Co to znaczy sprawdzić integralność naszych danych? Zasadniczo musimy mieć świadomość, że kolumna danych, które widzimy, jest spójna w oparciu o inne kolumny danych. Właśnie to sprawdza się w **walidacji krzyżowej**. Zanim rozszerzę niektóre walidacje krzyżowe w tym zbiorze danych, przedstawię nieco bardziej trywialny przykład, aby pokazać, gdzie niewykonanie takich kontroli może zniekształcić analizę:\n",
    "\n",
    "Poniższa fikcyjna tabela pokazuje wpisy niektórych posiadaczy kredytów studenckich na studia licencjackich (UG) i podyplomowych (PG). Zestaw danych składa się z imienia i nazwiska kredytobiorcy, daty urodzenia (DOB), obecnego wieku (lub wieku zmarłego, jeśli dotyczy, niezależnie od tego, czy zmarli, czy też nie), kwoty ich kredytu UG i PG oraz całkowite kwoty, którą są winni – co powinno być sumą dwóch poprzednich pól. W poniższej tabeli zaznaczono wątpliwe pola kursywą.\n",
    "\n",
    "<table>\n",
    "    <tr>\n",
    "        <td><b>Name</b></td>\n",
    "        <td><b>D.O.B</b></td>\n",
    "        <td><b>Age</b></td>\n",
    "        <td><b>Deceased</b></td>\n",
    "        <td><b>U.G Loan (£)</b></td>\n",
    "        <td><b>P.G Loan (£)</b></td>\n",
    "        <td><b>Total Loan (£)</b></td>\n",
    "    </tr>\n",
    "    <tr>\n",
    "        <td>Idaline</td>\n",
    "        <td>1971-04-27</td>\n",
    "        <td>49</td>\n",
    "        <td>F</td>\n",
    "        <td>24100</td>\n",
    "        <td>11900</td>\n",
    "        <td>36000</td>\n",
    "    </tr>\n",
    "    <tr>\n",
    "        <td>Freddie</td>\n",
    "        <td>1962-12-27</td>\n",
    "        <td>57</td>\n",
    "        <td>F</td>\n",
    "        <td>26600</td>\n",
    "        <td>12600</td>\n",
    "        <td>39200</td>\n",
    "    </tr>\n",
    "    <tr>\n",
    "        <td>Debee</td>\n",
    "        <td>1970-11-19</td>\n",
    "        <td>49</td>\n",
    "        <td>F</td>\n",
    "        <td>32400</td>\n",
    "        <td>97000</td>\n",
    "        <td><i>42100</i></td>\n",
    "    </tr>\n",
    "    <tr>\n",
    "        <td>Joyann</td>\n",
    "        <td>1957-01-24</td>\n",
    "        <td><i>41</i></td>\n",
    "        <td>T</td>\n",
    "        <td>24400</td>\n",
    "        <td>11500</td>\n",
    "        <td>35900</td>\n",
    "    </tr>\n",
    "    <tr>\n",
    "        <td>Ajay</td>\n",
    "        <td>1960-05-12</td>\n",
    "        <td><i>50</i></td>\n",
    "        <td>F</td>\n",
    "        <td>25500</td>\n",
    "        <td>18800</td>\n",
    "        <td>44300</td>\n",
    "    </tr>\n",
    "    <tr>\n",
    "        <td>Emelia</td>\n",
    "        <td>1957-11-23</td>\n",
    "        <td><i>57</i></td>\n",
    "        <td>T</td>\n",
    "        <td>34000</td>\n",
    "        <td>17500</td>\n",
    "        <td><i>0</i></td>\n",
    "    </tr>\n",
    "            \n",
    "</table>\n",
    "            \n",
    "            ajay, emelia, joyann"
   ]
  },
  {
   "cell_type": "code",
   "execution_count": null,
   "metadata": {
    "id": "kR0z-XkwLYr6",
    "colab": {
     "base_uri": "https://localhost:8080/",
     "height": 238
    },
    "outputId": "f40607b9-fdf4-4c47-cab6-de258e3b71b5",
    "ExecuteTime": {
     "start_time": "2024-01-06T17:02:05.354283700Z"
    }
   },
   "outputs": [],
   "source": [
    "html_table = \"\"\"\n",
    "<table>\n",
    "    <tr>\n",
    "        <td><b>Name</b></td>\n",
    "        <td><b>D.O.B</b></td>\n",
    "        <td><b>Age</b></td>\n",
    "        <td><b>Deceased</b></td>\n",
    "        <td><b>U.G Loan (£)</b></td>\n",
    "        <td><b>P.G Loan (£)</b></td>\n",
    "        <td><b>Total Loan (£)</b></td>\n",
    "    </tr>\n",
    "    <tr>\n",
    "        <td>Idaline</td>\n",
    "        <td>19710427</td>\n",
    "        <td>50</td>\n",
    "        <td>F</td>\n",
    "        <td>24100</td>\n",
    "        <td>11900</td>\n",
    "        <td>36000</td>\n",
    "    </tr>\n",
    "    <tr>\n",
    "        <td>Freddie</td>\n",
    "        <td>19621227</td>\n",
    "        <td>58</td>\n",
    "        <td>F</td>\n",
    "        <td>26600</td>\n",
    "        <td>12600</td>\n",
    "        <td>39200</td>\n",
    "    </tr>\n",
    "    <tr>\n",
    "        <td>Debee</td>\n",
    "        <td>19701119</td>\n",
    "        <td>49</td>\n",
    "        <td>F</td>\n",
    "        <td>32400</td>\n",
    "        <td>97000</td>\n",
    "        <td><i>42100</i></td>\n",
    "    </tr>\n",
    "    <tr>\n",
    "        <td>Joyann</td>\n",
    "        <td>19570124</td>\n",
    "        <td><i>41</i></td>\n",
    "        <td>T</td>\n",
    "        <td>24400</td>\n",
    "        <td>11500</td>\n",
    "        <td>35900</td>\n",
    "    </tr>\n",
    "    <tr>\n",
    "        <td>Ajay</td>\n",
    "        <td>19600512</td>\n",
    "        <td><i>50</i></td>\n",
    "        <td>F</td>\n",
    "        <td>25500</td>\n",
    "        <td>18800</td>\n",
    "        <td>44300</td>\n",
    "    </tr>\n",
    "    <tr>\n",
    "        <td>Emelia</td>\n",
    "        <td>19571123</td>\n",
    "        <td><i>57</i></td>\n",
    "        <td>T</td>\n",
    "        <td>34000</td>\n",
    "        <td>17500</td>\n",
    "        <td><i>0</i></td>\n",
    "    </tr>\n",
    "\n",
    "</table>\n",
    "\"\"\"\n",
    "\n",
    "html_df = pd.read_html(html_table, header=0)[0]\n",
    "html_df"
   ]
  },
  {
   "cell_type": "markdown",
   "metadata": {
    "id": "S-i21GnyLYr-"
   },
   "source": [
    "Najpierw popracujmy nad zmienną **Age**. Zgodnie z naszą dokumentacją danych, wiek w komórce powinien odzwierciedlać aktualny wiek kredytobiorców. Wyjątkiem jest sytuacja, gdy kredytobiorca nie żyje, w którym to przypadku wiek powinien zawierać wiek kredytobiorcy w momencie jego śmierci. Najpierw ustalmy, które wiersze łamią ten warunek."
   ]
  },
  {
   "cell_type": "code",
   "execution_count": null,
   "outputs": [],
   "source": [],
   "metadata": {
    "collapsed": false,
    "ExecuteTime": {
     "start_time": "2024-01-06T17:02:05.354283700Z"
    }
   }
  },
  {
   "cell_type": "code",
   "execution_count": null,
   "metadata": {
    "id": "qepP679ELYr_",
    "colab": {
     "base_uri": "https://localhost:8080/"
    },
    "outputId": "c0b7495d-cb1d-4bb7-af10-411234a15114",
    "ExecuteTime": {
     "start_time": "2024-01-06T17:02:05.354283700Z"
    }
   },
   "outputs": [],
   "source": [
    "# najpierw zmieńmy nazwy niektórych kolumn\n",
    "html_df.columns = [\"name\", \"dob\", \"age\", \"deceased\", \"ug_loan\", \"pg_loan\", \"total_loan\"]\n",
    "html_df.info()"
   ]
  },
  {
   "cell_type": "code",
   "execution_count": null,
   "metadata": {
    "id": "yTLV5F1tLYsA",
    "colab": {
     "base_uri": "https://localhost:8080/",
     "height": 238
    },
    "outputId": "234ab4f0-ecff-456d-ffec-d33191e958c5",
    "ExecuteTime": {
     "start_time": "2024-01-06T17:02:05.354283700Z"
    }
   },
   "outputs": [],
   "source": [
    "## Zamie nmy 'dob' na obiekt date\n",
    "html_df[\"dob\"] = pd.to_datetime(html_df[\"dob\"], format=\"%Y%m%d\")\n",
    "html_df"
   ]
  },
  {
   "cell_type": "code",
   "execution_count": null,
   "metadata": {
    "id": "QxfQXSY7LYsA",
    "colab": {
     "base_uri": "https://localhost:8080/"
    },
    "outputId": "eb718eae-2d42-414c-d272-f72892fde5c9",
    "ExecuteTime": {
     "start_time": "2024-01-06T17:02:05.354283700Z"
    }
   },
   "outputs": [],
   "source": [
    "# Stwórz nową kolumnę „now_date” wypełnioną aktualną datą i godziną\n",
    "html_df[\"now_date\"] = pd.Timestamp(pd.datetime.now())\n",
    "\n",
    "## Oblicz różnicę między 'dob' i 'now_date' i zwróć wartość jako lata\n",
    "now_date_dob_difference = html_df[\"now_date\"] - html_df[\"dob\"]\n",
    "now_date_dob_difference"
   ]
  },
  {
   "cell_type": "code",
   "execution_count": null,
   "metadata": {
    "id": "OVZohQSNLYsB",
    "colab": {
     "base_uri": "https://localhost:8080/"
    },
    "outputId": "e8b21f14-a14c-4acf-c9dc-7e347bea1ac1",
    "ExecuteTime": {
     "start_time": "2024-01-06T17:02:05.354283700Z"
    }
   },
   "outputs": [],
   "source": [
    "# Ta linia zmienia obiekty timedate na rok zmiennoprzecinkowy, który następnie konwertujemy na int\n",
    "now_date_dob_difference = (now_date_dob_difference / np.timedelta64(1, 'Y')).astype(\"int64\")\n",
    "now_date_dob_difference"
   ]
  },
  {
   "cell_type": "code",
   "execution_count": null,
   "metadata": {
    "id": "pdbHB3J1LYsC",
    "colab": {
     "base_uri": "https://localhost:8080/",
     "height": 206
    },
    "outputId": "c3c12c38-9b1a-40c6-9d9e-19c4910b5477",
    "ExecuteTime": {
     "start_time": "2024-01-06T17:02:05.354283700Z"
    }
   },
   "outputs": [],
   "source": [
    "# Na oko możemy zobaczyć, który wiek nie pasuje do ramki danych, którą pokazaliśmy wcześniej.\n",
    "# Jednak ogólnie zakodujmy to za pomocą logiki pandas.\n",
    "## Zwróć wiersze, w których „now_date_dob_difference” różni się od zmiennej wieku ramki danych\n",
    "html_df[html_df[\"age\"] != now_date_dob_difference]"
   ]
  },
  {
   "cell_type": "markdown",
   "metadata": {
    "id": "EptEtKrqLYsC"
   },
   "source": [
    "Przyjrzyjmy się, dlaczego powyższe komórki zostały zwrócone. Jak wspomniano wcześniej, jeśli pożyczkobiorca nie żyje, jego wiek powinien to odzwierciedlać. Oznacza to, że wiek Joyann i Emelii jest rzeczywiście prawidłowy. Używając logiki, odfiltrujmy te wiersze, aby zwrócić tylko te wiersze, które mają matematycznie niepoprawny wiek."
   ]
  },
  {
   "cell_type": "code",
   "execution_count": null,
   "metadata": {
    "id": "929fTM1BLYsD",
    "colab": {
     "base_uri": "https://localhost:8080/",
     "height": 143
    },
    "outputId": "7ada3133-2cf0-40e0-b4a3-3c32393a37fc",
    "ExecuteTime": {
     "start_time": "2024-01-06T17:02:05.354283700Z"
    }
   },
   "outputs": [],
   "source": [
    "## Odfiltruj odpowiednich pożyczkodawców za pomocą logiki (wskazówka: &)\n",
    "incorrect_age_rows = html_df[(html_df[\"age\"] != now_date_dob_difference) & (html_df[\"deceased\"] == \"F\")]\n",
    "incorrect_age_rows"
   ]
  },
  {
   "cell_type": "code",
   "execution_count": null,
   "metadata": {
    "id": "i0TOPBMXLYsD",
    "colab": {
     "base_uri": "https://localhost:8080/",
     "height": 248
    },
    "outputId": "b245e7a3-bf1b-4a7b-c0e4-6d173fb4694e",
    "ExecuteTime": {
     "start_time": "2024-01-06T17:02:05.354283700Z"
    }
   },
   "outputs": [],
   "source": [
    "## Zaktualizuj ramkę danych invalid_age_rows o poprawiony wiek\n",
    "incorrect_age_rows[\"age\"] = ((incorrect_age_rows[\"now_date\"] - incorrect_age_rows[\"dob\"]) / np.timedelta64(1, 'Y')).astype(\"int64\")\n",
    "incorrect_age_rows"
   ]
  },
  {
   "cell_type": "code",
   "execution_count": null,
   "metadata": {
    "id": "RpUiCcuxLYsE",
    "colab": {
     "base_uri": "https://localhost:8080/",
     "height": 238
    },
    "outputId": "0580c2aa-1c50-4222-b85e-68afe8de088e",
    "ExecuteTime": {
     "start_time": "2024-01-06T17:02:05.354283700Z"
    }
   },
   "outputs": [],
   "source": [
    "## Teraz zaktualizuj odpowiednie wpisy html_df o kolumnę wieku z ramki danych invalid_age_rows\n",
    "html_df.update(incorrect_age_rows[\"age\"])\n",
    "html_df"
   ]
  },
  {
   "cell_type": "code",
   "execution_count": null,
   "metadata": {
    "id": "bDKWYHMlLYsE",
    "colab": {
     "base_uri": "https://localhost:8080/",
     "height": 238
    },
    "outputId": "76f05904-5741-44b7-e151-3050e2aaeabf",
    "ExecuteTime": {
     "start_time": "2024-01-06T17:02:05.354283700Z"
    }
   },
   "outputs": [],
   "source": [
    "## Konwertuj wiek z powrotem na int\n",
    "html_df[\"age\"] = html_df[\"age\"].astype(\"int64\")\n",
    "## Usuń kolumnę now_date\n",
    "html_df.drop(\"now_date\", axis=1, inplace=True)\n",
    "html_df"
   ]
  },
  {
   "cell_type": "markdown",
   "metadata": {
    "id": "6U-9GkR3LYsE"
   },
   "source": [
    "Popracujmy teraz nad kwotami pożyczki. Zwróć wszystkie kolumny, w których `ug_loan` + `pg_loan` nie są równe `total_loan`"
   ]
  },
  {
   "cell_type": "code",
   "execution_count": null,
   "metadata": {
    "id": "kco3vfiQLYsF",
    "colab": {
     "base_uri": "https://localhost:8080/"
    },
    "outputId": "c7195b15-31cb-4172-dd7c-58ebecbd7cc8",
    "ExecuteTime": {
     "start_time": "2024-01-06T17:02:05.354283700Z"
    }
   },
   "outputs": [],
   "source": [
    "## Podzbiór `ug_loan` i `pg_loan` z naszej ramki danych, a następnie sumowanie wzdłuż osi kolumny\n",
    "sum_loans = html_df[[\"ug_loan\", \"pg_loan\"]].sum(axis=1)\n",
    "sum_loans"
   ]
  },
  {
   "cell_type": "code",
   "execution_count": null,
   "metadata": {
    "id": "OY-s7WcPLYsF",
    "colab": {
     "base_uri": "https://localhost:8080/",
     "height": 112
    },
    "outputId": "c64f3dda-df1f-4365-e927-95121ff92f31",
    "ExecuteTime": {
     "start_time": "2024-01-06T17:02:05.354283700Z"
    }
   },
   "outputs": [],
   "source": [
    "## Zwróć wiersze, które mają nieprawidłowe wartości sum\n",
    "incorrect_loan_rows = html_df[html_df[\"total_loan\"] != sum_loans]\n",
    "incorrect_loan_rows"
   ]
  },
  {
   "cell_type": "markdown",
   "metadata": {
    "id": "rcX8EJxCLYsG"
   },
   "source": [
    "### Jak postępować z polami, które nie przeszły walidacji?\n",
    "\n",
    "Tutaj widzimy dwa wiersze, które nie zawierają poprawnych całkowitych kwot kredytu. Analizując każdy z nich z osobna, widzimy, że dane w pierwszym wierszu najprawdopodobniej zawierały niepoprawną wartość `pg_loan` (97 000 GBP w przypadku pożyczki podyplomowej). W drugim, z jakiegoś powodu wartość `total_loan` nie została obliczona. Naiwną strategią może być nadpisanie całkowitych kwot pożyczki sumą `ug_loan` i `pg_loan`. To naprawia typy błędów, w których zwracany jest drugi wiersz. Jednak może istnieć podstawowy problem z powodu pierwszego rzędu. Jeśli zsumujemy tutaj `ug_loan` i `pg_loan`, utworzymy **obserwację odstającą**. W prawdziwym zbiorze danych mogą wystąpić bardzo realne zagrożenia, takie jak te, które mogą narazić na szwank integralność danych – takie problemy mogą łatwo wymykać się spod kontroli, więc upewnij się, że poświęcisz czas na przemyślenie, w jaki sposób Twoje działania wpłyną na Twój dane.\n",
    "\n",
    "Jak wspomniano wcześniej, niektóre aspekty nauki o danych są sztuką – ale jakąkolwiek decyzję heurystyczną podejmiemy, musimy znaleźć dla niej mocne uzasadnienie. W tym konkretnym przypadku zamierzam usunąć wiersze z niepoprawnym `total_loan`, ponieważ ten błąd prawdopodobnie wystąpił z powodu błędu we wprowadzaniu danych przez człowieka. Wiersze z `total_loan = 0` prawdopodobnie wystąpiły z powodu jakiegoś systematycznego błędu - być może z innej bazy danych, w której nie podano sumy total_loan. Biorąc pod uwagę inne weryfikacje, jednym z rozwiązań, które moglibyśmy wybrać, jest zsumowanie dwóch kolumn."
   ]
  },
  {
   "cell_type": "code",
   "execution_count": null,
   "metadata": {
    "id": "3LYmqAwZLYsG",
    "colab": {
     "base_uri": "https://localhost:8080/",
     "height": 241
    },
    "outputId": "9a6b528d-bb4a-4e49-ed58-afbf2b87098c",
    "ExecuteTime": {
     "start_time": "2024-01-06T17:02:05.369917300Z"
    }
   },
   "outputs": [],
   "source": [
    "## Zidentyfikuj wiersze, w których total_loan NIE jest równe 0, ale jest niepoprawne\n",
    "incorrect_loan_but_not_zero_rows = html_df[(html_df[\"total_loan\"] != sum_loans) & (html_df[\"total_loan\"] != 0)]\n",
    "print(incorrect_loan_but_not_zero_rows)\n",
    "\n",
    "## Usuń te wiersze\n",
    "html_df = html_df.drop(incorrect_loan_but_not_zero_rows.index)\n",
    "\n",
    "html_df"
   ]
  },
  {
   "cell_type": "code",
   "source": [
    "html_df[(html_df[\"total_loan\"] == 0)]\n"
   ],
   "metadata": {
    "colab": {
     "base_uri": "https://localhost:8080/",
     "height": 81
    },
    "id": "gGWk1vQ70JQG",
    "outputId": "940b1dc0-e5d0-4689-8563-4906927db537",
    "ExecuteTime": {
     "start_time": "2024-01-06T17:02:05.369917300Z"
    }
   },
   "execution_count": null,
   "outputs": []
  },
  {
   "cell_type": "code",
   "source": [
    "html_df.drop(index=5, inplace=True)"
   ],
   "metadata": {
    "id": "dH61qpbu0kj9",
    "ExecuteTime": {
     "start_time": "2024-01-06T17:02:05.369917300Z"
    }
   },
   "execution_count": null,
   "outputs": []
  },
  {
   "cell_type": "code",
   "execution_count": null,
   "metadata": {
    "id": "iFsOwL5fLYsH",
    "ExecuteTime": {
     "start_time": "2024-01-06T17:02:05.369917300Z"
    }
   },
   "outputs": [],
   "source": [
    "# Zakładając, że jesteśmy zadowoleni ze wszystkich innych wpisów w naszych pożyczkobiorcach, możemy bezpośrednio obliczyć i nadpisać total_loan w naszej ramce danych\n",
    "## Zastąp total_loan sumą ug_loan i pg_loan\n",
    "html_df[\"total_loan\"] = html_df[\"ug_loan\"] + html_df[\"pg_loan\"]\n",
    "html_df"
   ]
  },
  {
   "cell_type": "markdown",
   "metadata": {
    "id": "OJtBNq4VLYsI"
   },
   "source": [
    "## Praca z danymi tekstowymi i typu string\n",
    "\n",
    "Dane tekstowe są oczywiście niezwykle powszechnym rodzajem danych i mogą przybierać różne formy – od tekstu nieustrukturyzowanego po e-maile, nazwiska, numery telefonów itp. Istnieje wiele rodzajów problemów, które możemy napotkać w przypadku danych tekstowych:\n",
    "- Niespójność danych (np. +86 195 448 8582 vs 0086-195-448-8582)\n",
    "- Naruszenia tekstu (np. niedozwolone znaki, błędy w polach wejściowych, literówki w tekście)\n",
    "- Literówki „strukturalne” (np. +86.1954.48858.2)\n",
    "\n",
    "W przykładowej tabeli poniżej widzimy listę osób wraz z ich imionami i numerami telefonów. Jak widać – najprawdopodobniej ze względu na wolne pola tekstowe, nazwiska i numery telefonów zostały wprowadzone w różnych formatach. Naszym zadaniem jest standaryzacja tych pól, aby były spójne w całej ramce danych:\n",
    "\n",
    "<table>\n",
    "    <tr>\n",
    "        <td><b>Name</b></td>\n",
    "        <td><b>Phone Number</b></td>\n",
    "    </tr>\n",
    "    <tr>\n",
    "        <td>Dr Darci Abela</td>\n",
    "        <td>+86-185-338-1819</td>\n",
    "    </tr>\n",
    "    <tr>\n",
    "        <td>Mr Patten St. Queintain</td>\n",
    "        <td>00865872411917</td>\n",
    "    </tr>\n",
    "    <tr>\n",
    "        <td>mr conant burden</td>\n",
    "        <td>0086-289-702-0948</td>\n",
    "    </tr>\n",
    "    <tr>\n",
    "        <td>miss marcia Dutnell</td>\n",
    "        <td>0668</td>\n",
    "    </tr>\n",
    "    <tr>\n",
    "        <td>dr Greggory lurner</td>\n",
    "        <td>+31 778 813 8432</td>\n",
    "    </tr>\n",
    "    <tr>\n",
    "        <td>MS Doe Beavan</td>\n",
    "        <td>+420-731-276-7633</td>\n",
    "    </tr>\n",
    "    <tr>\n",
    "        <td>Tamarah Delgado</td>\n",
    "        <td>+868431029051</td>\n",
    "    </tr>\n",
    "    <tr>\n",
    "        <td>Miss Arlee daborne</td>\n",
    "        <td>+33-307-220-2746</td>\n",
    "    </tr>\n",
    "    <tr>\n",
    "        <td>Ly b. Grima</td>\n",
    "        <td>+238-863-946-4232</td>\n",
    "    </tr>\n",
    "</table>\n",
    "\n",
    "Użyjemy małego sztucznie stworzonego zbioru danych w csv w tym celu."
   ]
  },
  {
   "cell_type": "code",
   "execution_count": null,
   "metadata": {
    "id": "komt-G9sLYsI",
    "colab": {
     "base_uri": "https://localhost:8080/",
     "height": 424
    },
    "outputId": "d83b7f18-9b72-4641-bfca-94ea7922c973",
    "ExecuteTime": {
     "start_time": "2024-01-06T17:02:05.369917300Z"
    }
   },
   "outputs": [],
   "source": [
    "# np = names_phones\n",
    "np_df = pd.read_csv(f\"{path}mock_names_phones.csv\", header=0, index_col=0)\n",
    "np_df"
   ]
  },
  {
   "cell_type": "markdown",
   "metadata": {
    "id": "uC2JRqb8LYsJ"
   },
   "source": [
    "Ok - dla tego dataframe są 4 zadania:\n",
    "1. Utwórz kolumnę title, która zawiera tytuł każdej osoby (np. Pani, Panna itp.). Ta kolumna powinna być znormalizowana i kategoryczna\n",
    "2. Podziel kolumnę name na kolumnę first name i last name. Obie kolumny powinny mieć pierwszą literę imienia z wielkiej litery\n",
    "3. Usuń wiersz `name`\n",
    "4. Standaryzuj numery telefonów w formacie `00XXXXXXXXX`. To znaczy - dwa zera poprzedzone resztą rzeczywistej liczby\n",
    "\n",
    "Zajmijmy się nimi w kolejności"
   ]
  },
  {
   "cell_type": "code",
   "execution_count": null,
   "metadata": {
    "id": "9s3lKkrWLYsK",
    "colab": {
     "base_uri": "https://localhost:8080/"
    },
    "outputId": "ab008fa9-7b78-4969-80f4-469a9a08d4d7",
    "ExecuteTime": {
     "start_time": "2024-01-06T17:02:05.369917300Z"
    }
   },
   "outputs": [],
   "source": [
    "# Najpierw chcemy utworzyć nową kolumnę tytułową, która przyjmuje tytuły grzecznościowe w kolumnie imienia\n",
    "# Aby to uzyskać, musimy podzielić name po białym znaku i wziąć pierwszy element z listy podzielonej\n",
    "example_string = \"this string will be split\"\n",
    "print(example_string.split())\n",
    "print(example_string.split()[0])"
   ]
  },
  {
   "cell_type": "code",
   "execution_count": null,
   "metadata": {
    "id": "lL5XrFl7LYsK",
    "colab": {
     "base_uri": "https://localhost:8080/"
    },
    "outputId": "5f554673-05b3-4de4-be32-477d2ef42182",
    "ExecuteTime": {
     "start_time": "2024-01-06T17:02:05.369917300Z"
    }
   },
   "outputs": [],
   "source": [
    "# Aby wykonać operacje na stringach naa kolumnach stringów w pandas, musimy poprzedzić naszą funkcję ciągów znakiem „.str”\n",
    "np_df[\"name\"].str.split()\n"
   ]
  },
  {
   "cell_type": "code",
   "source": [
    "def capitalize(txt):\n",
    "  return txt.capitalize()"
   ],
   "metadata": {
    "id": "YziGi6jN2CSm",
    "ExecuteTime": {
     "start_time": "2024-01-06T17:02:05.369917300Z"
    }
   },
   "execution_count": null,
   "outputs": []
  },
  {
   "cell_type": "code",
   "execution_count": null,
   "metadata": {
    "id": "mjPb9PCyLYsL",
    "colab": {
     "base_uri": "https://localhost:8080/",
     "height": 424
    },
    "outputId": "180ed651-d14c-477f-8174-8b99bc4fad84",
    "ExecuteTime": {
     "start_time": "2024-01-06T17:02:05.369917300Z"
    }
   },
   "outputs": [],
   "source": [
    "## Utwórz i wypełnij kolumnę title.\n",
    "# To zadanie można rozwiązać na kilka różnych sposobów.\n",
    "# Zobacz, ile rozwiązań możesz wymyślić\n",
    "np_df[\"title\"] = np_df[\"name\"].str.split().apply(lambda x: x[0])\n",
    "np_df"
   ]
  },
  {
   "cell_type": "code",
   "execution_count": null,
   "metadata": {
    "id": "osnj-IXDLYsM",
    "colab": {
     "base_uri": "https://localhost:8080/"
    },
    "outputId": "fd4064a6-94c3-4020-828b-37a913465912",
    "ExecuteTime": {
     "start_time": "2024-01-06T17:02:05.369917300Z"
    }
   },
   "outputs": [],
   "source": [
    "# Chcemy, aby nasz title był ustandaryzowany i kategoryczny.\n",
    "## Zamień kolumnę na kolumnę kategoryczną i zwróć wszystkie kategorie, które obecnie istnieją w kolumnie\n",
    "np_df[\"title\"] = np_df[\"title\"].astype(\"category\")\n",
    "set(np_df[\"title\"])"
   ]
  },
  {
   "cell_type": "code",
   "execution_count": null,
   "metadata": {
    "id": "w0-m3r5QLYsN",
    "colab": {
     "base_uri": "https://localhost:8080/",
     "height": 424
    },
    "outputId": "1434bfb3-9e73-4b0b-dc8a-c0dee203b2b4",
    "ExecuteTime": {
     "start_time": "2024-01-06T17:02:05.369917300Z"
    }
   },
   "outputs": [],
   "source": [
    "# Widzimy wiele różnych wariantów. Wybierzmy metodę normalizacji wpisów (np. wielkie litery).\n",
    "## Standaryzuj kolumnę title\n",
    "np_df[\"title\"] = np_df[\"title\"].str.upper()\n",
    "np_df"
   ]
  },
  {
   "cell_type": "code",
   "execution_count": null,
   "metadata": {
    "id": "N9aPw9vjLYsO",
    "colab": {
     "base_uri": "https://localhost:8080/",
     "height": 424
    },
    "outputId": "265ef0f1-2450-46d2-b079-e64c0567222a",
    "ExecuteTime": {
     "start_time": "2024-01-06T17:02:05.369917300Z"
    }
   },
   "outputs": [],
   "source": [
    "## W podobny sposób do powyższego utwórz nową kolumnę na imię i jedną na nazwisko.\n",
    "# Upewnij się, że dla obu nowych kolumn nazwy są pisane małymi literami, z wyjątkiem pierwszej litery, która jest pisana wielką literą\n",
    "np_df[\"first_name\"] = np_df[\"name\"].str.split().apply(lambda x: x[1].lower())\n",
    "np_df[\"last_name\"] = np_df[\"name\"].str.split().apply(lambda x: x[-1].lower())\n",
    "np_df[\"first_name\"] = np_df[\"first_name\"].str[0].str.upper() + np_df[\"first_name\"].str[1:]\n",
    "np_df[\"last_name\"] = np_df[\"last_name\"].str[0].str.upper() + np_df[\"last_name\"].str[1:]\n",
    "\n",
    "np_df"
   ]
  },
  {
   "cell_type": "code",
   "execution_count": null,
   "metadata": {
    "id": "5A0O47XcLYsP",
    "colab": {
     "base_uri": "https://localhost:8080/",
     "height": 424
    },
    "outputId": "d6406bd0-b41e-4663-d6ae-69b5736e14af",
    "ExecuteTime": {
     "start_time": "2024-01-06T17:02:05.369917300Z"
    }
   },
   "outputs": [],
   "source": [
    "## Usuń kolumnę name\n",
    "np_df.drop(\"name\", axis=1, inplace=True)\n",
    "np_df"
   ]
  },
  {
   "cell_type": "markdown",
   "metadata": {
    "id": "ClHI4914LYsP"
   },
   "source": [
    "Świetnie! To prowadzi nas do czwartej części zadania - ujednolicenia numeru telefonu i przekonwertowania go na typ danych int. Przypomnij sobie, jak chcemy, aby nasze numery telefonów wyglądały: zacznij od 00, a następnie do reszty numeru."
   ]
  },
  {
   "cell_type": "code",
   "execution_count": null,
   "metadata": {
    "scrolled": true,
    "id": "-BADJwj1LYsQ",
    "colab": {
     "base_uri": "https://localhost:8080/"
    },
    "outputId": "72844fbc-21ac-4e30-bcc1-e113b54255b3",
    "ExecuteTime": {
     "start_time": "2024-01-06T17:02:05.369917300Z"
    }
   },
   "outputs": [],
   "source": [
    "# Zwraca wszystkie (unikalne) numery telefonów, dzięki czemu możemy zobaczyć różne typy problemów jakie nas czekają\n",
    "set(np_df[\"phone number\"])"
   ]
  },
  {
   "cell_type": "markdown",
   "metadata": {
    "id": "lXoj6f0jLYsQ"
   },
   "source": [
    "Ok, więc jakie problemy widzisz?\n",
    "<details>\n",
    "     <summary><b>> Kliknij tutaj, aby zobaczyć problemy</b></summary>\n",
    "     <ul>\n",
    "         <li>Numery zaczynają się różnie – niektóre zaczynają się od `+`, inne od `00`</li>\n",
    "         <li>Niektóre numery mają spacje między grupami liczb, inne są dzielone. Niektóre numery również nie mają „grup”</li>\n",
    "         <li>Niektóre numery zaczynają się od spacji, inne od `+ `, inne od `+`.</li>\n",
    "         <li>Niektóre numery mają tylko cztery liczby</li>\n",
    "     </ul>\n",
    "</details>\n",
    "\n",
    "Istnieje kilka sposobów formatowania tych ciągów do pożądanego wyniku. Tutaj poprowadzę cię przez metodę, w której iterujemy wiersze i stosujemy funkcję, aby ponownie przypisać zmienną. Zacznijmy od stworzenia funkcji pośredniej, która pobiera numer telefonu i manipuluje nim do pożądanego wyniku."
   ]
  },
  {
   "cell_type": "code",
   "execution_count": null,
   "metadata": {
    "id": "9-42OF7zLYsR",
    "ExecuteTime": {
     "start_time": "2024-01-06T17:02:05.385534600Z"
    }
   },
   "outputs": [],
   "source": [
    "def standardise_phone_number(phone_number):\n",
    "\n",
    "    ## jeśli pierwszym znakiem jest \"+\", usuń go.\n",
    "    if phone_number.startswith(\"+\"):\n",
    "        phone_number = phone_number.replace(\"+\", \"\")\n",
    "\n",
    "    ## usuń wszystkie spacje z numeru telefonu\n",
    "    phone_number = phone_number.replace(\" \", \"\")\n",
    "\n",
    "    ## usuń myślniki z numeru telefonu\n",
    "    phone_number = phone_number.replace(\"-\", \"\")\n",
    "\n",
    "    ## jeśli numer nie zaczyna się od 00, dodaj 00 do początku numeru\n",
    "    if not phone_number.startswith(\"00\"):\n",
    "        phone_number = \"00\" + phone_number\n",
    "\n",
    "    ## zwróć numer telefonu\n",
    "    return phone_number"
   ]
  },
  {
   "cell_type": "code",
   "execution_count": null,
   "metadata": {
    "id": "S7Yitmh9LYsR",
    "colab": {
     "base_uri": "https://localhost:8080/",
     "height": 424
    },
    "outputId": "cd192740-c05a-4a6a-9e1a-bf4e3a85797a",
    "ExecuteTime": {
     "start_time": "2024-01-06T17:02:05.385534600Z"
    }
   },
   "outputs": [],
   "source": [
    "# Będziemy iterować po wierszach ramki danych i ponownie przypiszemy wiersz do standardowego wariantu\n",
    "for index, row in np_df.iterrows():\n",
    "\n",
    "    ## Odwołaj się do naszej funkcji standaryzacji na numer telefonu dla bieżącej pętli\n",
    "    row[\"phone number\"] = standardise_phone_number(row[\"phone number\"])\n",
    "\n",
    "np_df"
   ]
  },
  {
   "cell_type": "code",
   "execution_count": null,
   "metadata": {
    "id": "z-bqj0eTLYsS",
    "colab": {
     "base_uri": "https://localhost:8080/",
     "height": 424
    },
    "outputId": "628b2b19-d3f2-41b9-89d3-8185e72b2e22",
    "ExecuteTime": {
     "start_time": "2024-01-06T17:02:05.385534600Z"
    }
   },
   "outputs": [],
   "source": [
    "# W naszej ramce danych nadal znajdują się nieprawidłowe liczby (tj. te, które pierwotnie miały długość 4)\n",
    "## Zamień wszystkie numery telefonów poniżej 10 cyfr/znaków na pd.NA\n",
    "# Podpowiedź: będzie potrzebna metoda .loc\n",
    "np_df.loc[np_df[\"phone number\"].str.len() < 10, \"phone number\"] = pd.NA\n",
    "np_df"
   ]
  },
  {
   "cell_type": "code",
   "execution_count": null,
   "metadata": {
    "id": "zHNZ3iqiLYsS",
    "ExecuteTime": {
     "start_time": "2024-01-06T17:02:05.385534600Z"
    }
   },
   "outputs": [],
   "source": [
    "# Skoncentrujemy się na brakujących danych w następnej części, ale policzmy liczbę wierszy z NA i usuńmy je\n",
    "null_phone_numbers = np_df[\"phone number\"].isnull()\n",
    "print(\"Number of null phone numbers:\", null_phone_numbers.sum())\n",
    "\n",
    "# Usuń wiersze, które mają puste numery telefonów\n",
    "np_df = np_df.dropna(subset=[\"phone number\"])\n",
    "np_df"
   ]
  },
  {
   "cell_type": "markdown",
   "metadata": {
    "id": "fTHEVefALYsT"
   },
   "source": [
    "Bardziej skomplikowane manipulacje ciągami znaków można wykonać za pomocą **wyrażeń regularnych**, znanych również jako [regex](https://docs.python.org/3/howto/regex.html). Nie będziemy tutaj przyglądać się wyrażeniu regularnemu, ale ważne jest, aby wiedzieć o jego mocy. Zasadniczo wyrażenie regularne pozwala nam określić reguły dla ciągów, które chcemy dopasować. Ma bardzo szerokie zastosowanie. Oto kilka przykładów:\n",
    "- identyfikuj wiadomości e-mail w zakresach tekstu\n",
    "- sprawdź, czy adres URL ma poprawny format\n",
    "- wyodrębnij tylko cyfry z ciągu tekstowego\n",
    "\n",
    "Kiedy natkniesz się na zadania, które wymagają oczyszczenia danych tekstowych, regex jest narzędziem do tego zadania."
   ]
  },
  {
   "cell_type": "markdown",
   "metadata": {
    "id": "8ZPP2j-VLYsT"
   },
   "source": [
    "## Scalanie danych razem (merging)\n",
    "\n",
    "Czasami znajdziemy dane w różnych plikach, które musimy połączyć w jedną ramkę danych, zanim będziemy mogli jej użyć. Przykładem tego są [dane IMDB](http://www.imdb.com/interfaces#plain) – gdzie, być może ze względu na rozmiar dostępnych danych, twórcy postanowili podzielić cały zbiór danych na wiele osobnych plików. Przyjrzyjmy się szybko, jak możemy połączyć dane z tych wielu plików.\n",
    "\n",
    "Źródło:\n",
    "IMDb\n",
    "(http://www.imdb.com).\n",
    "\n",
    "Pliki do pobrania i scalenia to:\n",
    "- tytuł.akas.tsv.gz\n",
    "- tytuł.podstawy.tsv.gz\n",
    "- tytuł.oceny.tsv.gz"
   ]
  },
  {
   "cell_type": "code",
   "execution_count": null,
   "metadata": {
    "id": "Vc6VBzZJLYsT",
    "ExecuteTime": {
     "start_time": "2024-01-06T17:02:05.385534600Z"
    }
   },
   "outputs": [],
   "source": [
    "# URUCHOM TĘ KOMÓRKĘ TYLKO JEŚLI CHCESZ PONOWNIE POBRAĆ CAŁE DANE\n",
    "import requests\n",
    "import gzip\n",
    "import pandas as pd\n",
    "import pickle\n",
    "import os\n",
    "\n",
    "DATA_FOLDER = \"DATA\" # TODO: najpierw ten folder trzeba utworzyc\n",
    "DOWNLOAD_URL = \"https://datasets.imdbws.com/\"\n",
    "files_to_download = [\"title.ratings.tsv.gz\", \"title.akas.tsv.gz\", \"title.basics.tsv.gz\"]\n",
    "\n",
    "\n",
    "for file_string in files_to_download:\n",
    "    # pobierz plik tsv.gz\n",
    "    # plik jest obiektem request\n",
    "    print(\"Getting request for file:\", file_string)\n",
    "    df = pd.read_csv(DOWNLOAD_URL + file_string, sep=\"\\t\", compression=\"gzip\")\n",
    "    df = df.iloc[-10000:]\n",
    "    print(df.shape)\n",
    "    pickle.dump(df, open(os.path.join(DATA_FOLDER, file_string.replace(\".tsv.gz\", \".df\")), \"wb\"))\n",
    "    print(df.head())\n"
   ]
  },
  {
   "cell_type": "code",
   "execution_count": null,
   "metadata": {
    "id": "qPVse_kYLYsU",
    "ExecuteTime": {
     "start_time": "2024-01-06T17:02:05.385534600Z"
    }
   },
   "outputs": [],
   "source": [
    "ratings_df = pickle.load(open(os.path.join(DATA_FOLDER, \"title.ratings.df\"), \"rb\"))\n",
    "films_df = pickle.load(open(os.path.join(DATA_FOLDER, \"title.akas.df\"), \"rb\"))\n",
    "basics_df = pickle.load(open(os.path.join(DATA_FOLDER, \"title.basics.df\"), \"rb\"))"
   ]
  },
  {
   "cell_type": "markdown",
   "metadata": {
    "id": "xSD5qFqrLYsU"
   },
   "source": [
    "### Łączenie wielu ramek danych\n",
    "\n",
    "Podobnie jak w SQL, chcemy wykonać jakiś rodzaj [`.join()`](https://pandas.pydata.org/pandas-docs/stable/reference/api/pandas.DataFrame.join.html) lub [ `.merge()`](https://pandas.pydata.org/pandas-docs/stable/reference/api/pandas.DataFrame.merge.html#pandas.DataFrame.merge) przez ramki danych, które obecnie posiadamy. Wymaga to ustawienia unikalnego identyfikatora/klucza podstawowego jako indeksu ramek danych. Pamiętaj o dwóch głównych typach złączeń,  **inner** i **lefyt**. Jak myślisz, które podejście będzie bardziej poprawne w tym przypadku?"
   ]
  },
  {
   "cell_type": "code",
   "execution_count": null,
   "metadata": {
    "id": "3ZX6IVU_LYsV",
    "ExecuteTime": {
     "start_time": "2024-01-06T17:02:05.385534600Z"
    }
   },
   "outputs": [],
   "source": [
    "## zmodyfikuj indeksy ratings_df, basics_df i movies_df, aby wszystkie miały wspólny indeks\n",
    "ratings_df = ratings_df.set_index(\"tconst\")\n",
    "basics_df = basics_df.set_index(\"tconst\")\n",
    "films_df = films_df.set_index(\"titleId\")\n",
    "films_df.head()"
   ]
  },
  {
   "cell_type": "code",
   "execution_count": null,
   "metadata": {
    "id": "9aNVfICALYsV",
    "ExecuteTime": {
     "start_time": "2024-01-06T17:02:05.385534600Z"
    }
   },
   "outputs": [],
   "source": [
    "## Wykonaj join lub merge z basics_df i ratings_df za pomocą movies_df\n",
    "df = films_df.join([basics_df, ratings_df])\n",
    "df"
   ]
  },
  {
   "cell_type": "markdown",
   "source": [
    "---"
   ],
   "metadata": {
    "id": "hnxwaHdwgmuJ"
   }
  }
 ],
 "metadata": {
  "kernelspec": {
   "display_name": "Python 3",
   "language": "python",
   "name": "python3"
  },
  "language_info": {
   "codemirror_mode": {
    "name": "ipython",
    "version": 3
   },
   "file_extension": ".py",
   "mimetype": "text/x-python",
   "name": "python",
   "nbconvert_exporter": "python",
   "pygments_lexer": "ipython3",
   "version": "3.8.5"
  },
  "colab": {
   "provenance": [],
   "collapsed_sections": [
    "DHVs9NzqLYrR",
    "ioHBRmk8LYrZ",
    "7b0dzVwRLYrl",
    "UhfXnORSLYro",
    "f9NPqHsLLYrx",
    "powV2fiNLYr6",
    "rcX8EJxCLYsG",
    "OJtBNq4VLYsI",
    "8ZPP2j-VLYsT",
    "xSD5qFqrLYsU"
   ]
  }
 },
 "nbformat": 4,
 "nbformat_minor": 0
}
